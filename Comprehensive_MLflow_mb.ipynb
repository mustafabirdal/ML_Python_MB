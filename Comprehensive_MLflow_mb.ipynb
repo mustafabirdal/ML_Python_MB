{
 "cells": [
  {
   "cell_type": "markdown",
   "id": "1e4b285f",
   "metadata": {},
   "source": [
    "# 1. [Exploratory Data Analysis](#Exploratory-Data-Analysis-(EDA))\n",
    "\n",
    "## 1.1. [Check if there is a duplicated row](#Check-if-there-is-a-duplicated-row)\n",
    "### 1.1.1. [duplicated()](#duplicated())\n",
    "### 1.1.2. [drop_duplicates()](#drop_duplicates())\n",
    "\n",
    "## 1.2. [Check if there is a duplicated row](#Check-if-there-is-a-duplicated-row)"
   ]
  },
  {
   "cell_type": "code",
   "execution_count": 10,
   "id": "12bc0f70",
   "metadata": {},
   "outputs": [
    {
     "data": {
      "text/html": [
       "<style>.container { width:80% ! important; }<style>"
      ],
      "text/plain": [
       "<IPython.core.display.HTML object>"
      ]
     },
     "metadata": {},
     "output_type": "display_data"
    },
    {
     "data": {
      "text/html": [
       "<div>\n",
       "<style scoped>\n",
       "    .dataframe tbody tr th:only-of-type {\n",
       "        vertical-align: middle;\n",
       "    }\n",
       "\n",
       "    .dataframe tbody tr th {\n",
       "        vertical-align: top;\n",
       "    }\n",
       "\n",
       "    .dataframe thead th {\n",
       "        text-align: right;\n",
       "    }\n",
       "</style>\n",
       "<table border=\"1\" class=\"dataframe\">\n",
       "  <thead>\n",
       "    <tr style=\"text-align: right;\">\n",
       "      <th></th>\n",
       "      <th>sepal_length</th>\n",
       "      <th>sepal_width</th>\n",
       "      <th>petal_length</th>\n",
       "      <th>petal_width</th>\n",
       "      <th>species</th>\n",
       "    </tr>\n",
       "  </thead>\n",
       "  <tbody>\n",
       "    <tr>\n",
       "      <th>0</th>\n",
       "      <td>5.1</td>\n",
       "      <td>3.5</td>\n",
       "      <td>1.4</td>\n",
       "      <td>0.2</td>\n",
       "      <td>setosa</td>\n",
       "    </tr>\n",
       "    <tr>\n",
       "      <th>1</th>\n",
       "      <td>4.9</td>\n",
       "      <td>3.0</td>\n",
       "      <td>1.4</td>\n",
       "      <td>0.2</td>\n",
       "      <td>setosa</td>\n",
       "    </tr>\n",
       "    <tr>\n",
       "      <th>2</th>\n",
       "      <td>4.7</td>\n",
       "      <td>3.2</td>\n",
       "      <td>1.3</td>\n",
       "      <td>0.2</td>\n",
       "      <td>setosa</td>\n",
       "    </tr>\n",
       "    <tr>\n",
       "      <th>3</th>\n",
       "      <td>4.6</td>\n",
       "      <td>3.1</td>\n",
       "      <td>1.5</td>\n",
       "      <td>0.2</td>\n",
       "      <td>setosa</td>\n",
       "    </tr>\n",
       "    <tr>\n",
       "      <th>4</th>\n",
       "      <td>5.0</td>\n",
       "      <td>3.6</td>\n",
       "      <td>1.4</td>\n",
       "      <td>0.2</td>\n",
       "      <td>setosa</td>\n",
       "    </tr>\n",
       "  </tbody>\n",
       "</table>\n",
       "</div>"
      ],
      "text/plain": [
       "   sepal_length  sepal_width  petal_length  petal_width species\n",
       "0           5.1          3.5           1.4          0.2  setosa\n",
       "1           4.9          3.0           1.4          0.2  setosa\n",
       "2           4.7          3.2           1.3          0.2  setosa\n",
       "3           4.6          3.1           1.5          0.2  setosa\n",
       "4           5.0          3.6           1.4          0.2  setosa"
      ]
     },
     "execution_count": 10,
     "metadata": {},
     "output_type": "execute_result"
    }
   ],
   "source": [
    "import pandas as pd\n",
    "import numpy as np\n",
    "import seaborn as sns\n",
    "import matplotlib.pyplot as plt\n",
    "\n",
    "# sonuçlarda çıkan warning'leri ignore etmek için;\n",
    "from warnings import filterwarnings\n",
    "filterwarnings(\"ignore\")\n",
    "\n",
    "# dataframe'de kaç satır ve sütun gösterilsin;\n",
    "#pd.set_option('display.max_rows', 500)\n",
    "pd.set_option('display.max_columns', 500)\n",
    "\n",
    "#Jupyter notebook satırlarını genişletir\n",
    "from IPython.core.display import display, HTML\n",
    "display(HTML(\"<style>.container { width:80% ! important; }<style>\"))\n",
    "\n",
    "#örnek veri setimiz;\n",
    "df = sns.load_dataset('iris')\n",
    "df.head()"
   ]
  },
  {
   "cell_type": "markdown",
   "id": "2fd25379",
   "metadata": {},
   "source": [
    "<a id='Exploratory-Data-Analysis-(EDA)'></a>\n",
    "# 1.Exploratory Data Analysis (EDA)"
   ]
  },
  {
   "cell_type": "markdown",
   "id": "bf027d6a",
   "metadata": {},
   "source": [
    "<a id='Check-if-there-is-a-duplicated-row'></a>\n",
    "## 1.1. Check if there is a duplicated row\n",
    "\n",
    "* Spot the duplicated observations in the dataset and discard them\n",
    "* Duplicated datas dont contribute anything so we dont need them\n",
    "* **duplicated()** ve **drop_duplicates()** fonksiyonları kullanılır."
   ]
  },
  {
   "cell_type": "markdown",
   "id": "8b4b3e12",
   "metadata": {},
   "source": [
    "<a id='duplicated()'></a>\n",
    "### 1.1.1. duplicated()\n",
    "\n",
    "1. Returns True, if any row duplicates.\n",
    "\n",
    "\n",
    "2. Combination with any() function, shows duplicity at once for a dataframe or selected features.\n",
    "\n",
    "\n",
    "3. Available to check a column of a dataframe, multiple columns of a dataframe or a whole dataframe with using its **subset=[\"column_name\"]** parameter.\n",
    "\n",
    "\n",
    "4. This function randomly shows one of the duplicated observations(if any exists). To show the all duplicated rows use; **keep=False**"
   ]
  },
  {
   "cell_type": "code",
   "execution_count": 11,
   "id": "97d9caff",
   "metadata": {},
   "outputs": [
    {
     "data": {
      "text/plain": [
       "0      False\n",
       "1      False\n",
       "2      False\n",
       "3      False\n",
       "4      False\n",
       "       ...  \n",
       "145    False\n",
       "146    False\n",
       "147    False\n",
       "148    False\n",
       "149    False\n",
       "Length: 150, dtype: bool"
      ]
     },
     "execution_count": 11,
     "metadata": {},
     "output_type": "execute_result"
    }
   ],
   "source": [
    "# 1\n",
    "df = sns.load_dataset('iris')\n",
    "df.duplicated()"
   ]
  },
  {
   "cell_type": "code",
   "execution_count": 12,
   "id": "029a2f65",
   "metadata": {},
   "outputs": [
    {
     "data": {
      "text/plain": [
       "True"
      ]
     },
     "execution_count": 12,
     "metadata": {},
     "output_type": "execute_result"
    }
   ],
   "source": [
    "# 2\n",
    "df = sns.load_dataset('iris')\n",
    "df.duplicated().any()"
   ]
  },
  {
   "cell_type": "code",
   "execution_count": 13,
   "id": "08691f13",
   "metadata": {},
   "outputs": [
    {
     "data": {
      "text/plain": [
       "0      False\n",
       "1      False\n",
       "2      False\n",
       "3      False\n",
       "4      False\n",
       "       ...  \n",
       "145     True\n",
       "146     True\n",
       "147     True\n",
       "148    False\n",
       "149     True\n",
       "Length: 150, dtype: bool"
      ]
     },
     "execution_count": 13,
     "metadata": {},
     "output_type": "execute_result"
    }
   ],
   "source": [
    "# 3\n",
    "df = sns.load_dataset('iris')\n",
    "df.duplicated(subset=[\"sepal_width\", \"sepal_length\"])"
   ]
  },
  {
   "cell_type": "code",
   "execution_count": 20,
   "id": "dd458389",
   "metadata": {},
   "outputs": [
    {
     "data": {
      "text/html": [
       "<div>\n",
       "<style scoped>\n",
       "    .dataframe tbody tr th:only-of-type {\n",
       "        vertical-align: middle;\n",
       "    }\n",
       "\n",
       "    .dataframe tbody tr th {\n",
       "        vertical-align: top;\n",
       "    }\n",
       "\n",
       "    .dataframe thead th {\n",
       "        text-align: right;\n",
       "    }\n",
       "</style>\n",
       "<table border=\"1\" class=\"dataframe\">\n",
       "  <thead>\n",
       "    <tr style=\"text-align: right;\">\n",
       "      <th></th>\n",
       "      <th>sepal_length</th>\n",
       "      <th>sepal_width</th>\n",
       "      <th>petal_length</th>\n",
       "      <th>petal_width</th>\n",
       "      <th>species</th>\n",
       "    </tr>\n",
       "  </thead>\n",
       "  <tbody>\n",
       "    <tr>\n",
       "      <th>101</th>\n",
       "      <td>5.8</td>\n",
       "      <td>2.7</td>\n",
       "      <td>5.1</td>\n",
       "      <td>1.9</td>\n",
       "      <td>virginica</td>\n",
       "    </tr>\n",
       "    <tr>\n",
       "      <th>142</th>\n",
       "      <td>5.8</td>\n",
       "      <td>2.7</td>\n",
       "      <td>5.1</td>\n",
       "      <td>1.9</td>\n",
       "      <td>virginica</td>\n",
       "    </tr>\n",
       "  </tbody>\n",
       "</table>\n",
       "</div>"
      ],
      "text/plain": [
       "     sepal_length  sepal_width  petal_length  petal_width    species\n",
       "101           5.8          2.7           5.1          1.9  virginica\n",
       "142           5.8          2.7           5.1          1.9  virginica"
      ]
     },
     "execution_count": 20,
     "metadata": {},
     "output_type": "execute_result"
    }
   ],
   "source": [
    "# 4\n",
    "df = sns.load_dataset('iris')\n",
    "df[df.duplicated(keep=False)]"
   ]
  },
  {
   "cell_type": "markdown",
   "id": "2ff8eae2",
   "metadata": {},
   "source": [
    "<a id='drop_duplicates()'></a>\n",
    "### 1.1.2. drop_duplicates()\n",
    "\n",
    "1. Discards duplicated rows and leaves one of them in dataframe.\n",
    "\n",
    "\n",
    "2. **Inplace=True** ; makes permenant this transaction\n",
    "\n",
    "\n",
    "3. **ignore_index=True** ; Ignores indexes of discarded duplicated rows and sorts index number from 0 again."
   ]
  },
  {
   "cell_type": "code",
   "execution_count": 21,
   "id": "3521e269",
   "metadata": {},
   "outputs": [],
   "source": [
    "df = sns.load_dataset('iris')\n",
    "df.drop_duplicates(inplace=True, ignore_index=True)"
   ]
  },
  {
   "cell_type": "markdown",
   "id": "a4eb722a",
   "metadata": {},
   "source": [
    "## 1.2. Have an initial inspection on the dataset\n",
    "\n",
    "Check the given proporties of your dataset to have an inspire.\n",
    "\n",
    "1. Size of your dataset >>> **df.shape**\n",
    "2. Variable types >>> **df.info()**\n",
    "3. Descriptive statistics >>> **df.describe()**\n",
    "4. Get frequency of classes or values in each feature >>> **value_counts()**\n",
    "5. Get unique classes or values in each feature >>> **unique()**\n",
    "6. Get how many unique values each feature has >>> **nunique()**"
   ]
  },
  {
   "cell_type": "markdown",
   "id": "262e1e98",
   "metadata": {},
   "source": [
    "### 1.2.1. df.shape"
   ]
  },
  {
   "cell_type": "code",
   "execution_count": 33,
   "id": "76ddde20",
   "metadata": {},
   "outputs": [
    {
     "data": {
      "text/plain": [
       "(150, 5)"
      ]
     },
     "execution_count": 33,
     "metadata": {},
     "output_type": "execute_result"
    }
   ],
   "source": [
    "df = sns.load_dataset('iris')\n",
    "df.shape"
   ]
  },
  {
   "cell_type": "markdown",
   "id": "184c51fb",
   "metadata": {},
   "source": [
    "### 1.2.2. df.info()"
   ]
  },
  {
   "cell_type": "code",
   "execution_count": 35,
   "id": "636b9f47",
   "metadata": {},
   "outputs": [
    {
     "name": "stdout",
     "output_type": "stream",
     "text": [
      "<class 'pandas.core.frame.DataFrame'>\n",
      "RangeIndex: 150 entries, 0 to 149\n",
      "Data columns (total 5 columns):\n",
      " #   Column        Non-Null Count  Dtype  \n",
      "---  ------        --------------  -----  \n",
      " 0   sepal_length  150 non-null    float64\n",
      " 1   sepal_width   150 non-null    float64\n",
      " 2   petal_length  150 non-null    float64\n",
      " 3   petal_width   150 non-null    float64\n",
      " 4   species       150 non-null    object \n",
      "dtypes: float64(4), object(1)\n",
      "memory usage: 6.0+ KB\n"
     ]
    }
   ],
   "source": [
    "df = sns.load_dataset('iris')\n",
    "df.info()"
   ]
  },
  {
   "cell_type": "markdown",
   "id": "5fba89c0",
   "metadata": {},
   "source": [
    "### 1.2.3. df.describe()\n",
    "\n",
    "* describe() only shows statistics for numerical variable with default usage. Use **include=\"all\"** to get statistics for categorical variables as well.\n",
    "* It's also available to return statistics for different classes in a feature/variable"
   ]
  },
  {
   "cell_type": "code",
   "execution_count": 38,
   "id": "bf2d659b",
   "metadata": {},
   "outputs": [
    {
     "data": {
      "text/html": [
       "<div>\n",
       "<style scoped>\n",
       "    .dataframe tbody tr th:only-of-type {\n",
       "        vertical-align: middle;\n",
       "    }\n",
       "\n",
       "    .dataframe tbody tr th {\n",
       "        vertical-align: top;\n",
       "    }\n",
       "\n",
       "    .dataframe thead th {\n",
       "        text-align: right;\n",
       "    }\n",
       "</style>\n",
       "<table border=\"1\" class=\"dataframe\">\n",
       "  <thead>\n",
       "    <tr style=\"text-align: right;\">\n",
       "      <th></th>\n",
       "      <th>count</th>\n",
       "      <th>unique</th>\n",
       "      <th>top</th>\n",
       "      <th>freq</th>\n",
       "      <th>mean</th>\n",
       "      <th>std</th>\n",
       "      <th>min</th>\n",
       "      <th>25%</th>\n",
       "      <th>50%</th>\n",
       "      <th>75%</th>\n",
       "      <th>max</th>\n",
       "    </tr>\n",
       "  </thead>\n",
       "  <tbody>\n",
       "    <tr>\n",
       "      <th>sepal_length</th>\n",
       "      <td>150.0</td>\n",
       "      <td>NaN</td>\n",
       "      <td>NaN</td>\n",
       "      <td>NaN</td>\n",
       "      <td>5.843333</td>\n",
       "      <td>0.828066</td>\n",
       "      <td>4.3</td>\n",
       "      <td>5.1</td>\n",
       "      <td>5.8</td>\n",
       "      <td>6.4</td>\n",
       "      <td>7.9</td>\n",
       "    </tr>\n",
       "    <tr>\n",
       "      <th>sepal_width</th>\n",
       "      <td>150.0</td>\n",
       "      <td>NaN</td>\n",
       "      <td>NaN</td>\n",
       "      <td>NaN</td>\n",
       "      <td>3.057333</td>\n",
       "      <td>0.435866</td>\n",
       "      <td>2.0</td>\n",
       "      <td>2.8</td>\n",
       "      <td>3.0</td>\n",
       "      <td>3.3</td>\n",
       "      <td>4.4</td>\n",
       "    </tr>\n",
       "    <tr>\n",
       "      <th>petal_length</th>\n",
       "      <td>150.0</td>\n",
       "      <td>NaN</td>\n",
       "      <td>NaN</td>\n",
       "      <td>NaN</td>\n",
       "      <td>3.758</td>\n",
       "      <td>1.765298</td>\n",
       "      <td>1.0</td>\n",
       "      <td>1.6</td>\n",
       "      <td>4.35</td>\n",
       "      <td>5.1</td>\n",
       "      <td>6.9</td>\n",
       "    </tr>\n",
       "    <tr>\n",
       "      <th>petal_width</th>\n",
       "      <td>150.0</td>\n",
       "      <td>NaN</td>\n",
       "      <td>NaN</td>\n",
       "      <td>NaN</td>\n",
       "      <td>1.199333</td>\n",
       "      <td>0.762238</td>\n",
       "      <td>0.1</td>\n",
       "      <td>0.3</td>\n",
       "      <td>1.3</td>\n",
       "      <td>1.8</td>\n",
       "      <td>2.5</td>\n",
       "    </tr>\n",
       "    <tr>\n",
       "      <th>species</th>\n",
       "      <td>150</td>\n",
       "      <td>3</td>\n",
       "      <td>setosa</td>\n",
       "      <td>50</td>\n",
       "      <td>NaN</td>\n",
       "      <td>NaN</td>\n",
       "      <td>NaN</td>\n",
       "      <td>NaN</td>\n",
       "      <td>NaN</td>\n",
       "      <td>NaN</td>\n",
       "      <td>NaN</td>\n",
       "    </tr>\n",
       "  </tbody>\n",
       "</table>\n",
       "</div>"
      ],
      "text/plain": [
       "              count unique     top freq      mean       std  min  25%   50%  \\\n",
       "sepal_length  150.0    NaN     NaN  NaN  5.843333  0.828066  4.3  5.1   5.8   \n",
       "sepal_width   150.0    NaN     NaN  NaN  3.057333  0.435866  2.0  2.8   3.0   \n",
       "petal_length  150.0    NaN     NaN  NaN     3.758  1.765298  1.0  1.6  4.35   \n",
       "petal_width   150.0    NaN     NaN  NaN  1.199333  0.762238  0.1  0.3   1.3   \n",
       "species         150      3  setosa   50       NaN       NaN  NaN  NaN   NaN   \n",
       "\n",
       "              75%  max  \n",
       "sepal_length  6.4  7.9  \n",
       "sepal_width   3.3  4.4  \n",
       "petal_length  5.1  6.9  \n",
       "petal_width   1.8  2.5  \n",
       "species       NaN  NaN  "
      ]
     },
     "execution_count": 38,
     "metadata": {},
     "output_type": "execute_result"
    }
   ],
   "source": [
    "df = sns.load_dataset('iris')\n",
    "df.describe(include=\"all\").T"
   ]
  },
  {
   "cell_type": "code",
   "execution_count": 39,
   "id": "31fb07d8",
   "metadata": {},
   "outputs": [
    {
     "data": {
      "text/html": [
       "<div>\n",
       "<style scoped>\n",
       "    .dataframe tbody tr th:only-of-type {\n",
       "        vertical-align: middle;\n",
       "    }\n",
       "\n",
       "    .dataframe tbody tr th {\n",
       "        vertical-align: top;\n",
       "    }\n",
       "\n",
       "    .dataframe thead th {\n",
       "        text-align: right;\n",
       "    }\n",
       "</style>\n",
       "<table border=\"1\" class=\"dataframe\">\n",
       "  <thead>\n",
       "    <tr style=\"text-align: right;\">\n",
       "      <th>species</th>\n",
       "      <th>setosa</th>\n",
       "      <th>versicolor</th>\n",
       "      <th>virginica</th>\n",
       "    </tr>\n",
       "  </thead>\n",
       "  <tbody>\n",
       "    <tr>\n",
       "      <th>count</th>\n",
       "      <td>50.000000</td>\n",
       "      <td>50.000000</td>\n",
       "      <td>50.000000</td>\n",
       "    </tr>\n",
       "    <tr>\n",
       "      <th>mean</th>\n",
       "      <td>1.462000</td>\n",
       "      <td>4.260000</td>\n",
       "      <td>5.552000</td>\n",
       "    </tr>\n",
       "    <tr>\n",
       "      <th>std</th>\n",
       "      <td>0.173664</td>\n",
       "      <td>0.469911</td>\n",
       "      <td>0.551895</td>\n",
       "    </tr>\n",
       "    <tr>\n",
       "      <th>min</th>\n",
       "      <td>1.000000</td>\n",
       "      <td>3.000000</td>\n",
       "      <td>4.500000</td>\n",
       "    </tr>\n",
       "    <tr>\n",
       "      <th>25%</th>\n",
       "      <td>1.400000</td>\n",
       "      <td>4.000000</td>\n",
       "      <td>5.100000</td>\n",
       "    </tr>\n",
       "    <tr>\n",
       "      <th>50%</th>\n",
       "      <td>1.500000</td>\n",
       "      <td>4.350000</td>\n",
       "      <td>5.550000</td>\n",
       "    </tr>\n",
       "    <tr>\n",
       "      <th>75%</th>\n",
       "      <td>1.575000</td>\n",
       "      <td>4.600000</td>\n",
       "      <td>5.875000</td>\n",
       "    </tr>\n",
       "    <tr>\n",
       "      <th>max</th>\n",
       "      <td>1.900000</td>\n",
       "      <td>5.100000</td>\n",
       "      <td>6.900000</td>\n",
       "    </tr>\n",
       "  </tbody>\n",
       "</table>\n",
       "</div>"
      ],
      "text/plain": [
       "species     setosa  versicolor  virginica\n",
       "count    50.000000   50.000000  50.000000\n",
       "mean      1.462000    4.260000   5.552000\n",
       "std       0.173664    0.469911   0.551895\n",
       "min       1.000000    3.000000   4.500000\n",
       "25%       1.400000    4.000000   5.100000\n",
       "50%       1.500000    4.350000   5.550000\n",
       "75%       1.575000    4.600000   5.875000\n",
       "max       1.900000    5.100000   6.900000"
      ]
     },
     "execution_count": 39,
     "metadata": {},
     "output_type": "execute_result"
    }
   ],
   "source": [
    "df = sns.load_dataset('iris')\n",
    "df.groupby(\"species\")[\"petal_length\"].describe().T"
   ]
  },
  {
   "cell_type": "markdown",
   "id": "b7f49bc6",
   "metadata": {},
   "source": [
    "### 1.2.4. value_counts()\n",
    "\n",
    "* Useful parameters of this function;\n",
    "\n",
    "1. **normalize=** >>> default selection is False, if True then it returns frequency of each classes as percentage\n",
    "2. **ascending=** >>> default selection is False, if True then it returns frequencies in descending order.\n",
    "3. **dropna=** >>> default selection is False, if True then it includes frequency of NaN values."
   ]
  },
  {
   "cell_type": "code",
   "execution_count": 41,
   "id": "2c6d32e8",
   "metadata": {},
   "outputs": [
    {
     "data": {
      "text/plain": [
       "setosa        50\n",
       "versicolor    50\n",
       "virginica     50\n",
       "Name: species, dtype: int64"
      ]
     },
     "execution_count": 41,
     "metadata": {},
     "output_type": "execute_result"
    }
   ],
   "source": [
    "df = sns.load_dataset('iris')\n",
    "df.species.value_counts()"
   ]
  },
  {
   "cell_type": "code",
   "execution_count": 40,
   "id": "3ff06f63",
   "metadata": {},
   "outputs": [
    {
     "data": {
      "text/plain": [
       "setosa        0.333333\n",
       "versicolor    0.333333\n",
       "virginica     0.333333\n",
       "Name: species, dtype: float64"
      ]
     },
     "execution_count": 40,
     "metadata": {},
     "output_type": "execute_result"
    }
   ],
   "source": [
    "df.species.value_counts(normalize=True)"
   ]
  },
  {
   "cell_type": "markdown",
   "id": "0e4f47de",
   "metadata": {},
   "source": [
    "### 1.2.5. unique()"
   ]
  },
  {
   "cell_type": "code",
   "execution_count": 42,
   "id": "01ef70a7",
   "metadata": {},
   "outputs": [
    {
     "data": {
      "text/plain": [
       "array(['setosa', 'versicolor', 'virginica'], dtype=object)"
      ]
     },
     "execution_count": 42,
     "metadata": {},
     "output_type": "execute_result"
    }
   ],
   "source": [
    "df = sns.load_dataset('iris')\n",
    "df.species.unique()"
   ]
  },
  {
   "cell_type": "markdown",
   "id": "40b61a49",
   "metadata": {},
   "source": [
    "### 1.2.6. nunique()"
   ]
  },
  {
   "cell_type": "code",
   "execution_count": 43,
   "id": "e8c288c5",
   "metadata": {},
   "outputs": [
    {
     "data": {
      "text/plain": [
       "3"
      ]
     },
     "execution_count": 43,
     "metadata": {},
     "output_type": "execute_result"
    }
   ],
   "source": [
    "df = sns.load_dataset('iris')\n",
    "df.species.nunique()"
   ]
  },
  {
   "cell_type": "markdown",
   "id": "193afa18",
   "metadata": {},
   "source": [
    "## 1.4. Split the data to train/val(test) in an appropriate way\n",
    "\n",
    "1. It's a necessary step to avoid data leakage and overfitting problems.\n",
    "\n",
    "\n",
    "2. You should better not leak any information from your train set to test set or from test set to train set. Data leakage biases the predictions, that is not desired in Machine Learning.\n",
    "\n",
    "\n",
    "3. You should decide what proportion that you would like to use for your train and test sets in data splitting. Note that the train set can't be lower than %50. ***Try and observe the performance of different train test proportions while creating a machine learning model***\n",
    "\n",
    "\n",
    "4. You should also choose a proper data splitting method to create a powerful model. There are 2 options; **\"Regular(Normal) splitting\"** and **\"Stratified splitting\"**\n",
    "\n",
    "\n",
    "5. Regular Splitting; Available to use for both regression and classification problems.\n",
    "\n",
    "\n",
    "6. Stratified Splitting; Available to use in classification problems, especially if the target feature is imbalanced. **It keeps the percentage of target features same in both train and test sets.**\n",
    "\n",
    "\n",
    "7. ***Note that; check distributions of all the features after splitting. It's especially may be complicated with categorical features if a value is existing in on of the data group but not existing in the other one.***\n",
    "\n",
    "\n",
    "\n",
    "*Helpful Soruce;*\n",
    "* https://machinelearningmastery.com/train-test-split-for-evaluating-machine-learning-algorithms/"
   ]
  },
  {
   "cell_type": "markdown",
   "id": "784ac38a",
   "metadata": {},
   "source": [
    "### 1.4.1. Regular(Normal) Splitting;"
   ]
  },
  {
   "cell_type": "code",
   "execution_count": 22,
   "id": "57279bc3",
   "metadata": {},
   "outputs": [],
   "source": [
    "# the library and the function that we use;\n",
    "from sklearn.model_selection import train_test_split\n",
    "\n",
    "df = sns.load_dataset('iris')\n",
    "df.head(3)"
   ]
  },
  {
   "cell_type": "code",
   "execution_count": 28,
   "id": "1c4e2b1c",
   "metadata": {},
   "outputs": [],
   "source": [
    "# \"species\" is our target feature\n",
    "\n",
    "# I would like to have %60 of the dataset as train set\n",
    "\n",
    "# Shuffle=True;\n",
    "# shuffle all the observations while splitting, necessary to provide randomness while splitting\n",
    "\n",
    "# random_state;\n",
    "# The function splits the data randomly,\n",
    "# so it's good to specify an random_state id to get identical splitting results after everytime you have to activate it.\n",
    "\n",
    "X_train, X_test, y_train, y_test = train_test_split(df.drop([\"species\"], axis=1), \n",
    "                                                    df.species,\n",
    "                                                    test_size=0.40,\n",
    "                                                    shuffle=True,\n",
    "                                                    random_state=22)\n",
    "\n",
    "# Shuffle özelliğini açtığımız için index'ler karışmış halde olacaktır. Indexleri düzene sokmak için şu kodları yaz;\n",
    "for i in [X_train, X_test, y_train, y_test]:\n",
    "    i.reset_index(inplace=True, drop=True)"
   ]
  },
  {
   "cell_type": "markdown",
   "id": "c3394a2e",
   "metadata": {},
   "source": [
    "### 1.4.2. Stratified Splitting;\n",
    "\n",
    "* This time we additionally use the **stratify=** parameter."
   ]
  },
  {
   "cell_type": "code",
   "execution_count": 30,
   "id": "ebc4a907",
   "metadata": {},
   "outputs": [
    {
     "data": {
      "text/html": [
       "<div>\n",
       "<style scoped>\n",
       "    .dataframe tbody tr th:only-of-type {\n",
       "        vertical-align: middle;\n",
       "    }\n",
       "\n",
       "    .dataframe tbody tr th {\n",
       "        vertical-align: top;\n",
       "    }\n",
       "\n",
       "    .dataframe thead th {\n",
       "        text-align: right;\n",
       "    }\n",
       "</style>\n",
       "<table border=\"1\" class=\"dataframe\">\n",
       "  <thead>\n",
       "    <tr style=\"text-align: right;\">\n",
       "      <th></th>\n",
       "      <th>sepal_length</th>\n",
       "      <th>sepal_width</th>\n",
       "      <th>petal_length</th>\n",
       "      <th>petal_width</th>\n",
       "      <th>species</th>\n",
       "    </tr>\n",
       "  </thead>\n",
       "  <tbody>\n",
       "    <tr>\n",
       "      <th>0</th>\n",
       "      <td>5.1</td>\n",
       "      <td>3.5</td>\n",
       "      <td>1.4</td>\n",
       "      <td>0.2</td>\n",
       "      <td>setosa</td>\n",
       "    </tr>\n",
       "    <tr>\n",
       "      <th>1</th>\n",
       "      <td>4.9</td>\n",
       "      <td>3.0</td>\n",
       "      <td>1.4</td>\n",
       "      <td>0.2</td>\n",
       "      <td>setosa</td>\n",
       "    </tr>\n",
       "    <tr>\n",
       "      <th>2</th>\n",
       "      <td>4.7</td>\n",
       "      <td>3.2</td>\n",
       "      <td>1.3</td>\n",
       "      <td>0.2</td>\n",
       "      <td>setosa</td>\n",
       "    </tr>\n",
       "  </tbody>\n",
       "</table>\n",
       "</div>"
      ],
      "text/plain": [
       "   sepal_length  sepal_width  petal_length  petal_width species\n",
       "0           5.1          3.5           1.4          0.2  setosa\n",
       "1           4.9          3.0           1.4          0.2  setosa\n",
       "2           4.7          3.2           1.3          0.2  setosa"
      ]
     },
     "execution_count": 30,
     "metadata": {},
     "output_type": "execute_result"
    }
   ],
   "source": [
    "# the library and the function that we use;\n",
    "from sklearn.model_selection import train_test_split\n",
    "\n",
    "df = sns.load_dataset('iris')\n",
    "df.head(3)"
   ]
  },
  {
   "cell_type": "code",
   "execution_count": 31,
   "id": "cb0df19b",
   "metadata": {},
   "outputs": [],
   "source": [
    "# This time we additionally use the stratify= parameter.\n",
    "X_train, X_test, y_train, y_test = train_test_split(df.drop([\"species\"], axis=1), \n",
    "                                                    df.species,\n",
    "                                                    test_size=0.40,\n",
    "                                                    shuffle=True,\n",
    "                                                    random_state=22,\n",
    "                                                    stratify= df.species)\n",
    "\n",
    "# Shuffle özelliğini açtığımız için index'ler karışmış halde olacaktır. Indexleri düzene sokmak için şu kodları yaz;\n",
    "for i in [X_train, X_test, y_train, y_test]:\n",
    "    i.reset_index(inplace=True, drop=True)"
   ]
  },
  {
   "cell_type": "code",
   "execution_count": null,
   "id": "50f58ddc",
   "metadata": {},
   "outputs": [],
   "source": []
  },
  {
   "cell_type": "code",
   "execution_count": null,
   "id": "19f7a70f",
   "metadata": {},
   "outputs": [],
   "source": []
  },
  {
   "cell_type": "code",
   "execution_count": null,
   "id": "c2be3f07",
   "metadata": {},
   "outputs": [],
   "source": []
  },
  {
   "cell_type": "code",
   "execution_count": null,
   "id": "e90e0573",
   "metadata": {},
   "outputs": [],
   "source": []
  },
  {
   "cell_type": "code",
   "execution_count": null,
   "id": "69eb14f6",
   "metadata": {},
   "outputs": [],
   "source": []
  },
  {
   "cell_type": "code",
   "execution_count": null,
   "id": "72e93d28",
   "metadata": {},
   "outputs": [],
   "source": []
  },
  {
   "cell_type": "code",
   "execution_count": null,
   "id": "4cb0dcbe",
   "metadata": {},
   "outputs": [],
   "source": []
  },
  {
   "cell_type": "code",
   "execution_count": null,
   "id": "04e78407",
   "metadata": {},
   "outputs": [],
   "source": []
  },
  {
   "cell_type": "code",
   "execution_count": null,
   "id": "bc1b3309",
   "metadata": {},
   "outputs": [],
   "source": []
  },
  {
   "cell_type": "code",
   "execution_count": null,
   "id": "91e28ba5",
   "metadata": {},
   "outputs": [],
   "source": []
  },
  {
   "cell_type": "code",
   "execution_count": null,
   "id": "ee7ba16d",
   "metadata": {},
   "outputs": [],
   "source": []
  },
  {
   "cell_type": "code",
   "execution_count": null,
   "id": "e2d20926",
   "metadata": {},
   "outputs": [],
   "source": []
  },
  {
   "cell_type": "code",
   "execution_count": null,
   "id": "82ff1ef8",
   "metadata": {},
   "outputs": [],
   "source": []
  },
  {
   "cell_type": "code",
   "execution_count": null,
   "id": "ca7bb3af",
   "metadata": {},
   "outputs": [],
   "source": []
  }
 ],
 "metadata": {
  "kernelspec": {
   "display_name": "Python 3 (ipykernel)",
   "language": "python",
   "name": "python3"
  },
  "language_info": {
   "codemirror_mode": {
    "name": "ipython",
    "version": 3
   },
   "file_extension": ".py",
   "mimetype": "text/x-python",
   "name": "python",
   "nbconvert_exporter": "python",
   "pygments_lexer": "ipython3",
   "version": "3.11.0"
  }
 },
 "nbformat": 4,
 "nbformat_minor": 5
}
