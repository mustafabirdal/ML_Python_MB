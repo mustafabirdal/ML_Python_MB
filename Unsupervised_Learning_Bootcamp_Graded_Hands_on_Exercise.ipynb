{
 "cells": [
  {
   "cell_type": "markdown",
   "metadata": {
    "id": "4vjqkJbJBmGA"
   },
   "source": [
    "# **Overview**\n",
    "\n",
    "Throughout this assignment, you will be performing specific well-defined tasks that’ll strengthen your concepts in Unsupervised Learning. We will be using the facebook live sellers dataset for Task 1 & 2 of the assignment and here is a brief context about the same - The data is about live selling feature on the Facebook platform. Each record consists of information about the time live information of sale is posted to Facebook and engagements in the data. The engagements are regular Facebook interactions such as share and emotion rection.\n",
    "\n",
    "As part of the assignment, you will have to accomplish the below tasks.\n",
    "\n",
    "\n",
    "**Author:** Chintoo Kumar"
   ]
  },
  {
   "cell_type": "markdown",
   "metadata": {
    "id": "Y5U0zsQcBW2j"
   },
   "source": [
    "# **Dataset**\n",
    "\n",
    "Dataset Link: https://archive.ics.uci.edu/ml/datasets/Facebook+Live+Sellers+in+Thailand\n",
    "\n",
    "**About the dataset:**\n",
    "\n",
    "The Facebook Live Sellers in Thailand is a dataset curated in UCI Machine Learning Datasets. It data contains 7050 observations and twelve attributes. In this assignment, the preprocessed dataset contains 7050 instances and 10 attributes. The details of the attributes are as follows:\n",
    "\n",
    "* status_type: The type of shared status\n",
    "* num_reactions: Number of glimpses over a shared status by viewers\n",
    "* num_comments: Number of comments on that particular shared status\n",
    "* num_shares: Toal number of shares by peers\n",
    "* num_likes: Number of likes on the post\n",
    "* num_loves: Number of love emojis of that shared post\n",
    "* num_wows: Number of wow emojis on that post\n",
    "* num_hahas: Number of haha emojis on that post\n",
    "* num_sads: Number of sad emojis on that post\n",
    "* num_angrys: Number of angry emojis on that post"
   ]
  },
  {
   "cell_type": "code",
   "execution_count": 27,
   "metadata": {
    "ExecuteTime": {
     "end_time": "2021-12-04T18:28:24.248204Z",
     "start_time": "2021-12-04T18:28:24.228256Z"
    }
   },
   "outputs": [],
   "source": [
    "import pandas as pd\n",
    "import numpy as np\n",
    "import seaborn as sns\n",
    "import matplotlib.pyplot as plt\n",
    "%matplotlib inline"
   ]
  },
  {
   "cell_type": "markdown",
   "metadata": {
    "id": "Nt260k7VBW2k"
   },
   "source": [
    "# **Task 1: Data loading and Data Analysis**\n",
    "\n",
    "* Load the data file into a dataframe object : df\n",
    "* Display the first 5 observation of the dataset\n",
    "* Display a concise summary of the provided data and list out 2 observations/inferences that you observe from the result. You can use the info() method for this.\n",
    "* Perform EDA viz. Is there any missing values in each column of the provided dataset\n",
    "* Display all the unique status_type of the dataframe\n",
    "* Convert categorical variable, i.e., status_type into numerical representation using a label encoder"
   ]
  },
  {
   "cell_type": "markdown",
   "metadata": {},
   "source": [
    "## Load the data file into a dataframe object : df"
   ]
  },
  {
   "cell_type": "code",
   "execution_count": 28,
   "metadata": {
    "ExecuteTime": {
     "end_time": "2021-12-04T18:28:26.845553Z",
     "start_time": "2021-12-04T18:28:24.924161Z"
    }
   },
   "outputs": [],
   "source": [
    "df = pd.read_csv(\"https://archive.ics.uci.edu/ml/machine-learning-databases/00488/Live_20210128.csv\")"
   ]
  },
  {
   "cell_type": "markdown",
   "metadata": {},
   "source": [
    "## Display the first 5 observation of the dataset"
   ]
  },
  {
   "cell_type": "code",
   "execution_count": 29,
   "metadata": {
    "ExecuteTime": {
     "end_time": "2021-12-04T18:28:27.375013Z",
     "start_time": "2021-12-04T18:28:27.347085Z"
    }
   },
   "outputs": [
    {
     "data": {
      "text/html": [
       "<div>\n",
       "<style scoped>\n",
       "    .dataframe tbody tr th:only-of-type {\n",
       "        vertical-align: middle;\n",
       "    }\n",
       "\n",
       "    .dataframe tbody tr th {\n",
       "        vertical-align: top;\n",
       "    }\n",
       "\n",
       "    .dataframe thead th {\n",
       "        text-align: right;\n",
       "    }\n",
       "</style>\n",
       "<table border=\"1\" class=\"dataframe\">\n",
       "  <thead>\n",
       "    <tr style=\"text-align: right;\">\n",
       "      <th></th>\n",
       "      <th>status_id</th>\n",
       "      <th>status_type</th>\n",
       "      <th>status_published</th>\n",
       "      <th>num_reactions</th>\n",
       "      <th>num_comments</th>\n",
       "      <th>num_shares</th>\n",
       "      <th>num_likes</th>\n",
       "      <th>num_loves</th>\n",
       "      <th>num_wows</th>\n",
       "      <th>num_hahas</th>\n",
       "      <th>num_sads</th>\n",
       "      <th>num_angrys</th>\n",
       "      <th>Column1</th>\n",
       "      <th>Column2</th>\n",
       "      <th>Column3</th>\n",
       "      <th>Column4</th>\n",
       "    </tr>\n",
       "  </thead>\n",
       "  <tbody>\n",
       "    <tr>\n",
       "      <th>0</th>\n",
       "      <td>1</td>\n",
       "      <td>video</td>\n",
       "      <td>4/22/2018 6:00</td>\n",
       "      <td>529</td>\n",
       "      <td>512</td>\n",
       "      <td>262</td>\n",
       "      <td>432</td>\n",
       "      <td>92</td>\n",
       "      <td>3</td>\n",
       "      <td>1</td>\n",
       "      <td>1</td>\n",
       "      <td>0</td>\n",
       "      <td>NaN</td>\n",
       "      <td>NaN</td>\n",
       "      <td>NaN</td>\n",
       "      <td>NaN</td>\n",
       "    </tr>\n",
       "    <tr>\n",
       "      <th>1</th>\n",
       "      <td>2</td>\n",
       "      <td>photo</td>\n",
       "      <td>4/21/2018 22:45</td>\n",
       "      <td>150</td>\n",
       "      <td>0</td>\n",
       "      <td>0</td>\n",
       "      <td>150</td>\n",
       "      <td>0</td>\n",
       "      <td>0</td>\n",
       "      <td>0</td>\n",
       "      <td>0</td>\n",
       "      <td>0</td>\n",
       "      <td>NaN</td>\n",
       "      <td>NaN</td>\n",
       "      <td>NaN</td>\n",
       "      <td>NaN</td>\n",
       "    </tr>\n",
       "    <tr>\n",
       "      <th>2</th>\n",
       "      <td>3</td>\n",
       "      <td>video</td>\n",
       "      <td>4/21/2018 6:17</td>\n",
       "      <td>227</td>\n",
       "      <td>236</td>\n",
       "      <td>57</td>\n",
       "      <td>204</td>\n",
       "      <td>21</td>\n",
       "      <td>1</td>\n",
       "      <td>1</td>\n",
       "      <td>0</td>\n",
       "      <td>0</td>\n",
       "      <td>NaN</td>\n",
       "      <td>NaN</td>\n",
       "      <td>NaN</td>\n",
       "      <td>NaN</td>\n",
       "    </tr>\n",
       "    <tr>\n",
       "      <th>3</th>\n",
       "      <td>4</td>\n",
       "      <td>photo</td>\n",
       "      <td>4/21/2018 2:29</td>\n",
       "      <td>111</td>\n",
       "      <td>0</td>\n",
       "      <td>0</td>\n",
       "      <td>111</td>\n",
       "      <td>0</td>\n",
       "      <td>0</td>\n",
       "      <td>0</td>\n",
       "      <td>0</td>\n",
       "      <td>0</td>\n",
       "      <td>NaN</td>\n",
       "      <td>NaN</td>\n",
       "      <td>NaN</td>\n",
       "      <td>NaN</td>\n",
       "    </tr>\n",
       "    <tr>\n",
       "      <th>4</th>\n",
       "      <td>5</td>\n",
       "      <td>photo</td>\n",
       "      <td>4/18/2018 3:22</td>\n",
       "      <td>213</td>\n",
       "      <td>0</td>\n",
       "      <td>0</td>\n",
       "      <td>204</td>\n",
       "      <td>9</td>\n",
       "      <td>0</td>\n",
       "      <td>0</td>\n",
       "      <td>0</td>\n",
       "      <td>0</td>\n",
       "      <td>NaN</td>\n",
       "      <td>NaN</td>\n",
       "      <td>NaN</td>\n",
       "      <td>NaN</td>\n",
       "    </tr>\n",
       "  </tbody>\n",
       "</table>\n",
       "</div>"
      ],
      "text/plain": [
       "   status_id status_type status_published  num_reactions  num_comments  \\\n",
       "0          1       video   4/22/2018 6:00            529           512   \n",
       "1          2       photo  4/21/2018 22:45            150             0   \n",
       "2          3       video   4/21/2018 6:17            227           236   \n",
       "3          4       photo   4/21/2018 2:29            111             0   \n",
       "4          5       photo   4/18/2018 3:22            213             0   \n",
       "\n",
       "   num_shares  num_likes  num_loves  num_wows  num_hahas  num_sads  \\\n",
       "0         262        432         92         3          1         1   \n",
       "1           0        150          0         0          0         0   \n",
       "2          57        204         21         1          1         0   \n",
       "3           0        111          0         0          0         0   \n",
       "4           0        204          9         0          0         0   \n",
       "\n",
       "   num_angrys  Column1  Column2  Column3  Column4  \n",
       "0           0      NaN      NaN      NaN      NaN  \n",
       "1           0      NaN      NaN      NaN      NaN  \n",
       "2           0      NaN      NaN      NaN      NaN  \n",
       "3           0      NaN      NaN      NaN      NaN  \n",
       "4           0      NaN      NaN      NaN      NaN  "
      ]
     },
     "execution_count": 29,
     "metadata": {},
     "output_type": "execute_result"
    }
   ],
   "source": [
    "df.head(5)"
   ]
  },
  {
   "cell_type": "markdown",
   "metadata": {},
   "source": [
    "## Display a concise summary of the provided data and list out 2 observations/inferences that you observe from the result. You can use the info() method for this.\n",
    "\n",
    "* Averagely the least shared emoji type is \"angry emojis\".\n",
    "* Photos are the most frequently shared items in Facebook."
   ]
  },
  {
   "cell_type": "code",
   "execution_count": 30,
   "metadata": {
    "ExecuteTime": {
     "end_time": "2021-12-04T18:28:27.953765Z",
     "start_time": "2021-12-04T18:28:27.877970Z"
    }
   },
   "outputs": [
    {
     "data": {
      "text/html": [
       "<div>\n",
       "<style scoped>\n",
       "    .dataframe tbody tr th:only-of-type {\n",
       "        vertical-align: middle;\n",
       "    }\n",
       "\n",
       "    .dataframe tbody tr th {\n",
       "        vertical-align: top;\n",
       "    }\n",
       "\n",
       "    .dataframe thead th {\n",
       "        text-align: right;\n",
       "    }\n",
       "</style>\n",
       "<table border=\"1\" class=\"dataframe\">\n",
       "  <thead>\n",
       "    <tr style=\"text-align: right;\">\n",
       "      <th></th>\n",
       "      <th>count</th>\n",
       "      <th>unique</th>\n",
       "      <th>top</th>\n",
       "      <th>freq</th>\n",
       "      <th>mean</th>\n",
       "      <th>std</th>\n",
       "      <th>min</th>\n",
       "      <th>25%</th>\n",
       "      <th>50%</th>\n",
       "      <th>75%</th>\n",
       "      <th>max</th>\n",
       "    </tr>\n",
       "  </thead>\n",
       "  <tbody>\n",
       "    <tr>\n",
       "      <th>status_id</th>\n",
       "      <td>7050.0</td>\n",
       "      <td>NaN</td>\n",
       "      <td>NaN</td>\n",
       "      <td>NaN</td>\n",
       "      <td>3525.5</td>\n",
       "      <td>2035.304031</td>\n",
       "      <td>1.0</td>\n",
       "      <td>1763.25</td>\n",
       "      <td>3525.5</td>\n",
       "      <td>5287.75</td>\n",
       "      <td>7050.0</td>\n",
       "    </tr>\n",
       "    <tr>\n",
       "      <th>status_type</th>\n",
       "      <td>7050</td>\n",
       "      <td>4</td>\n",
       "      <td>photo</td>\n",
       "      <td>4288</td>\n",
       "      <td>NaN</td>\n",
       "      <td>NaN</td>\n",
       "      <td>NaN</td>\n",
       "      <td>NaN</td>\n",
       "      <td>NaN</td>\n",
       "      <td>NaN</td>\n",
       "      <td>NaN</td>\n",
       "    </tr>\n",
       "    <tr>\n",
       "      <th>status_published</th>\n",
       "      <td>7050</td>\n",
       "      <td>6913</td>\n",
       "      <td>3/20/2018 1:54</td>\n",
       "      <td>3</td>\n",
       "      <td>NaN</td>\n",
       "      <td>NaN</td>\n",
       "      <td>NaN</td>\n",
       "      <td>NaN</td>\n",
       "      <td>NaN</td>\n",
       "      <td>NaN</td>\n",
       "      <td>NaN</td>\n",
       "    </tr>\n",
       "    <tr>\n",
       "      <th>num_reactions</th>\n",
       "      <td>7050.0</td>\n",
       "      <td>NaN</td>\n",
       "      <td>NaN</td>\n",
       "      <td>NaN</td>\n",
       "      <td>230.117163</td>\n",
       "      <td>462.625309</td>\n",
       "      <td>0.0</td>\n",
       "      <td>17.0</td>\n",
       "      <td>59.5</td>\n",
       "      <td>219.0</td>\n",
       "      <td>4710.0</td>\n",
       "    </tr>\n",
       "    <tr>\n",
       "      <th>num_comments</th>\n",
       "      <td>7050.0</td>\n",
       "      <td>NaN</td>\n",
       "      <td>NaN</td>\n",
       "      <td>NaN</td>\n",
       "      <td>224.356028</td>\n",
       "      <td>889.63682</td>\n",
       "      <td>0.0</td>\n",
       "      <td>0.0</td>\n",
       "      <td>4.0</td>\n",
       "      <td>23.0</td>\n",
       "      <td>20990.0</td>\n",
       "    </tr>\n",
       "    <tr>\n",
       "      <th>num_shares</th>\n",
       "      <td>7050.0</td>\n",
       "      <td>NaN</td>\n",
       "      <td>NaN</td>\n",
       "      <td>NaN</td>\n",
       "      <td>40.022553</td>\n",
       "      <td>131.599965</td>\n",
       "      <td>0.0</td>\n",
       "      <td>0.0</td>\n",
       "      <td>0.0</td>\n",
       "      <td>4.0</td>\n",
       "      <td>3424.0</td>\n",
       "    </tr>\n",
       "    <tr>\n",
       "      <th>num_likes</th>\n",
       "      <td>7050.0</td>\n",
       "      <td>NaN</td>\n",
       "      <td>NaN</td>\n",
       "      <td>NaN</td>\n",
       "      <td>215.043121</td>\n",
       "      <td>449.472357</td>\n",
       "      <td>0.0</td>\n",
       "      <td>17.0</td>\n",
       "      <td>58.0</td>\n",
       "      <td>184.75</td>\n",
       "      <td>4710.0</td>\n",
       "    </tr>\n",
       "    <tr>\n",
       "      <th>num_loves</th>\n",
       "      <td>7050.0</td>\n",
       "      <td>NaN</td>\n",
       "      <td>NaN</td>\n",
       "      <td>NaN</td>\n",
       "      <td>12.728652</td>\n",
       "      <td>39.97293</td>\n",
       "      <td>0.0</td>\n",
       "      <td>0.0</td>\n",
       "      <td>0.0</td>\n",
       "      <td>3.0</td>\n",
       "      <td>657.0</td>\n",
       "    </tr>\n",
       "    <tr>\n",
       "      <th>num_wows</th>\n",
       "      <td>7050.0</td>\n",
       "      <td>NaN</td>\n",
       "      <td>NaN</td>\n",
       "      <td>NaN</td>\n",
       "      <td>1.289362</td>\n",
       "      <td>8.71965</td>\n",
       "      <td>0.0</td>\n",
       "      <td>0.0</td>\n",
       "      <td>0.0</td>\n",
       "      <td>0.0</td>\n",
       "      <td>278.0</td>\n",
       "    </tr>\n",
       "    <tr>\n",
       "      <th>num_hahas</th>\n",
       "      <td>7050.0</td>\n",
       "      <td>NaN</td>\n",
       "      <td>NaN</td>\n",
       "      <td>NaN</td>\n",
       "      <td>0.696454</td>\n",
       "      <td>3.957183</td>\n",
       "      <td>0.0</td>\n",
       "      <td>0.0</td>\n",
       "      <td>0.0</td>\n",
       "      <td>0.0</td>\n",
       "      <td>157.0</td>\n",
       "    </tr>\n",
       "    <tr>\n",
       "      <th>num_sads</th>\n",
       "      <td>7050.0</td>\n",
       "      <td>NaN</td>\n",
       "      <td>NaN</td>\n",
       "      <td>NaN</td>\n",
       "      <td>0.243688</td>\n",
       "      <td>1.597156</td>\n",
       "      <td>0.0</td>\n",
       "      <td>0.0</td>\n",
       "      <td>0.0</td>\n",
       "      <td>0.0</td>\n",
       "      <td>51.0</td>\n",
       "    </tr>\n",
       "    <tr>\n",
       "      <th>num_angrys</th>\n",
       "      <td>7050.0</td>\n",
       "      <td>NaN</td>\n",
       "      <td>NaN</td>\n",
       "      <td>NaN</td>\n",
       "      <td>0.113191</td>\n",
       "      <td>0.726812</td>\n",
       "      <td>0.0</td>\n",
       "      <td>0.0</td>\n",
       "      <td>0.0</td>\n",
       "      <td>0.0</td>\n",
       "      <td>31.0</td>\n",
       "    </tr>\n",
       "    <tr>\n",
       "      <th>Column1</th>\n",
       "      <td>0.0</td>\n",
       "      <td>NaN</td>\n",
       "      <td>NaN</td>\n",
       "      <td>NaN</td>\n",
       "      <td>NaN</td>\n",
       "      <td>NaN</td>\n",
       "      <td>NaN</td>\n",
       "      <td>NaN</td>\n",
       "      <td>NaN</td>\n",
       "      <td>NaN</td>\n",
       "      <td>NaN</td>\n",
       "    </tr>\n",
       "    <tr>\n",
       "      <th>Column2</th>\n",
       "      <td>0.0</td>\n",
       "      <td>NaN</td>\n",
       "      <td>NaN</td>\n",
       "      <td>NaN</td>\n",
       "      <td>NaN</td>\n",
       "      <td>NaN</td>\n",
       "      <td>NaN</td>\n",
       "      <td>NaN</td>\n",
       "      <td>NaN</td>\n",
       "      <td>NaN</td>\n",
       "      <td>NaN</td>\n",
       "    </tr>\n",
       "    <tr>\n",
       "      <th>Column3</th>\n",
       "      <td>0.0</td>\n",
       "      <td>NaN</td>\n",
       "      <td>NaN</td>\n",
       "      <td>NaN</td>\n",
       "      <td>NaN</td>\n",
       "      <td>NaN</td>\n",
       "      <td>NaN</td>\n",
       "      <td>NaN</td>\n",
       "      <td>NaN</td>\n",
       "      <td>NaN</td>\n",
       "      <td>NaN</td>\n",
       "    </tr>\n",
       "    <tr>\n",
       "      <th>Column4</th>\n",
       "      <td>0.0</td>\n",
       "      <td>NaN</td>\n",
       "      <td>NaN</td>\n",
       "      <td>NaN</td>\n",
       "      <td>NaN</td>\n",
       "      <td>NaN</td>\n",
       "      <td>NaN</td>\n",
       "      <td>NaN</td>\n",
       "      <td>NaN</td>\n",
       "      <td>NaN</td>\n",
       "      <td>NaN</td>\n",
       "    </tr>\n",
       "  </tbody>\n",
       "</table>\n",
       "</div>"
      ],
      "text/plain": [
       "                   count unique             top  freq        mean  \\\n",
       "status_id         7050.0    NaN             NaN   NaN      3525.5   \n",
       "status_type         7050      4           photo  4288         NaN   \n",
       "status_published    7050   6913  3/20/2018 1:54     3         NaN   \n",
       "num_reactions     7050.0    NaN             NaN   NaN  230.117163   \n",
       "num_comments      7050.0    NaN             NaN   NaN  224.356028   \n",
       "num_shares        7050.0    NaN             NaN   NaN   40.022553   \n",
       "num_likes         7050.0    NaN             NaN   NaN  215.043121   \n",
       "num_loves         7050.0    NaN             NaN   NaN   12.728652   \n",
       "num_wows          7050.0    NaN             NaN   NaN    1.289362   \n",
       "num_hahas         7050.0    NaN             NaN   NaN    0.696454   \n",
       "num_sads          7050.0    NaN             NaN   NaN    0.243688   \n",
       "num_angrys        7050.0    NaN             NaN   NaN    0.113191   \n",
       "Column1              0.0    NaN             NaN   NaN         NaN   \n",
       "Column2              0.0    NaN             NaN   NaN         NaN   \n",
       "Column3              0.0    NaN             NaN   NaN         NaN   \n",
       "Column4              0.0    NaN             NaN   NaN         NaN   \n",
       "\n",
       "                          std  min      25%     50%      75%      max  \n",
       "status_id         2035.304031  1.0  1763.25  3525.5  5287.75   7050.0  \n",
       "status_type               NaN  NaN      NaN     NaN      NaN      NaN  \n",
       "status_published          NaN  NaN      NaN     NaN      NaN      NaN  \n",
       "num_reactions      462.625309  0.0     17.0    59.5    219.0   4710.0  \n",
       "num_comments        889.63682  0.0      0.0     4.0     23.0  20990.0  \n",
       "num_shares         131.599965  0.0      0.0     0.0      4.0   3424.0  \n",
       "num_likes          449.472357  0.0     17.0    58.0   184.75   4710.0  \n",
       "num_loves            39.97293  0.0      0.0     0.0      3.0    657.0  \n",
       "num_wows              8.71965  0.0      0.0     0.0      0.0    278.0  \n",
       "num_hahas            3.957183  0.0      0.0     0.0      0.0    157.0  \n",
       "num_sads             1.597156  0.0      0.0     0.0      0.0     51.0  \n",
       "num_angrys           0.726812  0.0      0.0     0.0      0.0     31.0  \n",
       "Column1                   NaN  NaN      NaN     NaN      NaN      NaN  \n",
       "Column2                   NaN  NaN      NaN     NaN      NaN      NaN  \n",
       "Column3                   NaN  NaN      NaN     NaN      NaN      NaN  \n",
       "Column4                   NaN  NaN      NaN     NaN      NaN      NaN  "
      ]
     },
     "execution_count": 30,
     "metadata": {},
     "output_type": "execute_result"
    }
   ],
   "source": [
    "df.describe(include=\"all\").T"
   ]
  },
  {
   "cell_type": "markdown",
   "metadata": {},
   "source": [
    "## Perform EDA viz. Is there any missing values in each column of the provided dataset\n",
    "\n",
    "* There is no any observation in Column1, Column2, Column3 and Column4.\n",
    "* Other variables don't have any missing value.\n",
    "* Please check the graph below to see missing values in the variables."
   ]
  },
  {
   "cell_type": "code",
   "execution_count": 31,
   "metadata": {
    "ExecuteTime": {
     "end_time": "2021-12-04T18:28:32.818569Z",
     "start_time": "2021-12-04T18:28:32.577917Z"
    }
   },
   "outputs": [
    {
     "data": {
      "image/png": "[encoded data removed]",
      "text/plain": [
       "<Figure size 576x360 with 1 Axes>"
      ]
     },
     "metadata": {
      "needs_background": "light"
     },
     "output_type": "display_data"
    }
   ],
   "source": [
    "plt.subplots(figsize=(8,5))\n",
    "df.isna().sum().plot.barh();"
   ]
  },
  {
   "cell_type": "markdown",
   "metadata": {},
   "source": [
    "## Display all the unique status_type of the dataframe"
   ]
  },
  {
   "cell_type": "code",
   "execution_count": 32,
   "metadata": {
    "ExecuteTime": {
     "end_time": "2021-12-04T18:28:34.179627Z",
     "start_time": "2021-12-04T18:28:34.161712Z"
    }
   },
   "outputs": [
    {
     "data": {
      "text/plain": [
       "array(['video', 'photo', 'link', 'status'], dtype=object)"
      ]
     },
     "execution_count": 32,
     "metadata": {},
     "output_type": "execute_result"
    }
   ],
   "source": [
    "df.status_type.unique()"
   ]
  },
  {
   "cell_type": "code",
   "execution_count": 33,
   "metadata": {
    "ExecuteTime": {
     "end_time": "2021-12-04T18:28:34.849060Z",
     "start_time": "2021-12-04T18:28:34.837093Z"
    }
   },
   "outputs": [
    {
     "data": {
      "text/plain": [
       "photo     4288\n",
       "video     2334\n",
       "status     365\n",
       "link        63\n",
       "Name: status_type, dtype: int64"
      ]
     },
     "execution_count": 33,
     "metadata": {},
     "output_type": "execute_result"
    }
   ],
   "source": [
    "df.status_type.value_counts()"
   ]
  },
  {
   "cell_type": "markdown",
   "metadata": {},
   "source": [
    "## Convert categorical variable, i.e., status_type into numerical representation using a label encoder"
   ]
  },
  {
   "cell_type": "code",
   "execution_count": 34,
   "metadata": {
    "ExecuteTime": {
     "end_time": "2021-12-04T18:28:41.682246Z",
     "start_time": "2021-12-04T18:28:41.662299Z"
    }
   },
   "outputs": [],
   "source": [
    "from sklearn.preprocessing import LabelEncoder\n",
    "\n",
    "le = LabelEncoder()\n",
    "\n",
    "df[\"status_type\"] = le.fit_transform(df[\"status_type\"])"
   ]
  },
  {
   "cell_type": "code",
   "execution_count": 35,
   "metadata": {
    "ExecuteTime": {
     "end_time": "2021-12-04T18:28:42.467068Z",
     "start_time": "2021-12-04T18:28:42.430204Z"
    }
   },
   "outputs": [
    {
     "data": {
      "text/html": [
       "<div>\n",
       "<style scoped>\n",
       "    .dataframe tbody tr th:only-of-type {\n",
       "        vertical-align: middle;\n",
       "    }\n",
       "\n",
       "    .dataframe tbody tr th {\n",
       "        vertical-align: top;\n",
       "    }\n",
       "\n",
       "    .dataframe thead th {\n",
       "        text-align: right;\n",
       "    }\n",
       "</style>\n",
       "<table border=\"1\" class=\"dataframe\">\n",
       "  <thead>\n",
       "    <tr style=\"text-align: right;\">\n",
       "      <th></th>\n",
       "      <th>status_id</th>\n",
       "      <th>status_type</th>\n",
       "      <th>status_published</th>\n",
       "      <th>num_reactions</th>\n",
       "      <th>num_comments</th>\n",
       "      <th>num_shares</th>\n",
       "      <th>num_likes</th>\n",
       "      <th>num_loves</th>\n",
       "      <th>num_wows</th>\n",
       "      <th>num_hahas</th>\n",
       "      <th>num_sads</th>\n",
       "      <th>num_angrys</th>\n",
       "      <th>Column1</th>\n",
       "      <th>Column2</th>\n",
       "      <th>Column3</th>\n",
       "      <th>Column4</th>\n",
       "      <th>status_type_n</th>\n",
       "    </tr>\n",
       "  </thead>\n",
       "  <tbody>\n",
       "    <tr>\n",
       "      <th>0</th>\n",
       "      <td>1</td>\n",
       "      <td>video</td>\n",
       "      <td>4/22/2018 6:00</td>\n",
       "      <td>529</td>\n",
       "      <td>512</td>\n",
       "      <td>262</td>\n",
       "      <td>432</td>\n",
       "      <td>92</td>\n",
       "      <td>3</td>\n",
       "      <td>1</td>\n",
       "      <td>1</td>\n",
       "      <td>0</td>\n",
       "      <td>NaN</td>\n",
       "      <td>NaN</td>\n",
       "      <td>NaN</td>\n",
       "      <td>NaN</td>\n",
       "      <td>3</td>\n",
       "    </tr>\n",
       "    <tr>\n",
       "      <th>1</th>\n",
       "      <td>2</td>\n",
       "      <td>photo</td>\n",
       "      <td>4/21/2018 22:45</td>\n",
       "      <td>150</td>\n",
       "      <td>0</td>\n",
       "      <td>0</td>\n",
       "      <td>150</td>\n",
       "      <td>0</td>\n",
       "      <td>0</td>\n",
       "      <td>0</td>\n",
       "      <td>0</td>\n",
       "      <td>0</td>\n",
       "      <td>NaN</td>\n",
       "      <td>NaN</td>\n",
       "      <td>NaN</td>\n",
       "      <td>NaN</td>\n",
       "      <td>1</td>\n",
       "    </tr>\n",
       "  </tbody>\n",
       "</table>\n",
       "</div>"
      ],
      "text/plain": [
       "   status_id status_type status_published  num_reactions  num_comments  \\\n",
       "0          1       video   4/22/2018 6:00            529           512   \n",
       "1          2       photo  4/21/2018 22:45            150             0   \n",
       "\n",
       "   num_shares  num_likes  num_loves  num_wows  num_hahas  num_sads  \\\n",
       "0         262        432         92         3          1         1   \n",
       "1           0        150          0         0          0         0   \n",
       "\n",
       "   num_angrys  Column1  Column2  Column3  Column4  status_type_n  \n",
       "0           0      NaN      NaN      NaN      NaN              3  \n",
       "1           0      NaN      NaN      NaN      NaN              1  "
      ]
     },
     "execution_count": 35,
     "metadata": {},
     "output_type": "execute_result"
    }
   ],
   "source": [
    "df.head(2)"
   ]
  },
  {
   "cell_type": "markdown",
   "metadata": {
    "id": "iG3wQpWzDjp1"
   },
   "source": [
    "# **Task 2: Feature Scaling**\n",
    "\n",
    "\n",
    "*   Perform normalization to scale numerical data prior to modeling. You may use Min-max scaling technique\n",
    "*   Use Elbow method to determine the number of cluster to be formed\n",
    "*   Verify optimal number of clusers on the basis of silhouette scores\n",
    "*   Assigning cluster label to each instance of the dataframe\n",
    "*   Validating obtained clusters using external cluster validation approaches like rand_score and adjusted_rand_score\n"
   ]
  },
  {
   "cell_type": "code",
   "execution_count": 36,
   "metadata": {
    "ExecuteTime": {
     "end_time": "2021-12-04T18:28:49.098029Z",
     "start_time": "2021-12-04T18:28:49.090018Z"
    }
   },
   "outputs": [],
   "source": [
    "# Let's first drop the features that we don't like to use in our model.\n",
    "\n",
    "df.drop([\"Column1\",\"Column2\",\"Column3\",\"Column4\",\"status_published\",\"status_id\"], axis=1, inplace=True)"
   ]
  },
  {
   "cell_type": "markdown",
   "metadata": {},
   "source": [
    "## Perform normalization to scale numerical data prior to modeling. You may use Min-max scaling technique"
   ]
  },
  {
   "cell_type": "code",
   "execution_count": 37,
   "metadata": {
    "ExecuteTime": {
     "end_time": "2021-12-04T18:29:05.406419Z",
     "start_time": "2021-12-04T18:29:05.392458Z"
    }
   },
   "outputs": [],
   "source": [
    "from sklearn.preprocessing import MinMaxScaler\n",
    "\n",
    "scaler = MinMaxScaler()\n",
    "X = scaler.fit_transform(df.drop(\"status_type\", axis=1))\n",
    "# status_type is excluded to be used on external validation in next steps."
   ]
  },
  {
   "cell_type": "code",
   "execution_count": 38,
   "metadata": {
    "ExecuteTime": {
     "end_time": "2021-12-04T18:29:06.170474Z",
     "start_time": "2021-12-04T18:29:06.147536Z"
    }
   },
   "outputs": [
    {
     "data": {
      "text/plain": [
       "array([[0.11231423, 0.02439257, 0.07651869, ..., 0.00636943, 0.01960784,\n",
       "        0.        ],\n",
       "       [0.03184713, 0.        , 0.        , ..., 0.        , 0.        ,\n",
       "        0.        ],\n",
       "       [0.04819533, 0.01124345, 0.0166472 , ..., 0.00636943, 0.        ,\n",
       "        0.        ],\n",
       "       ...,\n",
       "       [0.00042463, 0.        , 0.        , ..., 0.        , 0.        ,\n",
       "        0.        ],\n",
       "       [0.07452229, 0.0005717 , 0.00642523, ..., 0.        , 0.        ,\n",
       "        0.        ],\n",
       "       [0.00360934, 0.        , 0.        , ..., 0.        , 0.        ,\n",
       "        0.        ]])"
      ]
     },
     "execution_count": 38,
     "metadata": {},
     "output_type": "execute_result"
    }
   ],
   "source": [
    "X"
   ]
  },
  {
   "cell_type": "markdown",
   "metadata": {},
   "source": [
    "## Use Elbow method to determine the number of cluster to be formed\n",
    "\n",
    "* According to the elbow method, **k=2** might be the optimum cluster number but it's still a little bit ambiguous with the elbow method. It would surely be better to clarify the optimum cluster number with another evaluation method such as Silhouette Score. "
   ]
  },
  {
   "cell_type": "code",
   "execution_count": 39,
   "metadata": {
    "ExecuteTime": {
     "end_time": "2021-12-04T18:29:07.419489Z",
     "start_time": "2021-12-04T18:29:07.409547Z"
    }
   },
   "outputs": [],
   "source": [
    "from sklearn.cluster import KMeans"
   ]
  },
  {
   "cell_type": "code",
   "execution_count": 40,
   "metadata": {
    "ExecuteTime": {
     "end_time": "2021-12-04T18:29:10.242049Z",
     "start_time": "2021-12-04T18:29:07.830499Z"
    }
   },
   "outputs": [],
   "source": [
    "# For loop to perform elbow method\n",
    "sse = []\n",
    "k_rng = range(1,11)\n",
    "for k in k_rng:\n",
    "    km = KMeans(n_clusters=k, random_state=0)\n",
    "    km.fit(X)\n",
    "    sse.append(km.inertia_)"
   ]
  },
  {
   "cell_type": "code",
   "execution_count": 41,
   "metadata": {
    "ExecuteTime": {
     "end_time": "2021-12-04T18:29:10.790514Z",
     "start_time": "2021-12-04T18:29:10.649891Z"
    }
   },
   "outputs": [
    {
     "data": {
      "image/png": "[encoded data removed]",
      "text/plain": [
       "<Figure size 576x360 with 1 Axes>"
      ]
     },
     "metadata": {
      "needs_background": "light"
     },
     "output_type": "display_data"
    }
   ],
   "source": [
    "plt.subplots(figsize=(8,5))\n",
    "plt.xlabel('k')\n",
    "plt.ylabel('Inertia')\n",
    "plt.plot(k_rng,sse);"
   ]
  },
  {
   "cell_type": "markdown",
   "metadata": {},
   "source": [
    "## Verify optimal number of clusers on the basis of silhouette scores\n",
    "\n",
    "* Although elbow method indicates that k=2 is the optimum option, **k=3** has the highest Silhouette score. (please check the graph below)\n",
    "\n",
    "* After these analyses we decide to choose **3** as number of clusters."
   ]
  },
  {
   "cell_type": "code",
   "execution_count": 42,
   "metadata": {
    "ExecuteTime": {
     "end_time": "2021-12-04T18:29:20.875655Z",
     "start_time": "2021-12-04T18:29:11.169695Z"
    }
   },
   "outputs": [],
   "source": [
    "from sklearn.metrics import silhouette_score\n",
    "\n",
    "slht = []\n",
    "k_rng = range(2,10)\n",
    "\n",
    "for k in k_rng:\n",
    "    km = KMeans(n_clusters = k, random_state=2).fit(X)\n",
    "    slht.append(silhouette_score(X, km.labels_))"
   ]
  },
  {
   "cell_type": "code",
   "execution_count": 43,
   "metadata": {
    "ExecuteTime": {
     "end_time": "2021-12-04T18:29:21.363395Z",
     "start_time": "2021-12-04T18:29:21.193850Z"
    }
   },
   "outputs": [
    {
     "data": {
      "image/png": "[encoded data removed]",
      "text/plain": [
       "<Figure size 576x432 with 1 Axes>"
      ]
     },
     "metadata": {
      "needs_background": "light"
     },
     "output_type": "display_data"
    }
   ],
   "source": [
    "plt.subplots(figsize=(8,6))\n",
    "plt.xlabel('k')\n",
    "plt.ylabel('Silhouette Score')\n",
    "plt.plot(k_rng,slht);"
   ]
  },
  {
   "cell_type": "markdown",
   "metadata": {},
   "source": [
    "## Assigning cluster label to each instance of the dataframe"
   ]
  },
  {
   "cell_type": "code",
   "execution_count": 59,
   "metadata": {
    "ExecuteTime": {
     "end_time": "2021-12-04T18:31:32.423311Z",
     "start_time": "2021-12-04T18:31:32.327570Z"
    }
   },
   "outputs": [],
   "source": [
    "km = KMeans(n_clusters=2, random_state=2)\n",
    "df[\"cluster\"] = km.fit_predict(X)"
   ]
  },
  {
   "cell_type": "markdown",
   "metadata": {},
   "source": [
    "## Validating obtained clusters using external cluster validation approaches like rand_score and adjusted_rand_score\n",
    "\n",
    "* It seems our clustering model didn't work that well. According to the rand_score and adjusted_rand_score, our model predicted the clusters randomly. Using a different clustering algorithm or following a different preprocessing track might improve our clustering model."
   ]
  },
  {
   "cell_type": "code",
   "execution_count": 60,
   "metadata": {
    "ExecuteTime": {
     "end_time": "2021-12-04T18:31:33.170696Z",
     "start_time": "2021-12-04T18:31:33.152086Z"
    }
   },
   "outputs": [],
   "source": [
    "from sklearn import metrics"
   ]
  },
  {
   "cell_type": "code",
   "execution_count": 61,
   "metadata": {
    "ExecuteTime": {
     "end_time": "2021-12-04T18:31:33.637186Z",
     "start_time": "2021-12-04T18:31:33.623169Z"
    }
   },
   "outputs": [
    {
     "data": {
      "text/plain": [
       "0.5080647825907603"
      ]
     },
     "execution_count": 61,
     "metadata": {},
     "output_type": "execute_result"
    }
   ],
   "source": [
    "metrics.rand_score(df[\"status_type\"], df[\"cluster\"])"
   ]
  },
  {
   "cell_type": "code",
   "execution_count": 62,
   "metadata": {
    "ExecuteTime": {
     "end_time": "2021-12-04T18:31:34.405929Z",
     "start_time": "2021-12-04T18:31:34.382951Z"
    }
   },
   "outputs": [
    {
     "data": {
      "text/plain": [
       "0.04102828446382808"
      ]
     },
     "execution_count": 62,
     "metadata": {},
     "output_type": "execute_result"
    }
   ],
   "source": [
    "metrics.adjusted_rand_score(df[\"status_type\"], df[\"cluster\"])"
   ]
  },
  {
   "cell_type": "markdown",
   "metadata": {
    "id": "9P9m4XFNF82H"
   },
   "source": [
    "# **Task 3: Perform PCA on Fruit Dataset**\n",
    "\n",
    "Fruit Dataset Link: https://raw.githubusercontent.com/dphi-official/Datasets/master/fruit_data.csv\n",
    "\n",
    "* Use PCA to find the first two principal components of the fruit dataset\n",
    "* Scale the value. Each feature should be centered (zero mean) and with unit variance\n",
    "* Analysis - perform PCA with 4 components and print their explained variance_ratio\n",
    "\n"
   ]
  },
  {
   "cell_type": "code",
   "execution_count": 65,
   "metadata": {
    "ExecuteTime": {
     "end_time": "2021-12-04T18:34:08.518889Z",
     "start_time": "2021-12-04T18:34:08.329527Z"
    }
   },
   "outputs": [
    {
     "data": {
      "text/html": [
       "<div>\n",
       "<style scoped>\n",
       "    .dataframe tbody tr th:only-of-type {\n",
       "        vertical-align: middle;\n",
       "    }\n",
       "\n",
       "    .dataframe tbody tr th {\n",
       "        vertical-align: top;\n",
       "    }\n",
       "\n",
       "    .dataframe thead th {\n",
       "        text-align: right;\n",
       "    }\n",
       "</style>\n",
       "<table border=\"1\" class=\"dataframe\">\n",
       "  <thead>\n",
       "    <tr style=\"text-align: right;\">\n",
       "      <th></th>\n",
       "      <th>fruit_label</th>\n",
       "      <th>mass</th>\n",
       "      <th>width</th>\n",
       "      <th>height</th>\n",
       "      <th>color_score</th>\n",
       "    </tr>\n",
       "  </thead>\n",
       "  <tbody>\n",
       "    <tr>\n",
       "      <th>0</th>\n",
       "      <td>1</td>\n",
       "      <td>192</td>\n",
       "      <td>8.4</td>\n",
       "      <td>7.3</td>\n",
       "      <td>0.55</td>\n",
       "    </tr>\n",
       "    <tr>\n",
       "      <th>1</th>\n",
       "      <td>1</td>\n",
       "      <td>180</td>\n",
       "      <td>8.0</td>\n",
       "      <td>6.8</td>\n",
       "      <td>0.59</td>\n",
       "    </tr>\n",
       "    <tr>\n",
       "      <th>2</th>\n",
       "      <td>1</td>\n",
       "      <td>176</td>\n",
       "      <td>7.4</td>\n",
       "      <td>7.2</td>\n",
       "      <td>0.60</td>\n",
       "    </tr>\n",
       "    <tr>\n",
       "      <th>3</th>\n",
       "      <td>2</td>\n",
       "      <td>86</td>\n",
       "      <td>6.2</td>\n",
       "      <td>4.7</td>\n",
       "      <td>0.80</td>\n",
       "    </tr>\n",
       "    <tr>\n",
       "      <th>4</th>\n",
       "      <td>2</td>\n",
       "      <td>84</td>\n",
       "      <td>6.0</td>\n",
       "      <td>4.6</td>\n",
       "      <td>0.79</td>\n",
       "    </tr>\n",
       "  </tbody>\n",
       "</table>\n",
       "</div>"
      ],
      "text/plain": [
       "   fruit_label  mass  width  height  color_score\n",
       "0            1   192    8.4     7.3         0.55\n",
       "1            1   180    8.0     6.8         0.59\n",
       "2            1   176    7.4     7.2         0.60\n",
       "3            2    86    6.2     4.7         0.80\n",
       "4            2    84    6.0     4.6         0.79"
      ]
     },
     "execution_count": 65,
     "metadata": {},
     "output_type": "execute_result"
    }
   ],
   "source": [
    "df = pd.read_csv(\"https://raw.githubusercontent.com/dphi-official/Datasets/master/fruit_data.csv\")\n",
    "df.head(5)"
   ]
  },
  {
   "cell_type": "markdown",
   "metadata": {},
   "source": [
    "## Use PCA to find the first two principal components of the fruit datase"
   ]
  },
  {
   "cell_type": "code",
   "execution_count": 68,
   "metadata": {
    "ExecuteTime": {
     "end_time": "2021-12-04T18:45:40.708354Z",
     "start_time": "2021-12-04T18:45:40.703366Z"
    }
   },
   "outputs": [],
   "source": [
    "from sklearn.decomposition import PCA"
   ]
  },
  {
   "cell_type": "code",
   "execution_count": 71,
   "metadata": {
    "ExecuteTime": {
     "end_time": "2021-12-04T19:18:05.402743Z",
     "start_time": "2021-12-04T19:18:05.388749Z"
    }
   },
   "outputs": [],
   "source": [
    "pca = PCA(n_components=2)\n",
    "pca.fit_transform(df)"
   ]
  },
  {
   "cell_type": "code",
   "execution_count": 72,
   "metadata": {
    "ExecuteTime": {
     "end_time": "2021-12-04T19:18:06.076236Z",
     "start_time": "2021-12-04T19:18:06.058285Z"
    }
   },
   "outputs": [
    {
     "data": {
      "text/plain": [
       "array([[ 7.21640491e-04,  9.99801105e-01,  1.30294190e-02,\n",
       "         1.50814711e-02, -1.11556357e-04],\n",
       "       [ 7.62665550e-01, -7.77757544e-03, -1.68186136e-01,\n",
       "         6.24292671e-01, -1.59013577e-02]])"
      ]
     },
     "execution_count": 72,
     "metadata": {},
     "output_type": "execute_result"
    }
   ],
   "source": [
    "pca.components_"
   ]
  },
  {
   "cell_type": "markdown",
   "metadata": {},
   "source": [
    "## Scale the value. Each feature should be centered (zero mean) and with unit variance"
   ]
  },
  {
   "cell_type": "code",
   "execution_count": 73,
   "metadata": {
    "ExecuteTime": {
     "end_time": "2021-12-04T19:19:29.125323Z",
     "start_time": "2021-12-04T19:19:29.107331Z"
    }
   },
   "outputs": [],
   "source": [
    "from sklearn.preprocessing import StandardScaler"
   ]
  },
  {
   "cell_type": "code",
   "execution_count": 74,
   "metadata": {
    "ExecuteTime": {
     "end_time": "2021-12-04T19:20:17.738534Z",
     "start_time": "2021-12-04T19:20:17.717590Z"
    }
   },
   "outputs": [],
   "source": [
    "scaler = StandardScaler()\n",
    "X_scaled = scaler.fit_transform(df)"
   ]
  },
  {
   "cell_type": "markdown",
   "metadata": {},
   "source": [
    "## Analysis - perform PCA with 4 components and print their explained variance_ratio"
   ]
  },
  {
   "cell_type": "code",
   "execution_count": 76,
   "metadata": {
    "ExecuteTime": {
     "end_time": "2021-12-04T19:23:04.142873Z",
     "start_time": "2021-12-04T19:23:04.120933Z"
    }
   },
   "outputs": [
    {
     "data": {
      "text/plain": [
       "array([[ 1.39797860e+00, -5.70202830e-01,  3.17098906e+00,\n",
       "        -1.47882225e-01],\n",
       "       [ 6.98441719e-01, -6.60323027e-01,  2.76324344e+00,\n",
       "        -1.74197091e-02],\n",
       "       [ 3.86423418e-01, -3.03174277e-01,  2.44338252e+00,\n",
       "        -3.72376153e-01],\n",
       "       [-2.79685107e+00, -4.57200636e-01,  3.39153917e-01,\n",
       "         6.78807342e-01],\n",
       "       [-2.96508498e+00, -3.13239549e-01,  4.39177663e-01,\n",
       "         6.75017959e-01],\n",
       "       [-3.20805666e+00, -1.50593088e-01,  7.02226077e-01,\n",
       "         7.60167144e-01],\n",
       "       [-3.24574765e+00, -4.28538502e-01,  2.63601234e-01,\n",
       "         8.00589850e-01],\n",
       "       [-3.47439215e+00, -4.30484674e-01,  3.17448888e-01,\n",
       "         9.15608388e-01],\n",
       "       [-3.87378247e-01, -1.83392416e+00, -1.42660251e+00,\n",
       "        -5.72069556e-01],\n",
       "       [-4.90944668e-01, -1.97717961e+00, -8.31749988e-01,\n",
       "        -1.39113948e-01],\n",
       "       [-8.76197157e-01, -1.85649490e+00, -1.44976536e+00,\n",
       "        -4.18805069e-01],\n",
       "       [-5.32840512e-01, -1.85671318e+00, -1.37188173e+00,\n",
       "        -5.05807626e-01],\n",
       "       [-8.92341736e-01, -1.62433882e+00, -7.91648797e-01,\n",
       "        -4.01540494e-01],\n",
       "       [ 1.21813886e-01, -6.59112304e-01,  1.18249189e+00,\n",
       "        -6.93265089e-01],\n",
       "       [ 5.59345088e-02, -8.01733513e-01,  1.46731548e+00,\n",
       "        -5.08069906e-01],\n",
       "       [ 8.86061064e-02, -9.13767375e-01,  1.52623919e+00,\n",
       "        -3.52608688e-01],\n",
       "       [ 2.31057247e-01, -6.57990714e-01,  1.64522286e+00,\n",
       "        -5.98861846e-01],\n",
       "       [ 1.81998159e-01, -9.69619184e-01,  8.94948529e-01,\n",
       "        -5.56753793e-01],\n",
       "       [-3.41138718e-01, -1.62756013e+00, -1.29788285e-01,\n",
       "        -2.75437245e-01],\n",
       "       [-4.20307667e-01, -1.66687705e+00, -4.01989966e-01,\n",
       "        -3.38295844e-01],\n",
       "       [-2.84745358e-01, -1.69880427e+00, -5.60937423e-01,\n",
       "        -4.89967678e-01],\n",
       "       [-3.82982523e-01, -1.54180565e+00, -3.22774231e-01,\n",
       "        -4.93694395e-01],\n",
       "       [-8.23800493e-01, -1.66817501e+00, -5.93838222e-01,\n",
       "        -4.46705772e-01],\n",
       "       [-1.85134643e-03, -1.81021787e+00, -8.76375674e-01,\n",
       "        -6.06598842e-01],\n",
       "       [ 4.01380800e+00, -9.17571491e-01, -2.66554150e-01,\n",
       "         8.93767194e-01],\n",
       "       [ 4.22461346e+00, -1.11885020e+00, -2.03427515e-01,\n",
       "         1.13842770e+00],\n",
       "       [ 4.58307707e+00, -1.28993621e+00, -1.74344145e-02,\n",
       "         1.25234500e+00],\n",
       "       [ 1.34553892e+00,  2.16550366e-01, -5.33138039e-01,\n",
       "        -2.41616919e-01],\n",
       "       [-5.93711126e-01,  6.74366927e-01,  4.54805867e-01,\n",
       "         2.66233631e-01],\n",
       "       [-2.87596085e-01,  2.93789737e-03, -6.16636156e-01,\n",
       "         3.49150442e-01],\n",
       "       [-1.52395677e-01,  9.54478302e-02, -3.86338941e-01,\n",
       "         2.89840480e-01],\n",
       "       [ 1.01126769e+00, -5.16906222e-01, -7.84989239e-01,\n",
       "         5.33795850e-01],\n",
       "       [-2.40959206e-01, -1.49251442e-01, -3.77668533e-01,\n",
       "         6.26842885e-01],\n",
       "       [ 8.35921887e-01,  1.89030445e-01,  8.15236498e-02,\n",
       "         2.39771911e-01],\n",
       "       [ 2.22089578e-01,  1.95150132e-01,  1.31595670e-01,\n",
       "         9.12126616e-02],\n",
       "       [ 1.89881870e-02,  4.43741411e-01, -4.89154520e-03,\n",
       "        -3.55666027e-03],\n",
       "       [-1.28161340e-02,  2.80672010e-01, -6.79611677e-02,\n",
       "         2.33891157e-01],\n",
       "       [-1.42809530e-01, -3.74218936e-02, -2.94375586e-01,\n",
       "         4.08711068e-01],\n",
       "       [ 8.35515942e-02,  2.25948779e-01, -2.04354351e-01,\n",
       "         1.36315274e-01],\n",
       "       [-4.43093887e-01,  5.06283929e-01,  5.68220864e-02,\n",
       "         1.67045123e-01],\n",
       "       [-1.71101993e-01,  1.67326216e-01, -2.65218739e-01,\n",
       "         2.56610489e-01],\n",
       "       [ 6.99627881e-01, -8.47903623e-02, -4.78347109e-01,\n",
       "         1.61492055e-01],\n",
       "       [-3.26376727e-01, -1.79007219e-01, -6.36180763e-01,\n",
       "         4.59321048e-01],\n",
       "       [ 1.76693094e+00,  1.64824420e+00, -2.98248619e-01,\n",
       "        -5.47447629e-01],\n",
       "       [ 1.92672039e+00,  1.50644059e+00, -5.62170165e-01,\n",
       "        -5.83840206e-01],\n",
       "       [ 1.19434158e+00,  1.31453934e+00, -2.66759380e-01,\n",
       "         2.25455617e-03],\n",
       "       [ 2.01400735e+00,  1.43392098e+00, -4.05427943e-01,\n",
       "        -3.15015769e-01],\n",
       "       [ 1.56844834e+00,  1.33927453e+00, -3.75327820e-01,\n",
       "        -1.79025912e-01],\n",
       "       [ 1.47929195e+00,  1.51406954e+00, -4.30300033e-01,\n",
       "        -5.49152949e-01],\n",
       "       [-5.60133333e-01,  2.06646780e+00, -4.65316441e-01,\n",
       "        -3.69782766e-01],\n",
       "       [-5.93755052e-01,  1.97096184e+00, -7.94702631e-02,\n",
       "        -8.52010202e-02],\n",
       "       [-1.05063011e+00,  1.80792038e+00, -1.38738341e-02,\n",
       "         2.00910712e-01],\n",
       "       [-8.98644865e-01,  1.96553927e+00, -1.50072604e-01,\n",
       "        -7.49083866e-02],\n",
       "       [-7.05181660e-01,  1.88452967e+00, -4.52694535e-01,\n",
       "        -2.47446181e-01],\n",
       "       [-5.66329866e-01,  2.04131699e+00, -1.04481198e-01,\n",
       "        -3.26009476e-01],\n",
       "       [-7.73204886e-01,  1.69979284e+00,  1.68759331e-03,\n",
       "         1.50666810e-01],\n",
       "       [-9.07817073e-01,  1.93925989e+00, -2.84134839e-01,\n",
       "        -1.37704319e-01],\n",
       "       [ 7.54810970e-02,  1.64286322e+00, -1.95973381e-01,\n",
       "         8.11103587e-03],\n",
       "       [-6.74741399e-01,  1.99920835e+00,  9.72438561e-02,\n",
       "        -1.00925690e-01]])"
      ]
     },
     "execution_count": 76,
     "metadata": {},
     "output_type": "execute_result"
    }
   ],
   "source": [
    "pca = PCA(n_components=4)\n",
    "pca.fit_transform(X_scaled)"
   ]
  },
  {
   "cell_type": "code",
   "execution_count": 77,
   "metadata": {
    "ExecuteTime": {
     "end_time": "2021-12-04T19:23:15.912571Z",
     "start_time": "2021-12-04T19:23:15.895581Z"
    }
   },
   "outputs": [
    {
     "data": {
      "text/plain": [
       "array([0.46714596, 0.31485849, 0.16064024, 0.04624694])"
      ]
     },
     "execution_count": 77,
     "metadata": {},
     "output_type": "execute_result"
    }
   ],
   "source": [
    "pca.explained_variance_ratio_"
   ]
  },
  {
   "cell_type": "code",
   "execution_count": null,
   "metadata": {},
   "outputs": [],
   "source": []
  }
 ],
 "metadata": {
  "colab": {
   "name": "Unsupervised Learning Bootcamp Graded Hands-on Exercise.ipynb",
   "provenance": []
  },
  "kernelspec": {
   "display_name": "Python 3 (ipykernel)",
   "language": "python",
   "name": "python3"
  },
  "language_info": {
   "codemirror_mode": {
    "name": "ipython",
    "version": 3
   },
   "file_extension": ".py",
   "mimetype": "text/x-python",
   "name": "python",
   "nbconvert_exporter": "python",
   "pygments_lexer": "ipython3",
   "version": "3.8.11"
  },
  "toc": {
   "base_numbering": 1,
   "nav_menu": {},
   "number_sections": true,
   "sideBar": true,
   "skip_h1_title": false,
   "title_cell": "Table of Contents",
   "title_sidebar": "Contents",
   "toc_cell": false,
   "toc_position": {},
   "toc_section_display": true,
   "toc_window_display": false
  },
  "varInspector": {
   "cols": {
    "lenName": 16,
    "lenType": 16,
    "lenVar": 40
   },
   "kernels_config": {
    "python": {
     "delete_cmd_postfix": "",
     "delete_cmd_prefix": "del ",
     "library": "var_list.py",
     "varRefreshCmd": "print(var_dic_list())"
    },
    "r": {
     "delete_cmd_postfix": ") ",
     "delete_cmd_prefix": "rm(",
     "library": "var_list.r",
     "varRefreshCmd": "cat(var_dic_list()) "
    }
   },
   "types_to_exclude": [
    "module",
    "function",
    "builtin_function_or_method",
    "instance",
    "_Feature"
   ],
   "window_display": false
  }
 },
 "nbformat": 4,
 "nbformat_minor": 1
}
