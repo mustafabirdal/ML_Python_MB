{
 "cells": [
  {
   "cell_type": "code",
   "execution_count": 1,
   "id": "269c9ea5",
   "metadata": {},
   "outputs": [],
   "source": [
    "# Making the imports\n",
    "import numpy as np\n",
    "import pandas as pd\n",
    "import matplotlib.pyplot as plt\n",
    "plt.rcParams['figure.figsize'] = (12.0, 9.0)\n",
    "\n",
    "# Preprocessing Input data\n",
    "df = pd.read_csv('https://raw.githubusercontent.com/chasinginfinity/ml-from-scratch/master/02%20Linear%20Regression%20using%20Gradient%20Descent/data.csv')\n",
    "df.columns=[\"x\",\"y\"]"
   ]
  },
  {
   "cell_type": "code",
   "execution_count": 151,
   "id": "d6171cd8",
   "metadata": {},
   "outputs": [
    {
     "name": "stdout",
     "output_type": "stream",
     "text": [
      "1.4796491688889395 0.10148121494753734\n"
     ]
    }
   ],
   "source": [
    "# Building the model\n",
    "m = 0\n",
    "c = 0\n",
    "\n",
    "L = 0.0001  # The learning Rate\n",
    "epochs = 1000  # The number of iterations to perform gradient descent\n",
    "\n",
    "n = float(len(X)) # Number of elements in X\n",
    "\n",
    "# Performing Gradient Descent \n",
    "for i in range(epochs): \n",
    "    Y_pred = m*df.x + c  # The current predicted value of Y\n",
    "    D_m = (-2/n) * sum(df.x * (df.y - Y_pred))  # Derivative wrt m\n",
    "    D_c = (-2/n) * sum(df.y - Y_pred)  # Derivative wrt c\n",
    "    m = m - L * D_m  # Update m\n",
    "    c = c - L * D_c  # Update c\n",
    "    \n",
    "print (m, c)"
   ]
  },
  {
   "cell_type": "code",
   "execution_count": 179,
   "id": "445015b4",
   "metadata": {},
   "outputs": [
    {
     "data": {
      "text/plain": [
       "1.287357370010931"
      ]
     },
     "execution_count": 179,
     "metadata": {},
     "output_type": "execute_result"
    }
   ],
   "source": [
    "df[\"x_xmean\"] = df.x-df.x.mean()\n",
    "df[\"y_ymean\"] = df.y-df.y.mean()\n",
    "df[\"x_y_mean\"] = df.x_xmean * df.y_ymean\n",
    "m = df.x_y_mean.sum()/((df.x_xmean**2).sum())\n",
    "m"
   ]
  },
  {
   "cell_type": "code",
   "execution_count": 180,
   "id": "7cc95923",
   "metadata": {},
   "outputs": [
    {
     "data": {
      "text/plain": [
       "9.908606190326509"
      ]
     },
     "execution_count": 180,
     "metadata": {},
     "output_type": "execute_result"
    }
   ],
   "source": [
    "c = df.y.mean()-(m*df.x.mean())\n",
    "c"
   ]
  },
  {
   "cell_type": "code",
   "execution_count": 182,
   "id": "1db479e0",
   "metadata": {},
   "outputs": [
    {
     "name": "stdout",
     "output_type": "stream",
     "text": [
      "86.90958016513902\n",
      "87.23092513368739\n"
     ]
    }
   ],
   "source": [
    "print(df.x[3]*m + c)\n",
    "print(df.y[3])"
   ]
  },
  {
   "cell_type": "code",
   "execution_count": 167,
   "id": "59c3eda9",
   "metadata": {},
   "outputs": [
    {
     "data": {
      "text/html": [
       "<table class=\"simpletable\">\n",
       "<caption>OLS Regression Results</caption>\n",
       "<tr>\n",
       "  <th>Dep. Variable:</th>            <td>y</td>        <th>  R-squared:         </th> <td>   0.587</td>\n",
       "</tr>\n",
       "<tr>\n",
       "  <th>Model:</th>                   <td>OLS</td>       <th>  Adj. R-squared:    </th> <td>   0.583</td>\n",
       "</tr>\n",
       "<tr>\n",
       "  <th>Method:</th>             <td>Least Squares</td>  <th>  F-statistic:       </th> <td>   138.0</td>\n",
       "</tr>\n",
       "<tr>\n",
       "  <th>Date:</th>             <td>Mon, 02 Aug 2021</td> <th>  Prob (F-statistic):</th> <td>2.43e-20</td>\n",
       "</tr>\n",
       "<tr>\n",
       "  <th>Time:</th>                 <td>03:13:36</td>     <th>  Log-Likelihood:    </th> <td> -372.00</td>\n",
       "</tr>\n",
       "<tr>\n",
       "  <th>No. Observations:</th>      <td>    99</td>      <th>  AIC:               </th> <td>   748.0</td>\n",
       "</tr>\n",
       "<tr>\n",
       "  <th>Df Residuals:</th>          <td>    97</td>      <th>  BIC:               </th> <td>   753.2</td>\n",
       "</tr>\n",
       "<tr>\n",
       "  <th>Df Model:</th>              <td>     1</td>      <th>                     </th>     <td> </td>   \n",
       "</tr>\n",
       "<tr>\n",
       "  <th>Covariance Type:</th>      <td>nonrobust</td>    <th>                     </th>     <td> </td>   \n",
       "</tr>\n",
       "</table>\n",
       "<table class=\"simpletable\">\n",
       "<tr>\n",
       "    <td></td>       <th>coef</th>     <th>std err</th>      <th>t</th>      <th>P>|t|</th>  <th>[0.025</th>    <th>0.975]</th>  \n",
       "</tr>\n",
       "<tr>\n",
       "  <th>const</th> <td>    9.9086</td> <td>    5.486</td> <td>    1.806</td> <td> 0.074</td> <td>   -0.980</td> <td>   20.797</td>\n",
       "</tr>\n",
       "<tr>\n",
       "  <th>x</th>     <td>    1.2874</td> <td>    0.110</td> <td>   11.746</td> <td> 0.000</td> <td>    1.070</td> <td>    1.505</td>\n",
       "</tr>\n",
       "</table>\n",
       "<table class=\"simpletable\">\n",
       "<tr>\n",
       "  <th>Omnibus:</th>       <td> 0.774</td> <th>  Durbin-Watson:     </th> <td>   2.206</td>\n",
       "</tr>\n",
       "<tr>\n",
       "  <th>Prob(Omnibus):</th> <td> 0.679</td> <th>  Jarque-Bera (JB):  </th> <td>   0.895</td>\n",
       "</tr>\n",
       "<tr>\n",
       "  <th>Skew:</th>          <td> 0.179</td> <th>  Prob(JB):          </th> <td>   0.639</td>\n",
       "</tr>\n",
       "<tr>\n",
       "  <th>Kurtosis:</th>      <td> 2.703</td> <th>  Cond. No.          </th> <td>    261.</td>\n",
       "</tr>\n",
       "</table><br/><br/>Notes:<br/>[1] Standard Errors assume that the covariance matrix of the errors is correctly specified."
      ],
      "text/plain": [
       "<class 'statsmodels.iolib.summary.Summary'>\n",
       "\"\"\"\n",
       "                            OLS Regression Results                            \n",
       "==============================================================================\n",
       "Dep. Variable:                      y   R-squared:                       0.587\n",
       "Model:                            OLS   Adj. R-squared:                  0.583\n",
       "Method:                 Least Squares   F-statistic:                     138.0\n",
       "Date:                Mon, 02 Aug 2021   Prob (F-statistic):           2.43e-20\n",
       "Time:                        03:13:36   Log-Likelihood:                -372.00\n",
       "No. Observations:                  99   AIC:                             748.0\n",
       "Df Residuals:                      97   BIC:                             753.2\n",
       "Df Model:                           1                                         \n",
       "Covariance Type:            nonrobust                                         \n",
       "==============================================================================\n",
       "                 coef    std err          t      P>|t|      [0.025      0.975]\n",
       "------------------------------------------------------------------------------\n",
       "const          9.9086      5.486      1.806      0.074      -0.980      20.797\n",
       "x              1.2874      0.110     11.746      0.000       1.070       1.505\n",
       "==============================================================================\n",
       "Omnibus:                        0.774   Durbin-Watson:                   2.206\n",
       "Prob(Omnibus):                  0.679   Jarque-Bera (JB):                0.895\n",
       "Skew:                           0.179   Prob(JB):                        0.639\n",
       "Kurtosis:                       2.703   Cond. No.                         261.\n",
       "==============================================================================\n",
       "\n",
       "Notes:\n",
       "[1] Standard Errors assume that the covariance matrix of the errors is correctly specified.\n",
       "\"\"\""
      ]
     },
     "execution_count": 167,
     "metadata": {},
     "output_type": "execute_result"
    }
   ],
   "source": [
    "import statsmodels.api as sm\n",
    "X = sm.add_constant(df.x)\n",
    "lm = sm.OLS(df.y,X) \n",
    "model = lm.fit()\n",
    "model.summary()"
   ]
  },
  {
   "cell_type": "code",
   "execution_count": null,
   "id": "ca99e842",
   "metadata": {},
   "outputs": [],
   "source": []
  },
  {
   "cell_type": "code",
   "execution_count": 2,
   "id": "d50067f3",
   "metadata": {
    "scrolled": false
   },
   "outputs": [
    {
     "data": {
      "image/png": "[encoded data removed]",
      "text/plain": [
       "<Figure size 864x648 with 1 Axes>"
      ]
     },
     "metadata": {
      "needs_background": "light"
     },
     "output_type": "display_data"
    }
   ],
   "source": [
    "im = plt.imread(\"vida2.PNG\")\n",
    "implot = plt.imshow(im)\n",
    "\n",
    "# put a blue dot at (10, 20)\n",
    "plt.scatter([10], [20])\n",
    "\n",
    "# put a red dot, size 40, at 2 locations:\n",
    "plt.scatter(x=[30, 40], y=[50, 60], c='r', s=40)\n",
    "\n",
    "plt.show()"
   ]
  },
  {
   "cell_type": "code",
   "execution_count": null,
   "id": "d34fd45c",
   "metadata": {},
   "outputs": [],
   "source": []
  }
 ],
 "metadata": {
  "kernelspec": {
   "display_name": "Python 3 (ipykernel)",
   "language": "python",
   "name": "python3"
  },
  "language_info": {
   "codemirror_mode": {
    "name": "ipython",
    "version": 3
   },
   "file_extension": ".py",
   "mimetype": "text/x-python",
   "name": "python",
   "nbconvert_exporter": "python",
   "pygments_lexer": "ipython3",
   "version": "3.8.11"
  },
  "toc": {
   "base_numbering": 1,
   "nav_menu": {},
   "number_sections": true,
   "sideBar": true,
   "skip_h1_title": false,
   "title_cell": "Table of Contents",
   "title_sidebar": "Contents",
   "toc_cell": false,
   "toc_position": {},
   "toc_section_display": true,
   "toc_window_display": false
  },
  "varInspector": {
   "cols": {
    "lenName": 16,
    "lenType": 16,
    "lenVar": 40
   },
   "kernels_config": {
    "python": {
     "delete_cmd_postfix": "",
     "delete_cmd_prefix": "del ",
     "library": "var_list.py",
     "varRefreshCmd": "print(var_dic_list())"
    },
    "r": {
     "delete_cmd_postfix": ") ",
     "delete_cmd_prefix": "rm(",
     "library": "var_list.r",
     "varRefreshCmd": "cat(var_dic_list()) "
    }
   },
   "types_to_exclude": [
    "module",
    "function",
    "builtin_function_or_method",
    "instance",
    "_Feature"
   ],
   "window_display": false
  }
 },
 "nbformat": 4,
 "nbformat_minor": 5
}
