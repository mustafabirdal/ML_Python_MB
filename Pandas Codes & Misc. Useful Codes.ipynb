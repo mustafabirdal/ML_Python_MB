{
 "cells": [
  {
   "cell_type": "code",
   "execution_count": 1,
   "id": "89f75043",
   "metadata": {
    "ExecuteTime": {
     "end_time": "2021-11-15T21:25:38.038461Z",
     "start_time": "2021-11-15T21:25:28.480372Z"
    }
   },
   "outputs": [],
   "source": [
    "import pandas as pd\n",
    "import numpy as np\n",
    "import seaborn as sns\n",
    "import matplotlib.pyplot as plt\n",
    "from IPython import display #Markdown'da resim gösterebilmek için\n",
    "%matplotlib inline\n",
    "##################################\n",
    "\n",
    "\n",
    "# sonuçlarda çıkan warning'leri ignore etmek için;\n",
    "from warnings import filterwarnings\n",
    "filterwarnings(\"ignore\")\n",
    "##################################\n",
    "\n",
    "\n",
    "#dataframe'deki değerlerin 3 basamaklı float formunda gösterilmesi için;\n",
    "from IPython.display import display\n",
    "pd.options.display.float_format = '{:.3f}'.format\n",
    "##################################"
   ]
  },
  {
   "cell_type": "markdown",
   "id": "8cc2d913",
   "metadata": {},
   "source": [
    "# Pandas Kodları"
   ]
  },
  {
   "cell_type": "markdown",
   "id": "1908c65c",
   "metadata": {},
   "source": [
    "## Data Import"
   ]
  },
  {
   "cell_type": "markdown",
   "id": "d3a57d76",
   "metadata": {},
   "source": [
    "### read_csv()"
   ]
  },
  {
   "cell_type": "markdown",
   "id": "29992efe",
   "metadata": {},
   "source": [
    "#### Çalışma Klasöründen"
   ]
  },
  {
   "cell_type": "code",
   "execution_count": 2,
   "id": "630196b4",
   "metadata": {
    "ExecuteTime": {
     "end_time": "2021-11-15T21:29:18.309095Z",
     "start_time": "2021-11-15T21:29:18.097152Z"
    }
   },
   "outputs": [],
   "source": [
    "# Çalışma klasöründeki dosyayı çağırabilirsin\n",
    "df = pd.read_csv(\"train.csv\")"
   ]
  },
  {
   "cell_type": "markdown",
   "id": "1e35abff",
   "metadata": {},
   "source": [
    "#### Büyük Boyutlu Verilerde Kısa Sürede Import\n",
    "* Öncelikle şunu söylemeliyim ki verileri \"csv\" dosyası yapıp import edersen diğer dosya türlerine göre daha az zaman harcarsın  \n",
    "\n",
    "* Bununla birlikte verileri import ederken \"chunk\" yöntemi kullanmak da diğer bir kolay yöntemdir. Aşağıda nasıl yapıldığı gösterilmiştir."
   ]
  },
  {
   "cell_type": "code",
   "execution_count": null,
   "id": "9d822bd2",
   "metadata": {},
   "outputs": [],
   "source": [
    "mylist = []\n",
    "\n",
    "# Verinin büyüklüğüne göre chunksize parametresini değiştirebilirsin. \n",
    "# Chunksize veriyi kaç satırlık parçalara böleceğini gösterir\n",
    "for chunk in pd.read_csv('train.csv',chunksize=100, sep=\";\"):\n",
    "    mylist.append(chunk)\n",
    "    \n",
    "df = pd.concat(mylist, axis= 0)\n",
    "del mylist"
   ]
  },
  {
   "cell_type": "markdown",
   "id": "aa0269b8",
   "metadata": {},
   "source": [
    "#### Bilgisayardaki Herhangi Bir Klasörden"
   ]
  },
  {
   "cell_type": "code",
   "execution_count": 4,
   "id": "cf72d148",
   "metadata": {
    "ExecuteTime": {
     "end_time": "2021-11-15T21:31:26.804016Z",
     "start_time": "2021-11-15T21:31:26.740515Z"
    }
   },
   "outputs": [
    {
     "data": {
      "text/html": [
       "<div>\n",
       "<style scoped>\n",
       "    .dataframe tbody tr th:only-of-type {\n",
       "        vertical-align: middle;\n",
       "    }\n",
       "\n",
       "    .dataframe tbody tr th {\n",
       "        vertical-align: top;\n",
       "    }\n",
       "\n",
       "    .dataframe thead th {\n",
       "        text-align: right;\n",
       "    }\n",
       "</style>\n",
       "<table border=\"1\" class=\"dataframe\">\n",
       "  <thead>\n",
       "    <tr style=\"text-align: right;\">\n",
       "      <th></th>\n",
       "      <th>PassengerId</th>\n",
       "      <th>Survived</th>\n",
       "      <th>Pclass</th>\n",
       "      <th>Name</th>\n",
       "      <th>Sex</th>\n",
       "      <th>Age</th>\n",
       "      <th>SibSp</th>\n",
       "      <th>Parch</th>\n",
       "      <th>Ticket</th>\n",
       "      <th>Fare</th>\n",
       "      <th>Cabin</th>\n",
       "      <th>Embarked</th>\n",
       "    </tr>\n",
       "  </thead>\n",
       "  <tbody>\n",
       "    <tr>\n",
       "      <th>0</th>\n",
       "      <td>1</td>\n",
       "      <td>0</td>\n",
       "      <td>3</td>\n",
       "      <td>Braund, Mr. Owen Harris</td>\n",
       "      <td>male</td>\n",
       "      <td>22.000</td>\n",
       "      <td>1</td>\n",
       "      <td>0</td>\n",
       "      <td>A/5 21171</td>\n",
       "      <td>7.250</td>\n",
       "      <td>NaN</td>\n",
       "      <td>S</td>\n",
       "    </tr>\n",
       "    <tr>\n",
       "      <th>1</th>\n",
       "      <td>2</td>\n",
       "      <td>1</td>\n",
       "      <td>1</td>\n",
       "      <td>Cumings, Mrs. John Bradley (Florence Briggs Th...</td>\n",
       "      <td>female</td>\n",
       "      <td>38.000</td>\n",
       "      <td>1</td>\n",
       "      <td>0</td>\n",
       "      <td>PC 17599</td>\n",
       "      <td>71.283</td>\n",
       "      <td>C85</td>\n",
       "      <td>C</td>\n",
       "    </tr>\n",
       "    <tr>\n",
       "      <th>2</th>\n",
       "      <td>3</td>\n",
       "      <td>1</td>\n",
       "      <td>3</td>\n",
       "      <td>Heikkinen, Miss. Laina</td>\n",
       "      <td>female</td>\n",
       "      <td>26.000</td>\n",
       "      <td>0</td>\n",
       "      <td>0</td>\n",
       "      <td>STON/O2. 3101282</td>\n",
       "      <td>7.925</td>\n",
       "      <td>NaN</td>\n",
       "      <td>S</td>\n",
       "    </tr>\n",
       "    <tr>\n",
       "      <th>3</th>\n",
       "      <td>4</td>\n",
       "      <td>1</td>\n",
       "      <td>1</td>\n",
       "      <td>Futrelle, Mrs. Jacques Heath (Lily May Peel)</td>\n",
       "      <td>female</td>\n",
       "      <td>35.000</td>\n",
       "      <td>1</td>\n",
       "      <td>0</td>\n",
       "      <td>113803</td>\n",
       "      <td>53.100</td>\n",
       "      <td>C123</td>\n",
       "      <td>S</td>\n",
       "    </tr>\n",
       "    <tr>\n",
       "      <th>4</th>\n",
       "      <td>5</td>\n",
       "      <td>0</td>\n",
       "      <td>3</td>\n",
       "      <td>Allen, Mr. William Henry</td>\n",
       "      <td>male</td>\n",
       "      <td>35.000</td>\n",
       "      <td>0</td>\n",
       "      <td>0</td>\n",
       "      <td>373450</td>\n",
       "      <td>8.050</td>\n",
       "      <td>NaN</td>\n",
       "      <td>S</td>\n",
       "    </tr>\n",
       "    <tr>\n",
       "      <th>...</th>\n",
       "      <td>...</td>\n",
       "      <td>...</td>\n",
       "      <td>...</td>\n",
       "      <td>...</td>\n",
       "      <td>...</td>\n",
       "      <td>...</td>\n",
       "      <td>...</td>\n",
       "      <td>...</td>\n",
       "      <td>...</td>\n",
       "      <td>...</td>\n",
       "      <td>...</td>\n",
       "      <td>...</td>\n",
       "    </tr>\n",
       "    <tr>\n",
       "      <th>886</th>\n",
       "      <td>887</td>\n",
       "      <td>0</td>\n",
       "      <td>2</td>\n",
       "      <td>Montvila, Rev. Juozas</td>\n",
       "      <td>male</td>\n",
       "      <td>27.000</td>\n",
       "      <td>0</td>\n",
       "      <td>0</td>\n",
       "      <td>211536</td>\n",
       "      <td>13.000</td>\n",
       "      <td>NaN</td>\n",
       "      <td>S</td>\n",
       "    </tr>\n",
       "    <tr>\n",
       "      <th>887</th>\n",
       "      <td>888</td>\n",
       "      <td>1</td>\n",
       "      <td>1</td>\n",
       "      <td>Graham, Miss. Margaret Edith</td>\n",
       "      <td>female</td>\n",
       "      <td>19.000</td>\n",
       "      <td>0</td>\n",
       "      <td>0</td>\n",
       "      <td>112053</td>\n",
       "      <td>30.000</td>\n",
       "      <td>B42</td>\n",
       "      <td>S</td>\n",
       "    </tr>\n",
       "    <tr>\n",
       "      <th>888</th>\n",
       "      <td>889</td>\n",
       "      <td>0</td>\n",
       "      <td>3</td>\n",
       "      <td>Johnston, Miss. Catherine Helen \"Carrie\"</td>\n",
       "      <td>female</td>\n",
       "      <td>NaN</td>\n",
       "      <td>1</td>\n",
       "      <td>2</td>\n",
       "      <td>W./C. 6607</td>\n",
       "      <td>23.450</td>\n",
       "      <td>NaN</td>\n",
       "      <td>S</td>\n",
       "    </tr>\n",
       "    <tr>\n",
       "      <th>889</th>\n",
       "      <td>890</td>\n",
       "      <td>1</td>\n",
       "      <td>1</td>\n",
       "      <td>Behr, Mr. Karl Howell</td>\n",
       "      <td>male</td>\n",
       "      <td>26.000</td>\n",
       "      <td>0</td>\n",
       "      <td>0</td>\n",
       "      <td>111369</td>\n",
       "      <td>30.000</td>\n",
       "      <td>C148</td>\n",
       "      <td>C</td>\n",
       "    </tr>\n",
       "    <tr>\n",
       "      <th>890</th>\n",
       "      <td>891</td>\n",
       "      <td>0</td>\n",
       "      <td>3</td>\n",
       "      <td>Dooley, Mr. Patrick</td>\n",
       "      <td>male</td>\n",
       "      <td>32.000</td>\n",
       "      <td>0</td>\n",
       "      <td>0</td>\n",
       "      <td>370376</td>\n",
       "      <td>7.750</td>\n",
       "      <td>NaN</td>\n",
       "      <td>Q</td>\n",
       "    </tr>\n",
       "  </tbody>\n",
       "</table>\n",
       "<p>891 rows × 12 columns</p>\n",
       "</div>"
      ],
      "text/plain": [
       "     PassengerId  Survived  Pclass  \\\n",
       "0              1         0       3   \n",
       "1              2         1       1   \n",
       "2              3         1       3   \n",
       "3              4         1       1   \n",
       "4              5         0       3   \n",
       "..           ...       ...     ...   \n",
       "886          887         0       2   \n",
       "887          888         1       1   \n",
       "888          889         0       3   \n",
       "889          890         1       1   \n",
       "890          891         0       3   \n",
       "\n",
       "                                                  Name     Sex    Age  SibSp  \\\n",
       "0                              Braund, Mr. Owen Harris    male 22.000      1   \n",
       "1    Cumings, Mrs. John Bradley (Florence Briggs Th...  female 38.000      1   \n",
       "2                               Heikkinen, Miss. Laina  female 26.000      0   \n",
       "3         Futrelle, Mrs. Jacques Heath (Lily May Peel)  female 35.000      1   \n",
       "4                             Allen, Mr. William Henry    male 35.000      0   \n",
       "..                                                 ...     ...    ...    ...   \n",
       "886                              Montvila, Rev. Juozas    male 27.000      0   \n",
       "887                       Graham, Miss. Margaret Edith  female 19.000      0   \n",
       "888           Johnston, Miss. Catherine Helen \"Carrie\"  female    NaN      1   \n",
       "889                              Behr, Mr. Karl Howell    male 26.000      0   \n",
       "890                                Dooley, Mr. Patrick    male 32.000      0   \n",
       "\n",
       "     Parch            Ticket   Fare Cabin Embarked  \n",
       "0        0         A/5 21171  7.250   NaN        S  \n",
       "1        0          PC 17599 71.283   C85        C  \n",
       "2        0  STON/O2. 3101282  7.925   NaN        S  \n",
       "3        0            113803 53.100  C123        S  \n",
       "4        0            373450  8.050   NaN        S  \n",
       "..     ...               ...    ...   ...      ...  \n",
       "886      0            211536 13.000   NaN        S  \n",
       "887      0            112053 30.000   B42        S  \n",
       "888      2        W./C. 6607 23.450   NaN        S  \n",
       "889      0            111369 30.000  C148        C  \n",
       "890      0            370376  7.750   NaN        Q  \n",
       "\n",
       "[891 rows x 12 columns]"
      ]
     },
     "execution_count": 4,
     "metadata": {},
     "output_type": "execute_result"
    }
   ],
   "source": [
    "# PC'nizdeki bir dosyanın linkini girerek de dosyayı import edebilirsin\n",
    "# Dosyanın bulunduğu path'in önüne \"r\" harfini koymalısın.\n",
    "df = pd.read_csv(r\"C:\\Users\\musta\\Desktop\\ds_MB\\train.csv\")\n",
    "df"
   ]
  },
  {
   "cell_type": "markdown",
   "id": "62a57e6a",
   "metadata": {},
   "source": [
    "#### URL Aracılığıyla CSV Dosyası Alma"
   ]
  },
  {
   "cell_type": "code",
   "execution_count": 5,
   "id": "0228bfc2",
   "metadata": {
    "ExecuteTime": {
     "end_time": "2021-11-15T21:32:13.559530Z",
     "start_time": "2021-11-15T21:32:11.519990Z"
    }
   },
   "outputs": [
    {
     "data": {
      "text/html": [
       "<div>\n",
       "<style scoped>\n",
       "    .dataframe tbody tr th:only-of-type {\n",
       "        vertical-align: middle;\n",
       "    }\n",
       "\n",
       "    .dataframe tbody tr th {\n",
       "        vertical-align: top;\n",
       "    }\n",
       "\n",
       "    .dataframe thead th {\n",
       "        text-align: right;\n",
       "    }\n",
       "</style>\n",
       "<table border=\"1\" class=\"dataframe\">\n",
       "  <thead>\n",
       "    <tr style=\"text-align: right;\">\n",
       "      <th></th>\n",
       "      <th>index</th>\n",
       "      <th>carat</th>\n",
       "      <th>cut</th>\n",
       "      <th>color</th>\n",
       "      <th>clarity</th>\n",
       "      <th>depth</th>\n",
       "      <th>table</th>\n",
       "      <th>x</th>\n",
       "      <th>y</th>\n",
       "      <th>z</th>\n",
       "      <th>price</th>\n",
       "    </tr>\n",
       "  </thead>\n",
       "  <tbody>\n",
       "    <tr>\n",
       "      <th>0</th>\n",
       "      <td>1</td>\n",
       "      <td>0.230</td>\n",
       "      <td>Ideal</td>\n",
       "      <td>E</td>\n",
       "      <td>SI2</td>\n",
       "      <td>61.500</td>\n",
       "      <td>55.000</td>\n",
       "      <td>3.950</td>\n",
       "      <td>3.980</td>\n",
       "      <td>2.430</td>\n",
       "      <td>Very Low</td>\n",
       "    </tr>\n",
       "    <tr>\n",
       "      <th>1</th>\n",
       "      <td>2</td>\n",
       "      <td>0.210</td>\n",
       "      <td>Premium</td>\n",
       "      <td>E</td>\n",
       "      <td>SI1</td>\n",
       "      <td>59.800</td>\n",
       "      <td>61.000</td>\n",
       "      <td>3.890</td>\n",
       "      <td>3.840</td>\n",
       "      <td>2.310</td>\n",
       "      <td>Very Low</td>\n",
       "    </tr>\n",
       "    <tr>\n",
       "      <th>2</th>\n",
       "      <td>3</td>\n",
       "      <td>0.230</td>\n",
       "      <td>Good</td>\n",
       "      <td>E</td>\n",
       "      <td>VS1</td>\n",
       "      <td>56.900</td>\n",
       "      <td>65.000</td>\n",
       "      <td>4.050</td>\n",
       "      <td>4.070</td>\n",
       "      <td>2.310</td>\n",
       "      <td>Very Low</td>\n",
       "    </tr>\n",
       "    <tr>\n",
       "      <th>3</th>\n",
       "      <td>4</td>\n",
       "      <td>0.290</td>\n",
       "      <td>Premium</td>\n",
       "      <td>I</td>\n",
       "      <td>VS2</td>\n",
       "      <td>62.400</td>\n",
       "      <td>58.000</td>\n",
       "      <td>4.200</td>\n",
       "      <td>4.230</td>\n",
       "      <td>2.630</td>\n",
       "      <td>Very Low</td>\n",
       "    </tr>\n",
       "    <tr>\n",
       "      <th>4</th>\n",
       "      <td>5</td>\n",
       "      <td>0.310</td>\n",
       "      <td>Good</td>\n",
       "      <td>J</td>\n",
       "      <td>SI2</td>\n",
       "      <td>63.300</td>\n",
       "      <td>58.000</td>\n",
       "      <td>4.340</td>\n",
       "      <td>4.350</td>\n",
       "      <td>2.750</td>\n",
       "      <td>Very Low</td>\n",
       "    </tr>\n",
       "    <tr>\n",
       "      <th>...</th>\n",
       "      <td>...</td>\n",
       "      <td>...</td>\n",
       "      <td>...</td>\n",
       "      <td>...</td>\n",
       "      <td>...</td>\n",
       "      <td>...</td>\n",
       "      <td>...</td>\n",
       "      <td>...</td>\n",
       "      <td>...</td>\n",
       "      <td>...</td>\n",
       "      <td>...</td>\n",
       "    </tr>\n",
       "    <tr>\n",
       "      <th>53935</th>\n",
       "      <td>53936</td>\n",
       "      <td>0.720</td>\n",
       "      <td>Ideal</td>\n",
       "      <td>D</td>\n",
       "      <td>SI1</td>\n",
       "      <td>60.800</td>\n",
       "      <td>57.000</td>\n",
       "      <td>5.750</td>\n",
       "      <td>5.760</td>\n",
       "      <td>3.500</td>\n",
       "      <td>Very Low</td>\n",
       "    </tr>\n",
       "    <tr>\n",
       "      <th>53936</th>\n",
       "      <td>53937</td>\n",
       "      <td>0.720</td>\n",
       "      <td>Good</td>\n",
       "      <td>D</td>\n",
       "      <td>SI1</td>\n",
       "      <td>63.100</td>\n",
       "      <td>55.000</td>\n",
       "      <td>5.690</td>\n",
       "      <td>5.750</td>\n",
       "      <td>3.610</td>\n",
       "      <td>Very Low</td>\n",
       "    </tr>\n",
       "    <tr>\n",
       "      <th>53937</th>\n",
       "      <td>53938</td>\n",
       "      <td>0.700</td>\n",
       "      <td>Very Good</td>\n",
       "      <td>D</td>\n",
       "      <td>SI1</td>\n",
       "      <td>62.800</td>\n",
       "      <td>60.000</td>\n",
       "      <td>5.660</td>\n",
       "      <td>5.680</td>\n",
       "      <td>3.560</td>\n",
       "      <td>Very Low</td>\n",
       "    </tr>\n",
       "    <tr>\n",
       "      <th>53938</th>\n",
       "      <td>53939</td>\n",
       "      <td>0.860</td>\n",
       "      <td>Premium</td>\n",
       "      <td>H</td>\n",
       "      <td>SI2</td>\n",
       "      <td>61.000</td>\n",
       "      <td>58.000</td>\n",
       "      <td>6.150</td>\n",
       "      <td>6.120</td>\n",
       "      <td>3.740</td>\n",
       "      <td>Very Low</td>\n",
       "    </tr>\n",
       "    <tr>\n",
       "      <th>53939</th>\n",
       "      <td>53940</td>\n",
       "      <td>0.750</td>\n",
       "      <td>Ideal</td>\n",
       "      <td>D</td>\n",
       "      <td>SI2</td>\n",
       "      <td>62.200</td>\n",
       "      <td>55.000</td>\n",
       "      <td>5.830</td>\n",
       "      <td>5.870</td>\n",
       "      <td>3.640</td>\n",
       "      <td>Very Low</td>\n",
       "    </tr>\n",
       "  </tbody>\n",
       "</table>\n",
       "<p>53940 rows × 11 columns</p>\n",
       "</div>"
      ],
      "text/plain": [
       "       index  carat        cut color clarity  depth  table     x     y     z  \\\n",
       "0          1  0.230      Ideal     E     SI2 61.500 55.000 3.950 3.980 2.430   \n",
       "1          2  0.210    Premium     E     SI1 59.800 61.000 3.890 3.840 2.310   \n",
       "2          3  0.230       Good     E     VS1 56.900 65.000 4.050 4.070 2.310   \n",
       "3          4  0.290    Premium     I     VS2 62.400 58.000 4.200 4.230 2.630   \n",
       "4          5  0.310       Good     J     SI2 63.300 58.000 4.340 4.350 2.750   \n",
       "...      ...    ...        ...   ...     ...    ...    ...   ...   ...   ...   \n",
       "53935  53936  0.720      Ideal     D     SI1 60.800 57.000 5.750 5.760 3.500   \n",
       "53936  53937  0.720       Good     D     SI1 63.100 55.000 5.690 5.750 3.610   \n",
       "53937  53938  0.700  Very Good     D     SI1 62.800 60.000 5.660 5.680 3.560   \n",
       "53938  53939  0.860    Premium     H     SI2 61.000 58.000 6.150 6.120 3.740   \n",
       "53939  53940  0.750      Ideal     D     SI2 62.200 55.000 5.830 5.870 3.640   \n",
       "\n",
       "          price  \n",
       "0      Very Low  \n",
       "1      Very Low  \n",
       "2      Very Low  \n",
       "3      Very Low  \n",
       "4      Very Low  \n",
       "...         ...  \n",
       "53935  Very Low  \n",
       "53936  Very Low  \n",
       "53937  Very Low  \n",
       "53938  Very Low  \n",
       "53939  Very Low  \n",
       "\n",
       "[53940 rows x 11 columns]"
      ]
     },
     "execution_count": 5,
     "metadata": {},
     "output_type": "execute_result"
    }
   ],
   "source": [
    "dfurl = pd.read_csv(\n",
    "    \"https://raw.githubusercontent.com/mustafabirdal/GlobalAIHubMachineLearningCourse/main/Final%20Project/diamonds.csv\")\n",
    "dfurl"
   ]
  },
  {
   "cell_type": "markdown",
   "id": "5bc81287",
   "metadata": {},
   "source": [
    "#### Sadece İstenen Kolonların Alınması"
   ]
  },
  {
   "cell_type": "code",
   "execution_count": 6,
   "id": "f606a7e8",
   "metadata": {
    "ExecuteTime": {
     "end_time": "2021-11-15T21:32:54.347022Z",
     "start_time": "2021-11-15T21:32:54.308125Z"
    }
   },
   "outputs": [
    {
     "data": {
      "text/html": [
       "<div>\n",
       "<style scoped>\n",
       "    .dataframe tbody tr th:only-of-type {\n",
       "        vertical-align: middle;\n",
       "    }\n",
       "\n",
       "    .dataframe tbody tr th {\n",
       "        vertical-align: top;\n",
       "    }\n",
       "\n",
       "    .dataframe thead th {\n",
       "        text-align: right;\n",
       "    }\n",
       "</style>\n",
       "<table border=\"1\" class=\"dataframe\">\n",
       "  <thead>\n",
       "    <tr style=\"text-align: right;\">\n",
       "      <th></th>\n",
       "      <th>Survived</th>\n",
       "      <th>Embarked</th>\n",
       "    </tr>\n",
       "  </thead>\n",
       "  <tbody>\n",
       "    <tr>\n",
       "      <th>0</th>\n",
       "      <td>0</td>\n",
       "      <td>S</td>\n",
       "    </tr>\n",
       "    <tr>\n",
       "      <th>1</th>\n",
       "      <td>1</td>\n",
       "      <td>C</td>\n",
       "    </tr>\n",
       "    <tr>\n",
       "      <th>2</th>\n",
       "      <td>1</td>\n",
       "      <td>S</td>\n",
       "    </tr>\n",
       "    <tr>\n",
       "      <th>3</th>\n",
       "      <td>1</td>\n",
       "      <td>S</td>\n",
       "    </tr>\n",
       "    <tr>\n",
       "      <th>4</th>\n",
       "      <td>0</td>\n",
       "      <td>S</td>\n",
       "    </tr>\n",
       "    <tr>\n",
       "      <th>...</th>\n",
       "      <td>...</td>\n",
       "      <td>...</td>\n",
       "    </tr>\n",
       "    <tr>\n",
       "      <th>886</th>\n",
       "      <td>0</td>\n",
       "      <td>S</td>\n",
       "    </tr>\n",
       "    <tr>\n",
       "      <th>887</th>\n",
       "      <td>1</td>\n",
       "      <td>S</td>\n",
       "    </tr>\n",
       "    <tr>\n",
       "      <th>888</th>\n",
       "      <td>0</td>\n",
       "      <td>S</td>\n",
       "    </tr>\n",
       "    <tr>\n",
       "      <th>889</th>\n",
       "      <td>1</td>\n",
       "      <td>C</td>\n",
       "    </tr>\n",
       "    <tr>\n",
       "      <th>890</th>\n",
       "      <td>0</td>\n",
       "      <td>Q</td>\n",
       "    </tr>\n",
       "  </tbody>\n",
       "</table>\n",
       "<p>891 rows × 2 columns</p>\n",
       "</div>"
      ],
      "text/plain": [
       "     Survived Embarked\n",
       "0           0        S\n",
       "1           1        C\n",
       "2           1        S\n",
       "3           1        S\n",
       "4           0        S\n",
       "..        ...      ...\n",
       "886         0        S\n",
       "887         1        S\n",
       "888         0        S\n",
       "889         1        C\n",
       "890         0        Q\n",
       "\n",
       "[891 rows x 2 columns]"
      ]
     },
     "execution_count": 6,
     "metadata": {},
     "output_type": "execute_result"
    }
   ],
   "source": [
    "dfc = pd.read_csv(\"train.csv\",usecols=[\"Embarked\",\"Survived\"])\n",
    "dfc"
   ]
  },
  {
   "cell_type": "markdown",
   "id": "02cce83d",
   "metadata": {},
   "source": [
    "### pd.read_html()\n",
    "* Bu kod ile bir URL'de bulunan herhangi bir tabloyu alabiliyorsun.  \n",
    "\n",
    "\n",
    "* **URL'de birden çok tablo varsa, sadece almak istediğiniz tabloda olan bir kolon ismini \"match\" argümanının yanına yazarak istediğin tabloyu import edebilirsin.**"
   ]
  },
  {
   "cell_type": "code",
   "execution_count": 7,
   "id": "4ed3c9bf",
   "metadata": {
    "ExecuteTime": {
     "end_time": "2021-11-15T21:33:37.474019Z",
     "start_time": "2021-11-15T21:33:31.889892Z"
    },
    "scrolled": true
   },
   "outputs": [
    {
     "data": {
      "text/html": [
       "<div>\n",
       "<style scoped>\n",
       "    .dataframe tbody tr th:only-of-type {\n",
       "        vertical-align: middle;\n",
       "    }\n",
       "\n",
       "    .dataframe tbody tr th {\n",
       "        vertical-align: top;\n",
       "    }\n",
       "\n",
       "    .dataframe thead th {\n",
       "        text-align: right;\n",
       "    }\n",
       "</style>\n",
       "<table border=\"1\" class=\"dataframe\">\n",
       "  <thead>\n",
       "    <tr style=\"text-align: right;\">\n",
       "      <th></th>\n",
       "      <th>Year</th>\n",
       "      <th>Nominal GDP(billions USD)</th>\n",
       "      <th>GDP per capita(USD)</th>\n",
       "      <th>GDP growth(real)</th>\n",
       "      <th>Inflation rate(in %)</th>\n",
       "      <th>Unemployment(in %)</th>\n",
       "      <th>Budget balance(in % of GDP)[116]</th>\n",
       "      <th>Government debt held by public(in % of GDP)[117]</th>\n",
       "      <th>Current accountbalance(in % of GDP)</th>\n",
       "    </tr>\n",
       "  </thead>\n",
       "  <tbody>\n",
       "    <tr>\n",
       "      <th>0</th>\n",
       "      <td>2020 (est)</td>\n",
       "      <td>20934.000</td>\n",
       "      <td>57589</td>\n",
       "      <td>−3.5 %</td>\n",
       "      <td>0.62 %</td>\n",
       "      <td>11.1 %</td>\n",
       "      <td>−n/a %</td>\n",
       "      <td>79.9 %</td>\n",
       "      <td>−n/a %</td>\n",
       "    </tr>\n",
       "    <tr>\n",
       "      <th>1</th>\n",
       "      <td>2019</td>\n",
       "      <td>21439.000</td>\n",
       "      <td>64674</td>\n",
       "      <td>2.2 %</td>\n",
       "      <td>1.8 %</td>\n",
       "      <td>3.5 %</td>\n",
       "      <td>−4.6 %</td>\n",
       "      <td>78.9 %</td>\n",
       "      <td>NaN</td>\n",
       "    </tr>\n",
       "    <tr>\n",
       "      <th>2</th>\n",
       "      <td>2018</td>\n",
       "      <td>20611.200</td>\n",
       "      <td>62869</td>\n",
       "      <td>3.0 %</td>\n",
       "      <td>2.4 %</td>\n",
       "      <td>3.9 %</td>\n",
       "      <td>−3.8 %</td>\n",
       "      <td>77.8 %</td>\n",
       "      <td>−2.4 %</td>\n",
       "    </tr>\n",
       "    <tr>\n",
       "      <th>3</th>\n",
       "      <td>2017</td>\n",
       "      <td>19519.400</td>\n",
       "      <td>60000</td>\n",
       "      <td>2.3%</td>\n",
       "      <td>2.1 %</td>\n",
       "      <td>4.4 %</td>\n",
       "      <td>−3.4 %</td>\n",
       "      <td>76.1%</td>\n",
       "      <td>−2.3 %</td>\n",
       "    </tr>\n",
       "    <tr>\n",
       "      <th>4</th>\n",
       "      <td>2016</td>\n",
       "      <td>18715.000</td>\n",
       "      <td>57878</td>\n",
       "      <td>1.7 %</td>\n",
       "      <td>1.3 %</td>\n",
       "      <td>4.9 %</td>\n",
       "      <td>−3.1 %</td>\n",
       "      <td>76.4%</td>\n",
       "      <td>−2.3 %</td>\n",
       "    </tr>\n",
       "    <tr>\n",
       "      <th>5</th>\n",
       "      <td>2015</td>\n",
       "      <td>18224.800</td>\n",
       "      <td>56770</td>\n",
       "      <td>3.1 %</td>\n",
       "      <td>0.1 %</td>\n",
       "      <td>5.3 %</td>\n",
       "      <td>−2.4 %</td>\n",
       "      <td>72.5%</td>\n",
       "      <td>−2.2 %</td>\n",
       "    </tr>\n",
       "    <tr>\n",
       "      <th>6</th>\n",
       "      <td>2014</td>\n",
       "      <td>17521.300</td>\n",
       "      <td>54993</td>\n",
       "      <td>2.5 %</td>\n",
       "      <td>1.6 %</td>\n",
       "      <td>6.2 %</td>\n",
       "      <td>−2.8 %</td>\n",
       "      <td>73.7%</td>\n",
       "      <td>−2.1 %</td>\n",
       "    </tr>\n",
       "    <tr>\n",
       "      <th>7</th>\n",
       "      <td>2013</td>\n",
       "      <td>16784.900</td>\n",
       "      <td>52737</td>\n",
       "      <td>1.8 %</td>\n",
       "      <td>1.5 %</td>\n",
       "      <td>7.4 %</td>\n",
       "      <td>−4.0 %</td>\n",
       "      <td>72.2%</td>\n",
       "      <td>−2.1 %</td>\n",
       "    </tr>\n",
       "    <tr>\n",
       "      <th>8</th>\n",
       "      <td>2012</td>\n",
       "      <td>16155.300</td>\n",
       "      <td>51404</td>\n",
       "      <td>2.2 %</td>\n",
       "      <td>2.1 %</td>\n",
       "      <td>8.1 %</td>\n",
       "      <td>−5.7 %</td>\n",
       "      <td>70.3%</td>\n",
       "      <td>−2.6 %</td>\n",
       "    </tr>\n",
       "    <tr>\n",
       "      <th>9</th>\n",
       "      <td>2011</td>\n",
       "      <td>15517.900</td>\n",
       "      <td>49736</td>\n",
       "      <td>1.6 %</td>\n",
       "      <td>3.1 %</td>\n",
       "      <td>8.9 %</td>\n",
       "      <td>−7.3 %</td>\n",
       "      <td>65.8%</td>\n",
       "      <td>−2.9 %</td>\n",
       "    </tr>\n",
       "    <tr>\n",
       "      <th>10</th>\n",
       "      <td>2010</td>\n",
       "      <td>14964.400</td>\n",
       "      <td>48311</td>\n",
       "      <td>2.6 %</td>\n",
       "      <td>1.6 %</td>\n",
       "      <td>9.6 %</td>\n",
       "      <td>−8.6 %</td>\n",
       "      <td>60.8%</td>\n",
       "      <td>−2.9 %</td>\n",
       "    </tr>\n",
       "    <tr>\n",
       "      <th>11</th>\n",
       "      <td>2009</td>\n",
       "      <td>14418.700</td>\n",
       "      <td>46909</td>\n",
       "      <td>−2.5 %</td>\n",
       "      <td>−0.3 %</td>\n",
       "      <td>9.3 %</td>\n",
       "      <td>−9.8 %</td>\n",
       "      <td>52.3%</td>\n",
       "      <td>−2.6 %</td>\n",
       "    </tr>\n",
       "    <tr>\n",
       "      <th>12</th>\n",
       "      <td>2008</td>\n",
       "      <td>14718.600</td>\n",
       "      <td>48302</td>\n",
       "      <td>−0.2 %</td>\n",
       "      <td>3.8 %</td>\n",
       "      <td>5.8 %</td>\n",
       "      <td>−4.6 %</td>\n",
       "      <td>39.4%</td>\n",
       "      <td>−4.6 %</td>\n",
       "    </tr>\n",
       "    <tr>\n",
       "      <th>13</th>\n",
       "      <td>2007</td>\n",
       "      <td>14477.600</td>\n",
       "      <td>47955</td>\n",
       "      <td>1.9 %</td>\n",
       "      <td>2.9 %</td>\n",
       "      <td>4.6 %</td>\n",
       "      <td>−0.8 %</td>\n",
       "      <td>35.2%</td>\n",
       "      <td>−4.9 %</td>\n",
       "    </tr>\n",
       "    <tr>\n",
       "      <th>14</th>\n",
       "      <td>2006</td>\n",
       "      <td>13855.900</td>\n",
       "      <td>46352</td>\n",
       "      <td>2.9 %</td>\n",
       "      <td>3.2 %</td>\n",
       "      <td>4.6 %</td>\n",
       "      <td>−0.1 %</td>\n",
       "      <td>35.4%</td>\n",
       "      <td>−5.8 %</td>\n",
       "    </tr>\n",
       "    <tr>\n",
       "      <th>15</th>\n",
       "      <td>2005</td>\n",
       "      <td>13093.700</td>\n",
       "      <td>44218</td>\n",
       "      <td>3.3 %</td>\n",
       "      <td>3.4 %</td>\n",
       "      <td>5.1 %</td>\n",
       "      <td>−1.2 %</td>\n",
       "      <td>35.8%</td>\n",
       "      <td>−5.7 %</td>\n",
       "    </tr>\n",
       "    <tr>\n",
       "      <th>16</th>\n",
       "      <td>2004</td>\n",
       "      <td>12274.900</td>\n",
       "      <td>41838</td>\n",
       "      <td>3.8 %</td>\n",
       "      <td>2.7 %</td>\n",
       "      <td>5.5 %</td>\n",
       "      <td>−2.3 %</td>\n",
       "      <td>35.7%</td>\n",
       "      <td>−5.1 %</td>\n",
       "    </tr>\n",
       "    <tr>\n",
       "      <th>17</th>\n",
       "      <td>2003</td>\n",
       "      <td>11510.700</td>\n",
       "      <td>39592</td>\n",
       "      <td>2.8 %</td>\n",
       "      <td>2.3 %</td>\n",
       "      <td>6.0 %</td>\n",
       "      <td>−2.8 %</td>\n",
       "      <td>34.7%</td>\n",
       "      <td>−4.1 %</td>\n",
       "    </tr>\n",
       "    <tr>\n",
       "      <th>18</th>\n",
       "      <td>2002</td>\n",
       "      <td>10977.500</td>\n",
       "      <td>38114</td>\n",
       "      <td>1.8 %</td>\n",
       "      <td>1.6 %</td>\n",
       "      <td>5.8 %</td>\n",
       "      <td>−1.7 %</td>\n",
       "      <td>32.7%</td>\n",
       "      <td>−4.1 %</td>\n",
       "    </tr>\n",
       "    <tr>\n",
       "      <th>19</th>\n",
       "      <td>2001</td>\n",
       "      <td>10621.900</td>\n",
       "      <td>37241</td>\n",
       "      <td>1.0 %</td>\n",
       "      <td>2.8 %</td>\n",
       "      <td>4.7 %</td>\n",
       "      <td>1.2 %</td>\n",
       "      <td>31.5%</td>\n",
       "      <td>−3.7 %</td>\n",
       "    </tr>\n",
       "    <tr>\n",
       "      <th>20</th>\n",
       "      <td>2000</td>\n",
       "      <td>10284.800</td>\n",
       "      <td>36433</td>\n",
       "      <td>4.1 %</td>\n",
       "      <td>3.4 %</td>\n",
       "      <td>4.0 %</td>\n",
       "      <td>2.3 %</td>\n",
       "      <td>33.7%</td>\n",
       "      <td>−3.9 %</td>\n",
       "    </tr>\n",
       "    <tr>\n",
       "      <th>21</th>\n",
       "      <td>1999</td>\n",
       "      <td>9660.600</td>\n",
       "      <td>34602</td>\n",
       "      <td>4.8 %</td>\n",
       "      <td>2.2 %</td>\n",
       "      <td>4.2 %</td>\n",
       "      <td>1.3 %</td>\n",
       "      <td>38.3%</td>\n",
       "      <td>−3.0 %</td>\n",
       "    </tr>\n",
       "    <tr>\n",
       "      <th>22</th>\n",
       "      <td>1998</td>\n",
       "      <td>9089.200</td>\n",
       "      <td>32929</td>\n",
       "      <td>4.5 %</td>\n",
       "      <td>1.5 %</td>\n",
       "      <td>4.5 %</td>\n",
       "      <td>0.8 %</td>\n",
       "      <td>41.7%</td>\n",
       "      <td>−2.4 %</td>\n",
       "    </tr>\n",
       "    <tr>\n",
       "      <th>23</th>\n",
       "      <td>1997</td>\n",
       "      <td>8608.500</td>\n",
       "      <td>31554</td>\n",
       "      <td>4.4 %</td>\n",
       "      <td>2.3 %</td>\n",
       "      <td>4.9 %</td>\n",
       "      <td>−0.2 %</td>\n",
       "      <td>44.6%</td>\n",
       "      <td>−1.6 %</td>\n",
       "    </tr>\n",
       "    <tr>\n",
       "      <th>24</th>\n",
       "      <td>1996</td>\n",
       "      <td>8100.100</td>\n",
       "      <td>30047</td>\n",
       "      <td>3.7 %</td>\n",
       "      <td>2.9 %</td>\n",
       "      <td>5.4 %</td>\n",
       "      <td>−1.3 %</td>\n",
       "      <td>47.0%</td>\n",
       "      <td>−1.5 %</td>\n",
       "    </tr>\n",
       "    <tr>\n",
       "      <th>25</th>\n",
       "      <td>1995</td>\n",
       "      <td>7664.100</td>\n",
       "      <td>28763</td>\n",
       "      <td>2.7 %</td>\n",
       "      <td>2.8 %</td>\n",
       "      <td>5.6 %</td>\n",
       "      <td>−2.1 %</td>\n",
       "      <td>47.7%</td>\n",
       "      <td>−1.5 %</td>\n",
       "    </tr>\n",
       "    <tr>\n",
       "      <th>26</th>\n",
       "      <td>1994</td>\n",
       "      <td>7308.800</td>\n",
       "      <td>27756</td>\n",
       "      <td>4.0 %</td>\n",
       "      <td>2.6 %</td>\n",
       "      <td>6.1 %</td>\n",
       "      <td>−2.8 %</td>\n",
       "      <td>47.8%</td>\n",
       "      <td>−1.7 %</td>\n",
       "    </tr>\n",
       "    <tr>\n",
       "      <th>27</th>\n",
       "      <td>1993</td>\n",
       "      <td>6878.700</td>\n",
       "      <td>26442</td>\n",
       "      <td>2.7 %</td>\n",
       "      <td>3.0 %</td>\n",
       "      <td>6.9 %</td>\n",
       "      <td>−3.7 %</td>\n",
       "      <td>47.9%</td>\n",
       "      <td>−1.2 %</td>\n",
       "    </tr>\n",
       "    <tr>\n",
       "      <th>28</th>\n",
       "      <td>1992</td>\n",
       "      <td>6539.300</td>\n",
       "      <td>25467</td>\n",
       "      <td>3.6 %</td>\n",
       "      <td>3.0 %</td>\n",
       "      <td>7.5 %</td>\n",
       "      <td>−4.5 %</td>\n",
       "      <td>46.8%</td>\n",
       "      <td>−0.8 %</td>\n",
       "    </tr>\n",
       "    <tr>\n",
       "      <th>29</th>\n",
       "      <td>1991</td>\n",
       "      <td>6174.100</td>\n",
       "      <td>24366</td>\n",
       "      <td>−0.1 %</td>\n",
       "      <td>4.2 %</td>\n",
       "      <td>6.9 %</td>\n",
       "      <td>−4.4 %</td>\n",
       "      <td>44.1%</td>\n",
       "      <td>0.0 %</td>\n",
       "    </tr>\n",
       "    <tr>\n",
       "      <th>30</th>\n",
       "      <td>1990</td>\n",
       "      <td>5979.600</td>\n",
       "      <td>23914</td>\n",
       "      <td>1.9 %</td>\n",
       "      <td>5.4 %</td>\n",
       "      <td>5.6 %</td>\n",
       "      <td>−3.7 %</td>\n",
       "      <td>40.9%</td>\n",
       "      <td>−1.3 %</td>\n",
       "    </tr>\n",
       "    <tr>\n",
       "      <th>31</th>\n",
       "      <td>1989</td>\n",
       "      <td>5657.700</td>\n",
       "      <td>22879</td>\n",
       "      <td>3.7 %</td>\n",
       "      <td>4.8 %</td>\n",
       "      <td>5.3 %</td>\n",
       "      <td>−2.7 %</td>\n",
       "      <td>39.4%</td>\n",
       "      <td>−1.8 %</td>\n",
       "    </tr>\n",
       "    <tr>\n",
       "      <th>32</th>\n",
       "      <td>1988</td>\n",
       "      <td>5252.600</td>\n",
       "      <td>21442</td>\n",
       "      <td>4.2 %</td>\n",
       "      <td>4.1 %</td>\n",
       "      <td>5.5 %</td>\n",
       "      <td>−3.0 %</td>\n",
       "      <td>39.9%</td>\n",
       "      <td>−2.3 %</td>\n",
       "    </tr>\n",
       "    <tr>\n",
       "      <th>33</th>\n",
       "      <td>1987</td>\n",
       "      <td>4870.200</td>\n",
       "      <td>20063</td>\n",
       "      <td>3.5 %</td>\n",
       "      <td>3.6 %</td>\n",
       "      <td>6.2 %</td>\n",
       "      <td>−3.1 %</td>\n",
       "      <td>39.6%</td>\n",
       "      <td>−3.3 %</td>\n",
       "    </tr>\n",
       "    <tr>\n",
       "      <th>34</th>\n",
       "      <td>1986</td>\n",
       "      <td>4590.100</td>\n",
       "      <td>19078</td>\n",
       "      <td>3.5 %</td>\n",
       "      <td>1.9 %</td>\n",
       "      <td>7.0 %</td>\n",
       "      <td>−4.8 %</td>\n",
       "      <td>38.5%</td>\n",
       "      <td>−3.2 %</td>\n",
       "    </tr>\n",
       "    <tr>\n",
       "      <th>35</th>\n",
       "      <td>1985</td>\n",
       "      <td>4346.800</td>\n",
       "      <td>18232</td>\n",
       "      <td>4.2 %</td>\n",
       "      <td>3.5 %</td>\n",
       "      <td>7.2 %</td>\n",
       "      <td>−4.9 %</td>\n",
       "      <td>35.3%</td>\n",
       "      <td>−2.7 %</td>\n",
       "    </tr>\n",
       "    <tr>\n",
       "      <th>36</th>\n",
       "      <td>1984</td>\n",
       "      <td>4040.700</td>\n",
       "      <td>17099</td>\n",
       "      <td>7.2 %</td>\n",
       "      <td>4.4 %</td>\n",
       "      <td>7.5 %</td>\n",
       "      <td>−4.6 %</td>\n",
       "      <td>33.1%</td>\n",
       "      <td>−2.3 %</td>\n",
       "    </tr>\n",
       "    <tr>\n",
       "      <th>37</th>\n",
       "      <td>1983</td>\n",
       "      <td>3638.100</td>\n",
       "      <td>15531</td>\n",
       "      <td>4.6 %</td>\n",
       "      <td>3.2 %</td>\n",
       "      <td>9.6 %</td>\n",
       "      <td>−5.7 %</td>\n",
       "      <td>32.2%</td>\n",
       "      <td>−1.1 %</td>\n",
       "    </tr>\n",
       "    <tr>\n",
       "      <th>38</th>\n",
       "      <td>1982</td>\n",
       "      <td>3345.000</td>\n",
       "      <td>14410</td>\n",
       "      <td>−1.8 %</td>\n",
       "      <td>6.2 %</td>\n",
       "      <td>9.7 %</td>\n",
       "      <td>−3.8 %</td>\n",
       "      <td>27.9%</td>\n",
       "      <td>−0.2 %</td>\n",
       "    </tr>\n",
       "    <tr>\n",
       "      <th>39</th>\n",
       "      <td>1981</td>\n",
       "      <td>3211.000</td>\n",
       "      <td>13966</td>\n",
       "      <td>2.6 %</td>\n",
       "      <td>10.4 %</td>\n",
       "      <td>7.6 %</td>\n",
       "      <td>−2.5 %</td>\n",
       "      <td>25.2%</td>\n",
       "      <td>0.2 %</td>\n",
       "    </tr>\n",
       "    <tr>\n",
       "      <th>40</th>\n",
       "      <td>1980</td>\n",
       "      <td>2862.500</td>\n",
       "      <td>12575</td>\n",
       "      <td>−0.2 %</td>\n",
       "      <td>13.5 %</td>\n",
       "      <td>7.2 %</td>\n",
       "      <td>−2.6 %</td>\n",
       "      <td>25.5%</td>\n",
       "      <td>0.1 %</td>\n",
       "    </tr>\n",
       "  </tbody>\n",
       "</table>\n",
       "</div>"
      ],
      "text/plain": [
       "          Year  Nominal GDP(billions USD)  GDP per capita(USD)  \\\n",
       "0   2020 (est)                  20934.000                57589   \n",
       "1         2019                  21439.000                64674   \n",
       "2         2018                  20611.200                62869   \n",
       "3         2017                  19519.400                60000   \n",
       "4         2016                  18715.000                57878   \n",
       "5         2015                  18224.800                56770   \n",
       "6         2014                  17521.300                54993   \n",
       "7         2013                  16784.900                52737   \n",
       "8         2012                  16155.300                51404   \n",
       "9         2011                  15517.900                49736   \n",
       "10        2010                  14964.400                48311   \n",
       "11        2009                  14418.700                46909   \n",
       "12        2008                  14718.600                48302   \n",
       "13        2007                  14477.600                47955   \n",
       "14        2006                  13855.900                46352   \n",
       "15        2005                  13093.700                44218   \n",
       "16        2004                  12274.900                41838   \n",
       "17        2003                  11510.700                39592   \n",
       "18        2002                  10977.500                38114   \n",
       "19        2001                  10621.900                37241   \n",
       "20        2000                  10284.800                36433   \n",
       "21        1999                   9660.600                34602   \n",
       "22        1998                   9089.200                32929   \n",
       "23        1997                   8608.500                31554   \n",
       "24        1996                   8100.100                30047   \n",
       "25        1995                   7664.100                28763   \n",
       "26        1994                   7308.800                27756   \n",
       "27        1993                   6878.700                26442   \n",
       "28        1992                   6539.300                25467   \n",
       "29        1991                   6174.100                24366   \n",
       "30        1990                   5979.600                23914   \n",
       "31        1989                   5657.700                22879   \n",
       "32        1988                   5252.600                21442   \n",
       "33        1987                   4870.200                20063   \n",
       "34        1986                   4590.100                19078   \n",
       "35        1985                   4346.800                18232   \n",
       "36        1984                   4040.700                17099   \n",
       "37        1983                   3638.100                15531   \n",
       "38        1982                   3345.000                14410   \n",
       "39        1981                   3211.000                13966   \n",
       "40        1980                   2862.500                12575   \n",
       "\n",
       "   GDP growth(real) Inflation rate(in %) Unemployment(in %)  \\\n",
       "0            −3.5 %               0.62 %             11.1 %   \n",
       "1             2.2 %                1.8 %              3.5 %   \n",
       "2             3.0 %                2.4 %              3.9 %   \n",
       "3              2.3%                2.1 %              4.4 %   \n",
       "4             1.7 %                1.3 %              4.9 %   \n",
       "5             3.1 %                0.1 %              5.3 %   \n",
       "6             2.5 %                1.6 %              6.2 %   \n",
       "7             1.8 %                1.5 %              7.4 %   \n",
       "8             2.2 %                2.1 %              8.1 %   \n",
       "9             1.6 %                3.1 %              8.9 %   \n",
       "10            2.6 %                1.6 %              9.6 %   \n",
       "11           −2.5 %               −0.3 %              9.3 %   \n",
       "12           −0.2 %                3.8 %              5.8 %   \n",
       "13            1.9 %                2.9 %              4.6 %   \n",
       "14            2.9 %                3.2 %              4.6 %   \n",
       "15            3.3 %                3.4 %              5.1 %   \n",
       "16            3.8 %                2.7 %              5.5 %   \n",
       "17            2.8 %                2.3 %              6.0 %   \n",
       "18            1.8 %                1.6 %              5.8 %   \n",
       "19            1.0 %                2.8 %              4.7 %   \n",
       "20            4.1 %                3.4 %              4.0 %   \n",
       "21            4.8 %                2.2 %              4.2 %   \n",
       "22            4.5 %                1.5 %              4.5 %   \n",
       "23            4.4 %                2.3 %              4.9 %   \n",
       "24            3.7 %                2.9 %              5.4 %   \n",
       "25            2.7 %                2.8 %              5.6 %   \n",
       "26            4.0 %                2.6 %              6.1 %   \n",
       "27            2.7 %                3.0 %              6.9 %   \n",
       "28            3.6 %                3.0 %              7.5 %   \n",
       "29           −0.1 %                4.2 %              6.9 %   \n",
       "30            1.9 %                5.4 %              5.6 %   \n",
       "31            3.7 %                4.8 %              5.3 %   \n",
       "32            4.2 %                4.1 %              5.5 %   \n",
       "33            3.5 %                3.6 %              6.2 %   \n",
       "34            3.5 %                1.9 %              7.0 %   \n",
       "35            4.2 %                3.5 %              7.2 %   \n",
       "36            7.2 %                4.4 %              7.5 %   \n",
       "37            4.6 %                3.2 %              9.6 %   \n",
       "38           −1.8 %                6.2 %              9.7 %   \n",
       "39            2.6 %               10.4 %              7.6 %   \n",
       "40           −0.2 %               13.5 %              7.2 %   \n",
       "\n",
       "   Budget balance(in % of GDP)[116]  \\\n",
       "0                            −n/a %   \n",
       "1                            −4.6 %   \n",
       "2                            −3.8 %   \n",
       "3                            −3.4 %   \n",
       "4                            −3.1 %   \n",
       "5                            −2.4 %   \n",
       "6                            −2.8 %   \n",
       "7                            −4.0 %   \n",
       "8                            −5.7 %   \n",
       "9                            −7.3 %   \n",
       "10                           −8.6 %   \n",
       "11                           −9.8 %   \n",
       "12                           −4.6 %   \n",
       "13                           −0.8 %   \n",
       "14                           −0.1 %   \n",
       "15                           −1.2 %   \n",
       "16                           −2.3 %   \n",
       "17                           −2.8 %   \n",
       "18                           −1.7 %   \n",
       "19                            1.2 %   \n",
       "20                            2.3 %   \n",
       "21                            1.3 %   \n",
       "22                            0.8 %   \n",
       "23                           −0.2 %   \n",
       "24                           −1.3 %   \n",
       "25                           −2.1 %   \n",
       "26                           −2.8 %   \n",
       "27                           −3.7 %   \n",
       "28                           −4.5 %   \n",
       "29                           −4.4 %   \n",
       "30                           −3.7 %   \n",
       "31                           −2.7 %   \n",
       "32                           −3.0 %   \n",
       "33                           −3.1 %   \n",
       "34                           −4.8 %   \n",
       "35                           −4.9 %   \n",
       "36                           −4.6 %   \n",
       "37                           −5.7 %   \n",
       "38                           −3.8 %   \n",
       "39                           −2.5 %   \n",
       "40                           −2.6 %   \n",
       "\n",
       "   Government debt held by public(in % of GDP)[117]  \\\n",
       "0                                            79.9 %   \n",
       "1                                            78.9 %   \n",
       "2                                            77.8 %   \n",
       "3                                             76.1%   \n",
       "4                                             76.4%   \n",
       "5                                             72.5%   \n",
       "6                                             73.7%   \n",
       "7                                             72.2%   \n",
       "8                                             70.3%   \n",
       "9                                             65.8%   \n",
       "10                                            60.8%   \n",
       "11                                            52.3%   \n",
       "12                                            39.4%   \n",
       "13                                            35.2%   \n",
       "14                                            35.4%   \n",
       "15                                            35.8%   \n",
       "16                                            35.7%   \n",
       "17                                            34.7%   \n",
       "18                                            32.7%   \n",
       "19                                            31.5%   \n",
       "20                                            33.7%   \n",
       "21                                            38.3%   \n",
       "22                                            41.7%   \n",
       "23                                            44.6%   \n",
       "24                                            47.0%   \n",
       "25                                            47.7%   \n",
       "26                                            47.8%   \n",
       "27                                            47.9%   \n",
       "28                                            46.8%   \n",
       "29                                            44.1%   \n",
       "30                                            40.9%   \n",
       "31                                            39.4%   \n",
       "32                                            39.9%   \n",
       "33                                            39.6%   \n",
       "34                                            38.5%   \n",
       "35                                            35.3%   \n",
       "36                                            33.1%   \n",
       "37                                            32.2%   \n",
       "38                                            27.9%   \n",
       "39                                            25.2%   \n",
       "40                                            25.5%   \n",
       "\n",
       "   Current accountbalance(in % of GDP)  \n",
       "0                               −n/a %  \n",
       "1                                  NaN  \n",
       "2                               −2.4 %  \n",
       "3                               −2.3 %  \n",
       "4                               −2.3 %  \n",
       "5                               −2.2 %  \n",
       "6                               −2.1 %  \n",
       "7                               −2.1 %  \n",
       "8                               −2.6 %  \n",
       "9                               −2.9 %  \n",
       "10                              −2.9 %  \n",
       "11                              −2.6 %  \n",
       "12                              −4.6 %  \n",
       "13                              −4.9 %  \n",
       "14                              −5.8 %  \n",
       "15                              −5.7 %  \n",
       "16                              −5.1 %  \n",
       "17                              −4.1 %  \n",
       "18                              −4.1 %  \n",
       "19                              −3.7 %  \n",
       "20                              −3.9 %  \n",
       "21                              −3.0 %  \n",
       "22                              −2.4 %  \n",
       "23                              −1.6 %  \n",
       "24                              −1.5 %  \n",
       "25                              −1.5 %  \n",
       "26                              −1.7 %  \n",
       "27                              −1.2 %  \n",
       "28                              −0.8 %  \n",
       "29                               0.0 %  \n",
       "30                              −1.3 %  \n",
       "31                              −1.8 %  \n",
       "32                              −2.3 %  \n",
       "33                              −3.3 %  \n",
       "34                              −3.2 %  \n",
       "35                              −2.7 %  \n",
       "36                              −2.3 %  \n",
       "37                              −1.1 %  \n",
       "38                              −0.2 %  \n",
       "39                               0.2 %  \n",
       "40                               0.1 %  "
      ]
     },
     "execution_count": 7,
     "metadata": {},
     "output_type": "execute_result"
    }
   ],
   "source": [
    "dfhtml = pd.read_html(\"https://en.wikipedia.org/wiki/Economy_of_the_United_States#Road\",match=\"Nominal GDP\")\n",
    "\n",
    "#dfhtml nesnesi bir list olarak geri döndürülecektir. Onu bir dataframe yapmak için;\n",
    "dfhtml[0]"
   ]
  },
  {
   "cell_type": "code",
   "execution_count": 8,
   "id": "ce46a287",
   "metadata": {
    "ExecuteTime": {
     "end_time": "2021-11-15T21:33:45.106119Z",
     "start_time": "2021-11-15T21:33:44.797715Z"
    }
   },
   "outputs": [
    {
     "data": {
      "text/html": [
       "<div>\n",
       "<style scoped>\n",
       "    .dataframe tbody tr th:only-of-type {\n",
       "        vertical-align: middle;\n",
       "    }\n",
       "\n",
       "    .dataframe tbody tr th {\n",
       "        vertical-align: top;\n",
       "    }\n",
       "\n",
       "    .dataframe thead th {\n",
       "        text-align: right;\n",
       "    }\n",
       "</style>\n",
       "<table border=\"1\" class=\"dataframe\">\n",
       "  <thead>\n",
       "    <tr style=\"text-align: right;\">\n",
       "      <th></th>\n",
       "      <th>East</th>\n",
       "      <th>Unnamed: 1</th>\n",
       "      <th>Unnamed: 2</th>\n",
       "      <th>W</th>\n",
       "      <th>L</th>\n",
       "    </tr>\n",
       "  </thead>\n",
       "  <tbody>\n",
       "    <tr>\n",
       "      <th>0</th>\n",
       "      <td>WAS (1)</td>\n",
       "      <td>F</td>\n",
       "      <td>$</td>\n",
       "      <td>9</td>\n",
       "      <td>3</td>\n",
       "    </tr>\n",
       "    <tr>\n",
       "      <th>1</th>\n",
       "      <td>BRK (2)</td>\n",
       "      <td>F</td>\n",
       "      <td>$</td>\n",
       "      <td>10</td>\n",
       "      <td>4</td>\n",
       "    </tr>\n",
       "    <tr>\n",
       "      <th>2</th>\n",
       "      <td>CHI (3)</td>\n",
       "      <td>F</td>\n",
       "      <td>$</td>\n",
       "      <td>9</td>\n",
       "      <td>4</td>\n",
       "    </tr>\n",
       "    <tr>\n",
       "      <th>3</th>\n",
       "      <td>CLE (4)</td>\n",
       "      <td>F</td>\n",
       "      <td>$</td>\n",
       "      <td>9</td>\n",
       "      <td>5</td>\n",
       "    </tr>\n",
       "    <tr>\n",
       "      <th>4</th>\n",
       "      <td>MIA (5)</td>\n",
       "      <td>F</td>\n",
       "      <td>$</td>\n",
       "      <td>8</td>\n",
       "      <td>5</td>\n",
       "    </tr>\n",
       "    <tr>\n",
       "      <th>5</th>\n",
       "      <td>PHI (6)</td>\n",
       "      <td>F</td>\n",
       "      <td>$</td>\n",
       "      <td>8</td>\n",
       "      <td>6</td>\n",
       "    </tr>\n",
       "    <tr>\n",
       "      <th>6</th>\n",
       "      <td>NYK (7)</td>\n",
       "      <td>F</td>\n",
       "      <td>$</td>\n",
       "      <td>7</td>\n",
       "      <td>6</td>\n",
       "    </tr>\n",
       "    <tr>\n",
       "      <th>7</th>\n",
       "      <td>CHO (8)</td>\n",
       "      <td>F</td>\n",
       "      <td>$</td>\n",
       "      <td>8</td>\n",
       "      <td>7</td>\n",
       "    </tr>\n",
       "    <tr>\n",
       "      <th>8</th>\n",
       "      <td>TOR (9)</td>\n",
       "      <td>F</td>\n",
       "      <td>$</td>\n",
       "      <td>7</td>\n",
       "      <td>7</td>\n",
       "    </tr>\n",
       "    <tr>\n",
       "      <th>9</th>\n",
       "      <td>BOS (10)</td>\n",
       "      <td>F</td>\n",
       "      <td>$</td>\n",
       "      <td>6</td>\n",
       "      <td>7</td>\n",
       "    </tr>\n",
       "    <tr>\n",
       "      <th>10</th>\n",
       "      <td>MIL (11)</td>\n",
       "      <td>F</td>\n",
       "      <td>$</td>\n",
       "      <td>6</td>\n",
       "      <td>8</td>\n",
       "    </tr>\n",
       "    <tr>\n",
       "      <th>11</th>\n",
       "      <td>IND (12)</td>\n",
       "      <td>F</td>\n",
       "      <td>$</td>\n",
       "      <td>6</td>\n",
       "      <td>8</td>\n",
       "    </tr>\n",
       "    <tr>\n",
       "      <th>12</th>\n",
       "      <td>ATL (13)</td>\n",
       "      <td>F</td>\n",
       "      <td>$</td>\n",
       "      <td>5</td>\n",
       "      <td>9</td>\n",
       "    </tr>\n",
       "    <tr>\n",
       "      <th>13</th>\n",
       "      <td>DET (14)</td>\n",
       "      <td>F</td>\n",
       "      <td>$</td>\n",
       "      <td>3</td>\n",
       "      <td>9</td>\n",
       "    </tr>\n",
       "    <tr>\n",
       "      <th>14</th>\n",
       "      <td>ORL (15)</td>\n",
       "      <td>F</td>\n",
       "      <td>$</td>\n",
       "      <td>3</td>\n",
       "      <td>10</td>\n",
       "    </tr>\n",
       "  </tbody>\n",
       "</table>\n",
       "</div>"
      ],
      "text/plain": [
       "        East Unnamed: 1 Unnamed: 2   W   L\n",
       "0    WAS (1)          F          $   9   3\n",
       "1    BRK (2)          F          $  10   4\n",
       "2    CHI (3)          F          $   9   4\n",
       "3    CLE (4)          F          $   9   5\n",
       "4    MIA (5)          F          $   8   5\n",
       "5    PHI (6)          F          $   8   6\n",
       "6    NYK (7)          F          $   7   6\n",
       "7    CHO (8)          F          $   8   7\n",
       "8    TOR (9)          F          $   7   7\n",
       "9   BOS (10)          F          $   6   7\n",
       "10  MIL (11)          F          $   6   8\n",
       "11  IND (12)          F          $   6   8\n",
       "12  ATL (13)          F          $   5   9\n",
       "13  DET (14)          F          $   3   9\n",
       "14  ORL (15)          F          $   3  10"
      ]
     },
     "execution_count": 8,
     "metadata": {},
     "output_type": "execute_result"
    }
   ],
   "source": [
    "# Bir başka örnek;\n",
    "dfnba = pd.read_html(\"https://www.basketball-reference.com/\",match=\"East\")\n",
    "dfnba[0]"
   ]
  },
  {
   "cell_type": "markdown",
   "id": "44a1e61b",
   "metadata": {},
   "source": [
    "### pd.read_excel()\n",
    "* sadece excel dosyasının ismini veya dosya konumunu veya linkini yaz yeterli"
   ]
  },
  {
   "cell_type": "code",
   "execution_count": null,
   "id": "d1f8cb33",
   "metadata": {},
   "outputs": [],
   "source": [
    "dfex = pd.read_excel(\"titanic.xlsx\")"
   ]
  },
  {
   "cell_type": "markdown",
   "id": "6bd40816",
   "metadata": {},
   "source": [
    "### SQL database'den import etmek;\n",
    "\n",
    "* Bu bölümdeki kodları çalıştırmadık, çünkü herhangi bir sql database'imiz yok."
   ]
  },
  {
   "cell_type": "code",
   "execution_count": null,
   "id": "196aa312",
   "metadata": {},
   "outputs": [],
   "source": [
    "# Önce aşağıdaki \"pysqlite3\" isimli library yüklenmeli ve import edilmeli.\n",
    "\n",
    "#!pip install pysqlite3\n",
    "\n",
    "#import sqlite3"
   ]
  },
  {
   "cell_type": "code",
   "execution_count": null,
   "id": "05ac240b",
   "metadata": {},
   "outputs": [],
   "source": [
    "'''\n",
    "con = sqlite3.connect(\"database.db\")\n",
    "\n",
    "df = pd.read_sql_query(\"SELECT * FROM purchases\", con)\n",
    "\n",
    "df\n",
    "'''"
   ]
  },
  {
   "cell_type": "markdown",
   "id": "da48cc4e",
   "metadata": {
    "heading_collapsed": true
   },
   "source": [
    "## EDA'da Kullanılan BASİT Kodlar"
   ]
  },
  {
   "cell_type": "markdown",
   "id": "835b0006",
   "metadata": {
    "hidden": true
   },
   "source": [
    "### shape\n",
    "\n",
    "* Dataframe'in boyutlarını verir."
   ]
  },
  {
   "cell_type": "code",
   "execution_count": 142,
   "id": "a7b5cb83",
   "metadata": {
    "ExecuteTime": {
     "end_time": "2021-11-16T12:45:27.741478Z",
     "start_time": "2021-11-16T12:45:27.700584Z"
    },
    "hidden": true
   },
   "outputs": [
    {
     "data": {
      "text/plain": [
       "(891, 12)"
      ]
     },
     "execution_count": 142,
     "metadata": {},
     "output_type": "execute_result"
    }
   ],
   "source": [
    "df = pd.read_csv(\"train.csv\")\n",
    "df.shape"
   ]
  },
  {
   "cell_type": "markdown",
   "id": "667e7939",
   "metadata": {
    "heading_collapsed": true,
    "hidden": true
   },
   "source": [
    "### columns ve values\n",
    "\n",
    "* **columns:** Dataframe'deki kolon isimlerini döndürür.  \n",
    "\n",
    "\n",
    "* **values:** Dataframe'deki değerleri döndürür. Dataframe'in hepsi için kullanıldığı gibi sadece bir veya birkaç kolon özelinde de kullanılabilir. "
   ]
  },
  {
   "cell_type": "code",
   "execution_count": 9,
   "id": "95e6209d",
   "metadata": {
    "ExecuteTime": {
     "end_time": "2021-11-15T21:46:03.657083Z",
     "start_time": "2021-11-15T21:46:03.636142Z"
    },
    "hidden": true
   },
   "outputs": [],
   "source": [
    "df = pd.read_csv(\"train.csv\")"
   ]
  },
  {
   "cell_type": "code",
   "execution_count": 10,
   "id": "539fcfcb",
   "metadata": {
    "ExecuteTime": {
     "end_time": "2021-11-15T21:46:48.595441Z",
     "start_time": "2021-11-15T21:46:48.583435Z"
    },
    "hidden": true
   },
   "outputs": [
    {
     "data": {
      "text/plain": [
       "Index(['PassengerId', 'Survived', 'Pclass', 'Name', 'Sex', 'Age', 'SibSp',\n",
       "       'Parch', 'Ticket', 'Fare', 'Cabin', 'Embarked'],\n",
       "      dtype='object')"
      ]
     },
     "execution_count": 10,
     "metadata": {},
     "output_type": "execute_result"
    }
   ],
   "source": [
    "df.columns"
   ]
  },
  {
   "cell_type": "code",
   "execution_count": 11,
   "id": "bb9abada",
   "metadata": {
    "ExecuteTime": {
     "end_time": "2021-11-15T21:46:54.306135Z",
     "start_time": "2021-11-15T21:46:54.288217Z"
    },
    "hidden": true
   },
   "outputs": [
    {
     "data": {
      "text/plain": [
       "array([[1, 0, 3, ..., 7.25, nan, 'S'],\n",
       "       [2, 1, 1, ..., 71.2833, 'C85', 'C'],\n",
       "       [3, 1, 3, ..., 7.925, nan, 'S'],\n",
       "       ...,\n",
       "       [889, 0, 3, ..., 23.45, nan, 'S'],\n",
       "       [890, 1, 1, ..., 30.0, 'C148', 'C'],\n",
       "       [891, 0, 3, ..., 7.75, nan, 'Q']], dtype=object)"
      ]
     },
     "execution_count": 11,
     "metadata": {},
     "output_type": "execute_result"
    }
   ],
   "source": [
    "df.values"
   ]
  },
  {
   "cell_type": "markdown",
   "id": "e529be3b",
   "metadata": {
    "heading_collapsed": true,
    "hidden": true
   },
   "source": [
    "### duplicated ve drop_dupilcates"
   ]
  },
  {
   "cell_type": "markdown",
   "id": "7a123bc3",
   "metadata": {
    "hidden": true
   },
   "source": [
    "#### duplicated()\n",
    "\n",
    "* Herhangi bir gözlemden birden fazla varsa True döndürür.  \n",
    "\n",
    "\n",
    "* Fonksiyonun ***any()*** fonksiyonu ile kombine edilmesiyle de tüm dataframe'de veya incelenen kolon/kolonlarda genel anlamda herhangi bir duplicated gözlem olup olmadığı sorusuna cevap alınabilir.\n",
    "\n",
    "\n",
    "* Dataframe'in tümü için kullanılabildiği gibi sadece bir veya birkaç kolon özelinde de kullanılabilir. Kolon belirtmek için fonksiyonun \"subset=\" parametresi kullanılır.  \n",
    "\n",
    "\n",
    "* Bu fonksiyon default olarak tekrarlayan gözlemlerin hepsini değil sadece tekrar edenleri ekrana getirir. Bunun yerine tümünü ekrana getirebilmek için fonksiyonun (keep= False) parametresinden yararlanılır."
   ]
  },
  {
   "cell_type": "code",
   "execution_count": 12,
   "id": "39273eda",
   "metadata": {
    "ExecuteTime": {
     "end_time": "2021-11-15T21:49:56.607241Z",
     "start_time": "2021-11-15T21:49:56.583310Z"
    },
    "hidden": true
   },
   "outputs": [],
   "source": [
    "df = pd.read_csv(\"train.csv\")"
   ]
  },
  {
   "cell_type": "code",
   "execution_count": 17,
   "id": "d948f2b5",
   "metadata": {
    "ExecuteTime": {
     "end_time": "2021-11-15T21:59:11.117226Z",
     "start_time": "2021-11-15T21:59:11.095248Z"
    },
    "hidden": true
   },
   "outputs": [
    {
     "data": {
      "text/plain": [
       "False"
      ]
     },
     "execution_count": 17,
     "metadata": {},
     "output_type": "execute_result"
    }
   ],
   "source": [
    "df.duplicated().any()"
   ]
  },
  {
   "cell_type": "code",
   "execution_count": 15,
   "id": "e614dbd0",
   "metadata": {
    "ExecuteTime": {
     "end_time": "2021-11-15T21:55:25.252290Z",
     "start_time": "2021-11-15T21:55:25.238324Z"
    },
    "hidden": true
   },
   "outputs": [
    {
     "data": {
      "text/plain": [
       "0      False\n",
       "1      False\n",
       "2      False\n",
       "3      False\n",
       "4      False\n",
       "       ...  \n",
       "886    False\n",
       "887    False\n",
       "888    False\n",
       "889    False\n",
       "890    False\n",
       "Length: 891, dtype: bool"
      ]
     },
     "execution_count": 15,
     "metadata": {},
     "output_type": "execute_result"
    }
   ],
   "source": [
    "df.duplicated(subset=[\"Name\"], keep=False)"
   ]
  },
  {
   "cell_type": "markdown",
   "id": "debb7011",
   "metadata": {
    "hidden": true
   },
   "source": [
    "#### drop_duplicates()\n",
    "\n",
    "* Eğer duplicated veri varsa aşağıdaki kod kullanılarak duplicated verileri DataFrame'den silebiliriz.\n",
    "\n",
    "\n",
    "* Inplace = True, bu parametreyle işlemini kalıcı hale getirirsiniz.  \n",
    "\n",
    "\n",
    "* ignore_index = True, bu parametreyle silinen gözlemin oluşturduğu index sayısındaki eksiklik önemsenmez ve indexler tekrardan 0'dan başlayacak şekilde dağıtılır."
   ]
  },
  {
   "cell_type": "code",
   "execution_count": 16,
   "id": "9ab82b4f",
   "metadata": {
    "ExecuteTime": {
     "end_time": "2021-11-15T21:57:15.345633Z",
     "start_time": "2021-11-15T21:57:15.328648Z"
    },
    "hidden": true
   },
   "outputs": [],
   "source": [
    "df.drop_duplicates(inplace=True, ignore_index=True)"
   ]
  },
  {
   "cell_type": "markdown",
   "id": "cc6d60f5",
   "metadata": {
    "heading_collapsed": true,
    "hidden": true
   },
   "source": [
    "### info()\n",
    "\n",
    "* Dataframe'deki kolonlar hakkında genel bilgiler verir. Kolonlardaki gözlemlerin veri tipi ve eksik veriler basitçe tespit edilebilir.  "
   ]
  },
  {
   "cell_type": "code",
   "execution_count": 18,
   "id": "69c98406",
   "metadata": {
    "ExecuteTime": {
     "end_time": "2021-11-15T22:01:37.611711Z",
     "start_time": "2021-11-15T22:01:37.588770Z"
    },
    "hidden": true
   },
   "outputs": [],
   "source": [
    "df = pd.read_csv(\"train.csv\")"
   ]
  },
  {
   "cell_type": "code",
   "execution_count": 19,
   "id": "8d17e3a3",
   "metadata": {
    "ExecuteTime": {
     "end_time": "2021-11-15T22:01:39.080922Z",
     "start_time": "2021-11-15T22:01:38.787195Z"
    },
    "hidden": true
   },
   "outputs": [
    {
     "name": "stdout",
     "output_type": "stream",
     "text": [
      "<class 'pandas.core.frame.DataFrame'>\n",
      "RangeIndex: 891 entries, 0 to 890\n",
      "Data columns (total 12 columns):\n",
      " #   Column       Non-Null Count  Dtype  \n",
      "---  ------       --------------  -----  \n",
      " 0   PassengerId  891 non-null    int64  \n",
      " 1   Survived     891 non-null    int64  \n",
      " 2   Pclass       891 non-null    int64  \n",
      " 3   Name         891 non-null    object \n",
      " 4   Sex          891 non-null    object \n",
      " 5   Age          714 non-null    float64\n",
      " 6   SibSp        891 non-null    int64  \n",
      " 7   Parch        891 non-null    int64  \n",
      " 8   Ticket       891 non-null    object \n",
      " 9   Fare         891 non-null    float64\n",
      " 10  Cabin        204 non-null    object \n",
      " 11  Embarked     889 non-null    object \n",
      "dtypes: float64(2), int64(5), object(5)\n",
      "memory usage: 83.7+ KB\n"
     ]
    }
   ],
   "source": [
    "df.info()"
   ]
  },
  {
   "cell_type": "markdown",
   "id": "7f65458b",
   "metadata": {
    "heading_collapsed": true,
    "hidden": true
   },
   "source": [
    "### describe()\n",
    "\n",
    "* Dataframe'deki kolonlar hakkında genel istatistik bilgiler verir.\n",
    "\n",
    "\n",
    "* Tüm dataframe için kullanılabildiği gibi sadece bir veya birkaç kolon özelinde de kullanılabilir.  \n",
    "\n",
    "\n",
    "* Default olarak nümerik kolonlara ait istatistik bilgiler ekrana gelecektir. Ancak istenildiği taktirde fonksiyonun ***'include=\"all\"'*** parametresiyle hem nümerik hem kategorik değişkenlere ait istatistik bilgiler görüntülenebilir. Hatta ***'include=\"O\"'*** parametresiyle sadece kategorik değişkenlere ait istatistikler görüntülenebilir."
   ]
  },
  {
   "cell_type": "code",
   "execution_count": 20,
   "id": "9e3ac07d",
   "metadata": {
    "ExecuteTime": {
     "end_time": "2021-11-15T22:04:11.312211Z",
     "start_time": "2021-11-15T22:04:11.290233Z"
    },
    "hidden": true
   },
   "outputs": [],
   "source": [
    "df = pd.read_csv(\"train.csv\")"
   ]
  },
  {
   "cell_type": "code",
   "execution_count": 21,
   "id": "ff88f8ee",
   "metadata": {
    "ExecuteTime": {
     "end_time": "2021-11-15T22:04:19.075834Z",
     "start_time": "2021-11-15T22:04:18.997434Z"
    },
    "hidden": true
   },
   "outputs": [
    {
     "data": {
      "text/html": [
       "<div>\n",
       "<style scoped>\n",
       "    .dataframe tbody tr th:only-of-type {\n",
       "        vertical-align: middle;\n",
       "    }\n",
       "\n",
       "    .dataframe tbody tr th {\n",
       "        vertical-align: top;\n",
       "    }\n",
       "\n",
       "    .dataframe thead th {\n",
       "        text-align: right;\n",
       "    }\n",
       "</style>\n",
       "<table border=\"1\" class=\"dataframe\">\n",
       "  <thead>\n",
       "    <tr style=\"text-align: right;\">\n",
       "      <th></th>\n",
       "      <th>PassengerId</th>\n",
       "      <th>Survived</th>\n",
       "      <th>Pclass</th>\n",
       "      <th>Age</th>\n",
       "      <th>SibSp</th>\n",
       "      <th>Parch</th>\n",
       "      <th>Fare</th>\n",
       "    </tr>\n",
       "  </thead>\n",
       "  <tbody>\n",
       "    <tr>\n",
       "      <th>count</th>\n",
       "      <td>891.000</td>\n",
       "      <td>891.000</td>\n",
       "      <td>891.000</td>\n",
       "      <td>714.000</td>\n",
       "      <td>891.000</td>\n",
       "      <td>891.000</td>\n",
       "      <td>891.000</td>\n",
       "    </tr>\n",
       "    <tr>\n",
       "      <th>mean</th>\n",
       "      <td>446.000</td>\n",
       "      <td>0.384</td>\n",
       "      <td>2.309</td>\n",
       "      <td>29.699</td>\n",
       "      <td>0.523</td>\n",
       "      <td>0.382</td>\n",
       "      <td>32.204</td>\n",
       "    </tr>\n",
       "    <tr>\n",
       "      <th>std</th>\n",
       "      <td>257.354</td>\n",
       "      <td>0.487</td>\n",
       "      <td>0.836</td>\n",
       "      <td>14.526</td>\n",
       "      <td>1.103</td>\n",
       "      <td>0.806</td>\n",
       "      <td>49.693</td>\n",
       "    </tr>\n",
       "    <tr>\n",
       "      <th>min</th>\n",
       "      <td>1.000</td>\n",
       "      <td>0.000</td>\n",
       "      <td>1.000</td>\n",
       "      <td>0.420</td>\n",
       "      <td>0.000</td>\n",
       "      <td>0.000</td>\n",
       "      <td>0.000</td>\n",
       "    </tr>\n",
       "    <tr>\n",
       "      <th>25%</th>\n",
       "      <td>223.500</td>\n",
       "      <td>0.000</td>\n",
       "      <td>2.000</td>\n",
       "      <td>20.125</td>\n",
       "      <td>0.000</td>\n",
       "      <td>0.000</td>\n",
       "      <td>7.910</td>\n",
       "    </tr>\n",
       "    <tr>\n",
       "      <th>50%</th>\n",
       "      <td>446.000</td>\n",
       "      <td>0.000</td>\n",
       "      <td>3.000</td>\n",
       "      <td>28.000</td>\n",
       "      <td>0.000</td>\n",
       "      <td>0.000</td>\n",
       "      <td>14.454</td>\n",
       "    </tr>\n",
       "    <tr>\n",
       "      <th>75%</th>\n",
       "      <td>668.500</td>\n",
       "      <td>1.000</td>\n",
       "      <td>3.000</td>\n",
       "      <td>38.000</td>\n",
       "      <td>1.000</td>\n",
       "      <td>0.000</td>\n",
       "      <td>31.000</td>\n",
       "    </tr>\n",
       "    <tr>\n",
       "      <th>max</th>\n",
       "      <td>891.000</td>\n",
       "      <td>1.000</td>\n",
       "      <td>3.000</td>\n",
       "      <td>80.000</td>\n",
       "      <td>8.000</td>\n",
       "      <td>6.000</td>\n",
       "      <td>512.329</td>\n",
       "    </tr>\n",
       "  </tbody>\n",
       "</table>\n",
       "</div>"
      ],
      "text/plain": [
       "       PassengerId  Survived  Pclass     Age   SibSp   Parch    Fare\n",
       "count      891.000   891.000 891.000 714.000 891.000 891.000 891.000\n",
       "mean       446.000     0.384   2.309  29.699   0.523   0.382  32.204\n",
       "std        257.354     0.487   0.836  14.526   1.103   0.806  49.693\n",
       "min          1.000     0.000   1.000   0.420   0.000   0.000   0.000\n",
       "25%        223.500     0.000   2.000  20.125   0.000   0.000   7.910\n",
       "50%        446.000     0.000   3.000  28.000   0.000   0.000  14.454\n",
       "75%        668.500     1.000   3.000  38.000   1.000   0.000  31.000\n",
       "max        891.000     1.000   3.000  80.000   8.000   6.000 512.329"
      ]
     },
     "execution_count": 21,
     "metadata": {},
     "output_type": "execute_result"
    }
   ],
   "source": [
    "df.describe()"
   ]
  },
  {
   "cell_type": "code",
   "execution_count": 22,
   "id": "667c6cc5",
   "metadata": {
    "ExecuteTime": {
     "end_time": "2021-11-15T22:04:51.312056Z",
     "start_time": "2021-11-15T22:04:51.273159Z"
    },
    "hidden": true
   },
   "outputs": [
    {
     "data": {
      "text/html": [
       "<div>\n",
       "<style scoped>\n",
       "    .dataframe tbody tr th:only-of-type {\n",
       "        vertical-align: middle;\n",
       "    }\n",
       "\n",
       "    .dataframe tbody tr th {\n",
       "        vertical-align: top;\n",
       "    }\n",
       "\n",
       "    .dataframe thead th {\n",
       "        text-align: right;\n",
       "    }\n",
       "</style>\n",
       "<table border=\"1\" class=\"dataframe\">\n",
       "  <thead>\n",
       "    <tr style=\"text-align: right;\">\n",
       "      <th></th>\n",
       "      <th>count</th>\n",
       "      <th>mean</th>\n",
       "      <th>std</th>\n",
       "      <th>min</th>\n",
       "      <th>25%</th>\n",
       "      <th>50%</th>\n",
       "      <th>75%</th>\n",
       "      <th>max</th>\n",
       "    </tr>\n",
       "  </thead>\n",
       "  <tbody>\n",
       "    <tr>\n",
       "      <th>PassengerId</th>\n",
       "      <td>891.000</td>\n",
       "      <td>446.000</td>\n",
       "      <td>257.354</td>\n",
       "      <td>1.000</td>\n",
       "      <td>223.500</td>\n",
       "      <td>446.000</td>\n",
       "      <td>668.500</td>\n",
       "      <td>891.000</td>\n",
       "    </tr>\n",
       "    <tr>\n",
       "      <th>Survived</th>\n",
       "      <td>891.000</td>\n",
       "      <td>0.384</td>\n",
       "      <td>0.487</td>\n",
       "      <td>0.000</td>\n",
       "      <td>0.000</td>\n",
       "      <td>0.000</td>\n",
       "      <td>1.000</td>\n",
       "      <td>1.000</td>\n",
       "    </tr>\n",
       "    <tr>\n",
       "      <th>Pclass</th>\n",
       "      <td>891.000</td>\n",
       "      <td>2.309</td>\n",
       "      <td>0.836</td>\n",
       "      <td>1.000</td>\n",
       "      <td>2.000</td>\n",
       "      <td>3.000</td>\n",
       "      <td>3.000</td>\n",
       "      <td>3.000</td>\n",
       "    </tr>\n",
       "    <tr>\n",
       "      <th>Age</th>\n",
       "      <td>714.000</td>\n",
       "      <td>29.699</td>\n",
       "      <td>14.526</td>\n",
       "      <td>0.420</td>\n",
       "      <td>20.125</td>\n",
       "      <td>28.000</td>\n",
       "      <td>38.000</td>\n",
       "      <td>80.000</td>\n",
       "    </tr>\n",
       "    <tr>\n",
       "      <th>SibSp</th>\n",
       "      <td>891.000</td>\n",
       "      <td>0.523</td>\n",
       "      <td>1.103</td>\n",
       "      <td>0.000</td>\n",
       "      <td>0.000</td>\n",
       "      <td>0.000</td>\n",
       "      <td>1.000</td>\n",
       "      <td>8.000</td>\n",
       "    </tr>\n",
       "    <tr>\n",
       "      <th>Parch</th>\n",
       "      <td>891.000</td>\n",
       "      <td>0.382</td>\n",
       "      <td>0.806</td>\n",
       "      <td>0.000</td>\n",
       "      <td>0.000</td>\n",
       "      <td>0.000</td>\n",
       "      <td>0.000</td>\n",
       "      <td>6.000</td>\n",
       "    </tr>\n",
       "    <tr>\n",
       "      <th>Fare</th>\n",
       "      <td>891.000</td>\n",
       "      <td>32.204</td>\n",
       "      <td>49.693</td>\n",
       "      <td>0.000</td>\n",
       "      <td>7.910</td>\n",
       "      <td>14.454</td>\n",
       "      <td>31.000</td>\n",
       "      <td>512.329</td>\n",
       "    </tr>\n",
       "  </tbody>\n",
       "</table>\n",
       "</div>"
      ],
      "text/plain": [
       "              count    mean     std   min     25%     50%     75%     max\n",
       "PassengerId 891.000 446.000 257.354 1.000 223.500 446.000 668.500 891.000\n",
       "Survived    891.000   0.384   0.487 0.000   0.000   0.000   1.000   1.000\n",
       "Pclass      891.000   2.309   0.836 1.000   2.000   3.000   3.000   3.000\n",
       "Age         714.000  29.699  14.526 0.420  20.125  28.000  38.000  80.000\n",
       "SibSp       891.000   0.523   1.103 0.000   0.000   0.000   1.000   8.000\n",
       "Parch       891.000   0.382   0.806 0.000   0.000   0.000   0.000   6.000\n",
       "Fare        891.000  32.204  49.693 0.000   7.910  14.454  31.000 512.329"
      ]
     },
     "execution_count": 22,
     "metadata": {},
     "output_type": "execute_result"
    }
   ],
   "source": [
    "# \"T\" fonksiyonu kullanılarak görsellik değiştirilebilir\n",
    "df.describe().T"
   ]
  },
  {
   "cell_type": "code",
   "execution_count": 25,
   "id": "185adebf",
   "metadata": {
    "ExecuteTime": {
     "end_time": "2021-11-15T22:08:30.674756Z",
     "start_time": "2021-11-15T22:08:30.605934Z"
    },
    "hidden": true
   },
   "outputs": [
    {
     "data": {
      "text/html": [
       "<div>\n",
       "<style scoped>\n",
       "    .dataframe tbody tr th:only-of-type {\n",
       "        vertical-align: middle;\n",
       "    }\n",
       "\n",
       "    .dataframe tbody tr th {\n",
       "        vertical-align: top;\n",
       "    }\n",
       "\n",
       "    .dataframe thead th {\n",
       "        text-align: right;\n",
       "    }\n",
       "</style>\n",
       "<table border=\"1\" class=\"dataframe\">\n",
       "  <thead>\n",
       "    <tr style=\"text-align: right;\">\n",
       "      <th></th>\n",
       "      <th>PassengerId</th>\n",
       "      <th>Survived</th>\n",
       "      <th>Pclass</th>\n",
       "      <th>Name</th>\n",
       "      <th>Sex</th>\n",
       "      <th>Age</th>\n",
       "      <th>SibSp</th>\n",
       "      <th>Parch</th>\n",
       "      <th>Ticket</th>\n",
       "      <th>Fare</th>\n",
       "      <th>Cabin</th>\n",
       "      <th>Embarked</th>\n",
       "    </tr>\n",
       "  </thead>\n",
       "  <tbody>\n",
       "    <tr>\n",
       "      <th>count</th>\n",
       "      <td>891.000</td>\n",
       "      <td>891.000</td>\n",
       "      <td>891.000</td>\n",
       "      <td>891</td>\n",
       "      <td>891</td>\n",
       "      <td>714.000</td>\n",
       "      <td>891.000</td>\n",
       "      <td>891.000</td>\n",
       "      <td>891</td>\n",
       "      <td>891.000</td>\n",
       "      <td>204</td>\n",
       "      <td>889</td>\n",
       "    </tr>\n",
       "    <tr>\n",
       "      <th>unique</th>\n",
       "      <td>NaN</td>\n",
       "      <td>NaN</td>\n",
       "      <td>NaN</td>\n",
       "      <td>891</td>\n",
       "      <td>2</td>\n",
       "      <td>NaN</td>\n",
       "      <td>NaN</td>\n",
       "      <td>NaN</td>\n",
       "      <td>681</td>\n",
       "      <td>NaN</td>\n",
       "      <td>147</td>\n",
       "      <td>3</td>\n",
       "    </tr>\n",
       "    <tr>\n",
       "      <th>top</th>\n",
       "      <td>NaN</td>\n",
       "      <td>NaN</td>\n",
       "      <td>NaN</td>\n",
       "      <td>Braund, Mr. Owen Harris</td>\n",
       "      <td>male</td>\n",
       "      <td>NaN</td>\n",
       "      <td>NaN</td>\n",
       "      <td>NaN</td>\n",
       "      <td>347082</td>\n",
       "      <td>NaN</td>\n",
       "      <td>B96 B98</td>\n",
       "      <td>S</td>\n",
       "    </tr>\n",
       "    <tr>\n",
       "      <th>freq</th>\n",
       "      <td>NaN</td>\n",
       "      <td>NaN</td>\n",
       "      <td>NaN</td>\n",
       "      <td>1</td>\n",
       "      <td>577</td>\n",
       "      <td>NaN</td>\n",
       "      <td>NaN</td>\n",
       "      <td>NaN</td>\n",
       "      <td>7</td>\n",
       "      <td>NaN</td>\n",
       "      <td>4</td>\n",
       "      <td>644</td>\n",
       "    </tr>\n",
       "    <tr>\n",
       "      <th>mean</th>\n",
       "      <td>446.000</td>\n",
       "      <td>0.384</td>\n",
       "      <td>2.309</td>\n",
       "      <td>NaN</td>\n",
       "      <td>NaN</td>\n",
       "      <td>29.699</td>\n",
       "      <td>0.523</td>\n",
       "      <td>0.382</td>\n",
       "      <td>NaN</td>\n",
       "      <td>32.204</td>\n",
       "      <td>NaN</td>\n",
       "      <td>NaN</td>\n",
       "    </tr>\n",
       "    <tr>\n",
       "      <th>std</th>\n",
       "      <td>257.354</td>\n",
       "      <td>0.487</td>\n",
       "      <td>0.836</td>\n",
       "      <td>NaN</td>\n",
       "      <td>NaN</td>\n",
       "      <td>14.526</td>\n",
       "      <td>1.103</td>\n",
       "      <td>0.806</td>\n",
       "      <td>NaN</td>\n",
       "      <td>49.693</td>\n",
       "      <td>NaN</td>\n",
       "      <td>NaN</td>\n",
       "    </tr>\n",
       "    <tr>\n",
       "      <th>min</th>\n",
       "      <td>1.000</td>\n",
       "      <td>0.000</td>\n",
       "      <td>1.000</td>\n",
       "      <td>NaN</td>\n",
       "      <td>NaN</td>\n",
       "      <td>0.420</td>\n",
       "      <td>0.000</td>\n",
       "      <td>0.000</td>\n",
       "      <td>NaN</td>\n",
       "      <td>0.000</td>\n",
       "      <td>NaN</td>\n",
       "      <td>NaN</td>\n",
       "    </tr>\n",
       "    <tr>\n",
       "      <th>25%</th>\n",
       "      <td>223.500</td>\n",
       "      <td>0.000</td>\n",
       "      <td>2.000</td>\n",
       "      <td>NaN</td>\n",
       "      <td>NaN</td>\n",
       "      <td>20.125</td>\n",
       "      <td>0.000</td>\n",
       "      <td>0.000</td>\n",
       "      <td>NaN</td>\n",
       "      <td>7.910</td>\n",
       "      <td>NaN</td>\n",
       "      <td>NaN</td>\n",
       "    </tr>\n",
       "    <tr>\n",
       "      <th>50%</th>\n",
       "      <td>446.000</td>\n",
       "      <td>0.000</td>\n",
       "      <td>3.000</td>\n",
       "      <td>NaN</td>\n",
       "      <td>NaN</td>\n",
       "      <td>28.000</td>\n",
       "      <td>0.000</td>\n",
       "      <td>0.000</td>\n",
       "      <td>NaN</td>\n",
       "      <td>14.454</td>\n",
       "      <td>NaN</td>\n",
       "      <td>NaN</td>\n",
       "    </tr>\n",
       "    <tr>\n",
       "      <th>75%</th>\n",
       "      <td>668.500</td>\n",
       "      <td>1.000</td>\n",
       "      <td>3.000</td>\n",
       "      <td>NaN</td>\n",
       "      <td>NaN</td>\n",
       "      <td>38.000</td>\n",
       "      <td>1.000</td>\n",
       "      <td>0.000</td>\n",
       "      <td>NaN</td>\n",
       "      <td>31.000</td>\n",
       "      <td>NaN</td>\n",
       "      <td>NaN</td>\n",
       "    </tr>\n",
       "    <tr>\n",
       "      <th>max</th>\n",
       "      <td>891.000</td>\n",
       "      <td>1.000</td>\n",
       "      <td>3.000</td>\n",
       "      <td>NaN</td>\n",
       "      <td>NaN</td>\n",
       "      <td>80.000</td>\n",
       "      <td>8.000</td>\n",
       "      <td>6.000</td>\n",
       "      <td>NaN</td>\n",
       "      <td>512.329</td>\n",
       "      <td>NaN</td>\n",
       "      <td>NaN</td>\n",
       "    </tr>\n",
       "  </tbody>\n",
       "</table>\n",
       "</div>"
      ],
      "text/plain": [
       "        PassengerId  Survived  Pclass                     Name   Sex     Age  \\\n",
       "count       891.000   891.000 891.000                      891   891 714.000   \n",
       "unique          NaN       NaN     NaN                      891     2     NaN   \n",
       "top             NaN       NaN     NaN  Braund, Mr. Owen Harris  male     NaN   \n",
       "freq            NaN       NaN     NaN                        1   577     NaN   \n",
       "mean        446.000     0.384   2.309                      NaN   NaN  29.699   \n",
       "std         257.354     0.487   0.836                      NaN   NaN  14.526   \n",
       "min           1.000     0.000   1.000                      NaN   NaN   0.420   \n",
       "25%         223.500     0.000   2.000                      NaN   NaN  20.125   \n",
       "50%         446.000     0.000   3.000                      NaN   NaN  28.000   \n",
       "75%         668.500     1.000   3.000                      NaN   NaN  38.000   \n",
       "max         891.000     1.000   3.000                      NaN   NaN  80.000   \n",
       "\n",
       "         SibSp   Parch  Ticket    Fare    Cabin Embarked  \n",
       "count  891.000 891.000     891 891.000      204      889  \n",
       "unique     NaN     NaN     681     NaN      147        3  \n",
       "top        NaN     NaN  347082     NaN  B96 B98        S  \n",
       "freq       NaN     NaN       7     NaN        4      644  \n",
       "mean     0.523   0.382     NaN  32.204      NaN      NaN  \n",
       "std      1.103   0.806     NaN  49.693      NaN      NaN  \n",
       "min      0.000   0.000     NaN   0.000      NaN      NaN  \n",
       "25%      0.000   0.000     NaN   7.910      NaN      NaN  \n",
       "50%      0.000   0.000     NaN  14.454      NaN      NaN  \n",
       "75%      1.000   0.000     NaN  31.000      NaN      NaN  \n",
       "max      8.000   6.000     NaN 512.329      NaN      NaN  "
      ]
     },
     "execution_count": 25,
     "metadata": {},
     "output_type": "execute_result"
    }
   ],
   "source": [
    "df.describe(include=\"all\")"
   ]
  },
  {
   "cell_type": "code",
   "execution_count": 24,
   "id": "a6647ca5",
   "metadata": {
    "ExecuteTime": {
     "end_time": "2021-11-15T22:08:19.419979Z",
     "start_time": "2021-11-15T22:08:19.385525Z"
    },
    "hidden": true
   },
   "outputs": [
    {
     "data": {
      "text/html": [
       "<div>\n",
       "<style scoped>\n",
       "    .dataframe tbody tr th:only-of-type {\n",
       "        vertical-align: middle;\n",
       "    }\n",
       "\n",
       "    .dataframe tbody tr th {\n",
       "        vertical-align: top;\n",
       "    }\n",
       "\n",
       "    .dataframe thead th {\n",
       "        text-align: right;\n",
       "    }\n",
       "</style>\n",
       "<table border=\"1\" class=\"dataframe\">\n",
       "  <thead>\n",
       "    <tr style=\"text-align: right;\">\n",
       "      <th></th>\n",
       "      <th>Name</th>\n",
       "      <th>Sex</th>\n",
       "      <th>Ticket</th>\n",
       "      <th>Cabin</th>\n",
       "      <th>Embarked</th>\n",
       "    </tr>\n",
       "  </thead>\n",
       "  <tbody>\n",
       "    <tr>\n",
       "      <th>count</th>\n",
       "      <td>891</td>\n",
       "      <td>891</td>\n",
       "      <td>891</td>\n",
       "      <td>204</td>\n",
       "      <td>889</td>\n",
       "    </tr>\n",
       "    <tr>\n",
       "      <th>unique</th>\n",
       "      <td>891</td>\n",
       "      <td>2</td>\n",
       "      <td>681</td>\n",
       "      <td>147</td>\n",
       "      <td>3</td>\n",
       "    </tr>\n",
       "    <tr>\n",
       "      <th>top</th>\n",
       "      <td>Braund, Mr. Owen Harris</td>\n",
       "      <td>male</td>\n",
       "      <td>347082</td>\n",
       "      <td>B96 B98</td>\n",
       "      <td>S</td>\n",
       "    </tr>\n",
       "    <tr>\n",
       "      <th>freq</th>\n",
       "      <td>1</td>\n",
       "      <td>577</td>\n",
       "      <td>7</td>\n",
       "      <td>4</td>\n",
       "      <td>644</td>\n",
       "    </tr>\n",
       "  </tbody>\n",
       "</table>\n",
       "</div>"
      ],
      "text/plain": [
       "                           Name   Sex  Ticket    Cabin Embarked\n",
       "count                       891   891     891      204      889\n",
       "unique                      891     2     681      147        3\n",
       "top     Braund, Mr. Owen Harris  male  347082  B96 B98        S\n",
       "freq                          1   577       7        4      644"
      ]
     },
     "execution_count": 24,
     "metadata": {},
     "output_type": "execute_result"
    }
   ],
   "source": [
    "df.describe(include=\"O\")"
   ]
  },
  {
   "cell_type": "code",
   "execution_count": 26,
   "id": "50a54ecf",
   "metadata": {
    "ExecuteTime": {
     "end_time": "2021-11-15T22:08:49.881298Z",
     "start_time": "2021-11-15T22:08:49.858327Z"
    },
    "hidden": true
   },
   "outputs": [
    {
     "data": {
      "text/plain": [
       "count   714.000\n",
       "mean     29.699\n",
       "std      14.526\n",
       "min       0.420\n",
       "25%      20.125\n",
       "50%      28.000\n",
       "75%      38.000\n",
       "max      80.000\n",
       "Name: Age, dtype: float64"
      ]
     },
     "execution_count": 26,
     "metadata": {},
     "output_type": "execute_result"
    }
   ],
   "source": [
    "df.Age.describe().T"
   ]
  },
  {
   "cell_type": "markdown",
   "id": "1416736b",
   "metadata": {
    "heading_collapsed": true,
    "hidden": true
   },
   "source": [
    "### unique ve nunique\n",
    "\n",
    "* **unique =** Bir değişkendeki her bir farklı elemanlanın listesini getirir.  \n",
    "\n",
    "\n",
    "* **nunique =** Değişkendeki unique elemanların sayısını verir. "
   ]
  },
  {
   "cell_type": "code",
   "execution_count": 27,
   "id": "1b84a675",
   "metadata": {
    "ExecuteTime": {
     "end_time": "2021-11-15T22:11:18.239404Z",
     "start_time": "2021-11-15T22:11:18.223446Z"
    },
    "hidden": true
   },
   "outputs": [
    {
     "data": {
      "text/plain": [
       "array(['S', 'C', 'Q', nan], dtype=object)"
      ]
     },
     "execution_count": 27,
     "metadata": {},
     "output_type": "execute_result"
    }
   ],
   "source": [
    "df.Embarked.unique()"
   ]
  },
  {
   "cell_type": "code",
   "execution_count": 28,
   "id": "6b8843ad",
   "metadata": {
    "ExecuteTime": {
     "end_time": "2021-11-15T22:11:39.855334Z",
     "start_time": "2021-11-15T22:11:39.833389Z"
    },
    "hidden": true
   },
   "outputs": [
    {
     "data": {
      "text/plain": [
       "3"
      ]
     },
     "execution_count": 28,
     "metadata": {},
     "output_type": "execute_result"
    }
   ],
   "source": [
    "df.Embarked.nunique()"
   ]
  },
  {
   "cell_type": "markdown",
   "id": "bd31daf5",
   "metadata": {
    "heading_collapsed": true,
    "hidden": true
   },
   "source": [
    "### value_counts()\n",
    "\n",
    "* Bir değişkendeki farklı değerlerin frekans sayılarını verir. \n",
    "\n",
    "\n",
    "* **normalize=True**, bu parametreyle değerlerin frekansları yüzdesel şekilde verilir.\n",
    "\n",
    "\n",
    "* **ascending=True**, bu parametreyle frekans sayıları büyükten küçüğe değil küçükten büyüğe olacak şekilde görüntülenir.\n",
    "\n",
    "\n",
    "* **dropna=False**, bu parametreyle default olarak hesaba katılmayan Nan değerler de hesaba katılır ve onların da kaç tane olduğu görüntülenir.\n",
    "\n",
    "\n",
    "* **bins=Integer**, bu parametreyle nümerik veriler incelenirken verinin kaç parçaya bölüneceği girilir ve bölünmüş parçalarda kaç adet gözlem bulunduğu görüntülenir.  "
   ]
  },
  {
   "cell_type": "code",
   "execution_count": 29,
   "id": "9fd0ff82",
   "metadata": {
    "ExecuteTime": {
     "end_time": "2021-11-15T22:12:51.135568Z",
     "start_time": "2021-11-15T22:12:51.118611Z"
    },
    "hidden": true
   },
   "outputs": [],
   "source": [
    "df = pd.read_csv(\"train.csv\")"
   ]
  },
  {
   "cell_type": "code",
   "execution_count": 33,
   "id": "d7510028",
   "metadata": {
    "ExecuteTime": {
     "end_time": "2021-11-15T22:17:12.570576Z",
     "start_time": "2021-11-15T22:17:12.549667Z"
    },
    "hidden": true
   },
   "outputs": [
    {
     "data": {
      "text/plain": [
       "S    644\n",
       "C    168\n",
       "Q     77\n",
       "Name: Embarked, dtype: int64"
      ]
     },
     "execution_count": 33,
     "metadata": {},
     "output_type": "execute_result"
    }
   ],
   "source": [
    "df.Embarked.value_counts()"
   ]
  },
  {
   "cell_type": "code",
   "execution_count": 32,
   "id": "96381024",
   "metadata": {
    "ExecuteTime": {
     "end_time": "2021-11-15T22:13:55.200711Z",
     "start_time": "2021-11-15T22:13:55.188709Z"
    },
    "hidden": true
   },
   "outputs": [
    {
     "data": {
      "text/plain": [
       "S   0.724\n",
       "C   0.189\n",
       "Q   0.087\n",
       "Name: Embarked, dtype: float64"
      ]
     },
     "execution_count": 32,
     "metadata": {},
     "output_type": "execute_result"
    }
   ],
   "source": [
    "df.Embarked.value_counts(normalize=True)"
   ]
  },
  {
   "cell_type": "code",
   "execution_count": 35,
   "id": "b845c14b",
   "metadata": {
    "ExecuteTime": {
     "end_time": "2021-11-15T22:17:27.663989Z",
     "start_time": "2021-11-15T22:17:27.642012Z"
    },
    "hidden": true
   },
   "outputs": [
    {
     "data": {
      "text/plain": [
       "Q     77\n",
       "C    168\n",
       "S    644\n",
       "Name: Embarked, dtype: int64"
      ]
     },
     "execution_count": 35,
     "metadata": {},
     "output_type": "execute_result"
    }
   ],
   "source": [
    "df.Embarked.value_counts(ascending=True)"
   ]
  },
  {
   "cell_type": "code",
   "execution_count": 36,
   "id": "fcbb21c1",
   "metadata": {
    "ExecuteTime": {
     "end_time": "2021-11-15T22:17:41.308870Z",
     "start_time": "2021-11-15T22:17:41.293876Z"
    },
    "hidden": true
   },
   "outputs": [
    {
     "data": {
      "text/plain": [
       "S      644\n",
       "C      168\n",
       "Q       77\n",
       "NaN      2\n",
       "Name: Embarked, dtype: int64"
      ]
     },
     "execution_count": 36,
     "metadata": {},
     "output_type": "execute_result"
    }
   ],
   "source": [
    "df.Embarked.value_counts(dropna=False)"
   ]
  },
  {
   "cell_type": "code",
   "execution_count": 37,
   "id": "7357960e",
   "metadata": {
    "ExecuteTime": {
     "end_time": "2021-11-15T22:18:32.928284Z",
     "start_time": "2021-11-15T22:18:32.683239Z"
    },
    "hidden": true
   },
   "outputs": [
    {
     "data": {
      "text/plain": [
       "(16.336, 32.252]    346\n",
       "(32.252, 48.168]    188\n",
       "(0.339, 16.336]     100\n",
       "(48.168, 64.084]     69\n",
       "(64.084, 80.0]       11\n",
       "Name: Age, dtype: int64"
      ]
     },
     "execution_count": 37,
     "metadata": {},
     "output_type": "execute_result"
    }
   ],
   "source": [
    "df.Age.value_counts(bins=5)"
   ]
  },
  {
   "cell_type": "markdown",
   "id": "8bbed1d9",
   "metadata": {
    "hidden": true
   },
   "source": [
    "### sort_values()\n",
    "\n",
    "* Bir değişkendeki değerlerin büyükten küçüğe, küçükten büyüğe veya alfabetik sırada dizilmesini sağlar.\n",
    "\n",
    "\n",
    "* **inplace=True**, bu parametreyle sıralama kalıcı olarak değişkende kaydedilebilir.  \n",
    "\n",
    "\n",
    "* **ascending=False**, fonksiyon default olarak küçükten büyüğe sıralama yapar veya alfabetik olarak a'dan z'ye, ancak bu parametre bu şekilde kullanılırsa tam tersi şekilde sıralamayı yapacaktır.  \n",
    "\n",
    "\n",
    "* **na_position=\"first\"**, bu parametre default olarak sıralamada en sona atılan Nan gözlemleri en başta göstermeye yarayacaktır.  \n",
    "\n",
    "\n",
    "* **ignore_index=True**, bu parametreyle index'ler tekrardan sıralanmış bir şekilde gösterilecektir."
   ]
  },
  {
   "cell_type": "code",
   "execution_count": 40,
   "id": "a6faae8f",
   "metadata": {
    "ExecuteTime": {
     "end_time": "2021-11-15T22:21:37.826510Z",
     "start_time": "2021-11-15T22:21:37.803570Z"
    },
    "hidden": true
   },
   "outputs": [
    {
     "data": {
      "text/plain": [
       "803   0.420\n",
       "755   0.670\n",
       "644   0.750\n",
       "469   0.750\n",
       "78    0.830\n",
       "       ... \n",
       "859     NaN\n",
       "863     NaN\n",
       "868     NaN\n",
       "878     NaN\n",
       "888     NaN\n",
       "Name: Age, Length: 891, dtype: float64"
      ]
     },
     "execution_count": 40,
     "metadata": {},
     "output_type": "execute_result"
    }
   ],
   "source": [
    "df.Age.sort_values()"
   ]
  },
  {
   "cell_type": "code",
   "execution_count": 41,
   "id": "45b4af68",
   "metadata": {
    "ExecuteTime": {
     "end_time": "2021-11-15T22:27:02.369595Z",
     "start_time": "2021-11-15T22:27:02.339115Z"
    },
    "hidden": true
   },
   "outputs": [
    {
     "data": {
      "text/plain": [
       "630   80.000\n",
       "851   74.000\n",
       "493   71.000\n",
       "96    71.000\n",
       "116   70.500\n",
       "       ...  \n",
       "859      NaN\n",
       "863      NaN\n",
       "868      NaN\n",
       "878      NaN\n",
       "888      NaN\n",
       "Name: Age, Length: 891, dtype: float64"
      ]
     },
     "execution_count": 41,
     "metadata": {},
     "output_type": "execute_result"
    }
   ],
   "source": [
    "df.Age.sort_values(ascending=False)"
   ]
  },
  {
   "cell_type": "code",
   "execution_count": 42,
   "id": "2542e917",
   "metadata": {
    "ExecuteTime": {
     "end_time": "2021-11-15T22:27:21.526280Z",
     "start_time": "2021-11-15T22:27:21.510587Z"
    },
    "hidden": true
   },
   "outputs": [
    {
     "data": {
      "text/plain": [
       "0        NaN\n",
       "1        NaN\n",
       "2        NaN\n",
       "3        NaN\n",
       "4        NaN\n",
       "       ...  \n",
       "886   70.500\n",
       "887   71.000\n",
       "888   71.000\n",
       "889   74.000\n",
       "890   80.000\n",
       "Name: Age, Length: 891, dtype: float64"
      ]
     },
     "execution_count": 42,
     "metadata": {},
     "output_type": "execute_result"
    }
   ],
   "source": [
    "df.Age.sort_values(na_position=\"first\", ignore_index=True)"
   ]
  },
  {
   "cell_type": "markdown",
   "id": "2100880d",
   "metadata": {
    "hidden": true
   },
   "source": [
    "### any()\n",
    "\n",
    "* Belirtilen koşulu sağlayan en az bir gözlem varsa **TRUE** döndürür."
   ]
  },
  {
   "cell_type": "code",
   "execution_count": 45,
   "id": "7b051f99",
   "metadata": {
    "ExecuteTime": {
     "end_time": "2021-11-16T01:29:00.756460Z",
     "start_time": "2021-11-16T01:29:00.518035Z"
    },
    "hidden": true
   },
   "outputs": [],
   "source": [
    "df = pd.read_csv(\"train.csv\")"
   ]
  },
  {
   "cell_type": "code",
   "execution_count": 46,
   "id": "42353a53",
   "metadata": {
    "ExecuteTime": {
     "end_time": "2021-11-16T01:29:02.487588Z",
     "start_time": "2021-11-16T01:29:02.467640Z"
    },
    "hidden": true
   },
   "outputs": [
    {
     "data": {
      "text/plain": [
       "True"
      ]
     },
     "execution_count": 46,
     "metadata": {},
     "output_type": "execute_result"
    }
   ],
   "source": [
    "df[\"Pclass\"][df.Pclass==3].any()"
   ]
  },
  {
   "cell_type": "code",
   "execution_count": 47,
   "id": "816c91da",
   "metadata": {
    "ExecuteTime": {
     "end_time": "2021-11-16T01:29:02.782774Z",
     "start_time": "2021-11-16T01:29:02.761831Z"
    },
    "hidden": true
   },
   "outputs": [
    {
     "data": {
      "text/plain": [
       "False"
      ]
     },
     "execution_count": 47,
     "metadata": {},
     "output_type": "execute_result"
    }
   ],
   "source": [
    "df[\"Pclass\"][df.Pclass==33].any()"
   ]
  },
  {
   "cell_type": "markdown",
   "id": "51977b3f",
   "metadata": {
    "hidden": true
   },
   "source": [
    "### isin()\n",
    "\n",
    "* Fonksiyonda belirtilen şey değişkende varsa **True** döndürür."
   ]
  },
  {
   "cell_type": "code",
   "execution_count": 48,
   "id": "f3260c0c",
   "metadata": {
    "ExecuteTime": {
     "end_time": "2021-11-16T01:32:03.877501Z",
     "start_time": "2021-11-16T01:32:03.860546Z"
    },
    "hidden": true
   },
   "outputs": [],
   "source": [
    "df = pd.read_csv(\"train.csv\")"
   ]
  },
  {
   "cell_type": "code",
   "execution_count": 49,
   "id": "d9fb20c5",
   "metadata": {
    "ExecuteTime": {
     "end_time": "2021-11-16T01:32:04.438050Z",
     "start_time": "2021-11-16T01:32:04.423092Z"
    },
    "hidden": true
   },
   "outputs": [
    {
     "data": {
      "text/plain": [
       "0       True\n",
       "1      False\n",
       "2      False\n",
       "3      False\n",
       "4       True\n",
       "       ...  \n",
       "886     True\n",
       "887    False\n",
       "888    False\n",
       "889     True\n",
       "890     True\n",
       "Name: Sex, Length: 891, dtype: bool"
      ]
     },
     "execution_count": 49,
     "metadata": {},
     "output_type": "execute_result"
    }
   ],
   "source": [
    "df[\"Sex\"].isin([\"male\"])"
   ]
  },
  {
   "cell_type": "markdown",
   "id": "b0a3d8a4",
   "metadata": {
    "hidden": true
   },
   "source": [
    "### isna(), isnull(), notna(), notnull()\n",
    "\n",
    "* **isna() ve isnull():** Dataframe'in tamamında veya belirtilen bir değişkendeki Nan gözlemleri True olarak döndürür. Çeşitli matematiksel ve conditional fonksiyonlarla kullanılarak Nan verilerin varlığı hakkında daha düenli bilgiler alınabilir.  \n",
    "\n",
    "\n",
    "* **notna() ve notnull():** isna() ve isnull() aksine Dataframe'in tamamında veya belirtilen bir değişkende Nan olmayan gözlemleri True olarak döndürür."
   ]
  },
  {
   "cell_type": "code",
   "execution_count": 133,
   "id": "6274106b",
   "metadata": {
    "ExecuteTime": {
     "end_time": "2021-11-16T12:40:00.287216Z",
     "start_time": "2021-11-16T12:40:00.269263Z"
    },
    "hidden": true
   },
   "outputs": [],
   "source": [
    "df = pd.read_csv(\"train.csv\")"
   ]
  },
  {
   "cell_type": "code",
   "execution_count": 134,
   "id": "5539f7d7",
   "metadata": {
    "ExecuteTime": {
     "end_time": "2021-11-16T12:40:09.269100Z",
     "start_time": "2021-11-16T12:40:09.185325Z"
    },
    "hidden": true
   },
   "outputs": [
    {
     "data": {
      "text/html": [
       "<div>\n",
       "<style scoped>\n",
       "    .dataframe tbody tr th:only-of-type {\n",
       "        vertical-align: middle;\n",
       "    }\n",
       "\n",
       "    .dataframe tbody tr th {\n",
       "        vertical-align: top;\n",
       "    }\n",
       "\n",
       "    .dataframe thead th {\n",
       "        text-align: right;\n",
       "    }\n",
       "</style>\n",
       "<table border=\"1\" class=\"dataframe\">\n",
       "  <thead>\n",
       "    <tr style=\"text-align: right;\">\n",
       "      <th></th>\n",
       "      <th>PassengerId</th>\n",
       "      <th>Survived</th>\n",
       "      <th>Pclass</th>\n",
       "      <th>Name</th>\n",
       "      <th>Sex</th>\n",
       "      <th>Age</th>\n",
       "      <th>SibSp</th>\n",
       "      <th>Parch</th>\n",
       "      <th>Ticket</th>\n",
       "      <th>Fare</th>\n",
       "      <th>Cabin</th>\n",
       "      <th>Embarked</th>\n",
       "    </tr>\n",
       "  </thead>\n",
       "  <tbody>\n",
       "    <tr>\n",
       "      <th>0</th>\n",
       "      <td>False</td>\n",
       "      <td>False</td>\n",
       "      <td>False</td>\n",
       "      <td>False</td>\n",
       "      <td>False</td>\n",
       "      <td>False</td>\n",
       "      <td>False</td>\n",
       "      <td>False</td>\n",
       "      <td>False</td>\n",
       "      <td>False</td>\n",
       "      <td>True</td>\n",
       "      <td>False</td>\n",
       "    </tr>\n",
       "    <tr>\n",
       "      <th>1</th>\n",
       "      <td>False</td>\n",
       "      <td>False</td>\n",
       "      <td>False</td>\n",
       "      <td>False</td>\n",
       "      <td>False</td>\n",
       "      <td>False</td>\n",
       "      <td>False</td>\n",
       "      <td>False</td>\n",
       "      <td>False</td>\n",
       "      <td>False</td>\n",
       "      <td>False</td>\n",
       "      <td>False</td>\n",
       "    </tr>\n",
       "    <tr>\n",
       "      <th>2</th>\n",
       "      <td>False</td>\n",
       "      <td>False</td>\n",
       "      <td>False</td>\n",
       "      <td>False</td>\n",
       "      <td>False</td>\n",
       "      <td>False</td>\n",
       "      <td>False</td>\n",
       "      <td>False</td>\n",
       "      <td>False</td>\n",
       "      <td>False</td>\n",
       "      <td>True</td>\n",
       "      <td>False</td>\n",
       "    </tr>\n",
       "    <tr>\n",
       "      <th>3</th>\n",
       "      <td>False</td>\n",
       "      <td>False</td>\n",
       "      <td>False</td>\n",
       "      <td>False</td>\n",
       "      <td>False</td>\n",
       "      <td>False</td>\n",
       "      <td>False</td>\n",
       "      <td>False</td>\n",
       "      <td>False</td>\n",
       "      <td>False</td>\n",
       "      <td>False</td>\n",
       "      <td>False</td>\n",
       "    </tr>\n",
       "    <tr>\n",
       "      <th>4</th>\n",
       "      <td>False</td>\n",
       "      <td>False</td>\n",
       "      <td>False</td>\n",
       "      <td>False</td>\n",
       "      <td>False</td>\n",
       "      <td>False</td>\n",
       "      <td>False</td>\n",
       "      <td>False</td>\n",
       "      <td>False</td>\n",
       "      <td>False</td>\n",
       "      <td>True</td>\n",
       "      <td>False</td>\n",
       "    </tr>\n",
       "    <tr>\n",
       "      <th>...</th>\n",
       "      <td>...</td>\n",
       "      <td>...</td>\n",
       "      <td>...</td>\n",
       "      <td>...</td>\n",
       "      <td>...</td>\n",
       "      <td>...</td>\n",
       "      <td>...</td>\n",
       "      <td>...</td>\n",
       "      <td>...</td>\n",
       "      <td>...</td>\n",
       "      <td>...</td>\n",
       "      <td>...</td>\n",
       "    </tr>\n",
       "    <tr>\n",
       "      <th>886</th>\n",
       "      <td>False</td>\n",
       "      <td>False</td>\n",
       "      <td>False</td>\n",
       "      <td>False</td>\n",
       "      <td>False</td>\n",
       "      <td>False</td>\n",
       "      <td>False</td>\n",
       "      <td>False</td>\n",
       "      <td>False</td>\n",
       "      <td>False</td>\n",
       "      <td>True</td>\n",
       "      <td>False</td>\n",
       "    </tr>\n",
       "    <tr>\n",
       "      <th>887</th>\n",
       "      <td>False</td>\n",
       "      <td>False</td>\n",
       "      <td>False</td>\n",
       "      <td>False</td>\n",
       "      <td>False</td>\n",
       "      <td>False</td>\n",
       "      <td>False</td>\n",
       "      <td>False</td>\n",
       "      <td>False</td>\n",
       "      <td>False</td>\n",
       "      <td>False</td>\n",
       "      <td>False</td>\n",
       "    </tr>\n",
       "    <tr>\n",
       "      <th>888</th>\n",
       "      <td>False</td>\n",
       "      <td>False</td>\n",
       "      <td>False</td>\n",
       "      <td>False</td>\n",
       "      <td>False</td>\n",
       "      <td>True</td>\n",
       "      <td>False</td>\n",
       "      <td>False</td>\n",
       "      <td>False</td>\n",
       "      <td>False</td>\n",
       "      <td>True</td>\n",
       "      <td>False</td>\n",
       "    </tr>\n",
       "    <tr>\n",
       "      <th>889</th>\n",
       "      <td>False</td>\n",
       "      <td>False</td>\n",
       "      <td>False</td>\n",
       "      <td>False</td>\n",
       "      <td>False</td>\n",
       "      <td>False</td>\n",
       "      <td>False</td>\n",
       "      <td>False</td>\n",
       "      <td>False</td>\n",
       "      <td>False</td>\n",
       "      <td>False</td>\n",
       "      <td>False</td>\n",
       "    </tr>\n",
       "    <tr>\n",
       "      <th>890</th>\n",
       "      <td>False</td>\n",
       "      <td>False</td>\n",
       "      <td>False</td>\n",
       "      <td>False</td>\n",
       "      <td>False</td>\n",
       "      <td>False</td>\n",
       "      <td>False</td>\n",
       "      <td>False</td>\n",
       "      <td>False</td>\n",
       "      <td>False</td>\n",
       "      <td>True</td>\n",
       "      <td>False</td>\n",
       "    </tr>\n",
       "  </tbody>\n",
       "</table>\n",
       "<p>891 rows × 12 columns</p>\n",
       "</div>"
      ],
      "text/plain": [
       "     PassengerId  Survived  Pclass   Name    Sex    Age  SibSp  Parch  Ticket  \\\n",
       "0          False     False   False  False  False  False  False  False   False   \n",
       "1          False     False   False  False  False  False  False  False   False   \n",
       "2          False     False   False  False  False  False  False  False   False   \n",
       "3          False     False   False  False  False  False  False  False   False   \n",
       "4          False     False   False  False  False  False  False  False   False   \n",
       "..           ...       ...     ...    ...    ...    ...    ...    ...     ...   \n",
       "886        False     False   False  False  False  False  False  False   False   \n",
       "887        False     False   False  False  False  False  False  False   False   \n",
       "888        False     False   False  False  False   True  False  False   False   \n",
       "889        False     False   False  False  False  False  False  False   False   \n",
       "890        False     False   False  False  False  False  False  False   False   \n",
       "\n",
       "      Fare  Cabin  Embarked  \n",
       "0    False   True     False  \n",
       "1    False  False     False  \n",
       "2    False   True     False  \n",
       "3    False  False     False  \n",
       "4    False   True     False  \n",
       "..     ...    ...       ...  \n",
       "886  False   True     False  \n",
       "887  False  False     False  \n",
       "888  False   True     False  \n",
       "889  False  False     False  \n",
       "890  False   True     False  \n",
       "\n",
       "[891 rows x 12 columns]"
      ]
     },
     "execution_count": 134,
     "metadata": {},
     "output_type": "execute_result"
    }
   ],
   "source": [
    "df.isna()"
   ]
  },
  {
   "cell_type": "code",
   "execution_count": 138,
   "id": "0567060d",
   "metadata": {
    "ExecuteTime": {
     "end_time": "2021-11-16T12:41:21.882317Z",
     "start_time": "2021-11-16T12:41:21.810638Z"
    },
    "hidden": true
   },
   "outputs": [
    {
     "data": {
      "text/plain": [
       "PassengerId    False\n",
       "Survived       False\n",
       "Pclass         False\n",
       "Name           False\n",
       "Sex            False\n",
       "Age             True\n",
       "SibSp          False\n",
       "Parch          False\n",
       "Ticket         False\n",
       "Fare           False\n",
       "Cabin           True\n",
       "Embarked        True\n",
       "dtype: bool"
      ]
     },
     "execution_count": 138,
     "metadata": {},
     "output_type": "execute_result"
    }
   ],
   "source": [
    "df.isna().any()"
   ]
  },
  {
   "cell_type": "code",
   "execution_count": 135,
   "id": "715743ea",
   "metadata": {
    "ExecuteTime": {
     "end_time": "2021-11-16T12:40:37.005929Z",
     "start_time": "2021-11-16T12:40:36.978966Z"
    },
    "hidden": true
   },
   "outputs": [
    {
     "data": {
      "text/plain": [
       "PassengerId      0\n",
       "Survived         0\n",
       "Pclass           0\n",
       "Name             0\n",
       "Sex              0\n",
       "Age            177\n",
       "SibSp            0\n",
       "Parch            0\n",
       "Ticket           0\n",
       "Fare             0\n",
       "Cabin          687\n",
       "Embarked         2\n",
       "dtype: int64"
      ]
     },
     "execution_count": 135,
     "metadata": {},
     "output_type": "execute_result"
    }
   ],
   "source": [
    "df.isna().sum()"
   ]
  },
  {
   "cell_type": "code",
   "execution_count": 136,
   "id": "6cb08721",
   "metadata": {
    "ExecuteTime": {
     "end_time": "2021-11-16T12:40:47.685945Z",
     "start_time": "2021-11-16T12:40:47.553495Z"
    },
    "hidden": true
   },
   "outputs": [
    {
     "data": {
      "text/plain": [
       "PassengerId   0.000\n",
       "Survived      0.000\n",
       "Pclass        0.000\n",
       "Name          0.000\n",
       "Sex           0.000\n",
       "Age           0.199\n",
       "SibSp         0.000\n",
       "Parch         0.000\n",
       "Ticket        0.000\n",
       "Fare          0.000\n",
       "Cabin         0.771\n",
       "Embarked      0.002\n",
       "dtype: float64"
      ]
     },
     "execution_count": 136,
     "metadata": {},
     "output_type": "execute_result"
    }
   ],
   "source": [
    "df.isna().mean()"
   ]
  },
  {
   "cell_type": "code",
   "execution_count": 137,
   "id": "94d1952b",
   "metadata": {
    "ExecuteTime": {
     "end_time": "2021-11-16T12:41:00.495849Z",
     "start_time": "2021-11-16T12:41:00.456955Z"
    },
    "hidden": true
   },
   "outputs": [
    {
     "data": {
      "text/html": [
       "<div>\n",
       "<style scoped>\n",
       "    .dataframe tbody tr th:only-of-type {\n",
       "        vertical-align: middle;\n",
       "    }\n",
       "\n",
       "    .dataframe tbody tr th {\n",
       "        vertical-align: top;\n",
       "    }\n",
       "\n",
       "    .dataframe thead th {\n",
       "        text-align: right;\n",
       "    }\n",
       "</style>\n",
       "<table border=\"1\" class=\"dataframe\">\n",
       "  <thead>\n",
       "    <tr style=\"text-align: right;\">\n",
       "      <th></th>\n",
       "      <th>PassengerId</th>\n",
       "      <th>Survived</th>\n",
       "      <th>Pclass</th>\n",
       "      <th>Name</th>\n",
       "      <th>Sex</th>\n",
       "      <th>Age</th>\n",
       "      <th>SibSp</th>\n",
       "      <th>Parch</th>\n",
       "      <th>Ticket</th>\n",
       "      <th>Fare</th>\n",
       "      <th>Cabin</th>\n",
       "      <th>Embarked</th>\n",
       "    </tr>\n",
       "  </thead>\n",
       "  <tbody>\n",
       "    <tr>\n",
       "      <th>0</th>\n",
       "      <td>True</td>\n",
       "      <td>True</td>\n",
       "      <td>True</td>\n",
       "      <td>True</td>\n",
       "      <td>True</td>\n",
       "      <td>True</td>\n",
       "      <td>True</td>\n",
       "      <td>True</td>\n",
       "      <td>True</td>\n",
       "      <td>True</td>\n",
       "      <td>False</td>\n",
       "      <td>True</td>\n",
       "    </tr>\n",
       "    <tr>\n",
       "      <th>1</th>\n",
       "      <td>True</td>\n",
       "      <td>True</td>\n",
       "      <td>True</td>\n",
       "      <td>True</td>\n",
       "      <td>True</td>\n",
       "      <td>True</td>\n",
       "      <td>True</td>\n",
       "      <td>True</td>\n",
       "      <td>True</td>\n",
       "      <td>True</td>\n",
       "      <td>True</td>\n",
       "      <td>True</td>\n",
       "    </tr>\n",
       "    <tr>\n",
       "      <th>2</th>\n",
       "      <td>True</td>\n",
       "      <td>True</td>\n",
       "      <td>True</td>\n",
       "      <td>True</td>\n",
       "      <td>True</td>\n",
       "      <td>True</td>\n",
       "      <td>True</td>\n",
       "      <td>True</td>\n",
       "      <td>True</td>\n",
       "      <td>True</td>\n",
       "      <td>False</td>\n",
       "      <td>True</td>\n",
       "    </tr>\n",
       "    <tr>\n",
       "      <th>3</th>\n",
       "      <td>True</td>\n",
       "      <td>True</td>\n",
       "      <td>True</td>\n",
       "      <td>True</td>\n",
       "      <td>True</td>\n",
       "      <td>True</td>\n",
       "      <td>True</td>\n",
       "      <td>True</td>\n",
       "      <td>True</td>\n",
       "      <td>True</td>\n",
       "      <td>True</td>\n",
       "      <td>True</td>\n",
       "    </tr>\n",
       "    <tr>\n",
       "      <th>4</th>\n",
       "      <td>True</td>\n",
       "      <td>True</td>\n",
       "      <td>True</td>\n",
       "      <td>True</td>\n",
       "      <td>True</td>\n",
       "      <td>True</td>\n",
       "      <td>True</td>\n",
       "      <td>True</td>\n",
       "      <td>True</td>\n",
       "      <td>True</td>\n",
       "      <td>False</td>\n",
       "      <td>True</td>\n",
       "    </tr>\n",
       "    <tr>\n",
       "      <th>...</th>\n",
       "      <td>...</td>\n",
       "      <td>...</td>\n",
       "      <td>...</td>\n",
       "      <td>...</td>\n",
       "      <td>...</td>\n",
       "      <td>...</td>\n",
       "      <td>...</td>\n",
       "      <td>...</td>\n",
       "      <td>...</td>\n",
       "      <td>...</td>\n",
       "      <td>...</td>\n",
       "      <td>...</td>\n",
       "    </tr>\n",
       "    <tr>\n",
       "      <th>886</th>\n",
       "      <td>True</td>\n",
       "      <td>True</td>\n",
       "      <td>True</td>\n",
       "      <td>True</td>\n",
       "      <td>True</td>\n",
       "      <td>True</td>\n",
       "      <td>True</td>\n",
       "      <td>True</td>\n",
       "      <td>True</td>\n",
       "      <td>True</td>\n",
       "      <td>False</td>\n",
       "      <td>True</td>\n",
       "    </tr>\n",
       "    <tr>\n",
       "      <th>887</th>\n",
       "      <td>True</td>\n",
       "      <td>True</td>\n",
       "      <td>True</td>\n",
       "      <td>True</td>\n",
       "      <td>True</td>\n",
       "      <td>True</td>\n",
       "      <td>True</td>\n",
       "      <td>True</td>\n",
       "      <td>True</td>\n",
       "      <td>True</td>\n",
       "      <td>True</td>\n",
       "      <td>True</td>\n",
       "    </tr>\n",
       "    <tr>\n",
       "      <th>888</th>\n",
       "      <td>True</td>\n",
       "      <td>True</td>\n",
       "      <td>True</td>\n",
       "      <td>True</td>\n",
       "      <td>True</td>\n",
       "      <td>False</td>\n",
       "      <td>True</td>\n",
       "      <td>True</td>\n",
       "      <td>True</td>\n",
       "      <td>True</td>\n",
       "      <td>False</td>\n",
       "      <td>True</td>\n",
       "    </tr>\n",
       "    <tr>\n",
       "      <th>889</th>\n",
       "      <td>True</td>\n",
       "      <td>True</td>\n",
       "      <td>True</td>\n",
       "      <td>True</td>\n",
       "      <td>True</td>\n",
       "      <td>True</td>\n",
       "      <td>True</td>\n",
       "      <td>True</td>\n",
       "      <td>True</td>\n",
       "      <td>True</td>\n",
       "      <td>True</td>\n",
       "      <td>True</td>\n",
       "    </tr>\n",
       "    <tr>\n",
       "      <th>890</th>\n",
       "      <td>True</td>\n",
       "      <td>True</td>\n",
       "      <td>True</td>\n",
       "      <td>True</td>\n",
       "      <td>True</td>\n",
       "      <td>True</td>\n",
       "      <td>True</td>\n",
       "      <td>True</td>\n",
       "      <td>True</td>\n",
       "      <td>True</td>\n",
       "      <td>False</td>\n",
       "      <td>True</td>\n",
       "    </tr>\n",
       "  </tbody>\n",
       "</table>\n",
       "<p>891 rows × 12 columns</p>\n",
       "</div>"
      ],
      "text/plain": [
       "     PassengerId  Survived  Pclass  Name   Sex    Age  SibSp  Parch  Ticket  \\\n",
       "0           True      True    True  True  True   True   True   True    True   \n",
       "1           True      True    True  True  True   True   True   True    True   \n",
       "2           True      True    True  True  True   True   True   True    True   \n",
       "3           True      True    True  True  True   True   True   True    True   \n",
       "4           True      True    True  True  True   True   True   True    True   \n",
       "..           ...       ...     ...   ...   ...    ...    ...    ...     ...   \n",
       "886         True      True    True  True  True   True   True   True    True   \n",
       "887         True      True    True  True  True   True   True   True    True   \n",
       "888         True      True    True  True  True  False   True   True    True   \n",
       "889         True      True    True  True  True   True   True   True    True   \n",
       "890         True      True    True  True  True   True   True   True    True   \n",
       "\n",
       "     Fare  Cabin  Embarked  \n",
       "0    True  False      True  \n",
       "1    True   True      True  \n",
       "2    True  False      True  \n",
       "3    True   True      True  \n",
       "4    True  False      True  \n",
       "..    ...    ...       ...  \n",
       "886  True  False      True  \n",
       "887  True   True      True  \n",
       "888  True  False      True  \n",
       "889  True   True      True  \n",
       "890  True  False      True  \n",
       "\n",
       "[891 rows x 12 columns]"
      ]
     },
     "execution_count": 137,
     "metadata": {},
     "output_type": "execute_result"
    }
   ],
   "source": [
    "df.notnull()"
   ]
  },
  {
   "cell_type": "code",
   "execution_count": 139,
   "id": "ef07eccc",
   "metadata": {
    "ExecuteTime": {
     "end_time": "2021-11-16T12:41:44.206208Z",
     "start_time": "2021-11-16T12:41:44.187260Z"
    },
    "hidden": true
   },
   "outputs": [
    {
     "data": {
      "text/plain": [
       "714"
      ]
     },
     "execution_count": 139,
     "metadata": {},
     "output_type": "execute_result"
    }
   ],
   "source": [
    "df.Age.notnull().sum()"
   ]
  },
  {
   "cell_type": "code",
   "execution_count": 141,
   "id": "0b2f70c7",
   "metadata": {
    "ExecuteTime": {
     "end_time": "2021-11-16T12:42:04.854161Z",
     "start_time": "2021-11-16T12:42:04.842193Z"
    },
    "hidden": true
   },
   "outputs": [
    {
     "data": {
      "text/plain": [
       "PassengerId   1.000\n",
       "Survived      1.000\n",
       "Pclass        1.000\n",
       "Name          1.000\n",
       "Sex           1.000\n",
       "Age           0.801\n",
       "SibSp         1.000\n",
       "Parch         1.000\n",
       "Ticket        1.000\n",
       "Fare          1.000\n",
       "Cabin         0.229\n",
       "Embarked      0.998\n",
       "dtype: float64"
      ]
     },
     "execution_count": 141,
     "metadata": {},
     "output_type": "execute_result"
    }
   ],
   "source": [
    "df.notnull().mean()"
   ]
  },
  {
   "cell_type": "markdown",
   "id": "b497a0c3",
   "metadata": {
    "hidden": true
   },
   "source": [
    "### to_frame() - Kolayca DataFrame yapma\n",
    "* Bazen dataframe'den elde ettiğimiz bir nesneyi de DataFrame olarak kullanmak isteriz.  \n",
    "\n",
    "\n",
    "* Mesela value_counts() ile bir dataframe'deki belli bir kolonda bulunan unique elemanların sayısını elde edersin. Ama eleman sayılarını gösteren liste sana bir dataframe olarak döndürülmez. Ama sen eğer bunu da dataframe olarak kullanmak istersen to_frame kodu imdadına yetişiyor.  \n",
    "\n",
    "\n",
    "* Çok kullanışlı bir kod, herhangi bir şeye kullanabilirsin."
   ]
  },
  {
   "cell_type": "code",
   "execution_count": 50,
   "id": "3aaf872b",
   "metadata": {
    "ExecuteTime": {
     "end_time": "2021-11-16T01:37:50.946886Z",
     "start_time": "2021-11-16T01:37:50.927971Z"
    },
    "hidden": true
   },
   "outputs": [],
   "source": [
    "df = pd.read_csv(\"train.csv\")"
   ]
  },
  {
   "cell_type": "code",
   "execution_count": 51,
   "id": "7d0c097e",
   "metadata": {
    "ExecuteTime": {
     "end_time": "2021-11-16T01:38:07.356872Z",
     "start_time": "2021-11-16T01:38:07.342909Z"
    },
    "hidden": true
   },
   "outputs": [
    {
     "data": {
      "text/plain": [
       "S    644\n",
       "C    168\n",
       "Q     77\n",
       "Name: Embarked, dtype: int64"
      ]
     },
     "execution_count": 51,
     "metadata": {},
     "output_type": "execute_result"
    }
   ],
   "source": [
    "df.Embarked.value_counts()"
   ]
  },
  {
   "cell_type": "code",
   "execution_count": 52,
   "id": "811d9cf3",
   "metadata": {
    "ExecuteTime": {
     "end_time": "2021-11-16T01:38:26.030425Z",
     "start_time": "2021-11-16T01:38:26.019454Z"
    },
    "hidden": true
   },
   "outputs": [
    {
     "data": {
      "text/html": [
       "<div>\n",
       "<style scoped>\n",
       "    .dataframe tbody tr th:only-of-type {\n",
       "        vertical-align: middle;\n",
       "    }\n",
       "\n",
       "    .dataframe tbody tr th {\n",
       "        vertical-align: top;\n",
       "    }\n",
       "\n",
       "    .dataframe thead th {\n",
       "        text-align: right;\n",
       "    }\n",
       "</style>\n",
       "<table border=\"1\" class=\"dataframe\">\n",
       "  <thead>\n",
       "    <tr style=\"text-align: right;\">\n",
       "      <th></th>\n",
       "      <th>Embarked</th>\n",
       "    </tr>\n",
       "  </thead>\n",
       "  <tbody>\n",
       "    <tr>\n",
       "      <th>S</th>\n",
       "      <td>644</td>\n",
       "    </tr>\n",
       "    <tr>\n",
       "      <th>C</th>\n",
       "      <td>168</td>\n",
       "    </tr>\n",
       "    <tr>\n",
       "      <th>Q</th>\n",
       "      <td>77</td>\n",
       "    </tr>\n",
       "  </tbody>\n",
       "</table>\n",
       "</div>"
      ],
      "text/plain": [
       "   Embarked\n",
       "S       644\n",
       "C       168\n",
       "Q        77"
      ]
     },
     "execution_count": 52,
     "metadata": {},
     "output_type": "execute_result"
    }
   ],
   "source": [
    "df.Embarked.value_counts().to_frame()"
   ]
  },
  {
   "cell_type": "markdown",
   "id": "efd76498",
   "metadata": {
    "hidden": true
   },
   "source": [
    "### to_dict()\n",
    "\n",
    "* to_frame()'in çalışma prensibinde olduğu gibi bu kodla nesneleri dictionary formatına çevirebiliriz."
   ]
  },
  {
   "cell_type": "code",
   "execution_count": 53,
   "id": "93ab4797",
   "metadata": {
    "ExecuteTime": {
     "end_time": "2021-11-16T01:39:50.477405Z",
     "start_time": "2021-11-16T01:39:50.456427Z"
    },
    "hidden": true
   },
   "outputs": [
    {
     "data": {
      "text/plain": [
       "S    644\n",
       "C    168\n",
       "Q     77\n",
       "Name: Embarked, dtype: int64"
      ]
     },
     "execution_count": 53,
     "metadata": {},
     "output_type": "execute_result"
    }
   ],
   "source": [
    "df = pd.read_csv(\"train.csv\")\n",
    "df.Embarked.value_counts()"
   ]
  },
  {
   "cell_type": "code",
   "execution_count": 54,
   "id": "213faf7a",
   "metadata": {
    "ExecuteTime": {
     "end_time": "2021-11-16T01:41:17.317029Z",
     "start_time": "2021-11-16T01:41:17.305027Z"
    },
    "hidden": true
   },
   "outputs": [
    {
     "data": {
      "text/plain": [
       "{'S': 644, 'C': 168, 'Q': 77}"
      ]
     },
     "execution_count": 54,
     "metadata": {},
     "output_type": "execute_result"
    }
   ],
   "source": [
    "df.Embarked.value_counts().to_dict()"
   ]
  },
  {
   "cell_type": "markdown",
   "id": "f6ec5376",
   "metadata": {
    "heading_collapsed": true
   },
   "source": [
    "## QUERY(Sorgu) Kodları - DataFrame'de Slicing Yapma/İstenilen Verileri Arama"
   ]
  },
  {
   "cell_type": "markdown",
   "id": "b8a4a56c",
   "metadata": {
    "hidden": true
   },
   "source": [
    "### head ve tail\n",
    "\n",
    "* **head =** index sırasına göre en üstteki belirtilen sayıdaki veriyi gösterir.  \n",
    "\n",
    "\n",
    "* **tail =** index sırasına göre en alttaki belirtilen sayıdaki veriyi gösterir."
   ]
  },
  {
   "cell_type": "code",
   "execution_count": 58,
   "id": "00a059c6",
   "metadata": {
    "ExecuteTime": {
     "end_time": "2021-11-16T01:50:27.656406Z",
     "start_time": "2021-11-16T01:50:27.633472Z"
    },
    "hidden": true
   },
   "outputs": [],
   "source": [
    "df = pd.read_csv(\"train.csv\")"
   ]
  },
  {
   "cell_type": "code",
   "execution_count": 59,
   "id": "8edcdf14",
   "metadata": {
    "ExecuteTime": {
     "end_time": "2021-11-16T01:50:34.030775Z",
     "start_time": "2021-11-16T01:50:34.003889Z"
    },
    "hidden": true
   },
   "outputs": [
    {
     "data": {
      "text/html": [
       "<div>\n",
       "<style scoped>\n",
       "    .dataframe tbody tr th:only-of-type {\n",
       "        vertical-align: middle;\n",
       "    }\n",
       "\n",
       "    .dataframe tbody tr th {\n",
       "        vertical-align: top;\n",
       "    }\n",
       "\n",
       "    .dataframe thead th {\n",
       "        text-align: right;\n",
       "    }\n",
       "</style>\n",
       "<table border=\"1\" class=\"dataframe\">\n",
       "  <thead>\n",
       "    <tr style=\"text-align: right;\">\n",
       "      <th></th>\n",
       "      <th>PassengerId</th>\n",
       "      <th>Survived</th>\n",
       "      <th>Pclass</th>\n",
       "      <th>Name</th>\n",
       "      <th>Sex</th>\n",
       "      <th>Age</th>\n",
       "      <th>SibSp</th>\n",
       "      <th>Parch</th>\n",
       "      <th>Ticket</th>\n",
       "      <th>Fare</th>\n",
       "      <th>Cabin</th>\n",
       "      <th>Embarked</th>\n",
       "    </tr>\n",
       "  </thead>\n",
       "  <tbody>\n",
       "    <tr>\n",
       "      <th>0</th>\n",
       "      <td>1</td>\n",
       "      <td>0</td>\n",
       "      <td>3</td>\n",
       "      <td>Braund, Mr. Owen Harris</td>\n",
       "      <td>male</td>\n",
       "      <td>22.000</td>\n",
       "      <td>1</td>\n",
       "      <td>0</td>\n",
       "      <td>A/5 21171</td>\n",
       "      <td>7.250</td>\n",
       "      <td>NaN</td>\n",
       "      <td>S</td>\n",
       "    </tr>\n",
       "    <tr>\n",
       "      <th>1</th>\n",
       "      <td>2</td>\n",
       "      <td>1</td>\n",
       "      <td>1</td>\n",
       "      <td>Cumings, Mrs. John Bradley (Florence Briggs Th...</td>\n",
       "      <td>female</td>\n",
       "      <td>38.000</td>\n",
       "      <td>1</td>\n",
       "      <td>0</td>\n",
       "      <td>PC 17599</td>\n",
       "      <td>71.283</td>\n",
       "      <td>C85</td>\n",
       "      <td>C</td>\n",
       "    </tr>\n",
       "    <tr>\n",
       "      <th>2</th>\n",
       "      <td>3</td>\n",
       "      <td>1</td>\n",
       "      <td>3</td>\n",
       "      <td>Heikkinen, Miss. Laina</td>\n",
       "      <td>female</td>\n",
       "      <td>26.000</td>\n",
       "      <td>0</td>\n",
       "      <td>0</td>\n",
       "      <td>STON/O2. 3101282</td>\n",
       "      <td>7.925</td>\n",
       "      <td>NaN</td>\n",
       "      <td>S</td>\n",
       "    </tr>\n",
       "  </tbody>\n",
       "</table>\n",
       "</div>"
      ],
      "text/plain": [
       "   PassengerId  Survived  Pclass  \\\n",
       "0            1         0       3   \n",
       "1            2         1       1   \n",
       "2            3         1       3   \n",
       "\n",
       "                                                Name     Sex    Age  SibSp  \\\n",
       "0                            Braund, Mr. Owen Harris    male 22.000      1   \n",
       "1  Cumings, Mrs. John Bradley (Florence Briggs Th...  female 38.000      1   \n",
       "2                             Heikkinen, Miss. Laina  female 26.000      0   \n",
       "\n",
       "   Parch            Ticket   Fare Cabin Embarked  \n",
       "0      0         A/5 21171  7.250   NaN        S  \n",
       "1      0          PC 17599 71.283   C85        C  \n",
       "2      0  STON/O2. 3101282  7.925   NaN        S  "
      ]
     },
     "execution_count": 59,
     "metadata": {},
     "output_type": "execute_result"
    }
   ],
   "source": [
    "df.head(3)"
   ]
  },
  {
   "cell_type": "code",
   "execution_count": 60,
   "id": "29cfc8c9",
   "metadata": {
    "ExecuteTime": {
     "end_time": "2021-11-16T01:50:39.032915Z",
     "start_time": "2021-11-16T01:50:39.004954Z"
    },
    "hidden": true
   },
   "outputs": [
    {
     "data": {
      "text/html": [
       "<div>\n",
       "<style scoped>\n",
       "    .dataframe tbody tr th:only-of-type {\n",
       "        vertical-align: middle;\n",
       "    }\n",
       "\n",
       "    .dataframe tbody tr th {\n",
       "        vertical-align: top;\n",
       "    }\n",
       "\n",
       "    .dataframe thead th {\n",
       "        text-align: right;\n",
       "    }\n",
       "</style>\n",
       "<table border=\"1\" class=\"dataframe\">\n",
       "  <thead>\n",
       "    <tr style=\"text-align: right;\">\n",
       "      <th></th>\n",
       "      <th>PassengerId</th>\n",
       "      <th>Survived</th>\n",
       "      <th>Pclass</th>\n",
       "      <th>Name</th>\n",
       "      <th>Sex</th>\n",
       "      <th>Age</th>\n",
       "      <th>SibSp</th>\n",
       "      <th>Parch</th>\n",
       "      <th>Ticket</th>\n",
       "      <th>Fare</th>\n",
       "      <th>Cabin</th>\n",
       "      <th>Embarked</th>\n",
       "    </tr>\n",
       "  </thead>\n",
       "  <tbody>\n",
       "    <tr>\n",
       "      <th>888</th>\n",
       "      <td>889</td>\n",
       "      <td>0</td>\n",
       "      <td>3</td>\n",
       "      <td>Johnston, Miss. Catherine Helen \"Carrie\"</td>\n",
       "      <td>female</td>\n",
       "      <td>NaN</td>\n",
       "      <td>1</td>\n",
       "      <td>2</td>\n",
       "      <td>W./C. 6607</td>\n",
       "      <td>23.450</td>\n",
       "      <td>NaN</td>\n",
       "      <td>S</td>\n",
       "    </tr>\n",
       "    <tr>\n",
       "      <th>889</th>\n",
       "      <td>890</td>\n",
       "      <td>1</td>\n",
       "      <td>1</td>\n",
       "      <td>Behr, Mr. Karl Howell</td>\n",
       "      <td>male</td>\n",
       "      <td>26.000</td>\n",
       "      <td>0</td>\n",
       "      <td>0</td>\n",
       "      <td>111369</td>\n",
       "      <td>30.000</td>\n",
       "      <td>C148</td>\n",
       "      <td>C</td>\n",
       "    </tr>\n",
       "    <tr>\n",
       "      <th>890</th>\n",
       "      <td>891</td>\n",
       "      <td>0</td>\n",
       "      <td>3</td>\n",
       "      <td>Dooley, Mr. Patrick</td>\n",
       "      <td>male</td>\n",
       "      <td>32.000</td>\n",
       "      <td>0</td>\n",
       "      <td>0</td>\n",
       "      <td>370376</td>\n",
       "      <td>7.750</td>\n",
       "      <td>NaN</td>\n",
       "      <td>Q</td>\n",
       "    </tr>\n",
       "  </tbody>\n",
       "</table>\n",
       "</div>"
      ],
      "text/plain": [
       "     PassengerId  Survived  Pclass                                      Name  \\\n",
       "888          889         0       3  Johnston, Miss. Catherine Helen \"Carrie\"   \n",
       "889          890         1       1                     Behr, Mr. Karl Howell   \n",
       "890          891         0       3                       Dooley, Mr. Patrick   \n",
       "\n",
       "        Sex    Age  SibSp  Parch      Ticket   Fare Cabin Embarked  \n",
       "888  female    NaN      1      2  W./C. 6607 23.450   NaN        S  \n",
       "889    male 26.000      0      0      111369 30.000  C148        C  \n",
       "890    male 32.000      0      0      370376  7.750   NaN        Q  "
      ]
     },
     "execution_count": 60,
     "metadata": {},
     "output_type": "execute_result"
    }
   ],
   "source": [
    "df.tail(3)"
   ]
  },
  {
   "cell_type": "markdown",
   "id": "13924bb5",
   "metadata": {
    "hidden": true
   },
   "source": [
    "### nlargest ve nsmallest\n",
    "\n",
    "* Bir nümerik değişkendeki belirtilen sayıdaki en büyük ve en küçük değerlerin görüntülenmesi için kullanılırlar. \n",
    "\n",
    "\n",
    "* Kategorik değişkenlerde çalışmıyorlar.\n",
    "\n",
    "\n",
    "* **keep=\"all\"**, bu parametre kullanılarak duplicate etmiş gözlemlerin hepsinin görüntülenmesi sağlanır. Default ayarlarda sadece ilkini gösterecektir."
   ]
  },
  {
   "cell_type": "code",
   "execution_count": 61,
   "id": "98080288",
   "metadata": {
    "ExecuteTime": {
     "end_time": "2021-11-16T01:53:19.166360Z",
     "start_time": "2021-11-16T01:53:19.135322Z"
    },
    "hidden": true
   },
   "outputs": [],
   "source": [
    "df = pd.read_csv(\"train.csv\")"
   ]
  },
  {
   "cell_type": "code",
   "execution_count": 65,
   "id": "28ec64f4",
   "metadata": {
    "ExecuteTime": {
     "end_time": "2021-11-16T01:56:54.936205Z",
     "start_time": "2021-11-16T01:56:54.919251Z"
    },
    "hidden": true
   },
   "outputs": [
    {
     "data": {
      "text/plain": [
       "630   80.000\n",
       "851   74.000\n",
       "96    71.000\n",
       "493   71.000\n",
       "116   70.500\n",
       "Name: Age, dtype: float64"
      ]
     },
     "execution_count": 65,
     "metadata": {},
     "output_type": "execute_result"
    }
   ],
   "source": [
    "df.Age.nlargest(5, keep=\"all\")"
   ]
  },
  {
   "cell_type": "code",
   "execution_count": 66,
   "id": "432118fc",
   "metadata": {
    "ExecuteTime": {
     "end_time": "2021-11-16T01:57:05.276796Z",
     "start_time": "2021-11-16T01:57:05.254888Z"
    },
    "hidden": true
   },
   "outputs": [
    {
     "data": {
      "text/plain": [
       "803   0.420\n",
       "755   0.670\n",
       "469   0.750\n",
       "644   0.750\n",
       "78    0.830\n",
       "831   0.830\n",
       "Name: Age, dtype: float64"
      ]
     },
     "execution_count": 66,
     "metadata": {},
     "output_type": "execute_result"
    }
   ],
   "source": [
    "df.Age.nsmallest(5, keep=\"all\")"
   ]
  },
  {
   "cell_type": "markdown",
   "id": "16d0b8d5",
   "metadata": {
    "hidden": true
   },
   "source": [
    "### Conditional Slicing"
   ]
  },
  {
   "cell_type": "code",
   "execution_count": 55,
   "id": "0f5ffe96",
   "metadata": {
    "ExecuteTime": {
     "end_time": "2021-11-16T01:48:50.756379Z",
     "start_time": "2021-11-16T01:48:50.737433Z"
    },
    "hidden": true
   },
   "outputs": [],
   "source": [
    "df = pd.read_csv(\"train.csv\")"
   ]
  },
  {
   "cell_type": "code",
   "execution_count": 56,
   "id": "a932c1ed",
   "metadata": {
    "ExecuteTime": {
     "end_time": "2021-11-16T01:48:51.341361Z",
     "start_time": "2021-11-16T01:48:51.295937Z"
    },
    "hidden": true
   },
   "outputs": [
    {
     "data": {
      "text/html": [
       "<div>\n",
       "<style scoped>\n",
       "    .dataframe tbody tr th:only-of-type {\n",
       "        vertical-align: middle;\n",
       "    }\n",
       "\n",
       "    .dataframe tbody tr th {\n",
       "        vertical-align: top;\n",
       "    }\n",
       "\n",
       "    .dataframe thead th {\n",
       "        text-align: right;\n",
       "    }\n",
       "</style>\n",
       "<table border=\"1\" class=\"dataframe\">\n",
       "  <thead>\n",
       "    <tr style=\"text-align: right;\">\n",
       "      <th></th>\n",
       "      <th>PassengerId</th>\n",
       "      <th>Survived</th>\n",
       "      <th>Pclass</th>\n",
       "      <th>Name</th>\n",
       "      <th>Sex</th>\n",
       "      <th>Age</th>\n",
       "      <th>SibSp</th>\n",
       "      <th>Parch</th>\n",
       "      <th>Ticket</th>\n",
       "      <th>Fare</th>\n",
       "      <th>Cabin</th>\n",
       "      <th>Embarked</th>\n",
       "    </tr>\n",
       "  </thead>\n",
       "  <tbody>\n",
       "    <tr>\n",
       "      <th>96</th>\n",
       "      <td>97</td>\n",
       "      <td>0</td>\n",
       "      <td>1</td>\n",
       "      <td>Goldschmidt, Mr. George B</td>\n",
       "      <td>male</td>\n",
       "      <td>71.000</td>\n",
       "      <td>0</td>\n",
       "      <td>0</td>\n",
       "      <td>PC 17754</td>\n",
       "      <td>34.654</td>\n",
       "      <td>A5</td>\n",
       "      <td>C</td>\n",
       "    </tr>\n",
       "    <tr>\n",
       "      <th>116</th>\n",
       "      <td>117</td>\n",
       "      <td>0</td>\n",
       "      <td>3</td>\n",
       "      <td>Connors, Mr. Patrick</td>\n",
       "      <td>male</td>\n",
       "      <td>70.500</td>\n",
       "      <td>0</td>\n",
       "      <td>0</td>\n",
       "      <td>370369</td>\n",
       "      <td>7.750</td>\n",
       "      <td>NaN</td>\n",
       "      <td>Q</td>\n",
       "    </tr>\n",
       "    <tr>\n",
       "      <th>493</th>\n",
       "      <td>494</td>\n",
       "      <td>0</td>\n",
       "      <td>1</td>\n",
       "      <td>Artagaveytia, Mr. Ramon</td>\n",
       "      <td>male</td>\n",
       "      <td>71.000</td>\n",
       "      <td>0</td>\n",
       "      <td>0</td>\n",
       "      <td>PC 17609</td>\n",
       "      <td>49.504</td>\n",
       "      <td>NaN</td>\n",
       "      <td>C</td>\n",
       "    </tr>\n",
       "    <tr>\n",
       "      <th>630</th>\n",
       "      <td>631</td>\n",
       "      <td>1</td>\n",
       "      <td>1</td>\n",
       "      <td>Barkworth, Mr. Algernon Henry Wilson</td>\n",
       "      <td>male</td>\n",
       "      <td>80.000</td>\n",
       "      <td>0</td>\n",
       "      <td>0</td>\n",
       "      <td>27042</td>\n",
       "      <td>30.000</td>\n",
       "      <td>A23</td>\n",
       "      <td>S</td>\n",
       "    </tr>\n",
       "    <tr>\n",
       "      <th>672</th>\n",
       "      <td>673</td>\n",
       "      <td>0</td>\n",
       "      <td>2</td>\n",
       "      <td>Mitchell, Mr. Henry Michael</td>\n",
       "      <td>male</td>\n",
       "      <td>70.000</td>\n",
       "      <td>0</td>\n",
       "      <td>0</td>\n",
       "      <td>C.A. 24580</td>\n",
       "      <td>10.500</td>\n",
       "      <td>NaN</td>\n",
       "      <td>S</td>\n",
       "    </tr>\n",
       "    <tr>\n",
       "      <th>745</th>\n",
       "      <td>746</td>\n",
       "      <td>0</td>\n",
       "      <td>1</td>\n",
       "      <td>Crosby, Capt. Edward Gifford</td>\n",
       "      <td>male</td>\n",
       "      <td>70.000</td>\n",
       "      <td>1</td>\n",
       "      <td>1</td>\n",
       "      <td>WE/P 5735</td>\n",
       "      <td>71.000</td>\n",
       "      <td>B22</td>\n",
       "      <td>S</td>\n",
       "    </tr>\n",
       "    <tr>\n",
       "      <th>851</th>\n",
       "      <td>852</td>\n",
       "      <td>0</td>\n",
       "      <td>3</td>\n",
       "      <td>Svensson, Mr. Johan</td>\n",
       "      <td>male</td>\n",
       "      <td>74.000</td>\n",
       "      <td>0</td>\n",
       "      <td>0</td>\n",
       "      <td>347060</td>\n",
       "      <td>7.775</td>\n",
       "      <td>NaN</td>\n",
       "      <td>S</td>\n",
       "    </tr>\n",
       "  </tbody>\n",
       "</table>\n",
       "</div>"
      ],
      "text/plain": [
       "     PassengerId  Survived  Pclass                                  Name  \\\n",
       "96            97         0       1             Goldschmidt, Mr. George B   \n",
       "116          117         0       3                  Connors, Mr. Patrick   \n",
       "493          494         0       1               Artagaveytia, Mr. Ramon   \n",
       "630          631         1       1  Barkworth, Mr. Algernon Henry Wilson   \n",
       "672          673         0       2           Mitchell, Mr. Henry Michael   \n",
       "745          746         0       1          Crosby, Capt. Edward Gifford   \n",
       "851          852         0       3                   Svensson, Mr. Johan   \n",
       "\n",
       "      Sex    Age  SibSp  Parch      Ticket   Fare Cabin Embarked  \n",
       "96   male 71.000      0      0    PC 17754 34.654    A5        C  \n",
       "116  male 70.500      0      0      370369  7.750   NaN        Q  \n",
       "493  male 71.000      0      0    PC 17609 49.504   NaN        C  \n",
       "630  male 80.000      0      0       27042 30.000   A23        S  \n",
       "672  male 70.000      0      0  C.A. 24580 10.500   NaN        S  \n",
       "745  male 70.000      1      1   WE/P 5735 71.000   B22        S  \n",
       "851  male 74.000      0      0      347060  7.775   NaN        S  "
      ]
     },
     "execution_count": 56,
     "metadata": {},
     "output_type": "execute_result"
    }
   ],
   "source": [
    "df[(df.Age >= 70) & (df[\"Sex\"]==\"male\")]"
   ]
  },
  {
   "cell_type": "code",
   "execution_count": 57,
   "id": "e8217027",
   "metadata": {
    "ExecuteTime": {
     "end_time": "2021-11-16T01:48:55.624135Z",
     "start_time": "2021-11-16T01:48:55.577797Z"
    },
    "hidden": true
   },
   "outputs": [
    {
     "data": {
      "text/html": [
       "<div>\n",
       "<style scoped>\n",
       "    .dataframe tbody tr th:only-of-type {\n",
       "        vertical-align: middle;\n",
       "    }\n",
       "\n",
       "    .dataframe tbody tr th {\n",
       "        vertical-align: top;\n",
       "    }\n",
       "\n",
       "    .dataframe thead th {\n",
       "        text-align: right;\n",
       "    }\n",
       "</style>\n",
       "<table border=\"1\" class=\"dataframe\">\n",
       "  <thead>\n",
       "    <tr style=\"text-align: right;\">\n",
       "      <th></th>\n",
       "      <th>PassengerId</th>\n",
       "      <th>Survived</th>\n",
       "      <th>Pclass</th>\n",
       "      <th>Name</th>\n",
       "      <th>Sex</th>\n",
       "      <th>Age</th>\n",
       "      <th>SibSp</th>\n",
       "      <th>Parch</th>\n",
       "      <th>Ticket</th>\n",
       "      <th>Fare</th>\n",
       "      <th>Cabin</th>\n",
       "      <th>Embarked</th>\n",
       "    </tr>\n",
       "  </thead>\n",
       "  <tbody>\n",
       "    <tr>\n",
       "      <th>0</th>\n",
       "      <td>1</td>\n",
       "      <td>0</td>\n",
       "      <td>3</td>\n",
       "      <td>Braund, Mr. Owen Harris</td>\n",
       "      <td>male</td>\n",
       "      <td>22.000</td>\n",
       "      <td>1</td>\n",
       "      <td>0</td>\n",
       "      <td>A/5 21171</td>\n",
       "      <td>7.250</td>\n",
       "      <td>NaN</td>\n",
       "      <td>S</td>\n",
       "    </tr>\n",
       "    <tr>\n",
       "      <th>1</th>\n",
       "      <td>2</td>\n",
       "      <td>1</td>\n",
       "      <td>1</td>\n",
       "      <td>Cumings, Mrs. John Bradley (Florence Briggs Th...</td>\n",
       "      <td>female</td>\n",
       "      <td>38.000</td>\n",
       "      <td>1</td>\n",
       "      <td>0</td>\n",
       "      <td>PC 17599</td>\n",
       "      <td>71.283</td>\n",
       "      <td>C85</td>\n",
       "      <td>C</td>\n",
       "    </tr>\n",
       "    <tr>\n",
       "      <th>2</th>\n",
       "      <td>3</td>\n",
       "      <td>1</td>\n",
       "      <td>3</td>\n",
       "      <td>Heikkinen, Miss. Laina</td>\n",
       "      <td>female</td>\n",
       "      <td>26.000</td>\n",
       "      <td>0</td>\n",
       "      <td>0</td>\n",
       "      <td>STON/O2. 3101282</td>\n",
       "      <td>7.925</td>\n",
       "      <td>NaN</td>\n",
       "      <td>S</td>\n",
       "    </tr>\n",
       "    <tr>\n",
       "      <th>3</th>\n",
       "      <td>4</td>\n",
       "      <td>1</td>\n",
       "      <td>1</td>\n",
       "      <td>Futrelle, Mrs. Jacques Heath (Lily May Peel)</td>\n",
       "      <td>female</td>\n",
       "      <td>35.000</td>\n",
       "      <td>1</td>\n",
       "      <td>0</td>\n",
       "      <td>113803</td>\n",
       "      <td>53.100</td>\n",
       "      <td>C123</td>\n",
       "      <td>S</td>\n",
       "    </tr>\n",
       "    <tr>\n",
       "      <th>4</th>\n",
       "      <td>5</td>\n",
       "      <td>0</td>\n",
       "      <td>3</td>\n",
       "      <td>Allen, Mr. William Henry</td>\n",
       "      <td>male</td>\n",
       "      <td>35.000</td>\n",
       "      <td>0</td>\n",
       "      <td>0</td>\n",
       "      <td>373450</td>\n",
       "      <td>8.050</td>\n",
       "      <td>NaN</td>\n",
       "      <td>S</td>\n",
       "    </tr>\n",
       "    <tr>\n",
       "      <th>...</th>\n",
       "      <td>...</td>\n",
       "      <td>...</td>\n",
       "      <td>...</td>\n",
       "      <td>...</td>\n",
       "      <td>...</td>\n",
       "      <td>...</td>\n",
       "      <td>...</td>\n",
       "      <td>...</td>\n",
       "      <td>...</td>\n",
       "      <td>...</td>\n",
       "      <td>...</td>\n",
       "      <td>...</td>\n",
       "    </tr>\n",
       "    <tr>\n",
       "      <th>886</th>\n",
       "      <td>887</td>\n",
       "      <td>0</td>\n",
       "      <td>2</td>\n",
       "      <td>Montvila, Rev. Juozas</td>\n",
       "      <td>male</td>\n",
       "      <td>27.000</td>\n",
       "      <td>0</td>\n",
       "      <td>0</td>\n",
       "      <td>211536</td>\n",
       "      <td>13.000</td>\n",
       "      <td>NaN</td>\n",
       "      <td>S</td>\n",
       "    </tr>\n",
       "    <tr>\n",
       "      <th>887</th>\n",
       "      <td>888</td>\n",
       "      <td>1</td>\n",
       "      <td>1</td>\n",
       "      <td>Graham, Miss. Margaret Edith</td>\n",
       "      <td>female</td>\n",
       "      <td>19.000</td>\n",
       "      <td>0</td>\n",
       "      <td>0</td>\n",
       "      <td>112053</td>\n",
       "      <td>30.000</td>\n",
       "      <td>B42</td>\n",
       "      <td>S</td>\n",
       "    </tr>\n",
       "    <tr>\n",
       "      <th>888</th>\n",
       "      <td>889</td>\n",
       "      <td>0</td>\n",
       "      <td>3</td>\n",
       "      <td>Johnston, Miss. Catherine Helen \"Carrie\"</td>\n",
       "      <td>female</td>\n",
       "      <td>NaN</td>\n",
       "      <td>1</td>\n",
       "      <td>2</td>\n",
       "      <td>W./C. 6607</td>\n",
       "      <td>23.450</td>\n",
       "      <td>NaN</td>\n",
       "      <td>S</td>\n",
       "    </tr>\n",
       "    <tr>\n",
       "      <th>889</th>\n",
       "      <td>890</td>\n",
       "      <td>1</td>\n",
       "      <td>1</td>\n",
       "      <td>Behr, Mr. Karl Howell</td>\n",
       "      <td>male</td>\n",
       "      <td>26.000</td>\n",
       "      <td>0</td>\n",
       "      <td>0</td>\n",
       "      <td>111369</td>\n",
       "      <td>30.000</td>\n",
       "      <td>C148</td>\n",
       "      <td>C</td>\n",
       "    </tr>\n",
       "    <tr>\n",
       "      <th>890</th>\n",
       "      <td>891</td>\n",
       "      <td>0</td>\n",
       "      <td>3</td>\n",
       "      <td>Dooley, Mr. Patrick</td>\n",
       "      <td>male</td>\n",
       "      <td>32.000</td>\n",
       "      <td>0</td>\n",
       "      <td>0</td>\n",
       "      <td>370376</td>\n",
       "      <td>7.750</td>\n",
       "      <td>NaN</td>\n",
       "      <td>Q</td>\n",
       "    </tr>\n",
       "  </tbody>\n",
       "</table>\n",
       "<p>884 rows × 12 columns</p>\n",
       "</div>"
      ],
      "text/plain": [
       "     PassengerId  Survived  Pclass  \\\n",
       "0              1         0       3   \n",
       "1              2         1       1   \n",
       "2              3         1       3   \n",
       "3              4         1       1   \n",
       "4              5         0       3   \n",
       "..           ...       ...     ...   \n",
       "886          887         0       2   \n",
       "887          888         1       1   \n",
       "888          889         0       3   \n",
       "889          890         1       1   \n",
       "890          891         0       3   \n",
       "\n",
       "                                                  Name     Sex    Age  SibSp  \\\n",
       "0                              Braund, Mr. Owen Harris    male 22.000      1   \n",
       "1    Cumings, Mrs. John Bradley (Florence Briggs Th...  female 38.000      1   \n",
       "2                               Heikkinen, Miss. Laina  female 26.000      0   \n",
       "3         Futrelle, Mrs. Jacques Heath (Lily May Peel)  female 35.000      1   \n",
       "4                             Allen, Mr. William Henry    male 35.000      0   \n",
       "..                                                 ...     ...    ...    ...   \n",
       "886                              Montvila, Rev. Juozas    male 27.000      0   \n",
       "887                       Graham, Miss. Margaret Edith  female 19.000      0   \n",
       "888           Johnston, Miss. Catherine Helen \"Carrie\"  female    NaN      1   \n",
       "889                              Behr, Mr. Karl Howell    male 26.000      0   \n",
       "890                                Dooley, Mr. Patrick    male 32.000      0   \n",
       "\n",
       "     Parch            Ticket   Fare Cabin Embarked  \n",
       "0        0         A/5 21171  7.250   NaN        S  \n",
       "1        0          PC 17599 71.283   C85        C  \n",
       "2        0  STON/O2. 3101282  7.925   NaN        S  \n",
       "3        0            113803 53.100  C123        S  \n",
       "4        0            373450  8.050   NaN        S  \n",
       "..     ...               ...    ...   ...      ...  \n",
       "886      0            211536 13.000   NaN        S  \n",
       "887      0            112053 30.000   B42        S  \n",
       "888      2        W./C. 6607 23.450   NaN        S  \n",
       "889      0            111369 30.000  C148        C  \n",
       "890      0            370376  7.750   NaN        Q  \n",
       "\n",
       "[884 rows x 12 columns]"
      ]
     },
     "execution_count": 57,
     "metadata": {},
     "output_type": "execute_result"
    }
   ],
   "source": [
    "# Tilda kullanarak\n",
    "df[~((df.Age >= 70) & (df[\"Sex\"]==\"male\"))]"
   ]
  },
  {
   "cell_type": "markdown",
   "id": "dbd1ed0b",
   "metadata": {
    "hidden": true
   },
   "source": [
    "### loc\n",
    "\n",
    "* Köşeli parantezin içine ilk olarak bakmak istediğin verilerin index numaralarını veya aralıklarını giriyorsun, daha sonra bir virgül koyup string olarak hangi kolonu incelemek istediğini yazıyorsun.  \n",
    "\n",
    "\n",
    "* Eğer kolon bilgisi girmezsen sana tüm kolonlara göre belirtilen index/indexlerdeki gözlemleri döndürecektir.\n",
    "\n",
    "\n",
    "* Son olarak çift köşeli parantez içinde random şekilde index numaralarını verirsen direkt o gözlemleri görüntüleyebilirsin.  \n",
    "\n",
    "\n",
    "* loc fonksiyonunun en önemli özelliği ise girilen index değerlerinin string olması durumunda da string girdi alarak sonu ulaşabilmesidir."
   ]
  },
  {
   "cell_type": "code",
   "execution_count": 67,
   "id": "6321c6b9",
   "metadata": {
    "ExecuteTime": {
     "end_time": "2021-11-16T02:01:26.085439Z",
     "start_time": "2021-11-16T02:01:26.056517Z"
    },
    "hidden": true
   },
   "outputs": [],
   "source": [
    "df = pd.read_csv(\"train.csv\")"
   ]
  },
  {
   "cell_type": "code",
   "execution_count": 75,
   "id": "5f2916a5",
   "metadata": {
    "ExecuteTime": {
     "end_time": "2021-11-16T02:12:17.757744Z",
     "start_time": "2021-11-16T02:12:17.726817Z"
    },
    "hidden": true
   },
   "outputs": [
    {
     "data": {
      "text/plain": [
       "PassengerId                         3\n",
       "Survived                            1\n",
       "Pclass                              3\n",
       "Name           Heikkinen, Miss. Laina\n",
       "Sex                            female\n",
       "Age                            26.000\n",
       "SibSp                               0\n",
       "Parch                               0\n",
       "Ticket               STON/O2. 3101282\n",
       "Fare                            7.925\n",
       "Cabin                             NaN\n",
       "Embarked                            S\n",
       "Name: 2, dtype: object"
      ]
     },
     "execution_count": 75,
     "metadata": {},
     "output_type": "execute_result"
    }
   ],
   "source": [
    "df.loc[2]"
   ]
  },
  {
   "cell_type": "code",
   "execution_count": 74,
   "id": "66d7e46c",
   "metadata": {
    "ExecuteTime": {
     "end_time": "2021-11-16T02:12:05.219130Z",
     "start_time": "2021-11-16T02:12:05.187648Z"
    },
    "hidden": true
   },
   "outputs": [
    {
     "data": {
      "text/html": [
       "<div>\n",
       "<style scoped>\n",
       "    .dataframe tbody tr th:only-of-type {\n",
       "        vertical-align: middle;\n",
       "    }\n",
       "\n",
       "    .dataframe tbody tr th {\n",
       "        vertical-align: top;\n",
       "    }\n",
       "\n",
       "    .dataframe thead th {\n",
       "        text-align: right;\n",
       "    }\n",
       "</style>\n",
       "<table border=\"1\" class=\"dataframe\">\n",
       "  <thead>\n",
       "    <tr style=\"text-align: right;\">\n",
       "      <th></th>\n",
       "      <th>PassengerId</th>\n",
       "      <th>Survived</th>\n",
       "      <th>Pclass</th>\n",
       "      <th>Name</th>\n",
       "      <th>Sex</th>\n",
       "      <th>Age</th>\n",
       "      <th>SibSp</th>\n",
       "      <th>Parch</th>\n",
       "      <th>Ticket</th>\n",
       "      <th>Fare</th>\n",
       "      <th>Cabin</th>\n",
       "      <th>Embarked</th>\n",
       "    </tr>\n",
       "  </thead>\n",
       "  <tbody>\n",
       "    <tr>\n",
       "      <th>2</th>\n",
       "      <td>3</td>\n",
       "      <td>1</td>\n",
       "      <td>3</td>\n",
       "      <td>Heikkinen, Miss. Laina</td>\n",
       "      <td>female</td>\n",
       "      <td>26.000</td>\n",
       "      <td>0</td>\n",
       "      <td>0</td>\n",
       "      <td>STON/O2. 3101282</td>\n",
       "      <td>7.925</td>\n",
       "      <td>NaN</td>\n",
       "      <td>S</td>\n",
       "    </tr>\n",
       "    <tr>\n",
       "      <th>3</th>\n",
       "      <td>4</td>\n",
       "      <td>1</td>\n",
       "      <td>1</td>\n",
       "      <td>Futrelle, Mrs. Jacques Heath (Lily May Peel)</td>\n",
       "      <td>female</td>\n",
       "      <td>35.000</td>\n",
       "      <td>1</td>\n",
       "      <td>0</td>\n",
       "      <td>113803</td>\n",
       "      <td>53.100</td>\n",
       "      <td>C123</td>\n",
       "      <td>S</td>\n",
       "    </tr>\n",
       "    <tr>\n",
       "      <th>4</th>\n",
       "      <td>5</td>\n",
       "      <td>0</td>\n",
       "      <td>3</td>\n",
       "      <td>Allen, Mr. William Henry</td>\n",
       "      <td>male</td>\n",
       "      <td>35.000</td>\n",
       "      <td>0</td>\n",
       "      <td>0</td>\n",
       "      <td>373450</td>\n",
       "      <td>8.050</td>\n",
       "      <td>NaN</td>\n",
       "      <td>S</td>\n",
       "    </tr>\n",
       "    <tr>\n",
       "      <th>5</th>\n",
       "      <td>6</td>\n",
       "      <td>0</td>\n",
       "      <td>3</td>\n",
       "      <td>Moran, Mr. James</td>\n",
       "      <td>male</td>\n",
       "      <td>NaN</td>\n",
       "      <td>0</td>\n",
       "      <td>0</td>\n",
       "      <td>330877</td>\n",
       "      <td>8.458</td>\n",
       "      <td>NaN</td>\n",
       "      <td>Q</td>\n",
       "    </tr>\n",
       "  </tbody>\n",
       "</table>\n",
       "</div>"
      ],
      "text/plain": [
       "   PassengerId  Survived  Pclass  \\\n",
       "2            3         1       3   \n",
       "3            4         1       1   \n",
       "4            5         0       3   \n",
       "5            6         0       3   \n",
       "\n",
       "                                           Name     Sex    Age  SibSp  Parch  \\\n",
       "2                        Heikkinen, Miss. Laina  female 26.000      0      0   \n",
       "3  Futrelle, Mrs. Jacques Heath (Lily May Peel)  female 35.000      1      0   \n",
       "4                      Allen, Mr. William Henry    male 35.000      0      0   \n",
       "5                              Moran, Mr. James    male    NaN      0      0   \n",
       "\n",
       "             Ticket   Fare Cabin Embarked  \n",
       "2  STON/O2. 3101282  7.925   NaN        S  \n",
       "3            113803 53.100  C123        S  \n",
       "4            373450  8.050   NaN        S  \n",
       "5            330877  8.458   NaN        Q  "
      ]
     },
     "execution_count": 74,
     "metadata": {},
     "output_type": "execute_result"
    }
   ],
   "source": [
    "df.loc[2:5]"
   ]
  },
  {
   "cell_type": "code",
   "execution_count": 76,
   "id": "84a6ce5d",
   "metadata": {
    "ExecuteTime": {
     "end_time": "2021-11-16T02:12:40.479599Z",
     "start_time": "2021-11-16T02:12:40.449678Z"
    },
    "hidden": true
   },
   "outputs": [
    {
     "data": {
      "text/html": [
       "<div>\n",
       "<style scoped>\n",
       "    .dataframe tbody tr th:only-of-type {\n",
       "        vertical-align: middle;\n",
       "    }\n",
       "\n",
       "    .dataframe tbody tr th {\n",
       "        vertical-align: top;\n",
       "    }\n",
       "\n",
       "    .dataframe thead th {\n",
       "        text-align: right;\n",
       "    }\n",
       "</style>\n",
       "<table border=\"1\" class=\"dataframe\">\n",
       "  <thead>\n",
       "    <tr style=\"text-align: right;\">\n",
       "      <th></th>\n",
       "      <th>PassengerId</th>\n",
       "      <th>Survived</th>\n",
       "      <th>Pclass</th>\n",
       "      <th>Name</th>\n",
       "      <th>Sex</th>\n",
       "      <th>Age</th>\n",
       "      <th>SibSp</th>\n",
       "      <th>Parch</th>\n",
       "      <th>Ticket</th>\n",
       "      <th>Fare</th>\n",
       "      <th>Cabin</th>\n",
       "      <th>Embarked</th>\n",
       "    </tr>\n",
       "  </thead>\n",
       "  <tbody>\n",
       "    <tr>\n",
       "      <th>2</th>\n",
       "      <td>3</td>\n",
       "      <td>1</td>\n",
       "      <td>3</td>\n",
       "      <td>Heikkinen, Miss. Laina</td>\n",
       "      <td>female</td>\n",
       "      <td>26.000</td>\n",
       "      <td>0</td>\n",
       "      <td>0</td>\n",
       "      <td>STON/O2. 3101282</td>\n",
       "      <td>7.925</td>\n",
       "      <td>NaN</td>\n",
       "      <td>S</td>\n",
       "    </tr>\n",
       "    <tr>\n",
       "      <th>4</th>\n",
       "      <td>5</td>\n",
       "      <td>0</td>\n",
       "      <td>3</td>\n",
       "      <td>Allen, Mr. William Henry</td>\n",
       "      <td>male</td>\n",
       "      <td>35.000</td>\n",
       "      <td>0</td>\n",
       "      <td>0</td>\n",
       "      <td>373450</td>\n",
       "      <td>8.050</td>\n",
       "      <td>NaN</td>\n",
       "      <td>S</td>\n",
       "    </tr>\n",
       "    <tr>\n",
       "      <th>6</th>\n",
       "      <td>7</td>\n",
       "      <td>0</td>\n",
       "      <td>1</td>\n",
       "      <td>McCarthy, Mr. Timothy J</td>\n",
       "      <td>male</td>\n",
       "      <td>54.000</td>\n",
       "      <td>0</td>\n",
       "      <td>0</td>\n",
       "      <td>17463</td>\n",
       "      <td>51.862</td>\n",
       "      <td>E46</td>\n",
       "      <td>S</td>\n",
       "    </tr>\n",
       "    <tr>\n",
       "      <th>8</th>\n",
       "      <td>9</td>\n",
       "      <td>1</td>\n",
       "      <td>3</td>\n",
       "      <td>Johnson, Mrs. Oscar W (Elisabeth Vilhelmina Berg)</td>\n",
       "      <td>female</td>\n",
       "      <td>27.000</td>\n",
       "      <td>0</td>\n",
       "      <td>2</td>\n",
       "      <td>347742</td>\n",
       "      <td>11.133</td>\n",
       "      <td>NaN</td>\n",
       "      <td>S</td>\n",
       "    </tr>\n",
       "    <tr>\n",
       "      <th>10</th>\n",
       "      <td>11</td>\n",
       "      <td>1</td>\n",
       "      <td>3</td>\n",
       "      <td>Sandstrom, Miss. Marguerite Rut</td>\n",
       "      <td>female</td>\n",
       "      <td>4.000</td>\n",
       "      <td>1</td>\n",
       "      <td>1</td>\n",
       "      <td>PP 9549</td>\n",
       "      <td>16.700</td>\n",
       "      <td>G6</td>\n",
       "      <td>S</td>\n",
       "    </tr>\n",
       "  </tbody>\n",
       "</table>\n",
       "</div>"
      ],
      "text/plain": [
       "    PassengerId  Survived  Pclass  \\\n",
       "2             3         1       3   \n",
       "4             5         0       3   \n",
       "6             7         0       1   \n",
       "8             9         1       3   \n",
       "10           11         1       3   \n",
       "\n",
       "                                                 Name     Sex    Age  SibSp  \\\n",
       "2                              Heikkinen, Miss. Laina  female 26.000      0   \n",
       "4                            Allen, Mr. William Henry    male 35.000      0   \n",
       "6                             McCarthy, Mr. Timothy J    male 54.000      0   \n",
       "8   Johnson, Mrs. Oscar W (Elisabeth Vilhelmina Berg)  female 27.000      0   \n",
       "10                    Sandstrom, Miss. Marguerite Rut  female  4.000      1   \n",
       "\n",
       "    Parch            Ticket   Fare Cabin Embarked  \n",
       "2       0  STON/O2. 3101282  7.925   NaN        S  \n",
       "4       0            373450  8.050   NaN        S  \n",
       "6       0             17463 51.862   E46        S  \n",
       "8       2            347742 11.133   NaN        S  \n",
       "10      1           PP 9549 16.700    G6        S  "
      ]
     },
     "execution_count": 76,
     "metadata": {},
     "output_type": "execute_result"
    }
   ],
   "source": [
    "df.loc[2:10:2]"
   ]
  },
  {
   "cell_type": "code",
   "execution_count": 77,
   "id": "4fd96024",
   "metadata": {
    "ExecuteTime": {
     "end_time": "2021-11-16T02:12:55.106589Z",
     "start_time": "2021-11-16T02:12:55.093625Z"
    },
    "hidden": true
   },
   "outputs": [
    {
     "data": {
      "text/plain": [
       "2   26.000\n",
       "3   35.000\n",
       "4   35.000\n",
       "5      NaN\n",
       "Name: Age, dtype: float64"
      ]
     },
     "execution_count": 77,
     "metadata": {},
     "output_type": "execute_result"
    }
   ],
   "source": [
    "df.loc[2:5,\"Age\"]"
   ]
  },
  {
   "cell_type": "code",
   "execution_count": 84,
   "id": "26965f73",
   "metadata": {
    "ExecuteTime": {
     "end_time": "2021-11-16T02:15:18.782267Z",
     "start_time": "2021-11-16T02:15:18.763317Z"
    },
    "hidden": true
   },
   "outputs": [
    {
     "data": {
      "text/html": [
       "<div>\n",
       "<style scoped>\n",
       "    .dataframe tbody tr th:only-of-type {\n",
       "        vertical-align: middle;\n",
       "    }\n",
       "\n",
       "    .dataframe tbody tr th {\n",
       "        vertical-align: top;\n",
       "    }\n",
       "\n",
       "    .dataframe thead th {\n",
       "        text-align: right;\n",
       "    }\n",
       "</style>\n",
       "<table border=\"1\" class=\"dataframe\">\n",
       "  <thead>\n",
       "    <tr style=\"text-align: right;\">\n",
       "      <th></th>\n",
       "      <th>Age</th>\n",
       "      <th>SibSp</th>\n",
       "      <th>Parch</th>\n",
       "      <th>Ticket</th>\n",
       "      <th>Fare</th>\n",
       "    </tr>\n",
       "  </thead>\n",
       "  <tbody>\n",
       "    <tr>\n",
       "      <th>2</th>\n",
       "      <td>26.000</td>\n",
       "      <td>0</td>\n",
       "      <td>0</td>\n",
       "      <td>STON/O2. 3101282</td>\n",
       "      <td>7.925</td>\n",
       "    </tr>\n",
       "    <tr>\n",
       "      <th>3</th>\n",
       "      <td>35.000</td>\n",
       "      <td>1</td>\n",
       "      <td>0</td>\n",
       "      <td>113803</td>\n",
       "      <td>53.100</td>\n",
       "    </tr>\n",
       "    <tr>\n",
       "      <th>4</th>\n",
       "      <td>35.000</td>\n",
       "      <td>0</td>\n",
       "      <td>0</td>\n",
       "      <td>373450</td>\n",
       "      <td>8.050</td>\n",
       "    </tr>\n",
       "    <tr>\n",
       "      <th>5</th>\n",
       "      <td>NaN</td>\n",
       "      <td>0</td>\n",
       "      <td>0</td>\n",
       "      <td>330877</td>\n",
       "      <td>8.458</td>\n",
       "    </tr>\n",
       "  </tbody>\n",
       "</table>\n",
       "</div>"
      ],
      "text/plain": [
       "     Age  SibSp  Parch            Ticket   Fare\n",
       "2 26.000      0      0  STON/O2. 3101282  7.925\n",
       "3 35.000      1      0            113803 53.100\n",
       "4 35.000      0      0            373450  8.050\n",
       "5    NaN      0      0            330877  8.458"
      ]
     },
     "execution_count": 84,
     "metadata": {},
     "output_type": "execute_result"
    }
   ],
   "source": [
    "df.loc[2:5,\"Age\":\"Fare\"]"
   ]
  },
  {
   "cell_type": "code",
   "execution_count": 87,
   "id": "fcbe133e",
   "metadata": {
    "ExecuteTime": {
     "end_time": "2021-11-16T02:19:36.874059Z",
     "start_time": "2021-11-16T02:19:36.843220Z"
    },
    "hidden": true
   },
   "outputs": [
    {
     "data": {
      "text/html": [
       "<div>\n",
       "<style scoped>\n",
       "    .dataframe tbody tr th:only-of-type {\n",
       "        vertical-align: middle;\n",
       "    }\n",
       "\n",
       "    .dataframe tbody tr th {\n",
       "        vertical-align: top;\n",
       "    }\n",
       "\n",
       "    .dataframe thead th {\n",
       "        text-align: right;\n",
       "    }\n",
       "</style>\n",
       "<table border=\"1\" class=\"dataframe\">\n",
       "  <thead>\n",
       "    <tr style=\"text-align: right;\">\n",
       "      <th></th>\n",
       "      <th>PassengerId</th>\n",
       "      <th>Survived</th>\n",
       "      <th>Pclass</th>\n",
       "      <th>Name</th>\n",
       "      <th>Sex</th>\n",
       "      <th>Age</th>\n",
       "      <th>SibSp</th>\n",
       "      <th>Parch</th>\n",
       "      <th>Ticket</th>\n",
       "      <th>Fare</th>\n",
       "      <th>Cabin</th>\n",
       "      <th>Embarked</th>\n",
       "    </tr>\n",
       "  </thead>\n",
       "  <tbody>\n",
       "    <tr>\n",
       "      <th>5</th>\n",
       "      <td>6</td>\n",
       "      <td>0</td>\n",
       "      <td>3</td>\n",
       "      <td>Moran, Mr. James</td>\n",
       "      <td>male</td>\n",
       "      <td>NaN</td>\n",
       "      <td>0</td>\n",
       "      <td>0</td>\n",
       "      <td>330877</td>\n",
       "      <td>8.458</td>\n",
       "      <td>NaN</td>\n",
       "      <td>Q</td>\n",
       "    </tr>\n",
       "    <tr>\n",
       "      <th>100</th>\n",
       "      <td>101</td>\n",
       "      <td>0</td>\n",
       "      <td>3</td>\n",
       "      <td>Petranec, Miss. Matilda</td>\n",
       "      <td>female</td>\n",
       "      <td>28.000</td>\n",
       "      <td>0</td>\n",
       "      <td>0</td>\n",
       "      <td>349245</td>\n",
       "      <td>7.896</td>\n",
       "      <td>NaN</td>\n",
       "      <td>S</td>\n",
       "    </tr>\n",
       "    <tr>\n",
       "      <th>59</th>\n",
       "      <td>60</td>\n",
       "      <td>0</td>\n",
       "      <td>3</td>\n",
       "      <td>Goodwin, Master. William Frederick</td>\n",
       "      <td>male</td>\n",
       "      <td>11.000</td>\n",
       "      <td>5</td>\n",
       "      <td>2</td>\n",
       "      <td>CA 2144</td>\n",
       "      <td>46.900</td>\n",
       "      <td>NaN</td>\n",
       "      <td>S</td>\n",
       "    </tr>\n",
       "  </tbody>\n",
       "</table>\n",
       "</div>"
      ],
      "text/plain": [
       "     PassengerId  Survived  Pclass                                Name  \\\n",
       "5              6         0       3                    Moran, Mr. James   \n",
       "100          101         0       3             Petranec, Miss. Matilda   \n",
       "59            60         0       3  Goodwin, Master. William Frederick   \n",
       "\n",
       "        Sex    Age  SibSp  Parch   Ticket   Fare Cabin Embarked  \n",
       "5      male    NaN      0      0   330877  8.458   NaN        Q  \n",
       "100  female 28.000      0      0   349245  7.896   NaN        S  \n",
       "59     male 11.000      5      2  CA 2144 46.900   NaN        S  "
      ]
     },
     "execution_count": 87,
     "metadata": {},
     "output_type": "execute_result"
    }
   ],
   "source": [
    "df.loc[[5,100,59]]"
   ]
  },
  {
   "cell_type": "code",
   "execution_count": 95,
   "id": "1f1a76fe",
   "metadata": {
    "ExecuteTime": {
     "end_time": "2021-11-16T02:20:44.402380Z",
     "start_time": "2021-11-16T02:20:44.371481Z"
    },
    "hidden": true
   },
   "outputs": [
    {
     "data": {
      "text/html": [
       "<div>\n",
       "<style scoped>\n",
       "    .dataframe tbody tr th:only-of-type {\n",
       "        vertical-align: middle;\n",
       "    }\n",
       "\n",
       "    .dataframe tbody tr th {\n",
       "        vertical-align: top;\n",
       "    }\n",
       "\n",
       "    .dataframe thead th {\n",
       "        text-align: right;\n",
       "    }\n",
       "</style>\n",
       "<table border=\"1\" class=\"dataframe\">\n",
       "  <thead>\n",
       "    <tr style=\"text-align: right;\">\n",
       "      <th></th>\n",
       "      <th>Age</th>\n",
       "      <th>SibSp</th>\n",
       "      <th>Parch</th>\n",
       "      <th>Ticket</th>\n",
       "      <th>Fare</th>\n",
       "    </tr>\n",
       "  </thead>\n",
       "  <tbody>\n",
       "    <tr>\n",
       "      <th>5</th>\n",
       "      <td>NaN</td>\n",
       "      <td>0</td>\n",
       "      <td>0</td>\n",
       "      <td>330877</td>\n",
       "      <td>8.458</td>\n",
       "    </tr>\n",
       "    <tr>\n",
       "      <th>100</th>\n",
       "      <td>28.000</td>\n",
       "      <td>0</td>\n",
       "      <td>0</td>\n",
       "      <td>349245</td>\n",
       "      <td>7.896</td>\n",
       "    </tr>\n",
       "    <tr>\n",
       "      <th>59</th>\n",
       "      <td>11.000</td>\n",
       "      <td>5</td>\n",
       "      <td>2</td>\n",
       "      <td>CA 2144</td>\n",
       "      <td>46.900</td>\n",
       "    </tr>\n",
       "  </tbody>\n",
       "</table>\n",
       "</div>"
      ],
      "text/plain": [
       "       Age  SibSp  Parch   Ticket   Fare\n",
       "5      NaN      0      0   330877  8.458\n",
       "100 28.000      0      0   349245  7.896\n",
       "59  11.000      5      2  CA 2144 46.900"
      ]
     },
     "execution_count": 95,
     "metadata": {},
     "output_type": "execute_result"
    }
   ],
   "source": [
    "df.loc[[5,100,59],\"Age\":\"Fare\"]"
   ]
  },
  {
   "cell_type": "markdown",
   "id": "1ec7d48c",
   "metadata": {
    "hidden": true
   },
   "source": [
    "### iloc\n",
    "\n",
    "* loc fonksiyonuna çok benziyor, tek farkı kolon bilgisi girmek istediğinde o kolonun sıra numarasını girmen gerekir.  \n",
    "\n",
    "\n",
    "* Çift köşeli parantez içinde random şekilde index numaralarını verirsen direkt o gözlemleri görüntüleyebilirsin.\n",
    "\n",
    "\n",
    "* Index değerlerinin string olması durumunda iloc fonksiyonu çalışmayacaktır. iloc sadece nümerik değerlerin girilmesini kabul eder."
   ]
  },
  {
   "cell_type": "code",
   "execution_count": 80,
   "id": "2136523b",
   "metadata": {
    "ExecuteTime": {
     "end_time": "2021-11-16T02:14:39.697128Z",
     "start_time": "2021-11-16T02:14:39.673158Z"
    },
    "hidden": true
   },
   "outputs": [
    {
     "data": {
      "text/html": [
       "<div>\n",
       "<style scoped>\n",
       "    .dataframe tbody tr th:only-of-type {\n",
       "        vertical-align: middle;\n",
       "    }\n",
       "\n",
       "    .dataframe tbody tr th {\n",
       "        vertical-align: top;\n",
       "    }\n",
       "\n",
       "    .dataframe thead th {\n",
       "        text-align: right;\n",
       "    }\n",
       "</style>\n",
       "<table border=\"1\" class=\"dataframe\">\n",
       "  <thead>\n",
       "    <tr style=\"text-align: right;\">\n",
       "      <th></th>\n",
       "      <th>Name</th>\n",
       "      <th>Sex</th>\n",
       "      <th>Age</th>\n",
       "      <th>SibSp</th>\n",
       "    </tr>\n",
       "  </thead>\n",
       "  <tbody>\n",
       "    <tr>\n",
       "      <th>2</th>\n",
       "      <td>Heikkinen, Miss. Laina</td>\n",
       "      <td>female</td>\n",
       "      <td>26.000</td>\n",
       "      <td>0</td>\n",
       "    </tr>\n",
       "    <tr>\n",
       "      <th>3</th>\n",
       "      <td>Futrelle, Mrs. Jacques Heath (Lily May Peel)</td>\n",
       "      <td>female</td>\n",
       "      <td>35.000</td>\n",
       "      <td>1</td>\n",
       "    </tr>\n",
       "    <tr>\n",
       "      <th>4</th>\n",
       "      <td>Allen, Mr. William Henry</td>\n",
       "      <td>male</td>\n",
       "      <td>35.000</td>\n",
       "      <td>0</td>\n",
       "    </tr>\n",
       "  </tbody>\n",
       "</table>\n",
       "</div>"
      ],
      "text/plain": [
       "                                           Name     Sex    Age  SibSp\n",
       "2                        Heikkinen, Miss. Laina  female 26.000      0\n",
       "3  Futrelle, Mrs. Jacques Heath (Lily May Peel)  female 35.000      1\n",
       "4                      Allen, Mr. William Henry    male 35.000      0"
      ]
     },
     "execution_count": 80,
     "metadata": {},
     "output_type": "execute_result"
    }
   ],
   "source": [
    "df.iloc[2:5, 3:7]"
   ]
  },
  {
   "cell_type": "code",
   "execution_count": 94,
   "id": "fde84e5d",
   "metadata": {
    "ExecuteTime": {
     "end_time": "2021-11-16T02:20:22.032887Z",
     "start_time": "2021-11-16T02:20:22.011912Z"
    },
    "hidden": true
   },
   "outputs": [
    {
     "data": {
      "text/html": [
       "<div>\n",
       "<style scoped>\n",
       "    .dataframe tbody tr th:only-of-type {\n",
       "        vertical-align: middle;\n",
       "    }\n",
       "\n",
       "    .dataframe tbody tr th {\n",
       "        vertical-align: top;\n",
       "    }\n",
       "\n",
       "    .dataframe thead th {\n",
       "        text-align: right;\n",
       "    }\n",
       "</style>\n",
       "<table border=\"1\" class=\"dataframe\">\n",
       "  <thead>\n",
       "    <tr style=\"text-align: right;\">\n",
       "      <th></th>\n",
       "      <th>Name</th>\n",
       "      <th>Sex</th>\n",
       "      <th>Age</th>\n",
       "    </tr>\n",
       "  </thead>\n",
       "  <tbody>\n",
       "    <tr>\n",
       "      <th>5</th>\n",
       "      <td>Moran, Mr. James</td>\n",
       "      <td>male</td>\n",
       "      <td>NaN</td>\n",
       "    </tr>\n",
       "    <tr>\n",
       "      <th>100</th>\n",
       "      <td>Petranec, Miss. Matilda</td>\n",
       "      <td>female</td>\n",
       "      <td>28.000</td>\n",
       "    </tr>\n",
       "    <tr>\n",
       "      <th>59</th>\n",
       "      <td>Goodwin, Master. William Frederick</td>\n",
       "      <td>male</td>\n",
       "      <td>11.000</td>\n",
       "    </tr>\n",
       "  </tbody>\n",
       "</table>\n",
       "</div>"
      ],
      "text/plain": [
       "                                   Name     Sex    Age\n",
       "5                      Moran, Mr. James    male    NaN\n",
       "100             Petranec, Miss. Matilda  female 28.000\n",
       "59   Goodwin, Master. William Frederick    male 11.000"
      ]
     },
     "execution_count": 94,
     "metadata": {},
     "output_type": "execute_result"
    }
   ],
   "source": [
    "df.iloc[[5,100,59],3:6]"
   ]
  },
  {
   "cell_type": "markdown",
   "id": "87495be2",
   "metadata": {
    "hidden": true
   },
   "source": [
    "#### Verilen Bir Index Listesindeki Elemanları Bulma"
   ]
  },
  {
   "cell_type": "code",
   "execution_count": 98,
   "id": "61a08443",
   "metadata": {
    "ExecuteTime": {
     "end_time": "2021-11-16T02:26:34.283939Z",
     "start_time": "2021-11-16T02:26:34.230050Z"
    },
    "hidden": true
   },
   "outputs": [
    {
     "data": {
      "text/html": [
       "<div>\n",
       "<style scoped>\n",
       "    .dataframe tbody tr th:only-of-type {\n",
       "        vertical-align: middle;\n",
       "    }\n",
       "\n",
       "    .dataframe tbody tr th {\n",
       "        vertical-align: top;\n",
       "    }\n",
       "\n",
       "    .dataframe thead th {\n",
       "        text-align: right;\n",
       "    }\n",
       "</style>\n",
       "<table border=\"1\" class=\"dataframe\">\n",
       "  <thead>\n",
       "    <tr style=\"text-align: right;\">\n",
       "      <th></th>\n",
       "      <th>PassengerId</th>\n",
       "      <th>Survived</th>\n",
       "      <th>Pclass</th>\n",
       "      <th>Name</th>\n",
       "      <th>Sex</th>\n",
       "      <th>Age</th>\n",
       "      <th>SibSp</th>\n",
       "      <th>Parch</th>\n",
       "      <th>Ticket</th>\n",
       "      <th>Fare</th>\n",
       "      <th>Cabin</th>\n",
       "      <th>Embarked</th>\n",
       "    </tr>\n",
       "  </thead>\n",
       "  <tbody>\n",
       "    <tr>\n",
       "      <th>23</th>\n",
       "      <td>24</td>\n",
       "      <td>1</td>\n",
       "      <td>1</td>\n",
       "      <td>Sloper, Mr. William Thompson</td>\n",
       "      <td>male</td>\n",
       "      <td>28.000</td>\n",
       "      <td>0</td>\n",
       "      <td>0</td>\n",
       "      <td>113788</td>\n",
       "      <td>35.500</td>\n",
       "      <td>A6</td>\n",
       "      <td>S</td>\n",
       "    </tr>\n",
       "    <tr>\n",
       "      <th>27</th>\n",
       "      <td>28</td>\n",
       "      <td>0</td>\n",
       "      <td>1</td>\n",
       "      <td>Fortune, Mr. Charles Alexander</td>\n",
       "      <td>male</td>\n",
       "      <td>19.000</td>\n",
       "      <td>3</td>\n",
       "      <td>2</td>\n",
       "      <td>19950</td>\n",
       "      <td>263.000</td>\n",
       "      <td>C23 C25 C27</td>\n",
       "      <td>S</td>\n",
       "    </tr>\n",
       "    <tr>\n",
       "      <th>34</th>\n",
       "      <td>35</td>\n",
       "      <td>0</td>\n",
       "      <td>1</td>\n",
       "      <td>Meyer, Mr. Edgar Joseph</td>\n",
       "      <td>male</td>\n",
       "      <td>28.000</td>\n",
       "      <td>1</td>\n",
       "      <td>0</td>\n",
       "      <td>PC 17604</td>\n",
       "      <td>82.171</td>\n",
       "      <td>NaN</td>\n",
       "      <td>C</td>\n",
       "    </tr>\n",
       "    <tr>\n",
       "      <th>83</th>\n",
       "      <td>84</td>\n",
       "      <td>0</td>\n",
       "      <td>1</td>\n",
       "      <td>Carrau, Mr. Francisco M</td>\n",
       "      <td>male</td>\n",
       "      <td>28.000</td>\n",
       "      <td>0</td>\n",
       "      <td>0</td>\n",
       "      <td>113059</td>\n",
       "      <td>47.100</td>\n",
       "      <td>NaN</td>\n",
       "      <td>S</td>\n",
       "    </tr>\n",
       "    <tr>\n",
       "      <th>88</th>\n",
       "      <td>89</td>\n",
       "      <td>1</td>\n",
       "      <td>1</td>\n",
       "      <td>Fortune, Miss. Mabel Helen</td>\n",
       "      <td>female</td>\n",
       "      <td>23.000</td>\n",
       "      <td>3</td>\n",
       "      <td>2</td>\n",
       "      <td>19950</td>\n",
       "      <td>263.000</td>\n",
       "      <td>C23 C25 C27</td>\n",
       "      <td>S</td>\n",
       "    </tr>\n",
       "    <tr>\n",
       "      <th>97</th>\n",
       "      <td>98</td>\n",
       "      <td>1</td>\n",
       "      <td>1</td>\n",
       "      <td>Greenfield, Mr. William Bertram</td>\n",
       "      <td>male</td>\n",
       "      <td>23.000</td>\n",
       "      <td>0</td>\n",
       "      <td>1</td>\n",
       "      <td>PC 17759</td>\n",
       "      <td>63.358</td>\n",
       "      <td>D10 D12</td>\n",
       "      <td>C</td>\n",
       "    </tr>\n",
       "    <tr>\n",
       "      <th>102</th>\n",
       "      <td>103</td>\n",
       "      <td>0</td>\n",
       "      <td>1</td>\n",
       "      <td>White, Mr. Richard Frasar</td>\n",
       "      <td>male</td>\n",
       "      <td>21.000</td>\n",
       "      <td>0</td>\n",
       "      <td>1</td>\n",
       "      <td>35281</td>\n",
       "      <td>77.287</td>\n",
       "      <td>D26</td>\n",
       "      <td>S</td>\n",
       "    </tr>\n",
       "    <tr>\n",
       "      <th>118</th>\n",
       "      <td>119</td>\n",
       "      <td>0</td>\n",
       "      <td>1</td>\n",
       "      <td>Baxter, Mr. Quigg Edmond</td>\n",
       "      <td>male</td>\n",
       "      <td>24.000</td>\n",
       "      <td>0</td>\n",
       "      <td>1</td>\n",
       "      <td>PC 17558</td>\n",
       "      <td>247.521</td>\n",
       "      <td>B58 B60</td>\n",
       "      <td>C</td>\n",
       "    </tr>\n",
       "    <tr>\n",
       "      <th>136</th>\n",
       "      <td>137</td>\n",
       "      <td>1</td>\n",
       "      <td>1</td>\n",
       "      <td>Newsom, Miss. Helen Monypeny</td>\n",
       "      <td>female</td>\n",
       "      <td>19.000</td>\n",
       "      <td>0</td>\n",
       "      <td>2</td>\n",
       "      <td>11752</td>\n",
       "      <td>26.283</td>\n",
       "      <td>D47</td>\n",
       "      <td>S</td>\n",
       "    </tr>\n",
       "    <tr>\n",
       "      <th>139</th>\n",
       "      <td>140</td>\n",
       "      <td>0</td>\n",
       "      <td>1</td>\n",
       "      <td>Giglio, Mr. Victor</td>\n",
       "      <td>male</td>\n",
       "      <td>24.000</td>\n",
       "      <td>0</td>\n",
       "      <td>0</td>\n",
       "      <td>PC 17593</td>\n",
       "      <td>79.200</td>\n",
       "      <td>B86</td>\n",
       "      <td>C</td>\n",
       "    </tr>\n",
       "    <tr>\n",
       "      <th>151</th>\n",
       "      <td>152</td>\n",
       "      <td>1</td>\n",
       "      <td>1</td>\n",
       "      <td>Pears, Mrs. Thomas (Edith Wearne)</td>\n",
       "      <td>female</td>\n",
       "      <td>22.000</td>\n",
       "      <td>1</td>\n",
       "      <td>0</td>\n",
       "      <td>113776</td>\n",
       "      <td>66.600</td>\n",
       "      <td>C2</td>\n",
       "      <td>S</td>\n",
       "    </tr>\n",
       "    <tr>\n",
       "      <th>290</th>\n",
       "      <td>291</td>\n",
       "      <td>1</td>\n",
       "      <td>1</td>\n",
       "      <td>Barber, Miss. Ellen \"Nellie\"</td>\n",
       "      <td>female</td>\n",
       "      <td>26.000</td>\n",
       "      <td>0</td>\n",
       "      <td>0</td>\n",
       "      <td>19877</td>\n",
       "      <td>78.850</td>\n",
       "      <td>NaN</td>\n",
       "      <td>S</td>\n",
       "    </tr>\n",
       "    <tr>\n",
       "      <th>291</th>\n",
       "      <td>292</td>\n",
       "      <td>1</td>\n",
       "      <td>1</td>\n",
       "      <td>Bishop, Mrs. Dickinson H (Helen Walton)</td>\n",
       "      <td>female</td>\n",
       "      <td>19.000</td>\n",
       "      <td>1</td>\n",
       "      <td>0</td>\n",
       "      <td>11967</td>\n",
       "      <td>91.079</td>\n",
       "      <td>B49</td>\n",
       "      <td>C</td>\n",
       "    </tr>\n",
       "    <tr>\n",
       "      <th>297</th>\n",
       "      <td>298</td>\n",
       "      <td>0</td>\n",
       "      <td>1</td>\n",
       "      <td>Allison, Miss. Helen Loraine</td>\n",
       "      <td>female</td>\n",
       "      <td>2.000</td>\n",
       "      <td>1</td>\n",
       "      <td>2</td>\n",
       "      <td>113781</td>\n",
       "      <td>151.550</td>\n",
       "      <td>C22 C26</td>\n",
       "      <td>S</td>\n",
       "    </tr>\n",
       "    <tr>\n",
       "      <th>305</th>\n",
       "      <td>306</td>\n",
       "      <td>1</td>\n",
       "      <td>1</td>\n",
       "      <td>Allison, Master. Hudson Trevor</td>\n",
       "      <td>male</td>\n",
       "      <td>0.920</td>\n",
       "      <td>1</td>\n",
       "      <td>2</td>\n",
       "      <td>113781</td>\n",
       "      <td>151.550</td>\n",
       "      <td>C22 C26</td>\n",
       "      <td>S</td>\n",
       "    </tr>\n",
       "    <tr>\n",
       "      <th>307</th>\n",
       "      <td>308</td>\n",
       "      <td>1</td>\n",
       "      <td>1</td>\n",
       "      <td>Penasco y Castellana, Mrs. Victor de Satode (M...</td>\n",
       "      <td>female</td>\n",
       "      <td>17.000</td>\n",
       "      <td>1</td>\n",
       "      <td>0</td>\n",
       "      <td>PC 17758</td>\n",
       "      <td>108.900</td>\n",
       "      <td>C65</td>\n",
       "      <td>C</td>\n",
       "    </tr>\n",
       "    <tr>\n",
       "      <th>310</th>\n",
       "      <td>311</td>\n",
       "      <td>1</td>\n",
       "      <td>1</td>\n",
       "      <td>Hays, Miss. Margaret Bechstein</td>\n",
       "      <td>female</td>\n",
       "      <td>24.000</td>\n",
       "      <td>0</td>\n",
       "      <td>0</td>\n",
       "      <td>11767</td>\n",
       "      <td>83.158</td>\n",
       "      <td>C54</td>\n",
       "      <td>C</td>\n",
       "    </tr>\n",
       "    <tr>\n",
       "      <th>311</th>\n",
       "      <td>312</td>\n",
       "      <td>1</td>\n",
       "      <td>1</td>\n",
       "      <td>Ryerson, Miss. Emily Borie</td>\n",
       "      <td>female</td>\n",
       "      <td>18.000</td>\n",
       "      <td>2</td>\n",
       "      <td>2</td>\n",
       "      <td>PC 17608</td>\n",
       "      <td>262.375</td>\n",
       "      <td>B57 B59 B63 B66</td>\n",
       "      <td>C</td>\n",
       "    </tr>\n",
       "    <tr>\n",
       "      <th>329</th>\n",
       "      <td>330</td>\n",
       "      <td>1</td>\n",
       "      <td>1</td>\n",
       "      <td>Hippach, Miss. Jean Gertrude</td>\n",
       "      <td>female</td>\n",
       "      <td>16.000</td>\n",
       "      <td>0</td>\n",
       "      <td>1</td>\n",
       "      <td>111361</td>\n",
       "      <td>57.979</td>\n",
       "      <td>B18</td>\n",
       "      <td>C</td>\n",
       "    </tr>\n",
       "    <tr>\n",
       "      <th>336</th>\n",
       "      <td>337</td>\n",
       "      <td>0</td>\n",
       "      <td>1</td>\n",
       "      <td>Pears, Mr. Thomas Clinton</td>\n",
       "      <td>male</td>\n",
       "      <td>29.000</td>\n",
       "      <td>1</td>\n",
       "      <td>0</td>\n",
       "      <td>113776</td>\n",
       "      <td>66.600</td>\n",
       "      <td>C2</td>\n",
       "      <td>S</td>\n",
       "    </tr>\n",
       "    <tr>\n",
       "      <th>341</th>\n",
       "      <td>342</td>\n",
       "      <td>1</td>\n",
       "      <td>1</td>\n",
       "      <td>Fortune, Miss. Alice Elizabeth</td>\n",
       "      <td>female</td>\n",
       "      <td>24.000</td>\n",
       "      <td>3</td>\n",
       "      <td>2</td>\n",
       "      <td>19950</td>\n",
       "      <td>263.000</td>\n",
       "      <td>C23 C25 C27</td>\n",
       "      <td>S</td>\n",
       "    </tr>\n",
       "    <tr>\n",
       "      <th>356</th>\n",
       "      <td>357</td>\n",
       "      <td>1</td>\n",
       "      <td>1</td>\n",
       "      <td>Bowerman, Miss. Elsie Edith</td>\n",
       "      <td>female</td>\n",
       "      <td>22.000</td>\n",
       "      <td>0</td>\n",
       "      <td>1</td>\n",
       "      <td>113505</td>\n",
       "      <td>55.000</td>\n",
       "      <td>E33</td>\n",
       "      <td>S</td>\n",
       "    </tr>\n",
       "    <tr>\n",
       "      <th>369</th>\n",
       "      <td>370</td>\n",
       "      <td>1</td>\n",
       "      <td>1</td>\n",
       "      <td>Aubart, Mme. Leontine Pauline</td>\n",
       "      <td>female</td>\n",
       "      <td>24.000</td>\n",
       "      <td>0</td>\n",
       "      <td>0</td>\n",
       "      <td>PC 17477</td>\n",
       "      <td>69.300</td>\n",
       "      <td>B35</td>\n",
       "      <td>C</td>\n",
       "    </tr>\n",
       "    <tr>\n",
       "      <th>370</th>\n",
       "      <td>371</td>\n",
       "      <td>1</td>\n",
       "      <td>1</td>\n",
       "      <td>Harder, Mr. George Achilles</td>\n",
       "      <td>male</td>\n",
       "      <td>25.000</td>\n",
       "      <td>1</td>\n",
       "      <td>0</td>\n",
       "      <td>11765</td>\n",
       "      <td>55.442</td>\n",
       "      <td>E50</td>\n",
       "      <td>C</td>\n",
       "    </tr>\n",
       "    <tr>\n",
       "      <th>373</th>\n",
       "      <td>374</td>\n",
       "      <td>0</td>\n",
       "      <td>1</td>\n",
       "      <td>Ringhini, Mr. Sante</td>\n",
       "      <td>male</td>\n",
       "      <td>22.000</td>\n",
       "      <td>0</td>\n",
       "      <td>0</td>\n",
       "      <td>PC 17760</td>\n",
       "      <td>135.633</td>\n",
       "      <td>NaN</td>\n",
       "      <td>C</td>\n",
       "    </tr>\n",
       "    <tr>\n",
       "      <th>377</th>\n",
       "      <td>378</td>\n",
       "      <td>0</td>\n",
       "      <td>1</td>\n",
       "      <td>Widener, Mr. Harry Elkins</td>\n",
       "      <td>male</td>\n",
       "      <td>27.000</td>\n",
       "      <td>0</td>\n",
       "      <td>2</td>\n",
       "      <td>113503</td>\n",
       "      <td>211.500</td>\n",
       "      <td>C82</td>\n",
       "      <td>C</td>\n",
       "    </tr>\n",
       "    <tr>\n",
       "      <th>393</th>\n",
       "      <td>394</td>\n",
       "      <td>1</td>\n",
       "      <td>1</td>\n",
       "      <td>Newell, Miss. Marjorie</td>\n",
       "      <td>female</td>\n",
       "      <td>23.000</td>\n",
       "      <td>1</td>\n",
       "      <td>0</td>\n",
       "      <td>35273</td>\n",
       "      <td>113.275</td>\n",
       "      <td>D36</td>\n",
       "      <td>C</td>\n",
       "    </tr>\n",
       "    <tr>\n",
       "      <th>430</th>\n",
       "      <td>431</td>\n",
       "      <td>1</td>\n",
       "      <td>1</td>\n",
       "      <td>Bjornstrom-Steffansson, Mr. Mauritz Hakan</td>\n",
       "      <td>male</td>\n",
       "      <td>28.000</td>\n",
       "      <td>0</td>\n",
       "      <td>0</td>\n",
       "      <td>110564</td>\n",
       "      <td>26.550</td>\n",
       "      <td>C52</td>\n",
       "      <td>S</td>\n",
       "    </tr>\n",
       "    <tr>\n",
       "      <th>435</th>\n",
       "      <td>436</td>\n",
       "      <td>1</td>\n",
       "      <td>1</td>\n",
       "      <td>Carter, Miss. Lucile Polk</td>\n",
       "      <td>female</td>\n",
       "      <td>14.000</td>\n",
       "      <td>1</td>\n",
       "      <td>2</td>\n",
       "      <td>113760</td>\n",
       "      <td>120.000</td>\n",
       "      <td>B96 B98</td>\n",
       "      <td>S</td>\n",
       "    </tr>\n",
       "    <tr>\n",
       "      <th>445</th>\n",
       "      <td>446</td>\n",
       "      <td>1</td>\n",
       "      <td>1</td>\n",
       "      <td>Dodge, Master. Washington</td>\n",
       "      <td>male</td>\n",
       "      <td>4.000</td>\n",
       "      <td>0</td>\n",
       "      <td>2</td>\n",
       "      <td>33638</td>\n",
       "      <td>81.858</td>\n",
       "      <td>A34</td>\n",
       "      <td>S</td>\n",
       "    </tr>\n",
       "    <tr>\n",
       "      <th>484</th>\n",
       "      <td>485</td>\n",
       "      <td>1</td>\n",
       "      <td>1</td>\n",
       "      <td>Bishop, Mr. Dickinson H</td>\n",
       "      <td>male</td>\n",
       "      <td>25.000</td>\n",
       "      <td>1</td>\n",
       "      <td>0</td>\n",
       "      <td>11967</td>\n",
       "      <td>91.079</td>\n",
       "      <td>B49</td>\n",
       "      <td>C</td>\n",
       "    </tr>\n",
       "    <tr>\n",
       "      <th>498</th>\n",
       "      <td>499</td>\n",
       "      <td>0</td>\n",
       "      <td>1</td>\n",
       "      <td>Allison, Mrs. Hudson J C (Bessie Waldo Daniels)</td>\n",
       "      <td>female</td>\n",
       "      <td>25.000</td>\n",
       "      <td>1</td>\n",
       "      <td>2</td>\n",
       "      <td>113781</td>\n",
       "      <td>151.550</td>\n",
       "      <td>C22 C26</td>\n",
       "      <td>S</td>\n",
       "    </tr>\n",
       "    <tr>\n",
       "      <th>504</th>\n",
       "      <td>505</td>\n",
       "      <td>1</td>\n",
       "      <td>1</td>\n",
       "      <td>Maioni, Miss. Roberta</td>\n",
       "      <td>female</td>\n",
       "      <td>16.000</td>\n",
       "      <td>0</td>\n",
       "      <td>0</td>\n",
       "      <td>110152</td>\n",
       "      <td>86.500</td>\n",
       "      <td>B79</td>\n",
       "      <td>S</td>\n",
       "    </tr>\n",
       "    <tr>\n",
       "      <th>505</th>\n",
       "      <td>506</td>\n",
       "      <td>0</td>\n",
       "      <td>1</td>\n",
       "      <td>Penasco y Castellana, Mr. Victor de Satode</td>\n",
       "      <td>male</td>\n",
       "      <td>18.000</td>\n",
       "      <td>1</td>\n",
       "      <td>0</td>\n",
       "      <td>PC 17758</td>\n",
       "      <td>108.900</td>\n",
       "      <td>C65</td>\n",
       "      <td>C</td>\n",
       "    </tr>\n",
       "    <tr>\n",
       "      <th>539</th>\n",
       "      <td>540</td>\n",
       "      <td>1</td>\n",
       "      <td>1</td>\n",
       "      <td>Frolicher, Miss. Hedwig Margaritha</td>\n",
       "      <td>female</td>\n",
       "      <td>22.000</td>\n",
       "      <td>0</td>\n",
       "      <td>2</td>\n",
       "      <td>13568</td>\n",
       "      <td>49.500</td>\n",
       "      <td>B39</td>\n",
       "      <td>C</td>\n",
       "    </tr>\n",
       "    <tr>\n",
       "      <th>550</th>\n",
       "      <td>551</td>\n",
       "      <td>1</td>\n",
       "      <td>1</td>\n",
       "      <td>Thayer, Mr. John Borland Jr</td>\n",
       "      <td>male</td>\n",
       "      <td>17.000</td>\n",
       "      <td>0</td>\n",
       "      <td>2</td>\n",
       "      <td>17421</td>\n",
       "      <td>110.883</td>\n",
       "      <td>C70</td>\n",
       "      <td>C</td>\n",
       "    </tr>\n",
       "    <tr>\n",
       "      <th>585</th>\n",
       "      <td>586</td>\n",
       "      <td>1</td>\n",
       "      <td>1</td>\n",
       "      <td>Taussig, Miss. Ruth</td>\n",
       "      <td>female</td>\n",
       "      <td>18.000</td>\n",
       "      <td>0</td>\n",
       "      <td>2</td>\n",
       "      <td>110413</td>\n",
       "      <td>79.650</td>\n",
       "      <td>E68</td>\n",
       "      <td>S</td>\n",
       "    </tr>\n",
       "    <tr>\n",
       "      <th>607</th>\n",
       "      <td>608</td>\n",
       "      <td>1</td>\n",
       "      <td>1</td>\n",
       "      <td>Daniel, Mr. Robert Williams</td>\n",
       "      <td>male</td>\n",
       "      <td>27.000</td>\n",
       "      <td>0</td>\n",
       "      <td>0</td>\n",
       "      <td>113804</td>\n",
       "      <td>30.500</td>\n",
       "      <td>NaN</td>\n",
       "      <td>S</td>\n",
       "    </tr>\n",
       "    <tr>\n",
       "      <th>627</th>\n",
       "      <td>628</td>\n",
       "      <td>1</td>\n",
       "      <td>1</td>\n",
       "      <td>Longley, Miss. Gretchen Fiske</td>\n",
       "      <td>female</td>\n",
       "      <td>21.000</td>\n",
       "      <td>0</td>\n",
       "      <td>0</td>\n",
       "      <td>13502</td>\n",
       "      <td>77.958</td>\n",
       "      <td>D9</td>\n",
       "      <td>S</td>\n",
       "    </tr>\n",
       "    <tr>\n",
       "      <th>641</th>\n",
       "      <td>642</td>\n",
       "      <td>1</td>\n",
       "      <td>1</td>\n",
       "      <td>Sagesser, Mlle. Emma</td>\n",
       "      <td>female</td>\n",
       "      <td>24.000</td>\n",
       "      <td>0</td>\n",
       "      <td>0</td>\n",
       "      <td>PC 17477</td>\n",
       "      <td>69.300</td>\n",
       "      <td>B35</td>\n",
       "      <td>C</td>\n",
       "    </tr>\n",
       "    <tr>\n",
       "      <th>681</th>\n",
       "      <td>682</td>\n",
       "      <td>1</td>\n",
       "      <td>1</td>\n",
       "      <td>Hassab, Mr. Hammad</td>\n",
       "      <td>male</td>\n",
       "      <td>27.000</td>\n",
       "      <td>0</td>\n",
       "      <td>0</td>\n",
       "      <td>PC 17572</td>\n",
       "      <td>76.729</td>\n",
       "      <td>D49</td>\n",
       "      <td>C</td>\n",
       "    </tr>\n",
       "    <tr>\n",
       "      <th>689</th>\n",
       "      <td>690</td>\n",
       "      <td>1</td>\n",
       "      <td>1</td>\n",
       "      <td>Madill, Miss. Georgette Alexandra</td>\n",
       "      <td>female</td>\n",
       "      <td>15.000</td>\n",
       "      <td>0</td>\n",
       "      <td>1</td>\n",
       "      <td>24160</td>\n",
       "      <td>211.338</td>\n",
       "      <td>B5</td>\n",
       "      <td>S</td>\n",
       "    </tr>\n",
       "    <tr>\n",
       "      <th>700</th>\n",
       "      <td>701</td>\n",
       "      <td>1</td>\n",
       "      <td>1</td>\n",
       "      <td>Astor, Mrs. John Jacob (Madeleine Talmadge Force)</td>\n",
       "      <td>female</td>\n",
       "      <td>18.000</td>\n",
       "      <td>1</td>\n",
       "      <td>0</td>\n",
       "      <td>PC 17757</td>\n",
       "      <td>227.525</td>\n",
       "      <td>C62 C64</td>\n",
       "      <td>C</td>\n",
       "    </tr>\n",
       "    <tr>\n",
       "      <th>708</th>\n",
       "      <td>709</td>\n",
       "      <td>1</td>\n",
       "      <td>1</td>\n",
       "      <td>Cleaver, Miss. Alice</td>\n",
       "      <td>female</td>\n",
       "      <td>22.000</td>\n",
       "      <td>0</td>\n",
       "      <td>0</td>\n",
       "      <td>113781</td>\n",
       "      <td>151.550</td>\n",
       "      <td>NaN</td>\n",
       "      <td>S</td>\n",
       "    </tr>\n",
       "    <tr>\n",
       "      <th>710</th>\n",
       "      <td>711</td>\n",
       "      <td>1</td>\n",
       "      <td>1</td>\n",
       "      <td>Mayne, Mlle. Berthe Antonine (\"Mrs de Villiers\")</td>\n",
       "      <td>female</td>\n",
       "      <td>24.000</td>\n",
       "      <td>0</td>\n",
       "      <td>0</td>\n",
       "      <td>PC 17482</td>\n",
       "      <td>49.504</td>\n",
       "      <td>C90</td>\n",
       "      <td>C</td>\n",
       "    </tr>\n",
       "    <tr>\n",
       "      <th>724</th>\n",
       "      <td>725</td>\n",
       "      <td>1</td>\n",
       "      <td>1</td>\n",
       "      <td>Chambers, Mr. Norman Campbell</td>\n",
       "      <td>male</td>\n",
       "      <td>27.000</td>\n",
       "      <td>1</td>\n",
       "      <td>0</td>\n",
       "      <td>113806</td>\n",
       "      <td>53.100</td>\n",
       "      <td>E8</td>\n",
       "      <td>S</td>\n",
       "    </tr>\n",
       "    <tr>\n",
       "      <th>730</th>\n",
       "      <td>731</td>\n",
       "      <td>1</td>\n",
       "      <td>1</td>\n",
       "      <td>Allen, Miss. Elisabeth Walton</td>\n",
       "      <td>female</td>\n",
       "      <td>29.000</td>\n",
       "      <td>0</td>\n",
       "      <td>0</td>\n",
       "      <td>24160</td>\n",
       "      <td>211.338</td>\n",
       "      <td>B5</td>\n",
       "      <td>S</td>\n",
       "    </tr>\n",
       "    <tr>\n",
       "      <th>742</th>\n",
       "      <td>743</td>\n",
       "      <td>1</td>\n",
       "      <td>1</td>\n",
       "      <td>Ryerson, Miss. Susan Parker \"Suzette\"</td>\n",
       "      <td>female</td>\n",
       "      <td>21.000</td>\n",
       "      <td>2</td>\n",
       "      <td>2</td>\n",
       "      <td>PC 17608</td>\n",
       "      <td>262.375</td>\n",
       "      <td>B57 B59 B63 B66</td>\n",
       "      <td>C</td>\n",
       "    </tr>\n",
       "    <tr>\n",
       "      <th>748</th>\n",
       "      <td>749</td>\n",
       "      <td>0</td>\n",
       "      <td>1</td>\n",
       "      <td>Marvin, Mr. Daniel Warner</td>\n",
       "      <td>male</td>\n",
       "      <td>19.000</td>\n",
       "      <td>1</td>\n",
       "      <td>0</td>\n",
       "      <td>113773</td>\n",
       "      <td>53.100</td>\n",
       "      <td>D30</td>\n",
       "      <td>S</td>\n",
       "    </tr>\n",
       "    <tr>\n",
       "      <th>781</th>\n",
       "      <td>782</td>\n",
       "      <td>1</td>\n",
       "      <td>1</td>\n",
       "      <td>Dick, Mrs. Albert Adrian (Vera Gillespie)</td>\n",
       "      <td>female</td>\n",
       "      <td>17.000</td>\n",
       "      <td>1</td>\n",
       "      <td>0</td>\n",
       "      <td>17474</td>\n",
       "      <td>57.000</td>\n",
       "      <td>B20</td>\n",
       "      <td>S</td>\n",
       "    </tr>\n",
       "    <tr>\n",
       "      <th>782</th>\n",
       "      <td>783</td>\n",
       "      <td>0</td>\n",
       "      <td>1</td>\n",
       "      <td>Long, Mr. Milton Clyde</td>\n",
       "      <td>male</td>\n",
       "      <td>29.000</td>\n",
       "      <td>0</td>\n",
       "      <td>0</td>\n",
       "      <td>113501</td>\n",
       "      <td>30.000</td>\n",
       "      <td>D6</td>\n",
       "      <td>S</td>\n",
       "    </tr>\n",
       "    <tr>\n",
       "      <th>802</th>\n",
       "      <td>803</td>\n",
       "      <td>1</td>\n",
       "      <td>1</td>\n",
       "      <td>Carter, Master. William Thornton II</td>\n",
       "      <td>male</td>\n",
       "      <td>11.000</td>\n",
       "      <td>1</td>\n",
       "      <td>2</td>\n",
       "      <td>113760</td>\n",
       "      <td>120.000</td>\n",
       "      <td>B96 B98</td>\n",
       "      <td>S</td>\n",
       "    </tr>\n",
       "    <tr>\n",
       "      <th>853</th>\n",
       "      <td>854</td>\n",
       "      <td>1</td>\n",
       "      <td>1</td>\n",
       "      <td>Lines, Miss. Mary Conover</td>\n",
       "      <td>female</td>\n",
       "      <td>16.000</td>\n",
       "      <td>0</td>\n",
       "      <td>1</td>\n",
       "      <td>PC 17592</td>\n",
       "      <td>39.400</td>\n",
       "      <td>D28</td>\n",
       "      <td>S</td>\n",
       "    </tr>\n",
       "    <tr>\n",
       "      <th>887</th>\n",
       "      <td>888</td>\n",
       "      <td>1</td>\n",
       "      <td>1</td>\n",
       "      <td>Graham, Miss. Margaret Edith</td>\n",
       "      <td>female</td>\n",
       "      <td>19.000</td>\n",
       "      <td>0</td>\n",
       "      <td>0</td>\n",
       "      <td>112053</td>\n",
       "      <td>30.000</td>\n",
       "      <td>B42</td>\n",
       "      <td>S</td>\n",
       "    </tr>\n",
       "    <tr>\n",
       "      <th>889</th>\n",
       "      <td>890</td>\n",
       "      <td>1</td>\n",
       "      <td>1</td>\n",
       "      <td>Behr, Mr. Karl Howell</td>\n",
       "      <td>male</td>\n",
       "      <td>26.000</td>\n",
       "      <td>0</td>\n",
       "      <td>0</td>\n",
       "      <td>111369</td>\n",
       "      <td>30.000</td>\n",
       "      <td>C148</td>\n",
       "      <td>C</td>\n",
       "    </tr>\n",
       "  </tbody>\n",
       "</table>\n",
       "</div>"
      ],
      "text/plain": [
       "     PassengerId  Survived  Pclass  \\\n",
       "23            24         1       1   \n",
       "27            28         0       1   \n",
       "34            35         0       1   \n",
       "83            84         0       1   \n",
       "88            89         1       1   \n",
       "97            98         1       1   \n",
       "102          103         0       1   \n",
       "118          119         0       1   \n",
       "136          137         1       1   \n",
       "139          140         0       1   \n",
       "151          152         1       1   \n",
       "290          291         1       1   \n",
       "291          292         1       1   \n",
       "297          298         0       1   \n",
       "305          306         1       1   \n",
       "307          308         1       1   \n",
       "310          311         1       1   \n",
       "311          312         1       1   \n",
       "329          330         1       1   \n",
       "336          337         0       1   \n",
       "341          342         1       1   \n",
       "356          357         1       1   \n",
       "369          370         1       1   \n",
       "370          371         1       1   \n",
       "373          374         0       1   \n",
       "377          378         0       1   \n",
       "393          394         1       1   \n",
       "430          431         1       1   \n",
       "435          436         1       1   \n",
       "445          446         1       1   \n",
       "484          485         1       1   \n",
       "498          499         0       1   \n",
       "504          505         1       1   \n",
       "505          506         0       1   \n",
       "539          540         1       1   \n",
       "550          551         1       1   \n",
       "585          586         1       1   \n",
       "607          608         1       1   \n",
       "627          628         1       1   \n",
       "641          642         1       1   \n",
       "681          682         1       1   \n",
       "689          690         1       1   \n",
       "700          701         1       1   \n",
       "708          709         1       1   \n",
       "710          711         1       1   \n",
       "724          725         1       1   \n",
       "730          731         1       1   \n",
       "742          743         1       1   \n",
       "748          749         0       1   \n",
       "781          782         1       1   \n",
       "782          783         0       1   \n",
       "802          803         1       1   \n",
       "853          854         1       1   \n",
       "887          888         1       1   \n",
       "889          890         1       1   \n",
       "\n",
       "                                                  Name     Sex    Age  SibSp  \\\n",
       "23                        Sloper, Mr. William Thompson    male 28.000      0   \n",
       "27                      Fortune, Mr. Charles Alexander    male 19.000      3   \n",
       "34                             Meyer, Mr. Edgar Joseph    male 28.000      1   \n",
       "83                             Carrau, Mr. Francisco M    male 28.000      0   \n",
       "88                          Fortune, Miss. Mabel Helen  female 23.000      3   \n",
       "97                     Greenfield, Mr. William Bertram    male 23.000      0   \n",
       "102                          White, Mr. Richard Frasar    male 21.000      0   \n",
       "118                           Baxter, Mr. Quigg Edmond    male 24.000      0   \n",
       "136                       Newsom, Miss. Helen Monypeny  female 19.000      0   \n",
       "139                                 Giglio, Mr. Victor    male 24.000      0   \n",
       "151                  Pears, Mrs. Thomas (Edith Wearne)  female 22.000      1   \n",
       "290                       Barber, Miss. Ellen \"Nellie\"  female 26.000      0   \n",
       "291            Bishop, Mrs. Dickinson H (Helen Walton)  female 19.000      1   \n",
       "297                       Allison, Miss. Helen Loraine  female  2.000      1   \n",
       "305                     Allison, Master. Hudson Trevor    male  0.920      1   \n",
       "307  Penasco y Castellana, Mrs. Victor de Satode (M...  female 17.000      1   \n",
       "310                     Hays, Miss. Margaret Bechstein  female 24.000      0   \n",
       "311                         Ryerson, Miss. Emily Borie  female 18.000      2   \n",
       "329                       Hippach, Miss. Jean Gertrude  female 16.000      0   \n",
       "336                          Pears, Mr. Thomas Clinton    male 29.000      1   \n",
       "341                     Fortune, Miss. Alice Elizabeth  female 24.000      3   \n",
       "356                        Bowerman, Miss. Elsie Edith  female 22.000      0   \n",
       "369                      Aubart, Mme. Leontine Pauline  female 24.000      0   \n",
       "370                        Harder, Mr. George Achilles    male 25.000      1   \n",
       "373                                Ringhini, Mr. Sante    male 22.000      0   \n",
       "377                          Widener, Mr. Harry Elkins    male 27.000      0   \n",
       "393                             Newell, Miss. Marjorie  female 23.000      1   \n",
       "430          Bjornstrom-Steffansson, Mr. Mauritz Hakan    male 28.000      0   \n",
       "435                          Carter, Miss. Lucile Polk  female 14.000      1   \n",
       "445                          Dodge, Master. Washington    male  4.000      0   \n",
       "484                            Bishop, Mr. Dickinson H    male 25.000      1   \n",
       "498    Allison, Mrs. Hudson J C (Bessie Waldo Daniels)  female 25.000      1   \n",
       "504                              Maioni, Miss. Roberta  female 16.000      0   \n",
       "505         Penasco y Castellana, Mr. Victor de Satode    male 18.000      1   \n",
       "539                 Frolicher, Miss. Hedwig Margaritha  female 22.000      0   \n",
       "550                        Thayer, Mr. John Borland Jr    male 17.000      0   \n",
       "585                                Taussig, Miss. Ruth  female 18.000      0   \n",
       "607                        Daniel, Mr. Robert Williams    male 27.000      0   \n",
       "627                      Longley, Miss. Gretchen Fiske  female 21.000      0   \n",
       "641                               Sagesser, Mlle. Emma  female 24.000      0   \n",
       "681                                 Hassab, Mr. Hammad    male 27.000      0   \n",
       "689                  Madill, Miss. Georgette Alexandra  female 15.000      0   \n",
       "700  Astor, Mrs. John Jacob (Madeleine Talmadge Force)  female 18.000      1   \n",
       "708                               Cleaver, Miss. Alice  female 22.000      0   \n",
       "710   Mayne, Mlle. Berthe Antonine (\"Mrs de Villiers\")  female 24.000      0   \n",
       "724                      Chambers, Mr. Norman Campbell    male 27.000      1   \n",
       "730                      Allen, Miss. Elisabeth Walton  female 29.000      0   \n",
       "742              Ryerson, Miss. Susan Parker \"Suzette\"  female 21.000      2   \n",
       "748                          Marvin, Mr. Daniel Warner    male 19.000      1   \n",
       "781          Dick, Mrs. Albert Adrian (Vera Gillespie)  female 17.000      1   \n",
       "782                             Long, Mr. Milton Clyde    male 29.000      0   \n",
       "802                Carter, Master. William Thornton II    male 11.000      1   \n",
       "853                          Lines, Miss. Mary Conover  female 16.000      0   \n",
       "887                       Graham, Miss. Margaret Edith  female 19.000      0   \n",
       "889                              Behr, Mr. Karl Howell    male 26.000      0   \n",
       "\n",
       "     Parch    Ticket    Fare            Cabin Embarked  \n",
       "23       0    113788  35.500               A6        S  \n",
       "27       2     19950 263.000      C23 C25 C27        S  \n",
       "34       0  PC 17604  82.171              NaN        C  \n",
       "83       0    113059  47.100              NaN        S  \n",
       "88       2     19950 263.000      C23 C25 C27        S  \n",
       "97       1  PC 17759  63.358          D10 D12        C  \n",
       "102      1     35281  77.287              D26        S  \n",
       "118      1  PC 17558 247.521          B58 B60        C  \n",
       "136      2     11752  26.283              D47        S  \n",
       "139      0  PC 17593  79.200              B86        C  \n",
       "151      0    113776  66.600               C2        S  \n",
       "290      0     19877  78.850              NaN        S  \n",
       "291      0     11967  91.079              B49        C  \n",
       "297      2    113781 151.550          C22 C26        S  \n",
       "305      2    113781 151.550          C22 C26        S  \n",
       "307      0  PC 17758 108.900              C65        C  \n",
       "310      0     11767  83.158              C54        C  \n",
       "311      2  PC 17608 262.375  B57 B59 B63 B66        C  \n",
       "329      1    111361  57.979              B18        C  \n",
       "336      0    113776  66.600               C2        S  \n",
       "341      2     19950 263.000      C23 C25 C27        S  \n",
       "356      1    113505  55.000              E33        S  \n",
       "369      0  PC 17477  69.300              B35        C  \n",
       "370      0     11765  55.442              E50        C  \n",
       "373      0  PC 17760 135.633              NaN        C  \n",
       "377      2    113503 211.500              C82        C  \n",
       "393      0     35273 113.275              D36        C  \n",
       "430      0    110564  26.550              C52        S  \n",
       "435      2    113760 120.000          B96 B98        S  \n",
       "445      2     33638  81.858              A34        S  \n",
       "484      0     11967  91.079              B49        C  \n",
       "498      2    113781 151.550          C22 C26        S  \n",
       "504      0    110152  86.500              B79        S  \n",
       "505      0  PC 17758 108.900              C65        C  \n",
       "539      2     13568  49.500              B39        C  \n",
       "550      2     17421 110.883              C70        C  \n",
       "585      2    110413  79.650              E68        S  \n",
       "607      0    113804  30.500              NaN        S  \n",
       "627      0     13502  77.958               D9        S  \n",
       "641      0  PC 17477  69.300              B35        C  \n",
       "681      0  PC 17572  76.729              D49        C  \n",
       "689      1     24160 211.338               B5        S  \n",
       "700      0  PC 17757 227.525          C62 C64        C  \n",
       "708      0    113781 151.550              NaN        S  \n",
       "710      0  PC 17482  49.504              C90        C  \n",
       "724      0    113806  53.100               E8        S  \n",
       "730      0     24160 211.338               B5        S  \n",
       "742      2  PC 17608 262.375  B57 B59 B63 B66        C  \n",
       "748      0    113773  53.100              D30        S  \n",
       "781      0     17474  57.000              B20        S  \n",
       "782      0    113501  30.000               D6        S  \n",
       "802      2    113760 120.000          B96 B98        S  \n",
       "853      1  PC 17592  39.400              D28        S  \n",
       "887      0    112053  30.000              B42        S  \n",
       "889      0    111369  30.000             C148        C  "
      ]
     },
     "execution_count": 98,
     "metadata": {},
     "output_type": "execute_result"
    }
   ],
   "source": [
    "df.iloc[df[(df.Age<30)&(df.Pclass == 1)].index.to_list(),:]"
   ]
  },
  {
   "cell_type": "markdown",
   "id": "013d1cb6",
   "metadata": {
    "hidden": true
   },
   "source": [
    "### between()\n",
    "\n",
    "* between süper bir fonksiyon. Normalde bu fonksiyonun yaptığı şeyi conditional şekilde yazsak uzunca bir kod yazmak gerekirdi.\n",
    "\n",
    "* between'de iki tane sınır değeri giriyoruz ve belirli bir değişkende (veya tüm dataframe'de) bu değerlerin arasında kalan değerler TRUE olarak döndürülüyor.\n",
    "\n",
    "* İstenildiği taktirde değer aralığına sınır değerlerinin de dahil edilmesi sağlanabilir. Hatta dahil edilmemeleri veya sınır değerlerinden sadece birisinin dahil edilmesi seçeneği de kullanılabilir.  \n",
    "\n",
    "\n",
    "* **inclusive = \"both\"**; sınır değerlerinin ikisi de dahil edilir.***(Default)***\n",
    "* **inclusive = \"neither\"**; sınır değerlerinin ikisi de dahil edilmez.\n",
    "* **inclusive = \"left\"**; sınır değerlerinden sadece soldaki dahil edilir.\n",
    "* **inclusive = \"rigth\"**; sınır değerlerinden sadece sağdaki edilir."
   ]
  },
  {
   "cell_type": "code",
   "execution_count": 197,
   "id": "749a079e",
   "metadata": {
    "ExecuteTime": {
     "end_time": "2021-11-16T14:22:52.577569Z",
     "start_time": "2021-11-16T14:22:52.560618Z"
    },
    "hidden": true
   },
   "outputs": [],
   "source": [
    "df = pd.read_csv(\"train.csv\")"
   ]
  },
  {
   "cell_type": "code",
   "execution_count": 200,
   "id": "2994c5de",
   "metadata": {
    "ExecuteTime": {
     "end_time": "2021-11-16T14:26:12.524959Z",
     "start_time": "2021-11-16T14:26:12.504016Z"
    },
    "hidden": true
   },
   "outputs": [
    {
     "data": {
      "text/plain": [
       "0      False\n",
       "1      False\n",
       "2      False\n",
       "3      False\n",
       "4      False\n",
       "       ...  \n",
       "886    False\n",
       "887    False\n",
       "888    False\n",
       "889    False\n",
       "890    False\n",
       "Name: Age, Length: 891, dtype: bool"
      ]
     },
     "execution_count": 200,
     "metadata": {},
     "output_type": "execute_result"
    }
   ],
   "source": [
    "df.Age.between(3,10)"
   ]
  },
  {
   "cell_type": "code",
   "execution_count": 201,
   "id": "ebc9676a",
   "metadata": {
    "ExecuteTime": {
     "end_time": "2021-11-16T14:29:38.225077Z",
     "start_time": "2021-11-16T14:29:38.206130Z"
    },
    "hidden": true
   },
   "outputs": [
    {
     "data": {
      "text/plain": [
       "0      False\n",
       "1      False\n",
       "2      False\n",
       "3      False\n",
       "4      False\n",
       "       ...  \n",
       "886    False\n",
       "887    False\n",
       "888    False\n",
       "889    False\n",
       "890    False\n",
       "Name: Age, Length: 891, dtype: bool"
      ]
     },
     "execution_count": 201,
     "metadata": {},
     "output_type": "execute_result"
    }
   ],
   "source": [
    "df.Age.between(3,10, inclusive=\"neither\")"
   ]
  },
  {
   "cell_type": "code",
   "execution_count": 203,
   "id": "54abaa1e",
   "metadata": {
    "ExecuteTime": {
     "end_time": "2021-11-16T14:30:02.247833Z",
     "start_time": "2021-11-16T14:30:02.221902Z"
    },
    "hidden": true
   },
   "outputs": [
    {
     "data": {
      "text/html": [
       "<div>\n",
       "<style scoped>\n",
       "    .dataframe tbody tr th:only-of-type {\n",
       "        vertical-align: middle;\n",
       "    }\n",
       "\n",
       "    .dataframe tbody tr th {\n",
       "        vertical-align: top;\n",
       "    }\n",
       "\n",
       "    .dataframe thead th {\n",
       "        text-align: right;\n",
       "    }\n",
       "</style>\n",
       "<table border=\"1\" class=\"dataframe\">\n",
       "  <thead>\n",
       "    <tr style=\"text-align: right;\">\n",
       "      <th></th>\n",
       "      <th>PassengerId</th>\n",
       "      <th>Survived</th>\n",
       "      <th>Pclass</th>\n",
       "      <th>Name</th>\n",
       "      <th>Sex</th>\n",
       "      <th>Age</th>\n",
       "      <th>SibSp</th>\n",
       "      <th>Parch</th>\n",
       "      <th>Ticket</th>\n",
       "      <th>Fare</th>\n",
       "      <th>Cabin</th>\n",
       "      <th>Embarked</th>\n",
       "    </tr>\n",
       "  </thead>\n",
       "  <tbody>\n",
       "    <tr>\n",
       "      <th>10</th>\n",
       "      <td>11</td>\n",
       "      <td>1</td>\n",
       "      <td>3</td>\n",
       "      <td>Sandstrom, Miss. Marguerite Rut</td>\n",
       "      <td>female</td>\n",
       "      <td>4.000</td>\n",
       "      <td>1</td>\n",
       "      <td>1</td>\n",
       "      <td>PP 9549</td>\n",
       "      <td>16.700</td>\n",
       "      <td>G6</td>\n",
       "      <td>S</td>\n",
       "    </tr>\n",
       "    <tr>\n",
       "      <th>24</th>\n",
       "      <td>25</td>\n",
       "      <td>0</td>\n",
       "      <td>3</td>\n",
       "      <td>Palsson, Miss. Torborg Danira</td>\n",
       "      <td>female</td>\n",
       "      <td>8.000</td>\n",
       "      <td>3</td>\n",
       "      <td>1</td>\n",
       "      <td>349909</td>\n",
       "      <td>21.075</td>\n",
       "      <td>NaN</td>\n",
       "      <td>S</td>\n",
       "    </tr>\n",
       "    <tr>\n",
       "      <th>50</th>\n",
       "      <td>51</td>\n",
       "      <td>0</td>\n",
       "      <td>3</td>\n",
       "      <td>Panula, Master. Juha Niilo</td>\n",
       "      <td>male</td>\n",
       "      <td>7.000</td>\n",
       "      <td>4</td>\n",
       "      <td>1</td>\n",
       "      <td>3101295</td>\n",
       "      <td>39.688</td>\n",
       "      <td>NaN</td>\n",
       "      <td>S</td>\n",
       "    </tr>\n",
       "    <tr>\n",
       "      <th>58</th>\n",
       "      <td>59</td>\n",
       "      <td>1</td>\n",
       "      <td>2</td>\n",
       "      <td>West, Miss. Constance Mirium</td>\n",
       "      <td>female</td>\n",
       "      <td>5.000</td>\n",
       "      <td>1</td>\n",
       "      <td>2</td>\n",
       "      <td>C.A. 34651</td>\n",
       "      <td>27.750</td>\n",
       "      <td>NaN</td>\n",
       "      <td>S</td>\n",
       "    </tr>\n",
       "    <tr>\n",
       "      <th>63</th>\n",
       "      <td>64</td>\n",
       "      <td>0</td>\n",
       "      <td>3</td>\n",
       "      <td>Skoog, Master. Harald</td>\n",
       "      <td>male</td>\n",
       "      <td>4.000</td>\n",
       "      <td>3</td>\n",
       "      <td>2</td>\n",
       "      <td>347088</td>\n",
       "      <td>27.900</td>\n",
       "      <td>NaN</td>\n",
       "      <td>S</td>\n",
       "    </tr>\n",
       "  </tbody>\n",
       "</table>\n",
       "</div>"
      ],
      "text/plain": [
       "    PassengerId  Survived  Pclass                             Name     Sex  \\\n",
       "10           11         1       3  Sandstrom, Miss. Marguerite Rut  female   \n",
       "24           25         0       3    Palsson, Miss. Torborg Danira  female   \n",
       "50           51         0       3       Panula, Master. Juha Niilo    male   \n",
       "58           59         1       2     West, Miss. Constance Mirium  female   \n",
       "63           64         0       3            Skoog, Master. Harald    male   \n",
       "\n",
       "     Age  SibSp  Parch      Ticket   Fare Cabin Embarked  \n",
       "10 4.000      1      1     PP 9549 16.700    G6        S  \n",
       "24 8.000      3      1      349909 21.075   NaN        S  \n",
       "50 7.000      4      1     3101295 39.688   NaN        S  \n",
       "58 5.000      1      2  C.A. 34651 27.750   NaN        S  \n",
       "63 4.000      3      2      347088 27.900   NaN        S  "
      ]
     },
     "execution_count": 203,
     "metadata": {},
     "output_type": "execute_result"
    }
   ],
   "source": [
    "df[df.Age.between(3,10, inclusive=\"neither\")].head(5)"
   ]
  },
  {
   "cell_type": "code",
   "execution_count": null,
   "id": "80ad9396",
   "metadata": {
    "hidden": true
   },
   "outputs": [],
   "source": []
  },
  {
   "cell_type": "code",
   "execution_count": null,
   "id": "5c63335d",
   "metadata": {
    "hidden": true
   },
   "outputs": [],
   "source": []
  },
  {
   "cell_type": "markdown",
   "id": "ed6aee50",
   "metadata": {
    "hidden": true
   },
   "source": [
    "### query()\n",
    "\n",
    "* Basit anlaşılır query cümleleriyle slicing yapılabilir."
   ]
  },
  {
   "cell_type": "code",
   "execution_count": 96,
   "id": "bf97c463",
   "metadata": {
    "ExecuteTime": {
     "end_time": "2021-11-16T02:24:20.183745Z",
     "start_time": "2021-11-16T02:24:20.158779Z"
    },
    "hidden": true
   },
   "outputs": [],
   "source": [
    "df = pd.read_csv(\"train.csv\")"
   ]
  },
  {
   "cell_type": "code",
   "execution_count": 97,
   "id": "e0d6deeb",
   "metadata": {
    "ExecuteTime": {
     "end_time": "2021-11-16T02:24:20.968743Z",
     "start_time": "2021-11-16T02:24:20.937828Z"
    },
    "hidden": true
   },
   "outputs": [
    {
     "data": {
      "text/html": [
       "<div>\n",
       "<style scoped>\n",
       "    .dataframe tbody tr th:only-of-type {\n",
       "        vertical-align: middle;\n",
       "    }\n",
       "\n",
       "    .dataframe tbody tr th {\n",
       "        vertical-align: top;\n",
       "    }\n",
       "\n",
       "    .dataframe thead th {\n",
       "        text-align: right;\n",
       "    }\n",
       "</style>\n",
       "<table border=\"1\" class=\"dataframe\">\n",
       "  <thead>\n",
       "    <tr style=\"text-align: right;\">\n",
       "      <th></th>\n",
       "      <th>PassengerId</th>\n",
       "      <th>Survived</th>\n",
       "      <th>Pclass</th>\n",
       "      <th>Name</th>\n",
       "      <th>Sex</th>\n",
       "      <th>Age</th>\n",
       "      <th>SibSp</th>\n",
       "      <th>Parch</th>\n",
       "      <th>Ticket</th>\n",
       "      <th>Fare</th>\n",
       "      <th>Cabin</th>\n",
       "      <th>Embarked</th>\n",
       "    </tr>\n",
       "  </thead>\n",
       "  <tbody>\n",
       "    <tr>\n",
       "      <th>96</th>\n",
       "      <td>97</td>\n",
       "      <td>0</td>\n",
       "      <td>1</td>\n",
       "      <td>Goldschmidt, Mr. George B</td>\n",
       "      <td>male</td>\n",
       "      <td>71.000</td>\n",
       "      <td>0</td>\n",
       "      <td>0</td>\n",
       "      <td>PC 17754</td>\n",
       "      <td>34.654</td>\n",
       "      <td>A5</td>\n",
       "      <td>C</td>\n",
       "    </tr>\n",
       "    <tr>\n",
       "      <th>116</th>\n",
       "      <td>117</td>\n",
       "      <td>0</td>\n",
       "      <td>3</td>\n",
       "      <td>Connors, Mr. Patrick</td>\n",
       "      <td>male</td>\n",
       "      <td>70.500</td>\n",
       "      <td>0</td>\n",
       "      <td>0</td>\n",
       "      <td>370369</td>\n",
       "      <td>7.750</td>\n",
       "      <td>NaN</td>\n",
       "      <td>Q</td>\n",
       "    </tr>\n",
       "    <tr>\n",
       "      <th>493</th>\n",
       "      <td>494</td>\n",
       "      <td>0</td>\n",
       "      <td>1</td>\n",
       "      <td>Artagaveytia, Mr. Ramon</td>\n",
       "      <td>male</td>\n",
       "      <td>71.000</td>\n",
       "      <td>0</td>\n",
       "      <td>0</td>\n",
       "      <td>PC 17609</td>\n",
       "      <td>49.504</td>\n",
       "      <td>NaN</td>\n",
       "      <td>C</td>\n",
       "    </tr>\n",
       "    <tr>\n",
       "      <th>630</th>\n",
       "      <td>631</td>\n",
       "      <td>1</td>\n",
       "      <td>1</td>\n",
       "      <td>Barkworth, Mr. Algernon Henry Wilson</td>\n",
       "      <td>male</td>\n",
       "      <td>80.000</td>\n",
       "      <td>0</td>\n",
       "      <td>0</td>\n",
       "      <td>27042</td>\n",
       "      <td>30.000</td>\n",
       "      <td>A23</td>\n",
       "      <td>S</td>\n",
       "    </tr>\n",
       "    <tr>\n",
       "      <th>672</th>\n",
       "      <td>673</td>\n",
       "      <td>0</td>\n",
       "      <td>2</td>\n",
       "      <td>Mitchell, Mr. Henry Michael</td>\n",
       "      <td>male</td>\n",
       "      <td>70.000</td>\n",
       "      <td>0</td>\n",
       "      <td>0</td>\n",
       "      <td>C.A. 24580</td>\n",
       "      <td>10.500</td>\n",
       "      <td>NaN</td>\n",
       "      <td>S</td>\n",
       "    </tr>\n",
       "    <tr>\n",
       "      <th>745</th>\n",
       "      <td>746</td>\n",
       "      <td>0</td>\n",
       "      <td>1</td>\n",
       "      <td>Crosby, Capt. Edward Gifford</td>\n",
       "      <td>male</td>\n",
       "      <td>70.000</td>\n",
       "      <td>1</td>\n",
       "      <td>1</td>\n",
       "      <td>WE/P 5735</td>\n",
       "      <td>71.000</td>\n",
       "      <td>B22</td>\n",
       "      <td>S</td>\n",
       "    </tr>\n",
       "    <tr>\n",
       "      <th>851</th>\n",
       "      <td>852</td>\n",
       "      <td>0</td>\n",
       "      <td>3</td>\n",
       "      <td>Svensson, Mr. Johan</td>\n",
       "      <td>male</td>\n",
       "      <td>74.000</td>\n",
       "      <td>0</td>\n",
       "      <td>0</td>\n",
       "      <td>347060</td>\n",
       "      <td>7.775</td>\n",
       "      <td>NaN</td>\n",
       "      <td>S</td>\n",
       "    </tr>\n",
       "  </tbody>\n",
       "</table>\n",
       "</div>"
      ],
      "text/plain": [
       "     PassengerId  Survived  Pclass                                  Name  \\\n",
       "96            97         0       1             Goldschmidt, Mr. George B   \n",
       "116          117         0       3                  Connors, Mr. Patrick   \n",
       "493          494         0       1               Artagaveytia, Mr. Ramon   \n",
       "630          631         1       1  Barkworth, Mr. Algernon Henry Wilson   \n",
       "672          673         0       2           Mitchell, Mr. Henry Michael   \n",
       "745          746         0       1          Crosby, Capt. Edward Gifford   \n",
       "851          852         0       3                   Svensson, Mr. Johan   \n",
       "\n",
       "      Sex    Age  SibSp  Parch      Ticket   Fare Cabin Embarked  \n",
       "96   male 71.000      0      0    PC 17754 34.654    A5        C  \n",
       "116  male 70.500      0      0      370369  7.750   NaN        Q  \n",
       "493  male 71.000      0      0    PC 17609 49.504   NaN        C  \n",
       "630  male 80.000      0      0       27042 30.000   A23        S  \n",
       "672  male 70.000      0      0  C.A. 24580 10.500   NaN        S  \n",
       "745  male 70.000      1      1   WE/P 5735 71.000   B22        S  \n",
       "851  male 74.000      0      0      347060  7.775   NaN        S  "
      ]
     },
     "execution_count": 97,
     "metadata": {},
     "output_type": "execute_result"
    }
   ],
   "source": [
    "df.query(\"Age >= 70 and Sex=='male'\")"
   ]
  },
  {
   "cell_type": "markdown",
   "id": "c30b1760",
   "metadata": {
    "hidden": true
   },
   "source": [
    "### str.contains() ve *Regex* ile - Bir kelimeyi ya da bir karakteri bulma\n",
    "* Herhangi bir şeyi aratabilirsin.\n",
    "* Aradığın şey tam tamına dataframe'deki değerlerle eşit olmasa da olur.\n",
    "* Bir kelimenin sadece bir kısmını yazman da yeterli. Bu kısım ister başta ister sonda ister ortada isterse daha başka bir yerde olsun hiç farketmez."
   ]
  },
  {
   "cell_type": "code",
   "execution_count": 129,
   "id": "d7b1d66d",
   "metadata": {
    "ExecuteTime": {
     "end_time": "2021-11-16T12:33:48.801207Z",
     "start_time": "2021-11-16T12:33:48.781262Z"
    },
    "hidden": true
   },
   "outputs": [],
   "source": [
    "df = pd.read_csv(\"train.csv\")"
   ]
  },
  {
   "cell_type": "code",
   "execution_count": 130,
   "id": "aca421a5",
   "metadata": {
    "ExecuteTime": {
     "end_time": "2021-11-16T12:33:58.646588Z",
     "start_time": "2021-11-16T12:33:58.616618Z"
    },
    "hidden": true
   },
   "outputs": [
    {
     "data": {
      "text/html": [
       "<div>\n",
       "<style scoped>\n",
       "    .dataframe tbody tr th:only-of-type {\n",
       "        vertical-align: middle;\n",
       "    }\n",
       "\n",
       "    .dataframe tbody tr th {\n",
       "        vertical-align: top;\n",
       "    }\n",
       "\n",
       "    .dataframe thead th {\n",
       "        text-align: right;\n",
       "    }\n",
       "</style>\n",
       "<table border=\"1\" class=\"dataframe\">\n",
       "  <thead>\n",
       "    <tr style=\"text-align: right;\">\n",
       "      <th></th>\n",
       "      <th>PassengerId</th>\n",
       "      <th>Survived</th>\n",
       "      <th>Pclass</th>\n",
       "      <th>Name</th>\n",
       "      <th>Sex</th>\n",
       "      <th>Age</th>\n",
       "      <th>SibSp</th>\n",
       "      <th>Parch</th>\n",
       "      <th>Ticket</th>\n",
       "      <th>Fare</th>\n",
       "      <th>Cabin</th>\n",
       "      <th>Embarked</th>\n",
       "    </tr>\n",
       "  </thead>\n",
       "  <tbody>\n",
       "    <tr>\n",
       "      <th>148</th>\n",
       "      <td>149</td>\n",
       "      <td>0</td>\n",
       "      <td>2</td>\n",
       "      <td>Navratil, Mr. Michel (\"Louis M Hoffman\")</td>\n",
       "      <td>male</td>\n",
       "      <td>36.500</td>\n",
       "      <td>0</td>\n",
       "      <td>2</td>\n",
       "      <td>230080</td>\n",
       "      <td>26.000</td>\n",
       "      <td>F2</td>\n",
       "      <td>S</td>\n",
       "    </tr>\n",
       "    <tr>\n",
       "      <th>193</th>\n",
       "      <td>194</td>\n",
       "      <td>1</td>\n",
       "      <td>2</td>\n",
       "      <td>Navratil, Master. Michel M</td>\n",
       "      <td>male</td>\n",
       "      <td>3.000</td>\n",
       "      <td>1</td>\n",
       "      <td>1</td>\n",
       "      <td>230080</td>\n",
       "      <td>26.000</td>\n",
       "      <td>F2</td>\n",
       "      <td>S</td>\n",
       "    </tr>\n",
       "    <tr>\n",
       "      <th>672</th>\n",
       "      <td>673</td>\n",
       "      <td>0</td>\n",
       "      <td>2</td>\n",
       "      <td>Mitchell, Mr. Henry Michael</td>\n",
       "      <td>male</td>\n",
       "      <td>70.000</td>\n",
       "      <td>0</td>\n",
       "      <td>0</td>\n",
       "      <td>C.A. 24580</td>\n",
       "      <td>10.500</td>\n",
       "      <td>NaN</td>\n",
       "      <td>S</td>\n",
       "    </tr>\n",
       "    <tr>\n",
       "      <th>718</th>\n",
       "      <td>719</td>\n",
       "      <td>0</td>\n",
       "      <td>3</td>\n",
       "      <td>McEvoy, Mr. Michael</td>\n",
       "      <td>male</td>\n",
       "      <td>NaN</td>\n",
       "      <td>0</td>\n",
       "      <td>0</td>\n",
       "      <td>36568</td>\n",
       "      <td>15.500</td>\n",
       "      <td>NaN</td>\n",
       "      <td>Q</td>\n",
       "    </tr>\n",
       "    <tr>\n",
       "      <th>749</th>\n",
       "      <td>750</td>\n",
       "      <td>0</td>\n",
       "      <td>3</td>\n",
       "      <td>Connaghton, Mr. Michael</td>\n",
       "      <td>male</td>\n",
       "      <td>31.000</td>\n",
       "      <td>0</td>\n",
       "      <td>0</td>\n",
       "      <td>335097</td>\n",
       "      <td>7.750</td>\n",
       "      <td>NaN</td>\n",
       "      <td>Q</td>\n",
       "    </tr>\n",
       "  </tbody>\n",
       "</table>\n",
       "</div>"
      ],
      "text/plain": [
       "     PassengerId  Survived  Pclass                                      Name  \\\n",
       "148          149         0       2  Navratil, Mr. Michel (\"Louis M Hoffman\")   \n",
       "193          194         1       2                Navratil, Master. Michel M   \n",
       "672          673         0       2               Mitchell, Mr. Henry Michael   \n",
       "718          719         0       3                       McEvoy, Mr. Michael   \n",
       "749          750         0       3                   Connaghton, Mr. Michael   \n",
       "\n",
       "      Sex    Age  SibSp  Parch      Ticket   Fare Cabin Embarked  \n",
       "148  male 36.500      0      2      230080 26.000    F2        S  \n",
       "193  male  3.000      1      1      230080 26.000    F2        S  \n",
       "672  male 70.000      0      0  C.A. 24580 10.500   NaN        S  \n",
       "718  male    NaN      0      0       36568 15.500   NaN        Q  \n",
       "749  male 31.000      0      0      335097  7.750   NaN        Q  "
      ]
     },
     "execution_count": 130,
     "metadata": {},
     "output_type": "execute_result"
    }
   ],
   "source": [
    "df[df[\"Name\"].str.contains(\"Mich\")]"
   ]
  },
  {
   "cell_type": "code",
   "execution_count": 131,
   "id": "38be18a6",
   "metadata": {
    "ExecuteTime": {
     "end_time": "2021-11-16T12:34:12.962358Z",
     "start_time": "2021-11-16T12:34:12.926453Z"
    },
    "hidden": true
   },
   "outputs": [
    {
     "data": {
      "text/html": [
       "<div>\n",
       "<style scoped>\n",
       "    .dataframe tbody tr th:only-of-type {\n",
       "        vertical-align: middle;\n",
       "    }\n",
       "\n",
       "    .dataframe tbody tr th {\n",
       "        vertical-align: top;\n",
       "    }\n",
       "\n",
       "    .dataframe thead th {\n",
       "        text-align: right;\n",
       "    }\n",
       "</style>\n",
       "<table border=\"1\" class=\"dataframe\">\n",
       "  <thead>\n",
       "    <tr style=\"text-align: right;\">\n",
       "      <th></th>\n",
       "      <th>PassengerId</th>\n",
       "      <th>Survived</th>\n",
       "      <th>Pclass</th>\n",
       "      <th>Name</th>\n",
       "      <th>Sex</th>\n",
       "      <th>Age</th>\n",
       "      <th>SibSp</th>\n",
       "      <th>Parch</th>\n",
       "      <th>Ticket</th>\n",
       "      <th>Fare</th>\n",
       "      <th>Cabin</th>\n",
       "      <th>Embarked</th>\n",
       "    </tr>\n",
       "  </thead>\n",
       "  <tbody>\n",
       "    <tr>\n",
       "      <th>148</th>\n",
       "      <td>149</td>\n",
       "      <td>0</td>\n",
       "      <td>2</td>\n",
       "      <td>Navratil, Mr. Michel (\"Louis M Hoffman\")</td>\n",
       "      <td>male</td>\n",
       "      <td>36.500</td>\n",
       "      <td>0</td>\n",
       "      <td>2</td>\n",
       "      <td>230080</td>\n",
       "      <td>26.000</td>\n",
       "      <td>F2</td>\n",
       "      <td>S</td>\n",
       "    </tr>\n",
       "    <tr>\n",
       "      <th>193</th>\n",
       "      <td>194</td>\n",
       "      <td>1</td>\n",
       "      <td>2</td>\n",
       "      <td>Navratil, Master. Michel M</td>\n",
       "      <td>male</td>\n",
       "      <td>3.000</td>\n",
       "      <td>1</td>\n",
       "      <td>1</td>\n",
       "      <td>230080</td>\n",
       "      <td>26.000</td>\n",
       "      <td>F2</td>\n",
       "      <td>S</td>\n",
       "    </tr>\n",
       "    <tr>\n",
       "      <th>672</th>\n",
       "      <td>673</td>\n",
       "      <td>0</td>\n",
       "      <td>2</td>\n",
       "      <td>Mitchell, Mr. Henry Michael</td>\n",
       "      <td>male</td>\n",
       "      <td>70.000</td>\n",
       "      <td>0</td>\n",
       "      <td>0</td>\n",
       "      <td>C.A. 24580</td>\n",
       "      <td>10.500</td>\n",
       "      <td>NaN</td>\n",
       "      <td>S</td>\n",
       "    </tr>\n",
       "    <tr>\n",
       "      <th>718</th>\n",
       "      <td>719</td>\n",
       "      <td>0</td>\n",
       "      <td>3</td>\n",
       "      <td>McEvoy, Mr. Michael</td>\n",
       "      <td>male</td>\n",
       "      <td>NaN</td>\n",
       "      <td>0</td>\n",
       "      <td>0</td>\n",
       "      <td>36568</td>\n",
       "      <td>15.500</td>\n",
       "      <td>NaN</td>\n",
       "      <td>Q</td>\n",
       "    </tr>\n",
       "    <tr>\n",
       "      <th>749</th>\n",
       "      <td>750</td>\n",
       "      <td>0</td>\n",
       "      <td>3</td>\n",
       "      <td>Connaghton, Mr. Michael</td>\n",
       "      <td>male</td>\n",
       "      <td>31.000</td>\n",
       "      <td>0</td>\n",
       "      <td>0</td>\n",
       "      <td>335097</td>\n",
       "      <td>7.750</td>\n",
       "      <td>NaN</td>\n",
       "      <td>Q</td>\n",
       "    </tr>\n",
       "    <tr>\n",
       "      <th>785</th>\n",
       "      <td>786</td>\n",
       "      <td>0</td>\n",
       "      <td>3</td>\n",
       "      <td>Harmer, Mr. Abraham (David Lishin)</td>\n",
       "      <td>male</td>\n",
       "      <td>25.000</td>\n",
       "      <td>0</td>\n",
       "      <td>0</td>\n",
       "      <td>374887</td>\n",
       "      <td>7.250</td>\n",
       "      <td>NaN</td>\n",
       "      <td>S</td>\n",
       "    </tr>\n",
       "    <tr>\n",
       "      <th>824</th>\n",
       "      <td>825</td>\n",
       "      <td>0</td>\n",
       "      <td>3</td>\n",
       "      <td>Panula, Master. Urho Abraham</td>\n",
       "      <td>male</td>\n",
       "      <td>2.000</td>\n",
       "      <td>4</td>\n",
       "      <td>1</td>\n",
       "      <td>3101295</td>\n",
       "      <td>39.688</td>\n",
       "      <td>NaN</td>\n",
       "      <td>S</td>\n",
       "    </tr>\n",
       "  </tbody>\n",
       "</table>\n",
       "</div>"
      ],
      "text/plain": [
       "     PassengerId  Survived  Pclass                                      Name  \\\n",
       "148          149         0       2  Navratil, Mr. Michel (\"Louis M Hoffman\")   \n",
       "193          194         1       2                Navratil, Master. Michel M   \n",
       "672          673         0       2               Mitchell, Mr. Henry Michael   \n",
       "718          719         0       3                       McEvoy, Mr. Michael   \n",
       "749          750         0       3                   Connaghton, Mr. Michael   \n",
       "785          786         0       3        Harmer, Mr. Abraham (David Lishin)   \n",
       "824          825         0       3              Panula, Master. Urho Abraham   \n",
       "\n",
       "      Sex    Age  SibSp  Parch      Ticket   Fare Cabin Embarked  \n",
       "148  male 36.500      0      2      230080 26.000    F2        S  \n",
       "193  male  3.000      1      1      230080 26.000    F2        S  \n",
       "672  male 70.000      0      0  C.A. 24580 10.500   NaN        S  \n",
       "718  male    NaN      0      0       36568 15.500   NaN        Q  \n",
       "749  male 31.000      0      0      335097  7.750   NaN        Q  \n",
       "785  male 25.000      0      0      374887  7.250   NaN        S  \n",
       "824  male  2.000      4      1     3101295 39.688   NaN        S  "
      ]
     },
     "execution_count": 131,
     "metadata": {},
     "output_type": "execute_result"
    }
   ],
   "source": [
    "# Regex kullanarak daha komplike aramalar yapabilirsin\n",
    "# Aşağıdaki ifade içinde \"mich\" veya \"abr\" bulunan isimleri getirecektir.\n",
    "# \"flags= re.I\" ifadesi büyük küçük harfi önemsemeden aramanın yapılmasını sağlamaktadır.\n",
    "import re\n",
    "df[df[\"Name\"].str.contains(\"mich|abr\", flags= re.I, regex= True)]"
   ]
  },
  {
   "cell_type": "code",
   "execution_count": 132,
   "id": "12f28dd0",
   "metadata": {
    "ExecuteTime": {
     "end_time": "2021-11-16T12:34:27.534265Z",
     "start_time": "2021-11-16T12:34:27.499394Z"
    },
    "hidden": true
   },
   "outputs": [
    {
     "data": {
      "text/html": [
       "<div>\n",
       "<style scoped>\n",
       "    .dataframe tbody tr th:only-of-type {\n",
       "        vertical-align: middle;\n",
       "    }\n",
       "\n",
       "    .dataframe tbody tr th {\n",
       "        vertical-align: top;\n",
       "    }\n",
       "\n",
       "    .dataframe thead th {\n",
       "        text-align: right;\n",
       "    }\n",
       "</style>\n",
       "<table border=\"1\" class=\"dataframe\">\n",
       "  <thead>\n",
       "    <tr style=\"text-align: right;\">\n",
       "      <th></th>\n",
       "      <th>PassengerId</th>\n",
       "      <th>Survived</th>\n",
       "      <th>Pclass</th>\n",
       "      <th>Name</th>\n",
       "      <th>Sex</th>\n",
       "      <th>Age</th>\n",
       "      <th>SibSp</th>\n",
       "      <th>Parch</th>\n",
       "      <th>Ticket</th>\n",
       "      <th>Fare</th>\n",
       "      <th>Cabin</th>\n",
       "      <th>Embarked</th>\n",
       "    </tr>\n",
       "  </thead>\n",
       "  <tbody>\n",
       "    <tr>\n",
       "      <th>241</th>\n",
       "      <td>242</td>\n",
       "      <td>1</td>\n",
       "      <td>3</td>\n",
       "      <td>Murphy, Miss. Katherine \"Kate\"</td>\n",
       "      <td>female</td>\n",
       "      <td>NaN</td>\n",
       "      <td>1</td>\n",
       "      <td>0</td>\n",
       "      <td>367230</td>\n",
       "      <td>15.500</td>\n",
       "      <td>NaN</td>\n",
       "      <td>Q</td>\n",
       "    </tr>\n",
       "    <tr>\n",
       "      <th>589</th>\n",
       "      <td>590</td>\n",
       "      <td>0</td>\n",
       "      <td>3</td>\n",
       "      <td>Murdlin, Mr. Joseph</td>\n",
       "      <td>male</td>\n",
       "      <td>NaN</td>\n",
       "      <td>0</td>\n",
       "      <td>0</td>\n",
       "      <td>A./5. 3235</td>\n",
       "      <td>8.050</td>\n",
       "      <td>NaN</td>\n",
       "      <td>S</td>\n",
       "    </tr>\n",
       "    <tr>\n",
       "      <th>612</th>\n",
       "      <td>613</td>\n",
       "      <td>1</td>\n",
       "      <td>3</td>\n",
       "      <td>Murphy, Miss. Margaret Jane</td>\n",
       "      <td>female</td>\n",
       "      <td>NaN</td>\n",
       "      <td>1</td>\n",
       "      <td>0</td>\n",
       "      <td>367230</td>\n",
       "      <td>15.500</td>\n",
       "      <td>NaN</td>\n",
       "      <td>Q</td>\n",
       "    </tr>\n",
       "    <tr>\n",
       "      <th>697</th>\n",
       "      <td>698</td>\n",
       "      <td>1</td>\n",
       "      <td>3</td>\n",
       "      <td>Mullens, Miss. Katherine \"Katie\"</td>\n",
       "      <td>female</td>\n",
       "      <td>NaN</td>\n",
       "      <td>0</td>\n",
       "      <td>0</td>\n",
       "      <td>35852</td>\n",
       "      <td>7.733</td>\n",
       "      <td>NaN</td>\n",
       "      <td>Q</td>\n",
       "    </tr>\n",
       "    <tr>\n",
       "      <th>841</th>\n",
       "      <td>842</td>\n",
       "      <td>0</td>\n",
       "      <td>2</td>\n",
       "      <td>Mudd, Mr. Thomas Charles</td>\n",
       "      <td>male</td>\n",
       "      <td>16.000</td>\n",
       "      <td>0</td>\n",
       "      <td>0</td>\n",
       "      <td>S.O./P.P. 3</td>\n",
       "      <td>10.500</td>\n",
       "      <td>NaN</td>\n",
       "      <td>S</td>\n",
       "    </tr>\n",
       "  </tbody>\n",
       "</table>\n",
       "</div>"
      ],
      "text/plain": [
       "     PassengerId  Survived  Pclass                              Name     Sex  \\\n",
       "241          242         1       3    Murphy, Miss. Katherine \"Kate\"  female   \n",
       "589          590         0       3               Murdlin, Mr. Joseph    male   \n",
       "612          613         1       3       Murphy, Miss. Margaret Jane  female   \n",
       "697          698         1       3  Mullens, Miss. Katherine \"Katie\"  female   \n",
       "841          842         0       2          Mudd, Mr. Thomas Charles    male   \n",
       "\n",
       "       Age  SibSp  Parch       Ticket   Fare Cabin Embarked  \n",
       "241    NaN      1      0       367230 15.500   NaN        Q  \n",
       "589    NaN      0      0   A./5. 3235  8.050   NaN        S  \n",
       "612    NaN      1      0       367230 15.500   NaN        Q  \n",
       "697    NaN      0      0        35852  7.733   NaN        Q  \n",
       "841 16.000      0      0  S.O./P.P. 3 10.500   NaN        S  "
      ]
     },
     "execution_count": 132,
     "metadata": {},
     "output_type": "execute_result"
    }
   ],
   "source": [
    "# Şimdi yine Regex ile daha komplike bir şeyler deneyelim\n",
    "\n",
    "# Aşağıdaki ifade \"mu\" ile başlayan kayıtları getirir.\n",
    "df[df[\"Name\"].str.contains(\"^mu\", flags= re.I, regex= True)]"
   ]
  },
  {
   "cell_type": "code",
   "execution_count": null,
   "id": "dd84af98",
   "metadata": {
    "hidden": true
   },
   "outputs": [],
   "source": []
  },
  {
   "cell_type": "code",
   "execution_count": null,
   "id": "d6408863",
   "metadata": {
    "hidden": true
   },
   "outputs": [],
   "source": []
  },
  {
   "cell_type": "code",
   "execution_count": null,
   "id": "be8bfad1",
   "metadata": {
    "hidden": true
   },
   "outputs": [],
   "source": []
  },
  {
   "cell_type": "markdown",
   "id": "316f9076",
   "metadata": {
    "hidden": true
   },
   "source": [
    "### Pandas SQL Yöntemi\n",
    "\n",
    "* Bu library'yi kullanarak standard sql ifadeleriyle verisetinden istediğin gözlemlere ulaşabilirsin"
   ]
  },
  {
   "cell_type": "code",
   "execution_count": 99,
   "id": "ec9a5a04",
   "metadata": {
    "ExecuteTime": {
     "end_time": "2021-11-16T02:29:15.490807Z",
     "start_time": "2021-11-16T02:29:14.007882Z"
    },
    "hidden": true
   },
   "outputs": [],
   "source": [
    "import pandasql as ps\n",
    "\n",
    "df = pd.read_csv(\"train.csv\")"
   ]
  },
  {
   "cell_type": "code",
   "execution_count": 101,
   "id": "dfb5347e",
   "metadata": {
    "ExecuteTime": {
     "end_time": "2021-11-16T02:29:51.109710Z",
     "start_time": "2021-11-16T02:29:51.005987Z"
    },
    "hidden": true
   },
   "outputs": [
    {
     "data": {
      "text/html": [
       "<div>\n",
       "<style scoped>\n",
       "    .dataframe tbody tr th:only-of-type {\n",
       "        vertical-align: middle;\n",
       "    }\n",
       "\n",
       "    .dataframe tbody tr th {\n",
       "        vertical-align: top;\n",
       "    }\n",
       "\n",
       "    .dataframe thead th {\n",
       "        text-align: right;\n",
       "    }\n",
       "</style>\n",
       "<table border=\"1\" class=\"dataframe\">\n",
       "  <thead>\n",
       "    <tr style=\"text-align: right;\">\n",
       "      <th></th>\n",
       "      <th>Pclass</th>\n",
       "      <th>Embarked</th>\n",
       "      <th>Name</th>\n",
       "    </tr>\n",
       "  </thead>\n",
       "  <tbody>\n",
       "    <tr>\n",
       "      <th>0</th>\n",
       "      <td>3</td>\n",
       "      <td>S</td>\n",
       "      <td>de Pelsmaeker, Mr. Alfons</td>\n",
       "    </tr>\n",
       "    <tr>\n",
       "      <th>1</th>\n",
       "      <td>3</td>\n",
       "      <td>S</td>\n",
       "      <td>Wiklund, Mr. Jakob Alfred</td>\n",
       "    </tr>\n",
       "    <tr>\n",
       "      <th>2</th>\n",
       "      <td>2</td>\n",
       "      <td>S</td>\n",
       "      <td>West, Miss. Constance Mirium</td>\n",
       "    </tr>\n",
       "    <tr>\n",
       "      <th>3</th>\n",
       "      <td>2</td>\n",
       "      <td>S</td>\n",
       "      <td>Wells, Miss. Joan</td>\n",
       "    </tr>\n",
       "    <tr>\n",
       "      <th>4</th>\n",
       "      <td>3</td>\n",
       "      <td>S</td>\n",
       "      <td>Vestrom, Miss. Hulda Amanda Adolfina</td>\n",
       "    </tr>\n",
       "    <tr>\n",
       "      <th>...</th>\n",
       "      <td>...</td>\n",
       "      <td>...</td>\n",
       "      <td>...</td>\n",
       "    </tr>\n",
       "    <tr>\n",
       "      <th>132</th>\n",
       "      <td>1</td>\n",
       "      <td>S</td>\n",
       "      <td>Allison, Miss. Helen Loraine</td>\n",
       "    </tr>\n",
       "    <tr>\n",
       "      <th>133</th>\n",
       "      <td>1</td>\n",
       "      <td>S</td>\n",
       "      <td>Allison, Master. Hudson Trevor</td>\n",
       "    </tr>\n",
       "    <tr>\n",
       "      <th>134</th>\n",
       "      <td>3</td>\n",
       "      <td>S</td>\n",
       "      <td>Alhomaki, Mr. Ilmari Rudolf</td>\n",
       "    </tr>\n",
       "    <tr>\n",
       "      <th>135</th>\n",
       "      <td>3</td>\n",
       "      <td>S</td>\n",
       "      <td>Aks, Mrs. Sam (Leah Rosen)</td>\n",
       "    </tr>\n",
       "    <tr>\n",
       "      <th>136</th>\n",
       "      <td>3</td>\n",
       "      <td>S</td>\n",
       "      <td>Abbott, Mr. Rossmore Edward</td>\n",
       "    </tr>\n",
       "  </tbody>\n",
       "</table>\n",
       "<p>137 rows × 3 columns</p>\n",
       "</div>"
      ],
      "text/plain": [
       "     Pclass Embarked                                  Name\n",
       "0         3        S             de Pelsmaeker, Mr. Alfons\n",
       "1         3        S             Wiklund, Mr. Jakob Alfred\n",
       "2         2        S          West, Miss. Constance Mirium\n",
       "3         2        S                     Wells, Miss. Joan\n",
       "4         3        S  Vestrom, Miss. Hulda Amanda Adolfina\n",
       "..      ...      ...                                   ...\n",
       "132       1        S          Allison, Miss. Helen Loraine\n",
       "133       1        S        Allison, Master. Hudson Trevor\n",
       "134       3        S           Alhomaki, Mr. Ilmari Rudolf\n",
       "135       3        S            Aks, Mrs. Sam (Leah Rosen)\n",
       "136       3        S           Abbott, Mr. Rossmore Edward\n",
       "\n",
       "[137 rows x 3 columns]"
      ]
     },
     "execution_count": 101,
     "metadata": {},
     "output_type": "execute_result"
    }
   ],
   "source": [
    "ps.sqldf('''SELECT Pclass, Embarked, Name FROM df\n",
    "            WHERE Embarked = 'S' and Age<=20\n",
    "            ORDER BY Name DESC;''')"
   ]
  },
  {
   "cell_type": "markdown",
   "id": "d5c20282",
   "metadata": {},
   "source": [
    "## EDIT Dataframe (İsim değiştirme, Silme, Ekleme, Birleştirme, Değer değiştirme...)"
   ]
  },
  {
   "cell_type": "markdown",
   "id": "acb0f2f6",
   "metadata": {
    "heading_collapsed": true
   },
   "source": [
    "### rename() / Kolon-Index ismi değiştirme"
   ]
  },
  {
   "cell_type": "code",
   "execution_count": 102,
   "id": "f68dd46b",
   "metadata": {
    "ExecuteTime": {
     "end_time": "2021-11-16T11:00:49.823581Z",
     "start_time": "2021-11-16T11:00:49.784649Z"
    },
    "hidden": true
   },
   "outputs": [],
   "source": [
    "df = pd.read_csv(\"train.csv\")"
   ]
  },
  {
   "cell_type": "code",
   "execution_count": 103,
   "id": "53424da8",
   "metadata": {
    "ExecuteTime": {
     "end_time": "2021-11-16T11:01:32.397667Z",
     "start_time": "2021-11-16T11:01:32.376725Z"
    },
    "hidden": true
   },
   "outputs": [
    {
     "data": {
      "text/plain": [
       "Index(['PassengerId', 'Kurtuldu', 'Yolcu_Sınıfı', 'Name', 'Cinsiyet', 'Age',\n",
       "       'SibSp', 'Parch', 'Ticket', 'Fare', 'Cabin', 'Embarked'],\n",
       "      dtype='object')"
      ]
     },
     "execution_count": 103,
     "metadata": {},
     "output_type": "execute_result"
    }
   ],
   "source": [
    "df.rename(columns={\"Survived\":\"Kurtuldu\", \"Sex\":\"Cinsiyet\", \"Pclass\":\"Yolcu_Sınıfı\"}, inplace=True)\n",
    "df.columns"
   ]
  },
  {
   "cell_type": "markdown",
   "id": "cd3943c7",
   "metadata": {
    "ExecuteTime": {
     "end_time": "2021-11-16T11:03:26.741889Z",
     "start_time": "2021-11-16T11:03:26.725934Z"
    }
   },
   "source": [
    "### drop(), pop() ve del / Silme işlemleri"
   ]
  },
  {
   "cell_type": "markdown",
   "id": "e8ff70fc",
   "metadata": {},
   "source": [
    "#### drop()\n",
    "\n",
    "* **drop=** , Bu fonksiyonla hem index hem kolonları silebilirsin, inplace parametresini kullanarak silme işleminin kaydedilmesini sağlayabilirsin."
   ]
  },
  {
   "cell_type": "code",
   "execution_count": 105,
   "id": "69ed723c",
   "metadata": {
    "ExecuteTime": {
     "end_time": "2021-11-16T11:05:19.778870Z",
     "start_time": "2021-11-16T11:05:19.764908Z"
    }
   },
   "outputs": [],
   "source": [
    "df = pd.read_csv(\"train.csv\")"
   ]
  },
  {
   "cell_type": "code",
   "execution_count": 106,
   "id": "026e308f",
   "metadata": {
    "ExecuteTime": {
     "end_time": "2021-11-16T11:06:14.678673Z",
     "start_time": "2021-11-16T11:06:14.655294Z"
    }
   },
   "outputs": [],
   "source": [
    "df.drop(\"Embarked\", axis=1, inplace=True)"
   ]
  },
  {
   "cell_type": "code",
   "execution_count": null,
   "id": "80ea1231",
   "metadata": {},
   "outputs": [],
   "source": [
    "# Birden çok kolon silmek istenildiğinde\n",
    "df.drop([\"Age\",\"Name\"], axis=1, inplace=True)"
   ]
  },
  {
   "cell_type": "markdown",
   "id": "aa4c49e2",
   "metadata": {},
   "source": [
    "#### pop()\n",
    "\n",
    "* **pop=** , Bu fonksiyon kolonları silmede kullanılıyor. Ancak bir defada sadece bir kolon silinebiliyor.\n",
    "\n",
    "* Yapılan işlem direkt kaydediliyor."
   ]
  },
  {
   "cell_type": "code",
   "execution_count": 123,
   "id": "9f2fd3cf",
   "metadata": {
    "ExecuteTime": {
     "end_time": "2021-11-16T11:59:48.801259Z",
     "start_time": "2021-11-16T11:59:48.780318Z"
    }
   },
   "outputs": [],
   "source": [
    "df = pd.read_csv(\"train.csv\")"
   ]
  },
  {
   "cell_type": "code",
   "execution_count": 127,
   "id": "ff5686d6",
   "metadata": {
    "ExecuteTime": {
     "end_time": "2021-11-16T12:00:13.339325Z",
     "start_time": "2021-11-16T12:00:13.324370Z"
    }
   },
   "outputs": [
    {
     "data": {
      "text/plain": [
       "0     22.000\n",
       "1     38.000\n",
       "2     26.000\n",
       "3     35.000\n",
       "4     35.000\n",
       "       ...  \n",
       "886   27.000\n",
       "887   19.000\n",
       "888      NaN\n",
       "889   26.000\n",
       "890   32.000\n",
       "Name: Age, Length: 891, dtype: float64"
      ]
     },
     "execution_count": 127,
     "metadata": {},
     "output_type": "execute_result"
    }
   ],
   "source": [
    "df.pop(\"Age\")"
   ]
  },
  {
   "cell_type": "code",
   "execution_count": 128,
   "id": "5da79efd",
   "metadata": {
    "ExecuteTime": {
     "end_time": "2021-11-16T12:00:22.599813Z",
     "start_time": "2021-11-16T12:00:22.560917Z"
    }
   },
   "outputs": [
    {
     "data": {
      "text/html": [
       "<div>\n",
       "<style scoped>\n",
       "    .dataframe tbody tr th:only-of-type {\n",
       "        vertical-align: middle;\n",
       "    }\n",
       "\n",
       "    .dataframe tbody tr th {\n",
       "        vertical-align: top;\n",
       "    }\n",
       "\n",
       "    .dataframe thead th {\n",
       "        text-align: right;\n",
       "    }\n",
       "</style>\n",
       "<table border=\"1\" class=\"dataframe\">\n",
       "  <thead>\n",
       "    <tr style=\"text-align: right;\">\n",
       "      <th></th>\n",
       "      <th>PassengerId</th>\n",
       "      <th>Survived</th>\n",
       "      <th>Pclass</th>\n",
       "      <th>Name</th>\n",
       "      <th>Sex</th>\n",
       "      <th>SibSp</th>\n",
       "      <th>Parch</th>\n",
       "      <th>Ticket</th>\n",
       "      <th>Fare</th>\n",
       "      <th>Cabin</th>\n",
       "      <th>Embarked</th>\n",
       "    </tr>\n",
       "  </thead>\n",
       "  <tbody>\n",
       "    <tr>\n",
       "      <th>0</th>\n",
       "      <td>1</td>\n",
       "      <td>0</td>\n",
       "      <td>3</td>\n",
       "      <td>Braund, Mr. Owen Harris</td>\n",
       "      <td>male</td>\n",
       "      <td>1</td>\n",
       "      <td>0</td>\n",
       "      <td>A/5 21171</td>\n",
       "      <td>7.250</td>\n",
       "      <td>NaN</td>\n",
       "      <td>S</td>\n",
       "    </tr>\n",
       "    <tr>\n",
       "      <th>1</th>\n",
       "      <td>2</td>\n",
       "      <td>1</td>\n",
       "      <td>1</td>\n",
       "      <td>Cumings, Mrs. John Bradley (Florence Briggs Th...</td>\n",
       "      <td>female</td>\n",
       "      <td>1</td>\n",
       "      <td>0</td>\n",
       "      <td>PC 17599</td>\n",
       "      <td>71.283</td>\n",
       "      <td>C85</td>\n",
       "      <td>C</td>\n",
       "    </tr>\n",
       "    <tr>\n",
       "      <th>2</th>\n",
       "      <td>3</td>\n",
       "      <td>1</td>\n",
       "      <td>3</td>\n",
       "      <td>Heikkinen, Miss. Laina</td>\n",
       "      <td>female</td>\n",
       "      <td>0</td>\n",
       "      <td>0</td>\n",
       "      <td>STON/O2. 3101282</td>\n",
       "      <td>7.925</td>\n",
       "      <td>NaN</td>\n",
       "      <td>S</td>\n",
       "    </tr>\n",
       "    <tr>\n",
       "      <th>3</th>\n",
       "      <td>4</td>\n",
       "      <td>1</td>\n",
       "      <td>1</td>\n",
       "      <td>Futrelle, Mrs. Jacques Heath (Lily May Peel)</td>\n",
       "      <td>female</td>\n",
       "      <td>1</td>\n",
       "      <td>0</td>\n",
       "      <td>113803</td>\n",
       "      <td>53.100</td>\n",
       "      <td>C123</td>\n",
       "      <td>S</td>\n",
       "    </tr>\n",
       "    <tr>\n",
       "      <th>4</th>\n",
       "      <td>5</td>\n",
       "      <td>0</td>\n",
       "      <td>3</td>\n",
       "      <td>Allen, Mr. William Henry</td>\n",
       "      <td>male</td>\n",
       "      <td>0</td>\n",
       "      <td>0</td>\n",
       "      <td>373450</td>\n",
       "      <td>8.050</td>\n",
       "      <td>NaN</td>\n",
       "      <td>S</td>\n",
       "    </tr>\n",
       "    <tr>\n",
       "      <th>...</th>\n",
       "      <td>...</td>\n",
       "      <td>...</td>\n",
       "      <td>...</td>\n",
       "      <td>...</td>\n",
       "      <td>...</td>\n",
       "      <td>...</td>\n",
       "      <td>...</td>\n",
       "      <td>...</td>\n",
       "      <td>...</td>\n",
       "      <td>...</td>\n",
       "      <td>...</td>\n",
       "    </tr>\n",
       "    <tr>\n",
       "      <th>886</th>\n",
       "      <td>887</td>\n",
       "      <td>0</td>\n",
       "      <td>2</td>\n",
       "      <td>Montvila, Rev. Juozas</td>\n",
       "      <td>male</td>\n",
       "      <td>0</td>\n",
       "      <td>0</td>\n",
       "      <td>211536</td>\n",
       "      <td>13.000</td>\n",
       "      <td>NaN</td>\n",
       "      <td>S</td>\n",
       "    </tr>\n",
       "    <tr>\n",
       "      <th>887</th>\n",
       "      <td>888</td>\n",
       "      <td>1</td>\n",
       "      <td>1</td>\n",
       "      <td>Graham, Miss. Margaret Edith</td>\n",
       "      <td>female</td>\n",
       "      <td>0</td>\n",
       "      <td>0</td>\n",
       "      <td>112053</td>\n",
       "      <td>30.000</td>\n",
       "      <td>B42</td>\n",
       "      <td>S</td>\n",
       "    </tr>\n",
       "    <tr>\n",
       "      <th>888</th>\n",
       "      <td>889</td>\n",
       "      <td>0</td>\n",
       "      <td>3</td>\n",
       "      <td>Johnston, Miss. Catherine Helen \"Carrie\"</td>\n",
       "      <td>female</td>\n",
       "      <td>1</td>\n",
       "      <td>2</td>\n",
       "      <td>W./C. 6607</td>\n",
       "      <td>23.450</td>\n",
       "      <td>NaN</td>\n",
       "      <td>S</td>\n",
       "    </tr>\n",
       "    <tr>\n",
       "      <th>889</th>\n",
       "      <td>890</td>\n",
       "      <td>1</td>\n",
       "      <td>1</td>\n",
       "      <td>Behr, Mr. Karl Howell</td>\n",
       "      <td>male</td>\n",
       "      <td>0</td>\n",
       "      <td>0</td>\n",
       "      <td>111369</td>\n",
       "      <td>30.000</td>\n",
       "      <td>C148</td>\n",
       "      <td>C</td>\n",
       "    </tr>\n",
       "    <tr>\n",
       "      <th>890</th>\n",
       "      <td>891</td>\n",
       "      <td>0</td>\n",
       "      <td>3</td>\n",
       "      <td>Dooley, Mr. Patrick</td>\n",
       "      <td>male</td>\n",
       "      <td>0</td>\n",
       "      <td>0</td>\n",
       "      <td>370376</td>\n",
       "      <td>7.750</td>\n",
       "      <td>NaN</td>\n",
       "      <td>Q</td>\n",
       "    </tr>\n",
       "  </tbody>\n",
       "</table>\n",
       "<p>891 rows × 11 columns</p>\n",
       "</div>"
      ],
      "text/plain": [
       "     PassengerId  Survived  Pclass  \\\n",
       "0              1         0       3   \n",
       "1              2         1       1   \n",
       "2              3         1       3   \n",
       "3              4         1       1   \n",
       "4              5         0       3   \n",
       "..           ...       ...     ...   \n",
       "886          887         0       2   \n",
       "887          888         1       1   \n",
       "888          889         0       3   \n",
       "889          890         1       1   \n",
       "890          891         0       3   \n",
       "\n",
       "                                                  Name     Sex  SibSp  Parch  \\\n",
       "0                              Braund, Mr. Owen Harris    male      1      0   \n",
       "1    Cumings, Mrs. John Bradley (Florence Briggs Th...  female      1      0   \n",
       "2                               Heikkinen, Miss. Laina  female      0      0   \n",
       "3         Futrelle, Mrs. Jacques Heath (Lily May Peel)  female      1      0   \n",
       "4                             Allen, Mr. William Henry    male      0      0   \n",
       "..                                                 ...     ...    ...    ...   \n",
       "886                              Montvila, Rev. Juozas    male      0      0   \n",
       "887                       Graham, Miss. Margaret Edith  female      0      0   \n",
       "888           Johnston, Miss. Catherine Helen \"Carrie\"  female      1      2   \n",
       "889                              Behr, Mr. Karl Howell    male      0      0   \n",
       "890                                Dooley, Mr. Patrick    male      0      0   \n",
       "\n",
       "               Ticket   Fare Cabin Embarked  \n",
       "0           A/5 21171  7.250   NaN        S  \n",
       "1            PC 17599 71.283   C85        C  \n",
       "2    STON/O2. 3101282  7.925   NaN        S  \n",
       "3              113803 53.100  C123        S  \n",
       "4              373450  8.050   NaN        S  \n",
       "..                ...    ...   ...      ...  \n",
       "886            211536 13.000   NaN        S  \n",
       "887            112053 30.000   B42        S  \n",
       "888        W./C. 6607 23.450   NaN        S  \n",
       "889            111369 30.000  C148        C  \n",
       "890            370376  7.750   NaN        Q  \n",
       "\n",
       "[891 rows x 11 columns]"
      ]
     },
     "execution_count": 128,
     "metadata": {},
     "output_type": "execute_result"
    }
   ],
   "source": [
    "df"
   ]
  },
  {
   "cell_type": "markdown",
   "id": "df126d76",
   "metadata": {},
   "source": [
    "#### del\n",
    "\n",
    "* **del**, bana göre en temiz yöntem. Bu fonksiyon ile sildiğiniz şeyler kesin olarak kaydedilir ve geri dönülemez. Bu yöntemle Dataframe'in kendisini de komple silebilirsin.  "
   ]
  },
  {
   "cell_type": "code",
   "execution_count": 121,
   "id": "7496f633",
   "metadata": {
    "ExecuteTime": {
     "end_time": "2021-11-16T11:59:09.529377Z",
     "start_time": "2021-11-16T11:59:09.512424Z"
    }
   },
   "outputs": [],
   "source": [
    "df = pd.read_csv(\"train.csv\")"
   ]
  },
  {
   "cell_type": "code",
   "execution_count": 122,
   "id": "b2fbb397",
   "metadata": {
    "ExecuteTime": {
     "end_time": "2021-11-16T11:59:10.000981Z",
     "start_time": "2021-11-16T11:59:09.986020Z"
    }
   },
   "outputs": [],
   "source": [
    "del df[\"Pclass\"]"
   ]
  },
  {
   "cell_type": "markdown",
   "id": "49c92d34",
   "metadata": {},
   "source": [
    "### append() ve insert() / Ekleme"
   ]
  },
  {
   "cell_type": "markdown",
   "id": "5f306b76",
   "metadata": {},
   "source": [
    "#### append()\n",
    "* Bu fonksiyon row/satır eklemeye yarar. Dataframe'in en altına belirtilen bir satırı veya bir grup satırı veya başka bir Dataframe'i ekler.  \n",
    "\n",
    "* **ignore_index=True** parametresini kullanırsan index'leri tekrar düzenler.  \n",
    "\n",
    "* Yapılan işlemin kaydedilmesi için yazılan kodun Dataframe nesnesinin kendisine eşitlenmesi gerekiyor. Maalesef Inplace gibi bir parametre bulunmuyor.  "
   ]
  },
  {
   "cell_type": "code",
   "execution_count": 111,
   "id": "be2df8e0",
   "metadata": {
    "ExecuteTime": {
     "end_time": "2021-11-16T11:19:43.938184Z",
     "start_time": "2021-11-16T11:19:43.924221Z"
    }
   },
   "outputs": [],
   "source": [
    "df = pd.read_csv(\"train.csv\")\n",
    "df1 = df.copy()"
   ]
  },
  {
   "cell_type": "code",
   "execution_count": null,
   "id": "3431feb3",
   "metadata": {},
   "outputs": [],
   "source": [
    "df.append(df1, ignore_index=True)"
   ]
  },
  {
   "cell_type": "code",
   "execution_count": 112,
   "id": "161f178a",
   "metadata": {
    "ExecuteTime": {
     "end_time": "2021-11-16T11:25:22.603369Z",
     "start_time": "2021-11-16T11:25:22.554469Z"
    }
   },
   "outputs": [
    {
     "data": {
      "text/html": [
       "<div>\n",
       "<style scoped>\n",
       "    .dataframe tbody tr th:only-of-type {\n",
       "        vertical-align: middle;\n",
       "    }\n",
       "\n",
       "    .dataframe tbody tr th {\n",
       "        vertical-align: top;\n",
       "    }\n",
       "\n",
       "    .dataframe thead th {\n",
       "        text-align: right;\n",
       "    }\n",
       "</style>\n",
       "<table border=\"1\" class=\"dataframe\">\n",
       "  <thead>\n",
       "    <tr style=\"text-align: right;\">\n",
       "      <th></th>\n",
       "      <th>PassengerId</th>\n",
       "      <th>Survived</th>\n",
       "      <th>Pclass</th>\n",
       "      <th>Name</th>\n",
       "      <th>Sex</th>\n",
       "      <th>Age</th>\n",
       "      <th>SibSp</th>\n",
       "      <th>Parch</th>\n",
       "      <th>Ticket</th>\n",
       "      <th>Fare</th>\n",
       "      <th>Cabin</th>\n",
       "      <th>Embarked</th>\n",
       "    </tr>\n",
       "  </thead>\n",
       "  <tbody>\n",
       "    <tr>\n",
       "      <th>887</th>\n",
       "      <td>888.000</td>\n",
       "      <td>1.000</td>\n",
       "      <td>1.000</td>\n",
       "      <td>Graham, Miss. Margaret Edith</td>\n",
       "      <td>female</td>\n",
       "      <td>19.000</td>\n",
       "      <td>0.000</td>\n",
       "      <td>0.000</td>\n",
       "      <td>112053</td>\n",
       "      <td>30.000</td>\n",
       "      <td>B42</td>\n",
       "      <td>S</td>\n",
       "    </tr>\n",
       "    <tr>\n",
       "      <th>888</th>\n",
       "      <td>889.000</td>\n",
       "      <td>0.000</td>\n",
       "      <td>3.000</td>\n",
       "      <td>Johnston, Miss. Catherine Helen \"Carrie\"</td>\n",
       "      <td>female</td>\n",
       "      <td>NaN</td>\n",
       "      <td>1.000</td>\n",
       "      <td>2.000</td>\n",
       "      <td>W./C. 6607</td>\n",
       "      <td>23.450</td>\n",
       "      <td>NaN</td>\n",
       "      <td>S</td>\n",
       "    </tr>\n",
       "    <tr>\n",
       "      <th>889</th>\n",
       "      <td>890.000</td>\n",
       "      <td>1.000</td>\n",
       "      <td>1.000</td>\n",
       "      <td>Behr, Mr. Karl Howell</td>\n",
       "      <td>male</td>\n",
       "      <td>26.000</td>\n",
       "      <td>0.000</td>\n",
       "      <td>0.000</td>\n",
       "      <td>111369</td>\n",
       "      <td>30.000</td>\n",
       "      <td>C148</td>\n",
       "      <td>C</td>\n",
       "    </tr>\n",
       "    <tr>\n",
       "      <th>890</th>\n",
       "      <td>891.000</td>\n",
       "      <td>0.000</td>\n",
       "      <td>3.000</td>\n",
       "      <td>Dooley, Mr. Patrick</td>\n",
       "      <td>male</td>\n",
       "      <td>32.000</td>\n",
       "      <td>0.000</td>\n",
       "      <td>0.000</td>\n",
       "      <td>370376</td>\n",
       "      <td>7.750</td>\n",
       "      <td>NaN</td>\n",
       "      <td>Q</td>\n",
       "    </tr>\n",
       "    <tr>\n",
       "      <th>891</th>\n",
       "      <td>NaN</td>\n",
       "      <td>NaN</td>\n",
       "      <td>NaN</td>\n",
       "      <td>YATTTARA</td>\n",
       "      <td>male</td>\n",
       "      <td>500.000</td>\n",
       "      <td>NaN</td>\n",
       "      <td>NaN</td>\n",
       "      <td>NaN</td>\n",
       "      <td>NaN</td>\n",
       "      <td>NaN</td>\n",
       "      <td>NaN</td>\n",
       "    </tr>\n",
       "  </tbody>\n",
       "</table>\n",
       "</div>"
      ],
      "text/plain": [
       "     PassengerId  Survived  Pclass                                      Name  \\\n",
       "887      888.000     1.000   1.000              Graham, Miss. Margaret Edith   \n",
       "888      889.000     0.000   3.000  Johnston, Miss. Catherine Helen \"Carrie\"   \n",
       "889      890.000     1.000   1.000                     Behr, Mr. Karl Howell   \n",
       "890      891.000     0.000   3.000                       Dooley, Mr. Patrick   \n",
       "891          NaN       NaN     NaN                                  YATTTARA   \n",
       "\n",
       "        Sex     Age  SibSp  Parch      Ticket   Fare Cabin Embarked  \n",
       "887  female  19.000  0.000  0.000      112053 30.000   B42        S  \n",
       "888  female     NaN  1.000  2.000  W./C. 6607 23.450   NaN        S  \n",
       "889    male  26.000  0.000  0.000      111369 30.000  C148        C  \n",
       "890    male  32.000  0.000  0.000      370376  7.750   NaN        Q  \n",
       "891    male 500.000    NaN    NaN         NaN    NaN   NaN      NaN  "
      ]
     },
     "execution_count": 112,
     "metadata": {},
     "output_type": "execute_result"
    }
   ],
   "source": [
    "# Kendin manuel olarak da veri ekleyebilirsin.\n",
    "df = df.append({\"Name\":\"YATTTARA\", \"Sex\":\"male\",\"Age\":500}, ignore_index=True)\n",
    "df.tail(5)"
   ]
  },
  {
   "cell_type": "markdown",
   "id": "db5bae17",
   "metadata": {},
   "source": [
    "#### insert()\n",
    "* append'in aksine insert komutuyla Dataframe'e kolon girilmesinde kullanılır.\n",
    "\n",
    "* Çok kullanışlı bir fonksiyon. Dataframe'deki istediğiniz yere istediğiniz bir kolonu ekleyebilirsiniz.\n",
    "\n",
    "* Eklenecek kolonun isminin ve değerlerinin ne olduğunu da belirtebilirsiniz.\n",
    "\n",
    "*Bildiğimi kadarıyla birden fazla kolon eklemesi yapamıyoruz, belki ben yanlış anlamış da olabilirim*"
   ]
  },
  {
   "cell_type": "code",
   "execution_count": 113,
   "id": "df6b64bb",
   "metadata": {
    "ExecuteTime": {
     "end_time": "2021-11-16T11:27:08.962430Z",
     "start_time": "2021-11-16T11:27:08.936461Z"
    }
   },
   "outputs": [],
   "source": [
    "df = pd.read_csv(\"train.csv\")"
   ]
  },
  {
   "cell_type": "code",
   "execution_count": 114,
   "id": "9d74f865",
   "metadata": {
    "ExecuteTime": {
     "end_time": "2021-11-16T11:30:35.388465Z",
     "start_time": "2021-11-16T11:30:35.370515Z"
    }
   },
   "outputs": [],
   "source": [
    "df.insert(loc=2, column=\"random\", value=np.random.randint(0,50,891))"
   ]
  },
  {
   "cell_type": "code",
   "execution_count": 116,
   "id": "31eebeeb",
   "metadata": {
    "ExecuteTime": {
     "end_time": "2021-11-16T11:30:50.251325Z",
     "start_time": "2021-11-16T11:30:50.235372Z"
    }
   },
   "outputs": [
    {
     "data": {
      "text/html": [
       "<div>\n",
       "<style scoped>\n",
       "    .dataframe tbody tr th:only-of-type {\n",
       "        vertical-align: middle;\n",
       "    }\n",
       "\n",
       "    .dataframe tbody tr th {\n",
       "        vertical-align: top;\n",
       "    }\n",
       "\n",
       "    .dataframe thead th {\n",
       "        text-align: right;\n",
       "    }\n",
       "</style>\n",
       "<table border=\"1\" class=\"dataframe\">\n",
       "  <thead>\n",
       "    <tr style=\"text-align: right;\">\n",
       "      <th></th>\n",
       "      <th>PassengerId</th>\n",
       "      <th>Survived</th>\n",
       "      <th>random</th>\n",
       "      <th>Pclass</th>\n",
       "      <th>Name</th>\n",
       "      <th>Sex</th>\n",
       "      <th>Age</th>\n",
       "      <th>SibSp</th>\n",
       "      <th>Parch</th>\n",
       "      <th>Ticket</th>\n",
       "      <th>Fare</th>\n",
       "      <th>Cabin</th>\n",
       "      <th>Embarked</th>\n",
       "    </tr>\n",
       "  </thead>\n",
       "  <tbody>\n",
       "    <tr>\n",
       "      <th>0</th>\n",
       "      <td>1</td>\n",
       "      <td>0</td>\n",
       "      <td>32</td>\n",
       "      <td>3</td>\n",
       "      <td>Braund, Mr. Owen Harris</td>\n",
       "      <td>male</td>\n",
       "      <td>22.000</td>\n",
       "      <td>1</td>\n",
       "      <td>0</td>\n",
       "      <td>A/5 21171</td>\n",
       "      <td>7.250</td>\n",
       "      <td>NaN</td>\n",
       "      <td>S</td>\n",
       "    </tr>\n",
       "    <tr>\n",
       "      <th>1</th>\n",
       "      <td>2</td>\n",
       "      <td>1</td>\n",
       "      <td>12</td>\n",
       "      <td>1</td>\n",
       "      <td>Cumings, Mrs. John Bradley (Florence Briggs Th...</td>\n",
       "      <td>female</td>\n",
       "      <td>38.000</td>\n",
       "      <td>1</td>\n",
       "      <td>0</td>\n",
       "      <td>PC 17599</td>\n",
       "      <td>71.283</td>\n",
       "      <td>C85</td>\n",
       "      <td>C</td>\n",
       "    </tr>\n",
       "    <tr>\n",
       "      <th>2</th>\n",
       "      <td>3</td>\n",
       "      <td>1</td>\n",
       "      <td>20</td>\n",
       "      <td>3</td>\n",
       "      <td>Heikkinen, Miss. Laina</td>\n",
       "      <td>female</td>\n",
       "      <td>26.000</td>\n",
       "      <td>0</td>\n",
       "      <td>0</td>\n",
       "      <td>STON/O2. 3101282</td>\n",
       "      <td>7.925</td>\n",
       "      <td>NaN</td>\n",
       "      <td>S</td>\n",
       "    </tr>\n",
       "    <tr>\n",
       "      <th>3</th>\n",
       "      <td>4</td>\n",
       "      <td>1</td>\n",
       "      <td>5</td>\n",
       "      <td>1</td>\n",
       "      <td>Futrelle, Mrs. Jacques Heath (Lily May Peel)</td>\n",
       "      <td>female</td>\n",
       "      <td>35.000</td>\n",
       "      <td>1</td>\n",
       "      <td>0</td>\n",
       "      <td>113803</td>\n",
       "      <td>53.100</td>\n",
       "      <td>C123</td>\n",
       "      <td>S</td>\n",
       "    </tr>\n",
       "    <tr>\n",
       "      <th>4</th>\n",
       "      <td>5</td>\n",
       "      <td>0</td>\n",
       "      <td>8</td>\n",
       "      <td>3</td>\n",
       "      <td>Allen, Mr. William Henry</td>\n",
       "      <td>male</td>\n",
       "      <td>35.000</td>\n",
       "      <td>0</td>\n",
       "      <td>0</td>\n",
       "      <td>373450</td>\n",
       "      <td>8.050</td>\n",
       "      <td>NaN</td>\n",
       "      <td>S</td>\n",
       "    </tr>\n",
       "  </tbody>\n",
       "</table>\n",
       "</div>"
      ],
      "text/plain": [
       "   PassengerId  Survived  random  Pclass  \\\n",
       "0            1         0      32       3   \n",
       "1            2         1      12       1   \n",
       "2            3         1      20       3   \n",
       "3            4         1       5       1   \n",
       "4            5         0       8       3   \n",
       "\n",
       "                                                Name     Sex    Age  SibSp  \\\n",
       "0                            Braund, Mr. Owen Harris    male 22.000      1   \n",
       "1  Cumings, Mrs. John Bradley (Florence Briggs Th...  female 38.000      1   \n",
       "2                             Heikkinen, Miss. Laina  female 26.000      0   \n",
       "3       Futrelle, Mrs. Jacques Heath (Lily May Peel)  female 35.000      1   \n",
       "4                           Allen, Mr. William Henry    male 35.000      0   \n",
       "\n",
       "   Parch            Ticket   Fare Cabin Embarked  \n",
       "0      0         A/5 21171  7.250   NaN        S  \n",
       "1      0          PC 17599 71.283   C85        C  \n",
       "2      0  STON/O2. 3101282  7.925   NaN        S  \n",
       "3      0            113803 53.100  C123        S  \n",
       "4      0            373450  8.050   NaN        S  "
      ]
     },
     "execution_count": 116,
     "metadata": {},
     "output_type": "execute_result"
    }
   ],
   "source": [
    "df.head(5)"
   ]
  },
  {
   "cell_type": "markdown",
   "id": "2852907f",
   "metadata": {},
   "source": [
    "### concat() / Birleştirme\n",
    "\n",
    "* Hem kolon hem satır eklemede kullanılabilecek bir fonksiyondur.\n",
    "\n",
    "* Satır ekleneceği zaman **axis=0**, kolon ekleneceği zaman **axis=1** parametreleri girilir.\n",
    "\n",
    "* **ignore_index=True** parametresiyle de **satır eklemesi yapıldığında** index numaralarının tekrar düzgün bir şekilde sıralanması sağlanabilir."
   ]
  },
  {
   "cell_type": "code",
   "execution_count": 117,
   "id": "a3c98c47",
   "metadata": {
    "ExecuteTime": {
     "end_time": "2021-11-16T11:41:54.429755Z",
     "start_time": "2021-11-16T11:41:54.405153Z"
    }
   },
   "outputs": [],
   "source": [
    "df = pd.read_csv(\"train.csv\")\n",
    "dfcopy = df.copy()"
   ]
  },
  {
   "cell_type": "code",
   "execution_count": 143,
   "id": "88cc3c62",
   "metadata": {
    "ExecuteTime": {
     "end_time": "2021-11-16T12:46:32.907648Z",
     "start_time": "2021-11-16T12:46:32.896679Z"
    }
   },
   "outputs": [],
   "source": [
    "df2 = pd.concat([df,dfcopy], axis=1)"
   ]
  },
  {
   "cell_type": "markdown",
   "id": "422a30ab",
   "metadata": {},
   "source": [
    "### Conditional yöntem, replace(), apply(), map() / Gözlemlerin Değerlerini Değiştirme"
   ]
  },
  {
   "cell_type": "markdown",
   "id": "f556d695",
   "metadata": {},
   "source": [
    "#### Conditional Yöntem\n",
    "\n",
    "* Nedendir bilinmez, bu tekniği kullanırken ilk kolonun ismini condition kısmına girmeye dikkat et, eğer sonradan girersen işlem işlevini görmeyebiliyor."
   ]
  },
  {
   "cell_type": "code",
   "execution_count": 144,
   "id": "26ecfe86",
   "metadata": {
    "ExecuteTime": {
     "end_time": "2021-11-16T12:49:48.160354Z",
     "start_time": "2021-11-16T12:49:48.143359Z"
    }
   },
   "outputs": [],
   "source": [
    "df = pd.read_csv(\"train.csv\")"
   ]
  },
  {
   "cell_type": "code",
   "execution_count": 145,
   "id": "10308eb6",
   "metadata": {
    "ExecuteTime": {
     "end_time": "2021-11-16T12:49:57.961860Z",
     "start_time": "2021-11-16T12:49:57.937959Z"
    }
   },
   "outputs": [],
   "source": [
    "df[\"Age\"][(df.Age > 70) & (df.Sex==\"male\")] = \"yasli adam\""
   ]
  },
  {
   "cell_type": "code",
   "execution_count": 147,
   "id": "13b05202",
   "metadata": {
    "ExecuteTime": {
     "end_time": "2021-11-16T12:50:04.852943Z",
     "start_time": "2021-11-16T12:50:04.835953Z"
    }
   },
   "outputs": [
    {
     "data": {
      "text/plain": [
       "96     yasli adam\n",
       "116    yasli adam\n",
       "493    yasli adam\n",
       "630    yasli adam\n",
       "851    yasli adam\n",
       "Name: Age, dtype: object"
      ]
     },
     "execution_count": 147,
     "metadata": {},
     "output_type": "execute_result"
    }
   ],
   "source": [
    "df[df.Age==\"yasli adam\"][\"Age\"]"
   ]
  },
  {
   "cell_type": "markdown",
   "id": "f9d300d9",
   "metadata": {},
   "source": [
    "#### replace()"
   ]
  },
  {
   "cell_type": "code",
   "execution_count": 167,
   "id": "00045b79",
   "metadata": {
    "ExecuteTime": {
     "end_time": "2021-11-16T12:57:35.635282Z",
     "start_time": "2021-11-16T12:57:35.617334Z"
    }
   },
   "outputs": [],
   "source": [
    "df = pd.read_csv(\"train.csv\")"
   ]
  },
  {
   "cell_type": "code",
   "execution_count": 168,
   "id": "17635deb",
   "metadata": {
    "ExecuteTime": {
     "end_time": "2021-11-16T12:57:35.934220Z",
     "start_time": "2021-11-16T12:57:35.914273Z"
    }
   },
   "outputs": [
    {
     "data": {
      "text/plain": [
       "0    0\n",
       "1    1\n",
       "2    1\n",
       "3    1\n",
       "4    0\n",
       "Name: Sex, dtype: int64"
      ]
     },
     "execution_count": 168,
     "metadata": {},
     "output_type": "execute_result"
    }
   ],
   "source": [
    "df1= df.copy()\n",
    "df1.Sex.replace([\"male\",\"female\"],[0,1],inplace=True)\n",
    "df1[\"Sex\"].head(5)"
   ]
  },
  {
   "cell_type": "code",
   "execution_count": 169,
   "id": "4eea4c7c",
   "metadata": {
    "ExecuteTime": {
     "end_time": "2021-11-16T12:57:36.373498Z",
     "start_time": "2021-11-16T12:57:36.352553Z"
    }
   },
   "outputs": [
    {
     "data": {
      "text/plain": [
       "0      mZle\n",
       "1    femZle\n",
       "2    femZle\n",
       "3    femZle\n",
       "4      mZle\n",
       "Name: Sex, dtype: object"
      ]
     },
     "execution_count": 169,
     "metadata": {},
     "output_type": "execute_result"
    }
   ],
   "source": [
    "#regex kullanarak string'lerin içinde spesifik karakterleri değiştirebilirsin.\n",
    "df1 = df.copy()\n",
    "df1.Sex.replace(\"a\",\"Z\", regex=True).head(5)"
   ]
  },
  {
   "cell_type": "code",
   "execution_count": 174,
   "id": "843da38f",
   "metadata": {
    "ExecuteTime": {
     "end_time": "2021-11-16T13:01:40.602633Z",
     "start_time": "2021-11-16T13:01:40.575708Z"
    }
   },
   "outputs": [
    {
     "data": {
      "text/html": [
       "<div>\n",
       "<style scoped>\n",
       "    .dataframe tbody tr th:only-of-type {\n",
       "        vertical-align: middle;\n",
       "    }\n",
       "\n",
       "    .dataframe tbody tr th {\n",
       "        vertical-align: top;\n",
       "    }\n",
       "\n",
       "    .dataframe thead th {\n",
       "        text-align: right;\n",
       "    }\n",
       "</style>\n",
       "<table border=\"1\" class=\"dataframe\">\n",
       "  <thead>\n",
       "    <tr style=\"text-align: right;\">\n",
       "      <th></th>\n",
       "      <th>PassengerId</th>\n",
       "      <th>Survived</th>\n",
       "      <th>Pclass</th>\n",
       "      <th>Name</th>\n",
       "      <th>Sex</th>\n",
       "      <th>Age</th>\n",
       "      <th>SibSp</th>\n",
       "      <th>Parch</th>\n",
       "      <th>Ticket</th>\n",
       "      <th>Fare</th>\n",
       "      <th>Cabin</th>\n",
       "      <th>Embarked</th>\n",
       "    </tr>\n",
       "  </thead>\n",
       "  <tbody>\n",
       "    <tr>\n",
       "      <th>0</th>\n",
       "      <td>1</td>\n",
       "      <td>0</td>\n",
       "      <td>3</td>\n",
       "      <td>Braund, Mr. Owen Harris</td>\n",
       "      <td>ERKEK</td>\n",
       "      <td>2222.000</td>\n",
       "      <td>1</td>\n",
       "      <td>0</td>\n",
       "      <td>A/5 21171</td>\n",
       "      <td>7.250</td>\n",
       "      <td>NaN</td>\n",
       "      <td>S</td>\n",
       "    </tr>\n",
       "    <tr>\n",
       "      <th>1</th>\n",
       "      <td>2</td>\n",
       "      <td>1</td>\n",
       "      <td>1</td>\n",
       "      <td>Cumings, Mrs. John Bradley (Florence Briggs Th...</td>\n",
       "      <td>female</td>\n",
       "      <td>3888.000</td>\n",
       "      <td>1</td>\n",
       "      <td>0</td>\n",
       "      <td>PC 17599</td>\n",
       "      <td>71.283</td>\n",
       "      <td>C85</td>\n",
       "      <td>C</td>\n",
       "    </tr>\n",
       "    <tr>\n",
       "      <th>2</th>\n",
       "      <td>3</td>\n",
       "      <td>1</td>\n",
       "      <td>3</td>\n",
       "      <td>Heikkinen, Miss. Laina</td>\n",
       "      <td>female</td>\n",
       "      <td>26.000</td>\n",
       "      <td>0</td>\n",
       "      <td>0</td>\n",
       "      <td>STON/O2. 3101282</td>\n",
       "      <td>7.925</td>\n",
       "      <td>NaN</td>\n",
       "      <td>S</td>\n",
       "    </tr>\n",
       "    <tr>\n",
       "      <th>3</th>\n",
       "      <td>4</td>\n",
       "      <td>1</td>\n",
       "      <td>1</td>\n",
       "      <td>Futrelle, Mrs. Jacques Heath (Lily May Peel)</td>\n",
       "      <td>female</td>\n",
       "      <td>35.000</td>\n",
       "      <td>1</td>\n",
       "      <td>0</td>\n",
       "      <td>113803</td>\n",
       "      <td>53.100</td>\n",
       "      <td>C123</td>\n",
       "      <td>S</td>\n",
       "    </tr>\n",
       "  </tbody>\n",
       "</table>\n",
       "</div>"
      ],
      "text/plain": [
       "   PassengerId  Survived  Pclass  \\\n",
       "0            1         0       3   \n",
       "1            2         1       1   \n",
       "2            3         1       3   \n",
       "3            4         1       1   \n",
       "\n",
       "                                                Name     Sex      Age  SibSp  \\\n",
       "0                            Braund, Mr. Owen Harris   ERKEK 2222.000      1   \n",
       "1  Cumings, Mrs. John Bradley (Florence Briggs Th...  female 3888.000      1   \n",
       "2                             Heikkinen, Miss. Laina  female   26.000      0   \n",
       "3       Futrelle, Mrs. Jacques Heath (Lily May Peel)  female   35.000      1   \n",
       "\n",
       "   Parch            Ticket   Fare Cabin Embarked  \n",
       "0      0         A/5 21171  7.250   NaN        S  \n",
       "1      0          PC 17599 71.283   C85        C  \n",
       "2      0  STON/O2. 3101282  7.925   NaN        S  \n",
       "3      0            113803 53.100  C123        S  "
      ]
     },
     "execution_count": 174,
     "metadata": {},
     "output_type": "execute_result"
    }
   ],
   "source": [
    "# Bir defada birden fazla kolonda replace() işlemini yapabilirsin. Kolonları ve değerleri de seçebilirsin.\n",
    "df1 = df.copy()\n",
    "df1.replace({\"Age\":{22: 2222 , 38:3888}, \"Sex\":{\"male\": \"ERKEK\"}}, inplace= True)\n",
    "df1.head(4)"
   ]
  },
  {
   "cell_type": "markdown",
   "id": "20abb978",
   "metadata": {},
   "source": [
    "#### map()"
   ]
  },
  {
   "cell_type": "code",
   "execution_count": 175,
   "id": "968eb476",
   "metadata": {
    "ExecuteTime": {
     "end_time": "2021-11-16T13:02:25.579042Z",
     "start_time": "2021-11-16T13:02:25.551122Z"
    }
   },
   "outputs": [],
   "source": [
    "df = pd.read_csv(\"train.csv\")"
   ]
  },
  {
   "cell_type": "code",
   "execution_count": 176,
   "id": "9205331e",
   "metadata": {
    "ExecuteTime": {
     "end_time": "2021-11-16T13:02:40.537386Z",
     "start_time": "2021-11-16T13:02:40.494497Z"
    }
   },
   "outputs": [
    {
     "data": {
      "text/plain": [
       "0      erkek\n",
       "1      kadın\n",
       "2      kadın\n",
       "3      kadın\n",
       "4      erkek\n",
       "       ...  \n",
       "886    erkek\n",
       "887    kadın\n",
       "888    kadın\n",
       "889    erkek\n",
       "890    erkek\n",
       "Name: Sex, Length: 891, dtype: object"
      ]
     },
     "execution_count": 176,
     "metadata": {},
     "output_type": "execute_result"
    }
   ],
   "source": [
    "df[\"Sex\"] = df.Sex.map({\"male\":\"erkek\",\"female\":\"kadın\"})\n",
    "df[\"Sex\"]"
   ]
  },
  {
   "cell_type": "markdown",
   "id": "4023d66d",
   "metadata": {},
   "source": [
    "#### apply()"
   ]
  },
  {
   "cell_type": "code",
   "execution_count": 177,
   "id": "35a5db03",
   "metadata": {
    "ExecuteTime": {
     "end_time": "2021-11-16T13:03:10.165817Z",
     "start_time": "2021-11-16T13:03:10.151854Z"
    }
   },
   "outputs": [],
   "source": [
    "df = pd.read_csv(\"train.csv\")"
   ]
  },
  {
   "cell_type": "code",
   "execution_count": 178,
   "id": "b7591d4f",
   "metadata": {
    "ExecuteTime": {
     "end_time": "2021-11-16T13:03:10.699016Z",
     "start_time": "2021-11-16T13:03:10.685089Z"
    }
   },
   "outputs": [
    {
     "data": {
      "text/plain": [
       "0     4.690\n",
       "1     6.164\n",
       "2     5.099\n",
       "3     5.916\n",
       "4     5.916\n",
       "       ... \n",
       "886   5.196\n",
       "887   4.359\n",
       "888     NaN\n",
       "889   5.099\n",
       "890   5.657\n",
       "Name: Age, Length: 891, dtype: float64"
      ]
     },
     "execution_count": 178,
     "metadata": {},
     "output_type": "execute_result"
    }
   ],
   "source": [
    "df[\"Age\"]= df.Age.apply(lambda x: np.sqrt(x))\n",
    "df[\"Age\"]"
   ]
  },
  {
   "cell_type": "markdown",
   "id": "7bfaa956",
   "metadata": {},
   "source": [
    "### factorize()\n",
    "\n",
    "* Kategorik verilere label encoding uygulamak için kullanılan pandas'ın bize sunduğu basit bir fonksiyon.\n",
    "* Yalnız encoding işleminde ilk gördüğü veriye 0 veriyor. Ben 2'den fazla kategorik sınıf içeren değişkenlerde sınıflardan birisinin 0 olarak nitelendirilmesinden kaynaklanan bazı problemler gördüm. **Bu nedenle bu yöntemi aslında pek de önermiyorum, mümkünse 2'den fazla sınıf içeren kategorik değişkenlerde başka yöntemler kullan ve sınıflara 0 değerini verme. Çünkü algoritmalar 0 değerini sanki hiç yokmuş gibi algılayabiliyor.**"
   ]
  },
  {
   "cell_type": "code",
   "execution_count": 385,
   "id": "cebc5285",
   "metadata": {
    "ExecuteTime": {
     "end_time": "2021-12-05T00:30:55.803113Z",
     "start_time": "2021-12-05T00:30:53.537413Z"
    }
   },
   "outputs": [],
   "source": [
    "df = pd.read_csv(\"train.csv\")"
   ]
  },
  {
   "cell_type": "code",
   "execution_count": 387,
   "id": "01f86e0f",
   "metadata": {
    "ExecuteTime": {
     "end_time": "2021-12-05T00:32:21.964054Z",
     "start_time": "2021-12-05T00:32:21.565800Z"
    }
   },
   "outputs": [
    {
     "data": {
      "text/plain": [
       "0      0\n",
       "1      1\n",
       "2      1\n",
       "3      1\n",
       "4      0\n",
       "      ..\n",
       "886    0\n",
       "887    1\n",
       "888    1\n",
       "889    0\n",
       "890    0\n",
       "Name: Sex, Length: 891, dtype: int64"
      ]
     },
     "execution_count": 387,
     "metadata": {},
     "output_type": "execute_result"
    }
   ],
   "source": [
    "df[\"Sex\"] = pd.factorize(df[\"Sex\"])[0]\n",
    "df[\"Sex\"]"
   ]
  },
  {
   "cell_type": "markdown",
   "id": "3854964a",
   "metadata": {},
   "source": [
    "### clip()\n",
    "\n",
    "* **clip**; değerleri kırpmaya yarayan kullanışlı bir fonksiyondur. Kırpmaktan kastedilen, değerlerin verilen sınır değerlerinden büyük/küçük olması durumunda sınır değerlerine eşitlenmesidir.\n",
    "\n",
    "\n",
    "* İstersen 2 sınır değeri verebilirsin, istersen de \"şu değerden büyükleri kırp\" veya \"şu değerden küçükleri kırp\" diyebilirsin.\n",
    "\n",
    "\n",
    "* Yapılan işlem kaydedilmez. Bunun için **inplace=True** parametresini kullanabilirsin."
   ]
  },
  {
   "cell_type": "code",
   "execution_count": 240,
   "id": "c9fac991",
   "metadata": {
    "ExecuteTime": {
     "end_time": "2021-11-16T14:55:00.461085Z",
     "start_time": "2021-11-16T14:55:00.434158Z"
    }
   },
   "outputs": [],
   "source": [
    "df = pd.read_csv(\"train.csv\")"
   ]
  },
  {
   "cell_type": "code",
   "execution_count": 241,
   "id": "be5c13a0",
   "metadata": {
    "ExecuteTime": {
     "end_time": "2021-11-16T15:01:15.256297Z",
     "start_time": "2021-11-16T15:01:15.223386Z"
    }
   },
   "outputs": [
    {
     "data": {
      "text/plain": [
       "0     22.000\n",
       "1     38.000\n",
       "2     26.000\n",
       "3     35.000\n",
       "4     35.000\n",
       "       ...  \n",
       "886   27.000\n",
       "887   19.000\n",
       "888      NaN\n",
       "889   26.000\n",
       "890   32.000\n",
       "Name: Age, Length: 891, dtype: float64"
      ]
     },
     "execution_count": 241,
     "metadata": {},
     "output_type": "execute_result"
    }
   ],
   "source": [
    "df.Age.clip(10,50)"
   ]
  },
  {
   "cell_type": "code",
   "execution_count": 242,
   "id": "823858f2",
   "metadata": {
    "ExecuteTime": {
     "end_time": "2021-11-16T15:02:40.750128Z",
     "start_time": "2021-11-16T15:02:40.736200Z"
    }
   },
   "outputs": [],
   "source": [
    "# Sadece 20'den küçük değerleri 20'ye eşitleyecektir ve işlemin kaydedilmesini sağlayacaktır.\n",
    "df.Age.clip(lower=20, inplace=True)"
   ]
  },
  {
   "cell_type": "markdown",
   "id": "6e50b8a0",
   "metadata": {},
   "source": [
    "### where()\n",
    "\n",
    "* Değerleri değiştirmede kullanılabilen alternatif bir fonksiyondur.\n",
    "\n",
    "* Yapılan işlem kaydedilmez, bu nedenle işlemi bir nesneye eşitlemek gereklidir."
   ]
  },
  {
   "cell_type": "code",
   "execution_count": 245,
   "id": "2b389c22",
   "metadata": {
    "ExecuteTime": {
     "end_time": "2021-11-16T16:38:48.109030Z",
     "start_time": "2021-11-16T16:38:48.088122Z"
    },
    "scrolled": true
   },
   "outputs": [
    {
     "data": {
      "text/plain": [
       "array([1, 0, 1, 0, 1, 1, 0, 1, 1, 1, 0, 0, 1, 1, 1, 1, 1, 1, 1, 1, 1, 0,\n",
       "       1, 0, 1, 1, 1, 0, 1, 1, 1, 0, 1, 1, 1, 1, 1, 1, 1, 1, 1, 1, 1, 1,\n",
       "       1, 1, 1, 1, 1, 1, 1, 1, 0, 1, 0, 0, 1, 1, 1, 1, 1, 0, 0, 1, 1, 1,\n",
       "       0, 1, 1, 1, 1, 1, 1, 1, 1, 0, 1, 1, 1, 1, 1, 1, 1, 1, 1, 1, 1, 1,\n",
       "       0, 1, 1, 1, 0, 1, 1, 1, 0, 0, 1, 1, 1, 1, 0, 1, 1, 1, 1, 1, 1, 1,\n",
       "       0, 1, 1, 1, 1, 1, 1, 1, 0, 1, 1, 1, 1, 0, 0, 1, 1, 1, 0, 1, 1, 1,\n",
       "       1, 1, 1, 1, 0, 0, 1, 0, 1, 1, 1, 1, 1, 1, 1, 1, 0, 1, 1, 0, 1, 1,\n",
       "       1, 1, 1, 1, 1, 1, 1, 1, 1, 1, 1, 1, 0, 1, 1, 1, 0, 1, 1, 1, 0, 1,\n",
       "       1, 0, 1, 1, 1, 1, 1, 0, 1, 0, 1, 1, 1, 1, 1, 1, 1, 0, 0, 0, 1, 1,\n",
       "       1, 1, 1, 1, 1, 1, 1, 0, 1, 1, 1, 0, 1, 1, 1, 1, 1, 0, 1, 1, 0, 1,\n",
       "       1, 1, 1, 1, 0, 1, 1, 1, 1, 1, 0, 1, 1, 1, 1, 1, 1, 1, 1, 1, 1, 1,\n",
       "       1, 1, 1, 0, 1, 1, 0, 1, 1, 0, 0, 1, 1, 1, 1, 0, 1, 1, 1, 1, 0, 0,\n",
       "       1, 1, 1, 1, 0, 0, 1, 1, 1, 0, 1, 0, 1, 1, 1, 1, 1, 1, 1, 1, 0, 1,\n",
       "       1, 1, 1, 1, 1, 0, 0, 1, 1, 1, 1, 0, 0, 0, 1, 1, 1, 0, 1, 0, 1, 0,\n",
       "       1, 0, 0, 0, 1, 1, 1, 1, 1, 1, 0, 0, 1, 1, 1, 1, 1, 0, 1, 0, 1, 0,\n",
       "       1, 0, 0, 1, 1, 1, 0, 0, 1, 0, 0, 0, 1, 1, 1, 0, 1, 1, 1, 1, 1, 0,\n",
       "       1, 1, 1, 1, 0, 1, 1, 1, 1, 1, 1, 1, 1, 1, 0, 1, 1, 0, 0, 1, 1, 1,\n",
       "       1, 1, 1, 0, 1, 1, 1, 1, 1, 1, 1, 1, 1, 1, 1, 1, 0, 1, 1, 0, 0, 1,\n",
       "       1, 1, 1, 1, 1, 1, 1, 1, 1, 1, 1, 1, 1, 1, 1, 1, 0, 1, 1, 1, 1, 1,\n",
       "       1, 1, 1, 1, 1, 1, 1, 1, 1, 1, 1, 0, 0, 1, 1, 1, 0, 0, 1, 1, 0, 1,\n",
       "       1, 1, 1, 1, 1, 0, 1, 1, 1, 0, 1, 1, 0, 0, 1, 1, 0, 0, 1, 1, 0, 1,\n",
       "       0, 1, 1, 1, 1, 1, 1, 1, 1, 1, 1, 0, 1, 0, 1, 1, 1, 1, 1, 1, 1, 1,\n",
       "       0, 1, 0, 0, 1, 1, 1, 1, 0, 1, 1, 1, 0, 1, 0, 1, 1, 1, 1, 1, 0, 0,\n",
       "       1, 1, 1, 1, 1, 1, 0, 1, 1, 0, 0, 1, 1, 1, 0, 1, 1, 0, 1, 1, 1, 0,\n",
       "       1, 1, 1, 1, 1, 1, 1, 1, 0, 1, 1, 0, 0, 1, 1, 1, 0, 1, 1, 1, 1, 1,\n",
       "       0, 1, 1, 1, 1, 1, 0, 1, 0, 1, 1, 1, 1, 1, 1, 1, 1, 1, 1, 1, 1, 0,\n",
       "       0, 1, 1, 1, 1, 0, 1, 1, 1, 0, 1, 0, 1, 0, 1, 0, 1, 1, 1, 0, 1, 1,\n",
       "       1, 1, 1, 1, 1, 0, 1, 1, 1, 1, 1, 1, 1, 1, 1, 0, 1, 1, 1, 1, 1, 1,\n",
       "       1, 1, 0, 1, 1, 0, 1, 1, 1, 0, 1, 0, 1, 1, 0, 1, 0, 1, 1, 1, 1, 1,\n",
       "       1, 1, 1, 0, 1, 1, 1, 0, 1, 0, 1, 1, 1, 1, 1, 1, 1, 1, 1, 1, 1, 0,\n",
       "       1, 1, 0, 1, 1, 1, 1, 1, 1, 0, 1, 0, 1, 1, 1, 1, 1, 1, 1, 0, 1, 0,\n",
       "       1, 1, 1, 1, 1, 1, 1, 0, 0, 1, 1, 1, 1, 1, 1, 1, 0, 0, 0, 0, 1, 1,\n",
       "       1, 1, 1, 0, 1, 1, 0, 0, 0, 1, 1, 0, 0, 0, 1, 1, 1, 1, 1, 1, 0, 1,\n",
       "       1, 1, 1, 1, 0, 1, 1, 1, 1, 1, 1, 0, 1, 1, 0, 0, 0, 1, 1, 0, 1, 1,\n",
       "       0, 1, 1, 0, 1, 1, 1, 1, 1, 1, 1, 0, 1, 1, 1, 0, 1, 0, 1, 1, 1, 1,\n",
       "       1, 1, 0, 1, 1, 1, 0, 1, 1, 0, 1, 0, 0, 1, 1, 1, 1, 1, 1, 0, 1, 1,\n",
       "       1, 1, 1, 1, 0, 1, 1, 1, 1, 1, 0, 1, 1, 1, 0, 1, 1, 0, 1, 1, 1, 1,\n",
       "       1, 0, 1, 1, 1, 1, 0, 1, 1, 0, 1, 1, 1, 1, 1, 0, 1, 1, 1, 1, 1, 0,\n",
       "       1, 1, 1, 0, 1, 1, 1, 1, 1, 1, 1, 1, 1, 0, 1, 1, 1, 0, 1, 1, 1, 0,\n",
       "       1, 1, 1, 1, 0, 1, 1, 1, 1, 0, 1, 1, 1, 0, 0, 1, 1, 1, 1, 1, 1, 0,\n",
       "       1, 1, 1, 1, 1, 1, 1, 0, 1, 0, 1])"
      ]
     },
     "execution_count": 245,
     "metadata": {},
     "output_type": "execute_result"
    }
   ],
   "source": [
    "np.where(df[\"Cabin\"].isna(),1,0)"
   ]
  },
  {
   "cell_type": "markdown",
   "id": "876ad2da",
   "metadata": {},
   "source": [
    "### mask()\n",
    "\n",
    "* **cond=**, bu parametreye değiştirmeyi istediğin değerlerin condition bilgisini yazıyorsun\n",
    "* **other=**, bu parametreye ise değiştirmeyi istediğin gözlemlerin yeni değerinin ne olması gerektiğini yazıyorsun."
   ]
  },
  {
   "cell_type": "code",
   "execution_count": 259,
   "id": "0f019c09",
   "metadata": {
    "ExecuteTime": {
     "end_time": "2021-11-16T16:52:29.333133Z",
     "start_time": "2021-11-16T16:52:29.313191Z"
    }
   },
   "outputs": [],
   "source": [
    "df = pd.read_csv(\"train.csv\")"
   ]
  },
  {
   "cell_type": "code",
   "execution_count": 260,
   "id": "2c42bf62",
   "metadata": {
    "ExecuteTime": {
     "end_time": "2021-11-16T16:52:29.965617Z",
     "start_time": "2021-11-16T16:52:29.957641Z"
    }
   },
   "outputs": [],
   "source": [
    "df.Age.mask(cond=df.Age.between(0,10), other=\"çocuk\", inplace=True)"
   ]
  },
  {
   "cell_type": "code",
   "execution_count": null,
   "id": "3bf91e55",
   "metadata": {},
   "outputs": [],
   "source": []
  },
  {
   "cell_type": "markdown",
   "id": "39a5a23e",
   "metadata": {},
   "source": [
    "## astype() / Convert dtype, Veri tipi değişme"
   ]
  },
  {
   "cell_type": "code",
   "execution_count": 120,
   "id": "8a67d0ee",
   "metadata": {
    "ExecuteTime": {
     "end_time": "2021-11-16T11:54:02.156457Z",
     "start_time": "2021-11-16T11:54:02.045169Z"
    }
   },
   "outputs": [
    {
     "data": {
      "text/plain": [
       "dtype('O')"
      ]
     },
     "execution_count": 120,
     "metadata": {},
     "output_type": "execute_result"
    }
   ],
   "source": [
    "df.Age = df.Age.astype(str)\n",
    "df.Age.dtype"
   ]
  },
  {
   "cell_type": "markdown",
   "id": "9020d894",
   "metadata": {},
   "source": [
    "## assign() / Yeni değişken oluşturmanın kolay yolu\n",
    "\n",
    "* Bu fonksiyon ile Dataframe'de yeni bir kolon oluşturulabilir ve bunu kısaca yazabilirsin  \n",
    "\n",
    "\n",
    "* Fonksiyon işlemi kendiliğinden kaydetmiyor, o nedenle dataframe nesnesine eşitlemen gerekecetir. \n",
    "\n",
    "\n",
    "* kaynak: https://pandas.pydata.org/docs/reference/api/pandas.DataFrame.assign.html"
   ]
  },
  {
   "cell_type": "code",
   "execution_count": 339,
   "id": "234d8b2d",
   "metadata": {
    "ExecuteTime": {
     "end_time": "2021-11-16T21:05:58.140990Z",
     "start_time": "2021-11-16T21:05:58.120046Z"
    }
   },
   "outputs": [],
   "source": [
    "df = pd.read_csv(\"train.csv\")"
   ]
  },
  {
   "cell_type": "code",
   "execution_count": 341,
   "id": "e42fa62a",
   "metadata": {
    "ExecuteTime": {
     "end_time": "2021-11-16T21:07:00.340216Z",
     "start_time": "2021-11-16T21:07:00.313288Z"
    }
   },
   "outputs": [
    {
     "data": {
      "text/html": [
       "<div>\n",
       "<style scoped>\n",
       "    .dataframe tbody tr th:only-of-type {\n",
       "        vertical-align: middle;\n",
       "    }\n",
       "\n",
       "    .dataframe tbody tr th {\n",
       "        vertical-align: top;\n",
       "    }\n",
       "\n",
       "    .dataframe thead th {\n",
       "        text-align: right;\n",
       "    }\n",
       "</style>\n",
       "<table border=\"1\" class=\"dataframe\">\n",
       "  <thead>\n",
       "    <tr style=\"text-align: right;\">\n",
       "      <th></th>\n",
       "      <th>PassengerId</th>\n",
       "      <th>Survived</th>\n",
       "      <th>Pclass</th>\n",
       "      <th>Name</th>\n",
       "      <th>Sex</th>\n",
       "      <th>Age</th>\n",
       "      <th>SibSp</th>\n",
       "      <th>Parch</th>\n",
       "      <th>Ticket</th>\n",
       "      <th>Fare</th>\n",
       "      <th>Cabin</th>\n",
       "      <th>Embarked</th>\n",
       "      <th>AgeFare</th>\n",
       "    </tr>\n",
       "  </thead>\n",
       "  <tbody>\n",
       "    <tr>\n",
       "      <th>0</th>\n",
       "      <td>1</td>\n",
       "      <td>0</td>\n",
       "      <td>3</td>\n",
       "      <td>Braund, Mr. Owen Harris</td>\n",
       "      <td>male</td>\n",
       "      <td>22.000</td>\n",
       "      <td>1</td>\n",
       "      <td>0</td>\n",
       "      <td>A/5 21171</td>\n",
       "      <td>7.250</td>\n",
       "      <td>NaN</td>\n",
       "      <td>S</td>\n",
       "      <td>3.034</td>\n",
       "    </tr>\n",
       "    <tr>\n",
       "      <th>1</th>\n",
       "      <td>2</td>\n",
       "      <td>1</td>\n",
       "      <td>1</td>\n",
       "      <td>Cumings, Mrs. John Bradley (Florence Briggs Th...</td>\n",
       "      <td>female</td>\n",
       "      <td>38.000</td>\n",
       "      <td>1</td>\n",
       "      <td>0</td>\n",
       "      <td>PC 17599</td>\n",
       "      <td>71.283</td>\n",
       "      <td>C85</td>\n",
       "      <td>C</td>\n",
       "      <td>0.533</td>\n",
       "    </tr>\n",
       "    <tr>\n",
       "      <th>2</th>\n",
       "      <td>3</td>\n",
       "      <td>1</td>\n",
       "      <td>3</td>\n",
       "      <td>Heikkinen, Miss. Laina</td>\n",
       "      <td>female</td>\n",
       "      <td>26.000</td>\n",
       "      <td>0</td>\n",
       "      <td>0</td>\n",
       "      <td>STON/O2. 3101282</td>\n",
       "      <td>7.925</td>\n",
       "      <td>NaN</td>\n",
       "      <td>S</td>\n",
       "      <td>3.281</td>\n",
       "    </tr>\n",
       "    <tr>\n",
       "      <th>3</th>\n",
       "      <td>4</td>\n",
       "      <td>1</td>\n",
       "      <td>1</td>\n",
       "      <td>Futrelle, Mrs. Jacques Heath (Lily May Peel)</td>\n",
       "      <td>female</td>\n",
       "      <td>35.000</td>\n",
       "      <td>1</td>\n",
       "      <td>0</td>\n",
       "      <td>113803</td>\n",
       "      <td>53.100</td>\n",
       "      <td>C123</td>\n",
       "      <td>S</td>\n",
       "      <td>0.659</td>\n",
       "    </tr>\n",
       "    <tr>\n",
       "      <th>4</th>\n",
       "      <td>5</td>\n",
       "      <td>0</td>\n",
       "      <td>3</td>\n",
       "      <td>Allen, Mr. William Henry</td>\n",
       "      <td>male</td>\n",
       "      <td>35.000</td>\n",
       "      <td>0</td>\n",
       "      <td>0</td>\n",
       "      <td>373450</td>\n",
       "      <td>8.050</td>\n",
       "      <td>NaN</td>\n",
       "      <td>S</td>\n",
       "      <td>4.348</td>\n",
       "    </tr>\n",
       "  </tbody>\n",
       "</table>\n",
       "</div>"
      ],
      "text/plain": [
       "   PassengerId  Survived  Pclass  \\\n",
       "0            1         0       3   \n",
       "1            2         1       1   \n",
       "2            3         1       3   \n",
       "3            4         1       1   \n",
       "4            5         0       3   \n",
       "\n",
       "                                                Name     Sex    Age  SibSp  \\\n",
       "0                            Braund, Mr. Owen Harris    male 22.000      1   \n",
       "1  Cumings, Mrs. John Bradley (Florence Briggs Th...  female 38.000      1   \n",
       "2                             Heikkinen, Miss. Laina  female 26.000      0   \n",
       "3       Futrelle, Mrs. Jacques Heath (Lily May Peel)  female 35.000      1   \n",
       "4                           Allen, Mr. William Henry    male 35.000      0   \n",
       "\n",
       "   Parch            Ticket   Fare Cabin Embarked  AgeFare  \n",
       "0      0         A/5 21171  7.250   NaN        S    3.034  \n",
       "1      0          PC 17599 71.283   C85        C    0.533  \n",
       "2      0  STON/O2. 3101282  7.925   NaN        S    3.281  \n",
       "3      0            113803 53.100  C123        S    0.659  \n",
       "4      0            373450  8.050   NaN        S    4.348  "
      ]
     },
     "execution_count": 341,
     "metadata": {},
     "output_type": "execute_result"
    }
   ],
   "source": [
    "# ben rastgele Age/Fare oranıyla bir değişken oluşturacağım.\n",
    "\n",
    "df = df.assign(AgeFare= df.Age/df.Fare)\n",
    "df.head(5)"
   ]
  },
  {
   "cell_type": "markdown",
   "id": "a06dd566",
   "metadata": {
    "heading_collapsed": true
   },
   "source": [
    "## join ve merge\n",
    "\n",
    "* join ve merge aslında aynı işi yapıyorlar ama benim anladığım kadarıyla join'de iki dataframe'i join edecek değişkenin iki değişkende de aynı isimde olması gerekiyor. Merge'de ise dataframe'lerdeki değişkenlerin isimleri farklı olabilir, bu durumlarda merge kullanmak gerekiyor.  \n",
    "\n",
    "**join:** https://pandas.pydata.org/docs/reference/api/pandas.DataFrame.join.html\n",
    "\n",
    "\n",
    "**merge:** https://pandas.pydata.org/docs/reference/api/pandas.DataFrame.merge.html"
   ]
  },
  {
   "cell_type": "code",
   "execution_count": null,
   "id": "4cf2f06a",
   "metadata": {
    "hidden": true
   },
   "outputs": [],
   "source": []
  },
  {
   "cell_type": "markdown",
   "id": "b8087dcd",
   "metadata": {
    "heading_collapsed": true
   },
   "source": [
    "## groupby fonksiyonu\n",
    "\n",
    "* Groupby fonksiyonuyla aggregate fonksiyonlar olan count, max, min, sum, mean, median, mode, std gibi istatistiksel fonksiyonları kullanabilirsin."
   ]
  },
  {
   "cell_type": "code",
   "execution_count": 179,
   "id": "27b70a8f",
   "metadata": {
    "ExecuteTime": {
     "end_time": "2021-11-16T13:07:05.556380Z",
     "start_time": "2021-11-16T13:07:05.537433Z"
    },
    "hidden": true
   },
   "outputs": [],
   "source": [
    "df = pd.read_csv(\"train.csv\")"
   ]
  },
  {
   "cell_type": "code",
   "execution_count": 180,
   "id": "64c3b307",
   "metadata": {
    "ExecuteTime": {
     "end_time": "2021-11-16T13:07:05.824598Z",
     "start_time": "2021-11-16T13:07:05.779716Z"
    },
    "hidden": true
   },
   "outputs": [
    {
     "data": {
      "text/plain": [
       "Pclass\n",
       "1   0.630\n",
       "2   0.473\n",
       "3   0.242\n",
       "Name: Survived, dtype: float64"
      ]
     },
     "execution_count": 180,
     "metadata": {},
     "output_type": "execute_result"
    }
   ],
   "source": [
    "df.groupby(\"Pclass\")[\"Survived\"].mean()"
   ]
  },
  {
   "cell_type": "code",
   "execution_count": 181,
   "id": "c030c123",
   "metadata": {
    "ExecuteTime": {
     "end_time": "2021-11-16T13:07:06.087346Z",
     "start_time": "2021-11-16T13:07:06.013092Z"
    },
    "hidden": true
   },
   "outputs": [
    {
     "data": {
      "text/plain": [
       "Pclass  Sex   \n",
       "1       female   0.968\n",
       "        male     0.369\n",
       "2       female   0.921\n",
       "        male     0.157\n",
       "3       female   0.500\n",
       "        male     0.135\n",
       "Name: Survived, dtype: float64"
      ]
     },
     "execution_count": 181,
     "metadata": {},
     "output_type": "execute_result"
    }
   ],
   "source": [
    "df.groupby([\"Pclass\",\"Sex\"])[\"Survived\"].mean()"
   ]
  },
  {
   "cell_type": "code",
   "execution_count": 182,
   "id": "03611aa0",
   "metadata": {
    "ExecuteTime": {
     "end_time": "2021-11-16T13:07:06.587556Z",
     "start_time": "2021-11-16T13:07:06.565582Z"
    },
    "hidden": true
   },
   "outputs": [
    {
     "data": {
      "text/plain": [
       "Pclass  Sex   \n",
       "1       female   0.968\n",
       "        male     0.369\n",
       "2       female   0.921\n",
       "        male     0.157\n",
       "3       female   0.500\n",
       "        male     0.135\n",
       "Name: Survived, dtype: float64"
      ]
     },
     "execution_count": 182,
     "metadata": {},
     "output_type": "execute_result"
    }
   ],
   "source": [
    "df.groupby([\"Pclass\",\"Sex\"])[\"Survived\"].agg(\"mean\")"
   ]
  },
  {
   "cell_type": "markdown",
   "id": "ac0da14b",
   "metadata": {
    "heading_collapsed": true
   },
   "source": [
    "## Pivot table"
   ]
  },
  {
   "cell_type": "code",
   "execution_count": 184,
   "id": "8a639362",
   "metadata": {
    "ExecuteTime": {
     "end_time": "2021-11-16T13:09:36.096296Z",
     "start_time": "2021-11-16T13:09:36.074309Z"
    },
    "hidden": true
   },
   "outputs": [],
   "source": [
    "df = pd.read_csv(\"train.csv\")"
   ]
  },
  {
   "cell_type": "code",
   "execution_count": 185,
   "id": "e63967bc",
   "metadata": {
    "ExecuteTime": {
     "end_time": "2021-11-16T13:09:36.758030Z",
     "start_time": "2021-11-16T13:09:36.645724Z"
    },
    "hidden": true
   },
   "outputs": [
    {
     "data": {
      "text/html": [
       "<div>\n",
       "<style scoped>\n",
       "    .dataframe tbody tr th:only-of-type {\n",
       "        vertical-align: middle;\n",
       "    }\n",
       "\n",
       "    .dataframe tbody tr th {\n",
       "        vertical-align: top;\n",
       "    }\n",
       "\n",
       "    .dataframe thead th {\n",
       "        text-align: right;\n",
       "    }\n",
       "</style>\n",
       "<table border=\"1\" class=\"dataframe\">\n",
       "  <thead>\n",
       "    <tr style=\"text-align: right;\">\n",
       "      <th>Embarked</th>\n",
       "      <th>C</th>\n",
       "      <th>Q</th>\n",
       "      <th>S</th>\n",
       "    </tr>\n",
       "  </thead>\n",
       "  <tbody>\n",
       "    <tr>\n",
       "      <th>Age</th>\n",
       "      <td>30.815</td>\n",
       "      <td>28.089</td>\n",
       "      <td>29.445</td>\n",
       "    </tr>\n",
       "    <tr>\n",
       "      <th>Fare</th>\n",
       "      <td>59.954</td>\n",
       "      <td>13.276</td>\n",
       "      <td>27.080</td>\n",
       "    </tr>\n",
       "    <tr>\n",
       "      <th>Parch</th>\n",
       "      <td>0.363</td>\n",
       "      <td>0.169</td>\n",
       "      <td>0.413</td>\n",
       "    </tr>\n",
       "    <tr>\n",
       "      <th>PassengerId</th>\n",
       "      <td>445.357</td>\n",
       "      <td>417.896</td>\n",
       "      <td>449.528</td>\n",
       "    </tr>\n",
       "    <tr>\n",
       "      <th>Pclass</th>\n",
       "      <td>1.887</td>\n",
       "      <td>2.909</td>\n",
       "      <td>2.351</td>\n",
       "    </tr>\n",
       "    <tr>\n",
       "      <th>SibSp</th>\n",
       "      <td>0.387</td>\n",
       "      <td>0.429</td>\n",
       "      <td>0.571</td>\n",
       "    </tr>\n",
       "    <tr>\n",
       "      <th>Survived</th>\n",
       "      <td>0.554</td>\n",
       "      <td>0.390</td>\n",
       "      <td>0.337</td>\n",
       "    </tr>\n",
       "  </tbody>\n",
       "</table>\n",
       "</div>"
      ],
      "text/plain": [
       "Embarked          C       Q       S\n",
       "Age          30.815  28.089  29.445\n",
       "Fare         59.954  13.276  27.080\n",
       "Parch         0.363   0.169   0.413\n",
       "PassengerId 445.357 417.896 449.528\n",
       "Pclass        1.887   2.909   2.351\n",
       "SibSp         0.387   0.429   0.571\n",
       "Survived      0.554   0.390   0.337"
      ]
     },
     "execution_count": 185,
     "metadata": {},
     "output_type": "execute_result"
    }
   ],
   "source": [
    "pd.pivot_table(df, index=\"Embarked\").T"
   ]
  },
  {
   "cell_type": "code",
   "execution_count": 186,
   "id": "bd52a448",
   "metadata": {
    "ExecuteTime": {
     "end_time": "2021-11-16T13:09:37.310439Z",
     "start_time": "2021-11-16T13:09:37.248064Z"
    },
    "hidden": true
   },
   "outputs": [
    {
     "data": {
      "text/html": [
       "<div>\n",
       "<style scoped>\n",
       "    .dataframe tbody tr th:only-of-type {\n",
       "        vertical-align: middle;\n",
       "    }\n",
       "\n",
       "    .dataframe tbody tr th {\n",
       "        vertical-align: top;\n",
       "    }\n",
       "\n",
       "    .dataframe thead th {\n",
       "        text-align: right;\n",
       "    }\n",
       "</style>\n",
       "<table border=\"1\" class=\"dataframe\">\n",
       "  <thead>\n",
       "    <tr style=\"text-align: right;\">\n",
       "      <th></th>\n",
       "      <th>Age</th>\n",
       "      <th>Fare</th>\n",
       "    </tr>\n",
       "    <tr>\n",
       "      <th>Embarked</th>\n",
       "      <th></th>\n",
       "      <th></th>\n",
       "    </tr>\n",
       "  </thead>\n",
       "  <tbody>\n",
       "    <tr>\n",
       "      <th>C</th>\n",
       "      <td>29.000</td>\n",
       "      <td>29.700</td>\n",
       "    </tr>\n",
       "    <tr>\n",
       "      <th>Q</th>\n",
       "      <td>27.000</td>\n",
       "      <td>7.750</td>\n",
       "    </tr>\n",
       "    <tr>\n",
       "      <th>S</th>\n",
       "      <td>28.000</td>\n",
       "      <td>13.000</td>\n",
       "    </tr>\n",
       "  </tbody>\n",
       "</table>\n",
       "</div>"
      ],
      "text/plain": [
       "            Age   Fare\n",
       "Embarked              \n",
       "C        29.000 29.700\n",
       "Q        27.000  7.750\n",
       "S        28.000 13.000"
      ]
     },
     "execution_count": 186,
     "metadata": {},
     "output_type": "execute_result"
    }
   ],
   "source": [
    "pd.pivot_table(df, index=\"Embarked\",aggfunc=\"median\",values=[\"Age\",\"Fare\"])"
   ]
  },
  {
   "cell_type": "code",
   "execution_count": 187,
   "id": "4ab3bc73",
   "metadata": {
    "ExecuteTime": {
     "end_time": "2021-11-16T13:09:37.921121Z",
     "start_time": "2021-11-16T13:09:37.887216Z"
    },
    "hidden": true
   },
   "outputs": [
    {
     "data": {
      "text/html": [
       "<div>\n",
       "<style scoped>\n",
       "    .dataframe tbody tr th:only-of-type {\n",
       "        vertical-align: middle;\n",
       "    }\n",
       "\n",
       "    .dataframe tbody tr th {\n",
       "        vertical-align: top;\n",
       "    }\n",
       "\n",
       "    .dataframe thead th {\n",
       "        text-align: right;\n",
       "    }\n",
       "</style>\n",
       "<table border=\"1\" class=\"dataframe\">\n",
       "  <thead>\n",
       "    <tr style=\"text-align: right;\">\n",
       "      <th></th>\n",
       "      <th>Embarked</th>\n",
       "      <th>C</th>\n",
       "      <th>Q</th>\n",
       "      <th>S</th>\n",
       "    </tr>\n",
       "    <tr>\n",
       "      <th></th>\n",
       "      <th>Pclass</th>\n",
       "      <th></th>\n",
       "      <th></th>\n",
       "      <th></th>\n",
       "    </tr>\n",
       "  </thead>\n",
       "  <tbody>\n",
       "    <tr>\n",
       "      <th rowspan=\"3\" valign=\"top\">Age</th>\n",
       "      <th>1</th>\n",
       "      <td>38.027</td>\n",
       "      <td>38.500</td>\n",
       "      <td>38.152</td>\n",
       "    </tr>\n",
       "    <tr>\n",
       "      <th>2</th>\n",
       "      <td>22.767</td>\n",
       "      <td>43.500</td>\n",
       "      <td>30.387</td>\n",
       "    </tr>\n",
       "    <tr>\n",
       "      <th>3</th>\n",
       "      <td>20.742</td>\n",
       "      <td>25.938</td>\n",
       "      <td>25.697</td>\n",
       "    </tr>\n",
       "    <tr>\n",
       "      <th rowspan=\"3\" valign=\"top\">Fare</th>\n",
       "      <th>1</th>\n",
       "      <td>104.719</td>\n",
       "      <td>90.000</td>\n",
       "      <td>70.365</td>\n",
       "    </tr>\n",
       "    <tr>\n",
       "      <th>2</th>\n",
       "      <td>25.358</td>\n",
       "      <td>12.350</td>\n",
       "      <td>20.327</td>\n",
       "    </tr>\n",
       "    <tr>\n",
       "      <th>3</th>\n",
       "      <td>11.214</td>\n",
       "      <td>11.183</td>\n",
       "      <td>14.644</td>\n",
       "    </tr>\n",
       "    <tr>\n",
       "      <th rowspan=\"3\" valign=\"top\">Survived</th>\n",
       "      <th>1</th>\n",
       "      <td>0.694</td>\n",
       "      <td>0.500</td>\n",
       "      <td>0.583</td>\n",
       "    </tr>\n",
       "    <tr>\n",
       "      <th>2</th>\n",
       "      <td>0.529</td>\n",
       "      <td>0.667</td>\n",
       "      <td>0.463</td>\n",
       "    </tr>\n",
       "    <tr>\n",
       "      <th>3</th>\n",
       "      <td>0.379</td>\n",
       "      <td>0.375</td>\n",
       "      <td>0.190</td>\n",
       "    </tr>\n",
       "  </tbody>\n",
       "</table>\n",
       "</div>"
      ],
      "text/plain": [
       "Embarked              C      Q      S\n",
       "         Pclass                      \n",
       "Age      1       38.027 38.500 38.152\n",
       "         2       22.767 43.500 30.387\n",
       "         3       20.742 25.938 25.697\n",
       "Fare     1      104.719 90.000 70.365\n",
       "         2       25.358 12.350 20.327\n",
       "         3       11.214 11.183 14.644\n",
       "Survived 1        0.694  0.500  0.583\n",
       "         2        0.529  0.667  0.463\n",
       "         3        0.379  0.375  0.190"
      ]
     },
     "execution_count": 187,
     "metadata": {},
     "output_type": "execute_result"
    }
   ],
   "source": [
    "pd.pivot_table(df, index=\"Embarked\",aggfunc=\"mean\",values=[\"Age\",\"Fare\",\"Survived\"],columns=[\"Pclass\"]).T"
   ]
  },
  {
   "cell_type": "markdown",
   "id": "067afc9a",
   "metadata": {},
   "source": [
    "## PIPE FONKSIYONU / Pandas Pipeline kurma\n",
    "\n",
    "* **pipe**, bence Pandas'daki en şık fonksiyon. Adından da belli olduğu üzere bir pipeline'mış gibi çalışıyor.\n",
    "\n",
    "\n",
    "* Birden çok fonksiyonu aynı kod satırı içinde çalıştırssbiliyorsun. Tabi çalıştırdığın fonksiyonlar kendi tanımladıkların oluyor genelde.  \n",
    "\n",
    "\n",
    "**kaynak:** https://towardsdatascience.com/using-pandas-pipe-function-to-improve-code-readability-96d66abfaf8"
   ]
  },
  {
   "cell_type": "code",
   "execution_count": 377,
   "id": "1c02cfcd",
   "metadata": {
    "ExecuteTime": {
     "end_time": "2021-11-18T20:14:19.262415Z",
     "start_time": "2021-11-18T20:14:19.226511Z"
    }
   },
   "outputs": [],
   "source": [
    "df = pd.read_csv(\"train.csv\")"
   ]
  },
  {
   "cell_type": "code",
   "execution_count": 378,
   "id": "8cdbf18e",
   "metadata": {
    "ExecuteTime": {
     "end_time": "2021-11-18T20:14:20.038207Z",
     "start_time": "2021-11-18T20:14:20.025238Z"
    }
   },
   "outputs": [],
   "source": [
    "# Örnek iki tane fonksiyon yazalım\n",
    "\n",
    "def deneme1(df, col_list):\n",
    "    for col in col_list:\n",
    "        df[col] =  df[col]**4\n",
    "    return df\n",
    "\n",
    "def deneme2(df,col_list):\n",
    "    for col in col_list:\n",
    "        df[col] = \"Deneme!!!\"\n",
    "    return df"
   ]
  },
  {
   "cell_type": "code",
   "execution_count": 379,
   "id": "62be7657",
   "metadata": {
    "ExecuteTime": {
     "end_time": "2021-11-18T20:14:20.841601Z",
     "start_time": "2021-11-18T20:14:20.795691Z"
    }
   },
   "outputs": [
    {
     "data": {
      "text/html": [
       "<div>\n",
       "<style scoped>\n",
       "    .dataframe tbody tr th:only-of-type {\n",
       "        vertical-align: middle;\n",
       "    }\n",
       "\n",
       "    .dataframe tbody tr th {\n",
       "        vertical-align: top;\n",
       "    }\n",
       "\n",
       "    .dataframe thead th {\n",
       "        text-align: right;\n",
       "    }\n",
       "</style>\n",
       "<table border=\"1\" class=\"dataframe\">\n",
       "  <thead>\n",
       "    <tr style=\"text-align: right;\">\n",
       "      <th></th>\n",
       "      <th>PassengerId</th>\n",
       "      <th>Survived</th>\n",
       "      <th>Pclass</th>\n",
       "      <th>Name</th>\n",
       "      <th>Sex</th>\n",
       "      <th>Age</th>\n",
       "      <th>SibSp</th>\n",
       "      <th>Parch</th>\n",
       "      <th>Ticket</th>\n",
       "      <th>Fare</th>\n",
       "      <th>Cabin</th>\n",
       "      <th>Embarked</th>\n",
       "    </tr>\n",
       "  </thead>\n",
       "  <tbody>\n",
       "    <tr>\n",
       "      <th>0</th>\n",
       "      <td>Deneme!!!</td>\n",
       "      <td>0</td>\n",
       "      <td>3</td>\n",
       "      <td>Deneme!!!</td>\n",
       "      <td>male</td>\n",
       "      <td>234256.000</td>\n",
       "      <td>1</td>\n",
       "      <td>0</td>\n",
       "      <td>A/5 21171</td>\n",
       "      <td>2762.816</td>\n",
       "      <td>NaN</td>\n",
       "      <td>S</td>\n",
       "    </tr>\n",
       "    <tr>\n",
       "      <th>1</th>\n",
       "      <td>Deneme!!!</td>\n",
       "      <td>1</td>\n",
       "      <td>1</td>\n",
       "      <td>Deneme!!!</td>\n",
       "      <td>female</td>\n",
       "      <td>2085136.000</td>\n",
       "      <td>1</td>\n",
       "      <td>0</td>\n",
       "      <td>PC 17599</td>\n",
       "      <td>25819699.719</td>\n",
       "      <td>C85</td>\n",
       "      <td>C</td>\n",
       "    </tr>\n",
       "    <tr>\n",
       "      <th>2</th>\n",
       "      <td>Deneme!!!</td>\n",
       "      <td>1</td>\n",
       "      <td>3</td>\n",
       "      <td>Deneme!!!</td>\n",
       "      <td>female</td>\n",
       "      <td>456976.000</td>\n",
       "      <td>0</td>\n",
       "      <td>0</td>\n",
       "      <td>STON/O2. 3101282</td>\n",
       "      <td>3944.547</td>\n",
       "      <td>NaN</td>\n",
       "      <td>S</td>\n",
       "    </tr>\n",
       "    <tr>\n",
       "      <th>3</th>\n",
       "      <td>Deneme!!!</td>\n",
       "      <td>1</td>\n",
       "      <td>1</td>\n",
       "      <td>Deneme!!!</td>\n",
       "      <td>female</td>\n",
       "      <td>1500625.000</td>\n",
       "      <td>1</td>\n",
       "      <td>0</td>\n",
       "      <td>113803</td>\n",
       "      <td>7950200.552</td>\n",
       "      <td>C123</td>\n",
       "      <td>S</td>\n",
       "    </tr>\n",
       "  </tbody>\n",
       "</table>\n",
       "</div>"
      ],
      "text/plain": [
       "  PassengerId  Survived  Pclass       Name     Sex         Age  SibSp  Parch  \\\n",
       "0   Deneme!!!         0       3  Deneme!!!    male  234256.000      1      0   \n",
       "1   Deneme!!!         1       1  Deneme!!!  female 2085136.000      1      0   \n",
       "2   Deneme!!!         1       3  Deneme!!!  female  456976.000      0      0   \n",
       "3   Deneme!!!         1       1  Deneme!!!  female 1500625.000      1      0   \n",
       "\n",
       "             Ticket         Fare Cabin Embarked  \n",
       "0         A/5 21171     2762.816   NaN        S  \n",
       "1          PC 17599 25819699.719   C85        C  \n",
       "2  STON/O2. 3101282     3944.547   NaN        S  \n",
       "3            113803  7950200.552  C123        S  "
      ]
     },
     "execution_count": 379,
     "metadata": {},
     "output_type": "execute_result"
    }
   ],
   "source": [
    "dfx = (df.pipe(deneme1, [\"Age\",\"Fare\"])\n",
    ".pipe(deneme2,[\"Name\",\"PassengerId\"]))\n",
    "\n",
    "dfx.head(4)"
   ]
  },
  {
   "cell_type": "markdown",
   "id": "082beba6",
   "metadata": {},
   "source": [
    "## Tarih Verilerinin Manipülasyonu\n",
    "\n",
    "* Pandas'ın tarih verilerine müdahale etmede büyük kolaylık sağlayan fonksiyonları var.\n",
    "\n",
    "\n",
    "* Verinizdeki tarihin yazılış şekli ne kadar bozuk olursa olsun doğru bir şekilde veriyi düzenleme fırsatına sahipsiniz.  \n",
    "\n",
    "\n",
    "* Ayrıca belirli bir tarihten belirli bilgileri çıkartabilme özelliği de vardır. Örneğin o tarihteki günün ismi, o tarihin yılın kaçıncı haftasında olduğu gibi ve benzeri bilgiler.\n",
    "\n",
    "* Tarih formatlamada kullanılan abbreviation'lar için şu websitesine bakın: https://pandas.pydata.org/docs/reference/api/pandas.Period.strftime.html  \n",
    "\n",
    "\n",
    "* Tarih bilgileri için kullanılan kısa fonksiyonların bazıları aşağıda verilmiştir.\n",
    "![](pandas_datetime_funcs.png)"
   ]
  },
  {
   "cell_type": "code",
   "execution_count": 188,
   "id": "035f6932",
   "metadata": {
    "ExecuteTime": {
     "end_time": "2021-11-16T13:18:36.864038Z",
     "start_time": "2021-11-16T13:18:33.210345Z"
    }
   },
   "outputs": [
    {
     "data": {
      "text/html": [
       "<div>\n",
       "<style scoped>\n",
       "    .dataframe tbody tr th:only-of-type {\n",
       "        vertical-align: middle;\n",
       "    }\n",
       "\n",
       "    .dataframe tbody tr th {\n",
       "        vertical-align: top;\n",
       "    }\n",
       "\n",
       "    .dataframe thead th {\n",
       "        text-align: right;\n",
       "    }\n",
       "</style>\n",
       "<table border=\"1\" class=\"dataframe\">\n",
       "  <thead>\n",
       "    <tr style=\"text-align: right;\">\n",
       "      <th></th>\n",
       "      <th>dates</th>\n",
       "    </tr>\n",
       "  </thead>\n",
       "  <tbody>\n",
       "    <tr>\n",
       "      <th>0</th>\n",
       "      <td>April-2021</td>\n",
       "    </tr>\n",
       "    <tr>\n",
       "      <th>1</th>\n",
       "      <td>May-2019</td>\n",
       "    </tr>\n",
       "    <tr>\n",
       "      <th>2</th>\n",
       "      <td>October-1990</td>\n",
       "    </tr>\n",
       "    <tr>\n",
       "      <th>3</th>\n",
       "      <td>March-1991</td>\n",
       "    </tr>\n",
       "    <tr>\n",
       "      <th>4</th>\n",
       "      <td>August-2009</td>\n",
       "    </tr>\n",
       "    <tr>\n",
       "      <th>5</th>\n",
       "      <td>December-2012</td>\n",
       "    </tr>\n",
       "  </tbody>\n",
       "</table>\n",
       "</div>"
      ],
      "text/plain": [
       "           dates\n",
       "0     April-2021\n",
       "1       May-2019\n",
       "2   October-1990\n",
       "3     March-1991\n",
       "4    August-2009\n",
       "5  December-2012"
      ]
     },
     "execution_count": 188,
     "metadata": {},
     "output_type": "execute_result"
    }
   ],
   "source": [
    "tarih = pd.read_excel(\"date_example.xlsx\")\n",
    "tarih"
   ]
  },
  {
   "cell_type": "code",
   "execution_count": 193,
   "id": "58e3d7b1",
   "metadata": {
    "ExecuteTime": {
     "end_time": "2021-11-16T14:12:55.122609Z",
     "start_time": "2021-11-16T14:12:55.114634Z"
    }
   },
   "outputs": [],
   "source": [
    " tarih = pd.to_datetime(tarih['dates'],format='%B-%Y')"
   ]
  },
  {
   "cell_type": "code",
   "execution_count": 196,
   "id": "c8d41abe",
   "metadata": {
    "ExecuteTime": {
     "end_time": "2021-11-16T14:13:34.346245Z",
     "start_time": "2021-11-16T14:13:34.328257Z"
    }
   },
   "outputs": [
    {
     "data": {
      "text/plain": [
       "0    3\n",
       "1    2\n",
       "2    0\n",
       "3    4\n",
       "4    5\n",
       "5    5\n",
       "Name: dates, dtype: int64"
      ]
     },
     "execution_count": 196,
     "metadata": {},
     "output_type": "execute_result"
    }
   ],
   "source": [
    "# 0=Pazartesi, 6=Pazar olacak şekilde günlerin sıra sayısını veren örnek bir gösterim\n",
    "tarih.dt.weekday"
   ]
  },
  {
   "cell_type": "markdown",
   "id": "b7729d68",
   "metadata": {},
   "source": [
    "# Misc. Useful Codes"
   ]
  },
  {
   "cell_type": "markdown",
   "id": "7c9339b9",
   "metadata": {},
   "source": [
    "## List in List"
   ]
  },
  {
   "cell_type": "markdown",
   "id": "aa385403",
   "metadata": {},
   "source": [
    "### Case1: Bir listedeki elemanların tümü başka bir listenin içinde de var mı?\n",
    "\n",
    "* Bize bunun kontrolünü yapan ve sonuca göre True/False şeklinde bir cevap gönderen bir kod bloğu aşağıdadır.\n",
    "\n",
    "kaynak: https://www.techbeamers.com/program-python-list-contains-elements/"
   ]
  },
  {
   "cell_type": "code",
   "execution_count": 343,
   "id": "3e82c11f",
   "metadata": {
    "ExecuteTime": {
     "end_time": "2021-11-17T12:56:45.105808Z",
     "start_time": "2021-11-17T12:56:45.098831Z"
    }
   },
   "outputs": [
    {
     "name": "stdout",
     "output_type": "stream",
     "text": [
      "The list ['python', 'javascript', 'csharp', 'go', 'c', 'c++'] contains all elements of the list ['csharp', 'go', 'python']\n"
     ]
    }
   ],
   "source": [
    "# Program to check the list contains elements of another list\n",
    "\n",
    "# List1\n",
    "List1 = ['python' ,  'javascript', 'csharp', 'go', 'c', 'c++']\n",
    " \n",
    "# List2\n",
    "List2 = ['csharp' , 'go', 'python']\n",
    "\n",
    "check =  all(item in List1 for item in List2)\n",
    " \n",
    "if check is True:\n",
    "    print(\"The list {} contains all elements of the list {}\".format(List1, List2))    \n",
    "else :\n",
    "    print(\"No, List1 doesn't have all elements of the List2.\")"
   ]
  },
  {
   "cell_type": "markdown",
   "id": "bd4a26b8",
   "metadata": {},
   "source": [
    "### Case2: Bir listedeki herhangi bir eleman diğer bir listenin içinde bulunuyor mu? Kısacası iki listenin ortak elemanı var mı?\n",
    "\n",
    "* Burada any() fonksiyonundan yararlanılabilir.  \n",
    "\n",
    "* Ayrıca set yapılarının kullanılması da çok etkili olabilir. Set'lerdeki kesişim özelliği kesinlikle yardımcı olacaktır.\n",
    "\n",
    "kaynak: https://www.techbeamers.com/program-python-list-contains-elements/"
   ]
  },
  {
   "cell_type": "code",
   "execution_count": 344,
   "id": "e2cdda64",
   "metadata": {
    "ExecuteTime": {
     "end_time": "2021-11-17T12:56:52.988950Z",
     "start_time": "2021-11-17T12:56:52.973956Z"
    }
   },
   "outputs": [
    {
     "name": "stdout",
     "output_type": "stream",
     "text": [
      "The list ['python', 'javascript', 'csharp', 'go', 'c', 'c++'] contains some elements of the list ['swift', 'php', 'python']\n"
     ]
    }
   ],
   "source": [
    "# Program to check the list contains elements of another list\n",
    "\n",
    "# List1\n",
    "List1 = ['python' ,  'javascript', 'csharp', 'go', 'c', 'c++']\n",
    " \n",
    "# List2\n",
    "List2 = ['swift' , 'php', 'python']\n",
    "\n",
    "check =  any(item in List1 for item in List2)\n",
    " \n",
    "if check is True:\n",
    "    print(\"The list {} contains some elements of the list {}\".format(List1, List2))    \n",
    "else :\n",
    "    print(\"No, List1 doesn't have any elements of the List2.\")"
   ]
  },
  {
   "cell_type": "markdown",
   "id": "6d6b6132",
   "metadata": {},
   "source": [
    "### Bir klasördeki dosya isimlerini listeleme;\n",
    "* Kaynak; https://www.geeksforgeeks.org/how-to-use-glob-function-to-find-files-recursively-in-python/"
   ]
  },
  {
   "cell_type": "code",
   "execution_count": null,
   "id": "8d92cc56",
   "metadata": {},
   "outputs": [],
   "source": [
    "import glob"
   ]
  },
  {
   "cell_type": "code",
   "execution_count": null,
   "id": "468bd9db",
   "metadata": {},
   "outputs": [],
   "source": [
    "# mevcut çalışma klasöründeki txt dosyaları için;\n",
    "'''txtfiles = []\n",
    "for file in glob.glob(\"*.txt\"):\n",
    "    txtfiles.append(file)'''"
   ]
  },
  {
   "cell_type": "code",
   "execution_count": null,
   "id": "27db0d68",
   "metadata": {},
   "outputs": [],
   "source": [
    "'''txtfiles1 = []\n",
    "for file in glob.glob(\"/home/geeks/Desktop/gfg/*.txt\"):\n",
    "    txtfiles1.append(file)'''"
   ]
  },
  {
   "cell_type": "markdown",
   "id": "4811cb82",
   "metadata": {},
   "source": [
    "### Bir String'den istenilen kelimeleri atma\n",
    "* Kaynak: https://stackoverflow.com/questions/25346058/removing-list-of-words-from-a-string"
   ]
  },
  {
   "cell_type": "code",
   "execution_count": 384,
   "id": "cd860a92",
   "metadata": {
    "ExecuteTime": {
     "end_time": "2021-11-21T17:53:43.447866Z",
     "start_time": "2021-11-21T17:53:43.428920Z"
    }
   },
   "outputs": [
    {
     "name": "stdout",
     "output_type": "stream",
     "text": [
      "hello, explain me!\n"
     ]
    }
   ],
   "source": [
    "query = 'What is hello, explain me!'\n",
    "stopwords = ['what', 'who', 'is', 'a', 'at', 'is', 'he']\n",
    "querywords = query.split()\n",
    "\n",
    "resultwords  = [word for word in querywords if word.lower() not in stopwords]\n",
    "result = ' '.join(resultwords)\n",
    "\n",
    "print(result)"
   ]
  },
  {
   "cell_type": "code",
   "execution_count": null,
   "id": "045718af",
   "metadata": {},
   "outputs": [],
   "source": []
  },
  {
   "cell_type": "code",
   "execution_count": null,
   "id": "6b7eef3d",
   "metadata": {},
   "outputs": [],
   "source": []
  },
  {
   "cell_type": "code",
   "execution_count": null,
   "id": "5e9028cd",
   "metadata": {},
   "outputs": [],
   "source": []
  }
 ],
 "metadata": {
  "kernelspec": {
   "display_name": "Python 3 (ipykernel)",
   "language": "python",
   "name": "python3"
  },
  "language_info": {
   "codemirror_mode": {
    "name": "ipython",
    "version": 3
   },
   "file_extension": ".py",
   "mimetype": "text/x-python",
   "name": "python",
   "nbconvert_exporter": "python",
   "pygments_lexer": "ipython3",
   "version": "3.8.11"
  },
  "toc": {
   "base_numbering": 1,
   "nav_menu": {},
   "number_sections": true,
   "sideBar": true,
   "skip_h1_title": false,
   "title_cell": "Table of Contents",
   "title_sidebar": "Contents",
   "toc_cell": false,
   "toc_position": {
    "height": "calc(100% - 180px)",
    "left": "10px",
    "top": "150px",
    "width": "341.465px"
   },
   "toc_section_display": true,
   "toc_window_display": true
  },
  "varInspector": {
   "cols": {
    "lenName": 16,
    "lenType": 16,
    "lenVar": 40
   },
   "kernels_config": {
    "python": {
     "delete_cmd_postfix": "",
     "delete_cmd_prefix": "del ",
     "library": "var_list.py",
     "varRefreshCmd": "print(var_dic_list())"
    },
    "r": {
     "delete_cmd_postfix": ") ",
     "delete_cmd_prefix": "rm(",
     "library": "var_list.r",
     "varRefreshCmd": "cat(var_dic_list()) "
    }
   },
   "types_to_exclude": [
    "module",
    "function",
    "builtin_function_or_method",
    "instance",
    "_Feature"
   ],
   "window_display": false
  }
 },
 "nbformat": 4,
 "nbformat_minor": 5
}
